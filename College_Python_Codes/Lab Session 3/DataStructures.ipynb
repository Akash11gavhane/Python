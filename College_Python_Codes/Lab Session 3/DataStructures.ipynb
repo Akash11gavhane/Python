{
 "cells": [
  {
   "attachments": {},
   "cell_type": "markdown",
   "metadata": {},
   "source": [
    "# Data Structures in python"
   ]
  },
  {
   "attachments": {},
   "cell_type": "markdown",
   "metadata": {},
   "source": [
    "## In python can be devided into two categories\n",
    "\n",
    "    1. Mutable \n",
    "    2. Immutable"
   ]
  },
  {
   "attachments": {},
   "cell_type": "markdown",
   "metadata": {},
   "source": [
    "Mutable : \n",
    "        here we can modify add remove or change elements in the data structure\n",
    "\n",
    "Immutable : \n",
    "        He cannot modify the elements in the data structure after creating it\n",
    "\n",
    "\n",
    "List , Dictionary , Set are mutable\n",
    "\n",
    "Tuple is immutable"
   ]
  },
  {
   "attachments": {},
   "cell_type": "markdown",
   "metadata": {},
   "source": [
    "### List :\n",
    "\n",
    "        it is used to store data of variaous types in a sequantial manner the elements in the list can be access by using index \n",
    "        which starts with a value 0 and goes on till the last index (Positve Indexing)\n",
    "\n",
    "        When the index start from -1 enabaling you to access elements from last to first it is called as negative indexing"
   ]
  },
  {
   "cell_type": "code",
   "execution_count": 1,
   "metadata": {},
   "outputs": [
    {
     "name": "stdout",
     "output_type": "stream",
     "text": [
      "[]\n",
      "[5, 6, 7, 'list-data', 5.555]\n"
     ]
    }
   ],
   "source": [
    "# Data Structures in python\n",
    "\n",
    "# 1. List\n",
    "\n",
    "# create a list \n",
    "\n",
    "list_ds = [] # create empty list\n",
    "\n",
    "print(list_ds)\n",
    "# creating list with data\n",
    "\n",
    "list_ds = [5 , 6 , 7 , 'list-data' , 5.555]\n",
    "\n",
    "print(list_ds)"
   ]
  },
  {
   "attachments": {},
   "cell_type": "markdown",
   "metadata": {},
   "source": [
    "# Operations on list"
   ]
  },
  {
   "cell_type": "code",
   "execution_count": 2,
   "metadata": {},
   "outputs": [
    {
     "name": "stdout",
     "output_type": "stream",
     "text": [
      "[5, 6, 7]\n",
      "[5, 6, 7, [123, 45]]\n",
      "[5, 6, 7, [123, 45], 567, 'example-extend']\n"
     ]
    }
   ],
   "source": [
    "# adding elements in the list\n",
    "\n",
    "list_ds = [5,6,7]\n",
    "\n",
    "print(list_ds)\n",
    "\n",
    "list_ds.append([123 , 45])\n",
    "print(list_ds)\n",
    "\n",
    "list_ds.extend([567 , \"example-extend\"])\n",
    "print(list_ds)\n",
    "\n",
    "list_ds.insert(5 , \"example-of-insert-func\")"
   ]
  },
  {
   "attachments": {},
   "cell_type": "markdown",
   "metadata": {},
   "source": [
    "## How to access the elements?\n"
   ]
  },
  {
   "cell_type": "code",
   "execution_count": 4,
   "metadata": {},
   "outputs": [
    {
     "name": "stdout",
     "output_type": "stream",
     "text": [
      "5\n",
      "6\n",
      "7\n",
      "accesss-the-elements\n",
      "4\n",
      "55\n",
      "20\n",
      "50\n",
      "[5, 6, 7, 'accesss-the-elements', 4, 55, 20, 50]\n",
      "7\n",
      "[5, 6, 7]\n",
      "[50, 20, 55, 4, 'accesss-the-elements', 7, 6, 5]\n"
     ]
    }
   ],
   "source": [
    "list_ds = [5, 6, 7, 'accesss-the-elements' , 4 , 55 , 20 , 50]\n",
    "\n",
    "for i in list_ds:\n",
    "    print(i)\n",
    "\n",
    "print(list_ds)\n",
    "print(list_ds[2])\n",
    "print(list_ds[0:3])\n",
    "print(list_ds[::-1])\n",
    "\n"
   ]
  },
  {
   "attachments": {},
   "cell_type": "markdown",
   "metadata": {},
   "source": [
    "## Deleting Elements in the list : \n"
   ]
  },
  {
   "cell_type": "code",
   "execution_count": 6,
   "metadata": {},
   "outputs": [
    {
     "name": "stdout",
     "output_type": "stream",
     "text": [
      "[5, 6, 7, 'example-del', 6, 20, 30]\n",
      "[5, 6, 7, 6, 20, 30]\n",
      "poped value :  6 remaining elements :  [5, 7, 6, 20, 30]\n"
     ]
    }
   ],
   "source": [
    "list_ds = [5, 6, 7, 'example-del' , 6 , 55 , 20 , 30]\n",
    "\n",
    "del list_ds[5]\n",
    "print(list_ds)\n",
    "\n",
    "list_ds.remove('example-del')\n",
    "\n",
    "print(list_ds)\n",
    "\n",
    "poped = list_ds.pop(1)\n",
    "\n",
    "print('poped value : ' , poped , \"remaining elements : \" , list_ds)\n",
    "\n"
   ]
  }
 ],
 "metadata": {
  "kernelspec": {
   "display_name": "Python 3",
   "language": "python",
   "name": "python3"
  },
  "language_info": {
   "codemirror_mode": {
    "name": "ipython",
    "version": 3
   },
   "file_extension": ".py",
   "mimetype": "text/x-python",
   "name": "python",
   "nbconvert_exporter": "python",
   "pygments_lexer": "ipython3",
   "version": "3.10.7 (tags/v3.10.7:6cc6b13, Sep  5 2022, 14:08:36) [MSC v.1933 64 bit (AMD64)]"
  },
  "orig_nbformat": 4,
  "vscode": {
   "interpreter": {
    "hash": "26de051ba29f2982a8de78e945f0abaf191376122a1563185a90213a26c5da77"
   }
  }
 },
 "nbformat": 4,
 "nbformat_minor": 2
}
