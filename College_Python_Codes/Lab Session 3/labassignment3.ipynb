{
 "cells": [
  {
   "cell_type": "code",
   "execution_count": 2,
   "metadata": {},
   "outputs": [
    {
     "name": "stdout",
     "output_type": "stream",
     "text": [
      "[1, 2, 3, 4, 5, 6, 7, 8, 9, 10, 11, 12, 13, 14, 15, 16, 17, 18, 19, 20]\n",
      "[20, 19, 18, 17, 16, 15, 14, 13, 12, 11, 10, 9, 8, 7, 6, 5, 4, 3, 2, 1]\n"
     ]
    }
   ],
   "source": [
    "l = [1,2,3,4,5,6,7,8,9,10,11,12,13,14,15,16,17,18,19,20]\n",
    "\n",
    "print(l)\n",
    "print(l[::-1])"
   ]
  },
  {
   "cell_type": "code",
   "execution_count": 3,
   "metadata": {},
   "outputs": [
    {
     "name": "stdout",
     "output_type": "stream",
     "text": [
      "[1, 2, 3, 4, 5, 6, 7, 8, 9, 10]\n"
     ]
    }
   ],
   "source": [
    "l1 = [1,2,3,4,5]\n",
    "\n",
    "l2 = [6,7,8,9,10]\n",
    "\n",
    "print(l1 + l2)"
   ]
  },
  {
   "cell_type": "code",
   "execution_count": 48,
   "metadata": {},
   "outputs": [
    {
     "name": "stdout",
     "output_type": "stream",
     "text": [
      "[3, 4, 8]\n",
      "[1, 2, 9, 10]\n",
      "[3, 4, [5, 6, 7], 8]\n",
      "[1, 2, [3, 4, [5, 6, 7], 8], 9, 10]\n"
     ]
    }
   ],
   "source": [
    "l11 = [3,4,8]\n",
    "l12 = [1,2,9,10]\n",
    "print(l11 , l12 , sep='\\n')\n",
    "l11.insert(2 , [5,6,7])\n",
    "\n",
    "print(l11)\n",
    "\n",
    "l12.insert(2 , l11)\n",
    "\n",
    "print(l12)\n",
    "\n"
   ]
  },
  {
   "cell_type": "code",
   "execution_count": 34,
   "metadata": {},
   "outputs": [
    {
     "name": "stdout",
     "output_type": "stream",
     "text": [
      "[10, 30, 40, 20, 50]\n"
     ]
    }
   ],
   "source": [
    "l4 = [20,30,40,20,50]\n",
    "\n",
    "l4[0] = 10\n",
    "\n",
    "print(l4)"
   ]
  },
  {
   "cell_type": "code",
   "execution_count": 24,
   "metadata": {},
   "outputs": [
    {
     "name": "stdout",
     "output_type": "stream",
     "text": [
      "['AI', 'Android', 'Elective', 'Peace', 'Next Generation DataBases', 'Algorith Design Stratergies']\n"
     ]
    }
   ],
   "source": [
    "sem_2 =  [\"AI\" , \"Android\" , \"Peace\" , \"Next Generation DataBases\" , \"Algorith Design Stratergies\"]\n",
    "\n",
    "sem_2.insert( 2 , 'Elective')\n",
    "\n",
    "print(sem_2)"
   ]
  },
  {
   "cell_type": "code",
   "execution_count": 13,
   "metadata": {},
   "outputs": [
    {
     "name": "stdout",
     "output_type": "stream",
     "text": [
      "55\n"
     ]
    }
   ],
   "source": [
    "l5 = [1,2,3,4,5,6,7,8,9,10]\n",
    "temp = 0\n",
    "for i in l5:\n",
    "    temp = temp + i\n",
    "\n",
    "print(temp)\n",
    "    "
   ]
  },
  {
   "cell_type": "code",
   "execution_count": 22,
   "metadata": {},
   "outputs": [
    {
     "name": "stdout",
     "output_type": "stream",
     "text": [
      "[1, 4, 6]\n",
      "[4, 6, 7, 9]\n",
      "0\n",
      "[0, 1, 4, 6, 7, 9]\n",
      "[0, 1, 4, 6, 7, 9]\n"
     ]
    }
   ],
   "source": [
    "l6 = [1,4,6,7,9,0]\n",
    "\n",
    "print(l6[0:3])\n",
    "\n",
    "print(l6[1 : -1])\n",
    "\n",
    "print(l6[-1])\n",
    "\n",
    "l6.sort()\n",
    "print(l6)\n",
    "# or\n",
    "\n",
    "print(sorted(l6))"
   ]
  },
  {
   "cell_type": "code",
   "execution_count": 43,
   "metadata": {},
   "outputs": [
    {
     "name": "stdout",
     "output_type": "stream",
     "text": [
      "[3, 4, 5, 6]\n"
     ]
    }
   ],
   "source": [
    "l7 = [1,2,3,4,5,6]\n",
    "\n",
    "l8 = [3,4,5,6,7,8]\n",
    "\n",
    "l9 = []\n",
    "\n",
    "\n",
    "for i in l7 :\n",
    "    if i in l8:\n",
    "        l9.append(i)\n",
    "\n",
    "print(l9)\n",
    "\n"
   ]
  }
 ],
 "metadata": {
  "kernelspec": {
   "display_name": "Python 3",
   "language": "python",
   "name": "python3"
  },
  "language_info": {
   "codemirror_mode": {
    "name": "ipython",
    "version": 3
   },
   "file_extension": ".py",
   "mimetype": "text/x-python",
   "name": "python",
   "nbconvert_exporter": "python",
   "pygments_lexer": "ipython3",
   "version": "3.10.7 (tags/v3.10.7:6cc6b13, Sep  5 2022, 14:08:36) [MSC v.1933 64 bit (AMD64)]"
  },
  "orig_nbformat": 4,
  "vscode": {
   "interpreter": {
    "hash": "26de051ba29f2982a8de78e945f0abaf191376122a1563185a90213a26c5da77"
   }
  }
 },
 "nbformat": 4,
 "nbformat_minor": 2
}
