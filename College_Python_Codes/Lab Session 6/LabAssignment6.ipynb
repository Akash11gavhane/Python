{
 "cells": [
  {
   "attachments": {},
   "cell_type": "markdown",
   "metadata": {},
   "source": [
    "## Python Lab Assignment 6 \n",
    "### Strings\n",
    "\n",
    "    Name = Akash Subhash Gavhane\n",
    "    PRN No = 1132220253"
   ]
  },
  {
   "attachments": {},
   "cell_type": "markdown",
   "metadata": {},
   "source": [
    "### 1. Write a program to perform following string Operations input: test = 'This is just a simple string.'\n",
    "    \n",
    "    Length\n",
    "    Replace\n",
    "    Count\n",
    "    Find\n",
    "    Split String and choose the point that we split it at\n",
    "    Re-joining our split string can be done using the join method\n",
    "    Capitalize only the first letter of the lowercase string\n"
   ]
  },
  {
   "cell_type": "code",
   "execution_count": 6,
   "metadata": {},
   "outputs": [
    {
     "name": "stdout",
     "output_type": "stream",
     "text": [
      "29\n",
      "This is just a simple string.\n",
      "1\n",
      "word is present at position 2\n",
      "['This', 'is', 'just', 'a', 'simple', 'string.']\n",
      "['This is just ', ' simple string.']\n",
      "This-is-just-a-simple-string.\n",
      "This is just a simple string.\n"
     ]
    }
   ],
   "source": [
    "test =  'This is just a simple string.'\n",
    "\n",
    "#Length\n",
    "print(len(test))\n",
    "\n",
    "#Replace\n",
    "print(test.replace(\"String\" , \"string Example\"))\n",
    "\n",
    "#Count\n",
    "print(test.count(\"a\"))\n",
    "\n",
    "#Find\n",
    "print(\"word is present at position\" , test.find(\"is\"))  \n",
    "\n",
    "#split\n",
    "print(test.split())\n",
    "print(test.split(\"a\"))\n",
    "\n",
    "# Rejoin \n",
    "\n",
    "print(\"-\".join(['This', 'is', 'just', 'a', 'simple', 'string.']))\n",
    "\n",
    "\n",
    "# Capitalize first letter\n",
    "\n",
    "print(test.capitalize())\n",
    "\n"
   ]
  },
  {
   "attachments": {},
   "cell_type": "markdown",
   "metadata": {},
   "source": [
    "#### 2. Write a program to modify a string in place:\n",
    "\n",
    "    For eg. \n",
    "        Input:”Hello, World”\n",
    "        Output:”Hello, there!”\n",
    "        Output: “yello, world”\n"
   ]
  },
  {
   "cell_type": "code",
   "execution_count": 9,
   "metadata": {},
   "outputs": [
    {
     "name": "stdout",
     "output_type": "stream",
     "text": [
      "Hello , World\n",
      "Hello , there!\n",
      "yello , World\n"
     ]
    }
   ],
   "source": [
    "String = \"Hello , World\"\n",
    "\n",
    "print(String)\n",
    "\n",
    "# replace world with there\n",
    "\n",
    "print(String.replace(\"World\" , \"there!\"))\n",
    "\n",
    "# replace hello with yello\n",
    "\n",
    "print(String.replace(\"Hello\" , \"yello\"))"
   ]
  },
  {
   "attachments": {},
   "cell_type": "markdown",
   "metadata": {},
   "source": [
    "#### 3. Write a program to remove duplicate words from a given string"
   ]
  },
  {
   "cell_type": "code",
   "execution_count": 10,
   "metadata": {},
   "outputs": [
    {
     "name": "stdout",
     "output_type": "stream",
     "text": [
      "Pune is great and also pune beautiful\n"
     ]
    }
   ],
   "source": [
    "string = \"Pune is great and also pune is beautiful\"\n",
    "\n",
    "print(\" \".join(dict.fromkeys(string.split())))"
   ]
  },
  {
   "attachments": {},
   "cell_type": "markdown",
   "metadata": {},
   "source": [
    "#### 4. Write a program to remove special characters from a given string"
   ]
  },
  {
   "cell_type": "code",
   "execution_count": 12,
   "metadata": {},
   "outputs": [
    {
     "name": "stdout",
     "output_type": "stream",
     "text": [
      "hello World\n"
     ]
    }
   ],
   "source": [
    "string = \"hello$ World$\"\n",
    "\n",
    "\n",
    "print(string.replace(\"$\" , \"\"))"
   ]
  },
  {
   "attachments": {},
   "cell_type": "markdown",
   "metadata": {},
   "source": [
    "#### 5. Write a program find the common values that appear in two given strings\n"
   ]
  },
  {
   "cell_type": "code",
   "execution_count": 15,
   "metadata": {},
   "outputs": [
    {
     "name": "stdout",
     "output_type": "stream",
     "text": [
      "Original Strings are : \n",
      "BadBoy\n",
      "GoodBoy\n",
      "common characters are :  Bdoy\n"
     ]
    }
   ],
   "source": [
    "s1 = \"BadBoy\"\n",
    "s2 = \"GoodBoy\"\n",
    "\n",
    "print(\"Original Strings are : \" , s1 , s2 , sep=\"\\n\")\n",
    "\n",
    "result = \"\"\n",
    "\n",
    "for c in s1:\n",
    "    if c in s2 and not c in result:\n",
    "        result = result + c\n",
    "print(\"common characters are : \" , result)\n",
    "\n"
   ]
  },
  {
   "attachments": {},
   "cell_type": "markdown",
   "metadata": {},
   "source": [
    "#### 6. Write a program to reverse words in a string"
   ]
  },
  {
   "cell_type": "code",
   "execution_count": 17,
   "metadata": {},
   "outputs": [
    {
     "data": {
      "text/plain": [
       "'hsakA'"
      ]
     },
     "execution_count": 17,
     "metadata": {},
     "output_type": "execute_result"
    }
   ],
   "source": [
    "def reverse_String(s):\n",
    "    str = \"\"\n",
    "    for i in s:\n",
    "        str = i + str\n",
    "    return str\n",
    "\n",
    "reverse_String(\"Akash\")\n"
   ]
  },
  {
   "attachments": {},
   "cell_type": "markdown",
   "metadata": {},
   "source": [
    "#### 7. Write a program to count the number of occurrences of all vowels present in a string"
   ]
  },
  {
   "cell_type": "code",
   "execution_count": 18,
   "metadata": {},
   "outputs": [
    {
     "name": "stdout",
     "output_type": "stream",
     "text": [
      "{'a': 1, 'e': 1, 'i': 0, 'o': 0, 'u': 0}\n"
     ]
    }
   ],
   "source": [
    "vowels = \"aeiou\"\n",
    "\n",
    "str = \"Hey Akash!!!\"\n",
    "\n",
    "str1 = str.casefold()\n",
    "\n",
    "count = {}.fromkeys(vowels,0)\n",
    "\n",
    "for c in str:\n",
    "    if c in count:\n",
    "        count[c] += 1\n",
    "\n",
    "print(count)"
   ]
  },
  {
   "attachments": {},
   "cell_type": "markdown",
   "metadata": {},
   "source": [
    "#### 8. Write a program to check whether the given string is palindrome or not"
   ]
  },
  {
   "cell_type": "code",
   "execution_count": 19,
   "metadata": {},
   "outputs": [
    {
     "name": "stdout",
     "output_type": "stream",
     "text": [
      "No\n"
     ]
    }
   ],
   "source": [
    "def palindrome(string):\n",
    "    return string == string[::-1]\n",
    "\n",
    "answer = palindrome(\"Akash\")\n",
    "\n",
    "if answer:\n",
    "    print(\"Yes\")\n",
    "else:\n",
    "    print(\"No\")"
   ]
  },
  {
   "attachments": {},
   "cell_type": "markdown",
   "metadata": {},
   "source": [
    "#### 9. Write a program to convert alternate characters to capital letters"
   ]
  },
  {
   "cell_type": "code",
   "execution_count": 20,
   "metadata": {},
   "outputs": [
    {
     "name": "stdout",
     "output_type": "stream",
     "text": [
      "str\n",
      "string after performing operation : HeLlO WoRlD\n"
     ]
    }
   ],
   "source": [
    "str = \"Hello World\"\n",
    "\n",
    "print(\"str\")\n",
    "\n",
    "result = \"\"\n",
    "\n",
    "for i in range(len(str)):\n",
    "    if not i % 2:\n",
    "        result = result + str[i].upper()\n",
    "    else:\n",
    "        result = result + str[i].lower()\n",
    "\n",
    "print(\"string after performing operation :\" , result)\n"
   ]
  },
  {
   "attachments": {},
   "cell_type": "markdown",
   "metadata": {},
   "source": [
    "#### 10. Write a program which stores all deleted consonants in a string from the given string: “ Good afternoon, we are implementing strings”"
   ]
  },
  {
   "cell_type": "code",
   "execution_count": 24,
   "metadata": {},
   "outputs": [
    {
     "name": "stdout",
     "output_type": "stream",
     "text": [
      "Hey Guys, How are you?\n",
      "string after removed :  euoaeou\n"
     ]
    }
   ],
   "source": [
    "s = \"Hey Guys, How are you?\"\n",
    "\n",
    "print(s)\n",
    "\n",
    "result = \"\".join([chr for chr in s if chr in \"aeiouAEIOU\"])\n",
    "print(\"string after removed : \" , result)"
   ]
  },
  {
   "attachments": {},
   "cell_type": "markdown",
   "metadata": {},
   "source": [
    "#### 11. Write a program that accepts sequence of lines as input and prints the lines after making all characters in the sentence capitalized."
   ]
  },
  {
   "cell_type": "code",
   "execution_count": 25,
   "metadata": {},
   "outputs": [
    {
     "name": "stdout",
     "output_type": "stream",
     "text": [
      "HIII BRO HOW ARE YOU??\n"
     ]
    }
   ],
   "source": [
    "message = input(\"Enter a message :\")\n",
    "print(message.upper())"
   ]
  },
  {
   "attachments": {},
   "cell_type": "markdown",
   "metadata": {},
   "source": [
    "#### 12. Write a program that accepts a sentence and calculate the number of upper case letters and lower case letters."
   ]
  },
  {
   "cell_type": "code",
   "execution_count": 26,
   "metadata": {},
   "outputs": [
    {
     "name": "stdout",
     "output_type": "stream",
     "text": [
      "The number of lowercase letters is :  10\n",
      "The number of uppercase letters is :  2\n"
     ]
    }
   ],
   "source": [
    "str = \"AkashGavhane\"\n",
    "lower = 0\n",
    "upper = 0\n",
    "\n",
    "for i in str:\n",
    "    if(i.islower()):\n",
    "        lower = lower + 1\n",
    "    else:\n",
    "        upper = upper + 1\n",
    "\n",
    "print(\"The number of lowercase letters is : \" , lower)\n",
    "print(\"The number of uppercase letters is : \" , upper)"
   ]
  }
 ],
 "metadata": {
  "kernelspec": {
   "display_name": "Python 3",
   "language": "python",
   "name": "python3"
  },
  "language_info": {
   "codemirror_mode": {
    "name": "ipython",
    "version": 3
   },
   "file_extension": ".py",
   "mimetype": "text/x-python",
   "name": "python",
   "nbconvert_exporter": "python",
   "pygments_lexer": "ipython3",
   "version": "3.10.7"
  },
  "orig_nbformat": 4,
  "vscode": {
   "interpreter": {
    "hash": "26de051ba29f2982a8de78e945f0abaf191376122a1563185a90213a26c5da77"
   }
  }
 },
 "nbformat": 4,
 "nbformat_minor": 2
}
