{
 "cells": [
  {
   "cell_type": "code",
   "execution_count": null,
   "metadata": {},
   "outputs": [],
   "source": [
    "import re\n",
    "def Akash(statement):\n",
    "    statement = statement.lower()\n",
    "    statement = re.sub(r\"\\byou\\b\", \"I\", statement)\n",
    "    statement = re.sub(r\"\\byour\\b\", \"my\", statement)\n",
    "    statement = re.sub(r\"\\bare\\b\", \"am not\", statement)\n",
    "    statement = re.sub(r\"\\bis\\b\", \"is not\", statement)\n",
    "    statement = re.sub(r\"\\bwas\\b\", \"was not\", statement)\n",
    "    statement = re.sub(r\"\\bwere\\b\", \"were not\", statement)\n",
    "    statement = re.sub(r\"\\byour\\b\", \"my\", statement)\n",
    "    statement = re.sub(r\"\\bmine\\b\", \"yours\", statement)\n",
    "    statement = re.sub(r\"\\bmy\\b\", \"your\", statement)\n",
    "    return statement\n",
    "statements = [\n",
    "    \"You are .\",\n",
    "    \"You have a great sense of humor.\",\n",
    "    \"You are always on time.\",\n",
    "    \"You make good decisions.\",\n",
    "    \"You are kind to everyone you meet.\"\n",
    "]\n",
    "\n",
    "for statement in statements:\n",
    "    print(\"Input: \", statement)\n",
    "    print(\"Output: \", Akash(statement))\n",
    "    print(\"\\n\")"
   ]
  }
 ],
 "metadata": {
  "kernelspec": {
   "display_name": "Python 3",
   "language": "python",
   "name": "python3"
  },
  "language_info": {
   "name": "python",
   "version": "3.10.7 (tags/v3.10.7:6cc6b13, Sep  5 2022, 14:08:36) [MSC v.1933 64 bit (AMD64)]"
  },
  "orig_nbformat": 4,
  "vscode": {
   "interpreter": {
    "hash": "26de051ba29f2982a8de78e945f0abaf191376122a1563185a90213a26c5da77"
   }
  }
 },
 "nbformat": 4,
 "nbformat_minor": 2
}
