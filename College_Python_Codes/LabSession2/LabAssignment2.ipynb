{
 "cells": [
  {
   "cell_type": "code",
   "execution_count": 1,
   "metadata": {},
   "outputs": [
    {
     "name": "stdout",
     "output_type": "stream",
     "text": [
      "Naruto Uzumaki The ghost of the UCHIHA\n"
     ]
    }
   ],
   "source": [
    "x = \"Naruto Uzumaki\"\n",
    "y = \"The ghost of the UCHIHA\"\n",
    "\n",
    "print( x , y , sep=' ')\n",
    "\n",
    "\n"
   ]
  },
  {
   "cell_type": "code",
   "execution_count": 2,
   "metadata": {},
   "outputs": [
    {
     "name": "stdout",
     "output_type": "stream",
     "text": [
      "Hello i'm jhon wick and i'm 45 years old\n"
     ]
    }
   ],
   "source": [
    "name = 'jhon wick' \n",
    "age = 45\n",
    "\n",
    "print(\"Hello i'm\" , name , \"and i'm\" , age , \"years old\" , sep=' ')\n"
   ]
  },
  {
   "cell_type": "code",
   "execution_count": 3,
   "metadata": {},
   "outputs": [
    {
     "name": "stdout",
     "output_type": "stream",
     "text": [
      "the addition is  8\n",
      "the substraction is  2\n",
      "the multiplication is  15\n",
      "the division is  1.6666666666666667\n"
     ]
    }
   ],
   "source": [
    "i = int(input(\"enter 1st num\"))\n",
    "j = int(input(\"enter 2nd num\"))\n",
    "\n",
    "print(\"the addition is \" ,i + j)\n",
    "print(\"the substraction is \" ,i- j)\n",
    "print(\"the multiplication is \", i * j)\n",
    "print( \"the division is \", i / j)\n"
   ]
  },
  {
   "cell_type": "code",
   "execution_count": 4,
   "metadata": {},
   "outputs": [
    {
     "name": "stdout",
     "output_type": "stream",
     "text": [
      "4000.0\n"
     ]
    }
   ],
   "source": [
    "Principle = int(input(\"enter principle amount num\"))\n",
    "Rate = int(input(\"enter rate of intrest num\"))\n",
    "Years = int(input(\"enter years num\"))\n",
    "Simple_Interest = ( Principle * Rate * Years ) / 100\n",
    "\n",
    "print(Simple_Interest)"
   ]
  },
  {
   "cell_type": "code",
   "execution_count": 5,
   "metadata": {},
   "outputs": [
    {
     "name": "stdout",
     "output_type": "stream",
     "text": [
      "The temprature  18.6  in celcius is  65.48  in fahreinheit\n"
     ]
    }
   ],
   "source": [
    "\n",
    "celcius_1 = float(input(\"Enter the temprature in celcius : \"))\n",
    "fahreinheit_1 = (celcius_1 * 1.8) + 32 \n",
    "print(\"The temprature \" , celcius_1 , \" in celcius is \" , fahreinheit_1 ,\" in fahreinheit\")\n"
   ]
  },
  {
   "cell_type": "code",
   "execution_count": 3,
   "metadata": {},
   "outputs": [
    {
     "name": "stdout",
     "output_type": "stream",
     "text": [
      "the addition is  108\n"
     ]
    }
   ],
   "source": [
    "i = int(input(\"enter 1st num\"))\n",
    "j = int(input(\"enter 2nd num\"))\n",
    "\n",
    "print(\"the addition is \" ,i + j)"
   ]
  },
  {
   "attachments": {},
   "cell_type": "markdown",
   "metadata": {},
   "source": [
    "## Exercise"
   ]
  },
  {
   "cell_type": "code",
   "execution_count": 9,
   "metadata": {},
   "outputs": [
    {
     "name": "stdout",
     "output_type": "stream",
     "text": [
      "[1, 2, 3, 4, (5+6j), True, 'akash', 1]\n",
      "hey hii how are you\n",
      "(1, 2, 3, True, 'Juber', 1)\n"
     ]
    }
   ],
   "source": [
    "list = [1,2,3,4 , 5+6j , True , \"akash\" , 1]\n",
    "\n",
    "print(list)\n",
    "\n",
    "\n",
    "s1 = \"hey hii how are you\"\n",
    "print(s1)\n",
    "\n",
    "\n",
    "\n",
    "\n",
    "Tuple = (1 , 2 , 3 , True , \"Juber\" , 1 )\n",
    "print(Tuple)\n",
    "\n"
   ]
  },
  {
   "cell_type": "code",
   "execution_count": 15,
   "metadata": {},
   "outputs": [
    {
     "name": "stdout",
     "output_type": "stream",
     "text": [
      "the Multiplication is  30\n",
      "Final result after adding PI is  33.14\n"
     ]
    }
   ],
   "source": [
    "\n",
    "\n",
    "i = int(input(\"enter 1st num\"))\n",
    "j = int(input(\"enter 2nd num\"))\n",
    "c = input(\"Choose Operation\")\n",
    "\n",
    "Pi = 3.14\n",
    "\n",
    "result = None\n",
    "\n",
    "if c == '+':\n",
    "    result = i  + j\n",
    "    print(\"the addition is \" , result)\n",
    "    print(\"Final result after adding PI is \" , result + Pi)\n",
    "elif c == '-':\n",
    "    result = i - j \n",
    "    print(\"the Subtraction is \" , result)\n",
    "    print(\"Final result after adding PI is \" , result + Pi)\n",
    "elif c == '*':\n",
    "    result = i * j\n",
    "    print(\"the Multiplication is \" , result)\n",
    "    print(\"Final result after adding PI is \" , result + Pi)\n",
    "elif c == '/':\n",
    "    result = i / j \n",
    "    print(\"the division is \" , result)\n",
    "    print(\"Final result after adding PI is \" , result + Pi)\n"
   ]
  },
  {
   "cell_type": "code",
   "execution_count": 21,
   "metadata": {},
   "outputs": [
    {
     "name": "stdout",
     "output_type": "stream",
     "text": [
      "2023-01-16 17:17:19.910557\n",
      "17:17:19.910557\n"
     ]
    }
   ],
   "source": [
    "import datetime\n",
    "\n",
    "print(datetime.datetime.now())\n",
    "print(datetime.datetime.now().time())"
   ]
  },
  {
   "attachments": {},
   "cell_type": "markdown",
   "metadata": {},
   "source": [
    "## Pandas"
   ]
  },
  {
   "cell_type": "code",
   "execution_count": 25,
   "metadata": {},
   "outputs": [
    {
     "ename": "AttributeError",
     "evalue": "module 'pandas' has no attribute 'read'",
     "output_type": "error",
     "traceback": [
      "\u001b[1;31m---------------------------------------------------------------------------\u001b[0m",
      "\u001b[1;31mAttributeError\u001b[0m                            Traceback (most recent call last)",
      "Cell \u001b[1;32mIn[25], line 3\u001b[0m\n\u001b[0;32m      1\u001b[0m \u001b[39mimport\u001b[39;00m \u001b[39mpandas\u001b[39;00m \u001b[39mas\u001b[39;00m \u001b[39mpd\u001b[39;00m\n\u001b[1;32m----> 3\u001b[0m df \u001b[39m=\u001b[39m pd\u001b[39m.\u001b[39;49mread\u001b[39m.\u001b[39mcsv(\u001b[39mr\u001b[39m\u001b[39m\"\u001b[39m\u001b[39mC:\u001b[39m\u001b[39m\\\u001b[39m\u001b[39mUsers\u001b[39m\u001b[39m\\\u001b[39m\u001b[39mAKASH\u001b[39m\u001b[39m\\\u001b[39m\u001b[39mDownloads\u001b[39m\u001b[39m\\\u001b[39m\u001b[39mBusiness-employment-data-september-2022-quarter-csv\u001b[39m\u001b[39m\\\u001b[39m\u001b[39mBusiness-employment-data-september-2022-quarter-csv.csv\u001b[39m\u001b[39m\"\u001b[39m)\n\u001b[0;32m      5\u001b[0m \u001b[39mprint\u001b[39m(df)\n",
      "File \u001b[1;32m~\\AppData\\Roaming\\Python\\Python310\\site-packages\\pandas\\__init__.py:264\u001b[0m, in \u001b[0;36m__getattr__\u001b[1;34m(name)\u001b[0m\n\u001b[0;32m    260\u001b[0m     \u001b[39mfrom\u001b[39;00m \u001b[39mpandas\u001b[39;00m\u001b[39m.\u001b[39;00m\u001b[39mcore\u001b[39;00m\u001b[39m.\u001b[39;00m\u001b[39marrays\u001b[39;00m\u001b[39m.\u001b[39;00m\u001b[39msparse\u001b[39;00m \u001b[39mimport\u001b[39;00m SparseArray \u001b[39mas\u001b[39;00m _SparseArray\n\u001b[0;32m    262\u001b[0m     \u001b[39mreturn\u001b[39;00m _SparseArray\n\u001b[1;32m--> 264\u001b[0m \u001b[39mraise\u001b[39;00m \u001b[39mAttributeError\u001b[39;00m(\u001b[39mf\u001b[39m\u001b[39m\"\u001b[39m\u001b[39mmodule \u001b[39m\u001b[39m'\u001b[39m\u001b[39mpandas\u001b[39m\u001b[39m'\u001b[39m\u001b[39m has no attribute \u001b[39m\u001b[39m'\u001b[39m\u001b[39m{\u001b[39;00mname\u001b[39m}\u001b[39;00m\u001b[39m'\u001b[39m\u001b[39m\"\u001b[39m)\n",
      "\u001b[1;31mAttributeError\u001b[0m: module 'pandas' has no attribute 'read'"
     ]
    }
   ],
   "source": [
    "import pandas as pd\n",
    "\n",
    "df = pd.read.csv(\"C:\\Users\\AKASH\\Downloads\\Business-employment-data-september-2022-quarter-csv\\Business-employment-data-september-2022-quarter-csv.csv\")\n",
    "\n",
    "print(df)\n",
    "\n"
   ]
  }
 ],
 "metadata": {
  "kernelspec": {
   "display_name": "Python 3",
   "language": "python",
   "name": "python3"
  },
  "language_info": {
   "codemirror_mode": {
    "name": "ipython",
    "version": 3
   },
   "file_extension": ".py",
   "mimetype": "text/x-python",
   "name": "python",
   "nbconvert_exporter": "python",
   "pygments_lexer": "ipython3",
   "version": "3.10.7 (tags/v3.10.7:6cc6b13, Sep  5 2022, 14:08:36) [MSC v.1933 64 bit (AMD64)]"
  },
  "orig_nbformat": 4,
  "vscode": {
   "interpreter": {
    "hash": "26de051ba29f2982a8de78e945f0abaf191376122a1563185a90213a26c5da77"
   }
  }
 },
 "nbformat": 4,
 "nbformat_minor": 2
}
