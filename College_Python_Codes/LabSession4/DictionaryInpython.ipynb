{
 "cells": [
  {
   "attachments": {},
   "cell_type": "markdown",
   "metadata": {},
   "source": [
    "### Dictionary In Python"
   ]
  },
  {
   "cell_type": "code",
   "execution_count": null,
   "metadata": {},
   "outputs": [],
   "source": []
  },
  {
   "cell_type": "code",
   "execution_count": 29,
   "metadata": {},
   "outputs": [
    {
     "name": "stdout",
     "output_type": "stream",
     "text": [
      "{21: 'FTP', 22: 'SSH', 23: 'telnet', 80: 'http'}\n",
      "{'FTP': 21, 'SSH': 22, 'telnet': 23, 'http': 80}\n"
     ]
    }
   ],
   "source": [
    "port1 = {21 : \"FTP\" , 22 :\"SSH\" , 23 : \"telnet\" , 80 : \"http\"}\n",
    "\n",
    "port2 = {value : key for key , value in port1.items()}\n",
    "\n",
    "print(port1)\n",
    "\n",
    "print(port2)"
   ]
  },
  {
   "cell_type": "code",
   "execution_count": 28,
   "metadata": {},
   "outputs": [
    {
     "name": "stdout",
     "output_type": "stream",
     "text": [
      "key is present in the dictionary\n"
     ]
    }
   ],
   "source": [
    "port3 = {21 : \"FTP\" , 22 :\"SSH\" , 23 : \"telnet\" , 80 : \"http\"}\n",
    "\n",
    "key = 23\n",
    "\n",
    "if key in port3 :\n",
    "    print(\"key is present in the dictionary\")\n",
    "else : \n",
    "    print(\"Key is not present in the dictionary\")"
   ]
  },
  {
   "cell_type": "code",
   "execution_count": 6,
   "metadata": {},
   "outputs": [
    {
     "name": "stdout",
     "output_type": "stream",
     "text": [
      "Add student\n",
      "Remove student\n",
      "Print grades\n",
      "Print grades\n",
      "Record grade\n",
      "Print menu\n",
      "Exit\n"
     ]
    }
   ],
   "source": [
    "dict = {1: \"Add student\", 2: \"Remove student\", 3: \"Print grades\", 4: \"Record grade\", 5: \"Print menu\", 6: \"Exit\"}\n",
    "\n",
    "choice = 0\n",
    "while(choice != 6):\n",
    "    choice = int(input(\"Enter choice: \"))\n",
    "    if(choice == 1):\n",
    "        print(dict[1])\n",
    "    elif(choice == 2):\n",
    "        print(dict[2])\n",
    "    elif(choice == 3):\n",
    "        print(dict[3])\n",
    "    elif(choice == 4):\n",
    "        print(dict[4])\n",
    "    elif(choice == 5):\n",
    "        print(dict[5])\n",
    "    elif(choice == 6):\n",
    "        print(dict[6])"
   ]
  },
  {
   "cell_type": "code",
   "execution_count": 13,
   "metadata": {},
   "outputs": [
    {
     "name": "stdout",
     "output_type": "stream",
     "text": [
      "{'a': 1, 'c': 3}\n",
      "{'b': 2, 'e': 5, 'd': 4}\n",
      "{'a': 1, 'c': 3, 'b': 2, 'e': 5, 'd': 4}\n"
     ]
    }
   ],
   "source": [
    "dict1 = {'a' : 1  , 'c' : 3}\n",
    "\n",
    "dict2 = {'b' : 2 , 'e' : 5 , 'd' : 4} \n",
    "\n",
    "print(dict1 , dict2 , sep=\"\\n\")\n",
    "\n",
    "# Merge Two dictionaries\n",
    "\n",
    "dict3 = (dict1 | dict2)\n",
    "\n",
    "print(dict3)\n"
   ]
  },
  {
   "cell_type": "code",
   "execution_count": 8,
   "metadata": {},
   "outputs": [
    {
     "name": "stdout",
     "output_type": "stream",
     "text": [
      "In ascending order\n",
      "sorted using key [(2, 'b'), (3, 'c'), (4, 'j'), (5, 'a')]\n",
      "In descending order\n",
      "sorted using key [(5, 'a'), (4, 'j'), (3, 'c'), (2, 'b')]\n"
     ]
    }
   ],
   "source": [
    "dict5 = {5 : \"a\" , 2 : \"b\" , 4 : \"j\" , 3 : \"c\" }\n",
    "\n",
    "# In Ascending Order\n",
    "sorted_Dict5 = sorted(dict5.items())\n",
    "\n",
    "print(\"In ascending order\")\n",
    "print(\"sorted using key\" , sorted_Dict5)\n",
    "\n",
    "\n",
    "# In descending order\n",
    "\n",
    "sorted_Dict5 = sorted(dict5.items() , reverse=True)\n",
    "print(\"In descending order\")\n",
    "print(\"sorted using key\" , sorted_Dict5)\n",
    "\n",
    "\n"
   ]
  },
  {
   "cell_type": "code",
   "execution_count": 25,
   "metadata": {},
   "outputs": [],
   "source": [
    "dict9 = {5 : \"a\" , 2 : \"b\" , 4 : \"j\" , 3 : \"c\" }\n",
    "\n"
   ]
  },
  {
   "cell_type": "code",
   "execution_count": 33,
   "metadata": {},
   "outputs": [
    {
     "name": "stdout",
     "output_type": "stream",
     "text": [
      "{5: 'a', 2: 'b', 4: 'j', 3: 'c', 1: 'Mayur', 10: 'Akash'}\n"
     ]
    }
   ],
   "source": [
    "dict10 = {5 : \"a\" , 2 : \"b\" , 4 : \"j\" , 3 : \"c\" }\n",
    "\n",
    "dict10[1] = 'Mayur' \n",
    "\n",
    "dict10[10] = \"Akash\"\n",
    "\n",
    "print(dict10)"
   ]
  },
  {
   "cell_type": "code",
   "execution_count": 35,
   "metadata": {},
   "outputs": [
    {
     "name": "stdout",
     "output_type": "stream",
     "text": [
      "{'mr Mayur Jadhav': 10000000}\n"
     ]
    }
   ],
   "source": [
    "dict11 = { }\n",
    "\n",
    "name = input(\"Enter employee name :-\")\n",
    "salary = int(input(\"Enter employee salary :-\"))\n",
    "dict11[name] = salary\n",
    "print(dict11)"
   ]
  },
  {
   "cell_type": "code",
   "execution_count": 37,
   "metadata": {},
   "outputs": [
    {
     "name": "stdout",
     "output_type": "stream",
     "text": [
      "Admitted students: {'student_1': 13, 'student_2': 17, 'student_4': 15, 'student_6': 14, 'student_7': 16, 'student_8': 12, 'student_9': 13, 'student_10': 15, 'student_11': 14, 'student_13': 10, 'student_14': 12, 'student_15': 13, 'student_17': 12, 'student_18': 15, 'student_20': 17}\n",
      "\n",
      "Students not admitted: {'student_3': 9, 'student_5': 8, 'student_112': 9, 'student_16': 7, 'student_19': 9}\n"
     ]
    }
   ],
   "source": [
    "students = {\"student_1\" : 13 , \"student_2\" : 17 , \"student_3\" : 9 , \"student_4\" : 15 , \n",
    "            \"student_5\" : 8 , \"student_6\" : 14 , \"student_7\" : 16 , \"student_8\" : 12 , \n",
    "            \"student_9\" : 13 , \"student_10\" : 15 , \"student_11\" : 14 , \"student_112\" : 9 , \n",
    "            \"student_13\" : 10 , \"student_14\" : 12 , \"student_15\" : 13 , \"student_16\" : 7 ,\n",
    "            \"student_17\" : 12 , \"student_18\" : 15 , \"student_19\" : 9 , \"student_20\" : 17 ,}\n",
    "\n",
    "admittedStudents = ({})\n",
    "nonAdmittedStudent = ({})\n",
    "\n",
    "for key, value in students.items ():\n",
    "    if (value <10):\n",
    "        nonAdmittedStudent[key] = value\n",
    "    else:\n",
    "        admittedStudents[key] = value\n",
    "\n",
    "print (\"Admitted students:\", admittedStudents)\n",
    "print()\n",
    "print (\"Students not admitted:\", nonAdmittedStudent)"
   ]
  },
  {
   "attachments": {},
   "cell_type": "markdown",
   "metadata": {},
   "source": [
    "## Tuples"
   ]
  },
  {
   "cell_type": "code",
   "execution_count": 38,
   "metadata": {},
   "outputs": [
    {
     "name": "stdout",
     "output_type": "stream",
     "text": [
      "[1, 2, 3, 4, 5, 7, 9]\n"
     ]
    }
   ],
   "source": [
    "t1 = (4,5,2,7,1,9,3)\n",
    "\n",
    "t2 = sorted(t1)\n",
    "\n",
    "print(t2)"
   ]
  },
  {
   "cell_type": "code",
   "execution_count": 9,
   "metadata": {},
   "outputs": [
    {
     "name": "stdout",
     "output_type": "stream",
     "text": [
      "The sum of Tuple elements is  31\n"
     ]
    }
   ],
   "source": [
    "t1 = (4,5,2,7,1,9,3)\n",
    "\n",
    "temp = 0 \n",
    "\n",
    "for i in t1:\n",
    "    temp = temp + i\n",
    "\n",
    "print(\"The sum of Tuple elements is \" , temp)\n"
   ]
  },
  {
   "cell_type": "code",
   "execution_count": 43,
   "metadata": {},
   "outputs": [
    {
     "name": "stdout",
     "output_type": "stream",
     "text": [
      "the size of tuple is  7\n"
     ]
    }
   ],
   "source": [
    "t1 = (4,5,2,7,1,9,3)\n",
    "\n",
    "length = len(t1)\n",
    "\n",
    "print(\"the size of tuple is \" , length)"
   ]
  },
  {
   "cell_type": "code",
   "execution_count": 4,
   "metadata": {},
   "outputs": [
    {
     "name": "stdout",
     "output_type": "stream",
     "text": [
      "{'Name': ['Ram', 'Pooja', 'Sara'], 'Age': [21, 23, 22], 'Gender': ['Male', 'Female', 'Female']}\n"
     ]
    }
   ],
   "source": [
    "list1 = [(\"Name\" , \"Ram\") , (\"Name\" , \"Pooja\") , (\"Name\" , \"Sara\") , (\"Age\" , 21) , (\"Gender\" , \"Male\") ,\n",
    "(\"Age\" , 23) , (\"Gender\" , \"Female\") , (\"Gender\" , \"Female\") , (\"Age\",22)]\n",
    "\n",
    "dict12 = ({})\n",
    "\n",
    "for key , value in list1 :\n",
    "    dict12.setdefault(key , []).append(value)\n",
    "\n",
    "print(dict12)\n",
    "\n"
   ]
  },
  {
   "cell_type": "code",
   "execution_count": 2,
   "metadata": {},
   "outputs": [
    {
     "name": "stdout",
     "output_type": "stream",
     "text": [
      "[4, 5, 2, 7, 1, 9, 3]\n",
      "[4, 5, 2, 7, 9, 3]\n",
      "(4, 5, 2, 7, 9, 3)\n"
     ]
    }
   ],
   "source": [
    "t1 = (4,5,2,7,1,9,3)\n",
    "\n",
    "list1 = list(t1)\n",
    "\n",
    "print(list1)\n",
    "list1.remove(1)\n",
    "\n",
    "print(list1)\n",
    "\n",
    "tuple2 = tuple(list1)\n",
    "\n",
    "print(tuple2)\n"
   ]
  },
  {
   "cell_type": "code",
   "execution_count": 54,
   "metadata": {},
   "outputs": [
    {
     "name": "stdout",
     "output_type": "stream",
     "text": [
      "(3, 9, 1, 7, 2, 5, 4)\n"
     ]
    }
   ],
   "source": [
    "t1 = (4,5,2,7,1,9,3)\n",
    "\n",
    "print(t1[::-1])"
   ]
  },
  {
   "cell_type": "code",
   "execution_count": 55,
   "metadata": {},
   "outputs": [
    {
     "name": "stdout",
     "output_type": "stream",
     "text": [
      "(1, 3, 6, 4, 'akash', ('Akash', 12, 16), (16, 25, 65), [1, 5, 2, 6])\n"
     ]
    }
   ],
   "source": [
    "t2 = (\"mayur\" , \"Juber\" , \"Chaitanya\", \"akash\" ,  (\"Akash\" , 12 , 16) , (16 , 25 ,65) , [1,5,2,6])\n",
    "\n",
    "print(t2)"
   ]
  },
  {
   "cell_type": "code",
   "execution_count": 59,
   "metadata": {},
   "outputs": [
    {
     "name": "stdout",
     "output_type": "stream",
     "text": [
      "5\n"
     ]
    }
   ],
   "source": [
    "t2 = (1 , 3 , 6 , 4 , \"akash\" ,  (\"Akash\" , 12 , 16) , (16 , 25 ,65) , [1,5,2,6])\n",
    "\n",
    "\n",
    "print(t2[-1][1])"
   ]
  },
  {
   "cell_type": "code",
   "execution_count": 5,
   "metadata": {},
   "outputs": [
    {
     "name": "stdout",
     "output_type": "stream",
     "text": [
      "{1, 2}\n"
     ]
    }
   ],
   "source": [
    "set1 = {1, 2, 3, 4, 5}\n",
    "\n",
    "set2 = {3, 4, 5, 6, 7}\n",
    "\n",
    "set1.difference_update(set2)\n",
    "\n",
    "print(set1)"
   ]
  }
 ],
 "metadata": {
  "kernelspec": {
   "display_name": "Python 3",
   "language": "python",
   "name": "python3"
  },
  "language_info": {
   "codemirror_mode": {
    "name": "ipython",
    "version": 3
   },
   "file_extension": ".py",
   "mimetype": "text/x-python",
   "name": "python",
   "nbconvert_exporter": "python",
   "pygments_lexer": "ipython3",
   "version": "3.10.7 (tags/v3.10.7:6cc6b13, Sep  5 2022, 14:08:36) [MSC v.1933 64 bit (AMD64)]"
  },
  "orig_nbformat": 4,
  "vscode": {
   "interpreter": {
    "hash": "26de051ba29f2982a8de78e945f0abaf191376122a1563185a90213a26c5da77"
   }
  }
 },
 "nbformat": 4,
 "nbformat_minor": 2
}
