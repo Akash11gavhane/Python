{
 "cells": [
  {
   "cell_type": "code",
   "execution_count": 3,
   "metadata": {},
   "outputs": [
    {
     "name": "stdout",
     "output_type": "stream",
     "text": [
      "A 3-sided polygon\n",
      "The area of the triangle is 20.33 square units\n"
     ]
    }
   ],
   "source": [
    "class Polygon:\n",
    "    def __init__(self, num_sides):\n",
    "        self.num_sides = num_sides\n",
    "\n",
    "    def display_sides(self):\n",
    "        print(f\"A {self.num_sides}-sided polygon\")\n",
    "\n",
    "class Triangle(Polygon):\n",
    "    def __init__(self, side1, side2, side3):\n",
    "        super().__init__(3)\n",
    "        self.side1 = side1\n",
    "        self.side2 = side2\n",
    "        self.side3 = side3\n",
    "\n",
    "    def calculate_area(self):\n",
    "        s = (self.side1 + self.side2 + self.side3) / 2\n",
    "        area = (s * (s - self.side1) * (s - self.side2) * (s - self.side3)) ** 0.5\n",
    "        print(f\"The area of the triangle is {area:.2f} square units\")\n",
    "\n",
    "\n",
    "t = Triangle(7 , 6 , 8 )\n",
    "t.display_sides()   \n",
    "t.calculate_area() "
   ]
  },
  {
   "cell_type": "code",
   "execution_count": 21,
   "metadata": {},
   "outputs": [],
   "source": [
    "class Vehicle:\n",
    "    def __init__(self, make, model, year, weight):\n",
    "        self.make = make\n",
    "        self.model = model\n",
    "        self.year = year\n",
    "        self.weight = weight\n",
    "    \n",
    "    def display_info(self):\n",
    "        print(f\"{self.make} {self.model}, year {self.year}, weight {self.weight} kg\")\n",
    "        \n",
    "class Bus(Vehicle):\n",
    "    def __init__(self, make, model, year, weight, seating_capacity):\n",
    "        super().__init__(make, model, year, weight)\n",
    "        self.seating_capacity = seating_capacity\n",
    "        \n",
    "    def display_info(self):\n",
    "        super().display_info()\n",
    "        print(f\"Seating capacity: {self.seating_capacity}\")\n",
    "        \n",
    "class Car(Vehicle):\n",
    "    def __init__(self, make, model, year, weight, num_doors):\n",
    "        super().__init__(make, model, year, weight)\n",
    "        self.num_doors = num_doors\n",
    "        \n",
    "    def display_info(self):\n",
    "        super().display_info()\n",
    "        print(f\"Number of doors: {self.num_doors}\")"
   ]
  },
  {
   "cell_type": "code",
   "execution_count": 22,
   "metadata": {},
   "outputs": [
    {
     "name": "stdout",
     "output_type": "stream",
     "text": [
      "Volvo B7R, year 2005, weight 12000 kg\n",
      "Seating capacity: 40\n",
      "Toyota Corolla, year 2020, weight 1300 kg\n",
      "Number of doors: 4\n"
     ]
    }
   ],
   "source": [
    "bus1 = Bus(\"Volvo\", \"B5R\", 2005, 12000, 40)\n",
    "bus1.display_info()  \n",
    "\n",
    "car1 = Car(\"Mahindra\", \"Thar\", 2020, 1300, 4)\n",
    "car1.display_info() "
   ]
  },
  {
   "cell_type": "code",
   "execution_count": 23,
   "metadata": {},
   "outputs": [],
   "source": [
    "class ThreeSum:\n",
    "    def __init__(self, nums):\n",
    "        self.nums = nums\n",
    "    \n",
    "    def find(self):\n",
    "        result = []\n",
    "        n = len(self.nums)\n",
    "        self.nums.sort()\n",
    "        \n",
    "        for i in range(n-2):\n",
    "            if i > 0 and self.nums[i] == self.nums[i-1]:\n",
    "                continue \n",
    "            \n",
    "            left, right = i+1, n-1\n",
    "            while left < right:\n",
    "                total = self.nums[i] + self.nums[left] + self.nums[right]\n",
    "                if total == 0:\n",
    "                    result.append([self.nums[i], self.nums[left], self.nums[right]])\n",
    "                    left += 1\n",
    "                    right -= 1\n",
    "                    while left < right and self.nums[left] == self.nums[left-1]:\n",
    "                        left += 1 \n",
    "                    while left < right and self.nums[right] == self.nums[right+1]:\n",
    "                        right -= 1 \n",
    "                elif total < 0:\n",
    "                    left += 1\n",
    "                else: \n",
    "                    right -= 1\n",
    "        \n",
    "        return result"
   ]
  },
  {
   "cell_type": "code",
   "execution_count": 24,
   "metadata": {},
   "outputs": [
    {
     "name": "stdout",
     "output_type": "stream",
     "text": [
      "[[-10, 2, 8], [-7, -3, 10]]\n"
     ]
    }
   ],
   "source": [
    "nums = [-25, -10, -7, -3, 2, 4, 8, 10]\n",
    "solver = ThreeSum(nums)\n",
    "result = solver.find()\n",
    "print(result)\n"
   ]
  },
  {
   "cell_type": "code",
   "execution_count": 25,
   "metadata": {},
   "outputs": [],
   "source": [
    "class Queue:\n",
    "    def __init__(self):\n",
    "        self.items = []\n",
    "\n",
    "    def is_empty(self):\n",
    "        return len(self.items) == 0\n",
    "\n",
    "    def enqueue(self, item):\n",
    "        self.items.append(item)\n",
    "\n",
    "    def dequeue(self):\n",
    "        if not self.is_empty():\n",
    "            return self.items.pop(0)\n",
    "\n",
    "    def size(self):\n",
    "        return len(self.items)\n",
    "\n",
    "    def peek(self):\n",
    "        if not self.is_empty():\n",
    "            return self.items[0]"
   ]
  },
  {
   "cell_type": "code",
   "execution_count": 28,
   "metadata": {},
   "outputs": [
    {
     "name": "stdout",
     "output_type": "stream",
     "text": [
      "Check the queue is empty or not\n",
      "False\n",
      "Size of the queue\n",
      "3\n",
      "1\n",
      "remove items\n",
      "1\n",
      "2\n",
      "3\n",
      "check the queue is empty or not\n",
      "True\n"
     ]
    }
   ],
   "source": [
    "queue = Queue()\n",
    "\n",
    "\n",
    "queue.enqueue(1)\n",
    "queue.enqueue(2)\n",
    "queue.enqueue(3)\n",
    "\n",
    "print(\"Check the queue is empty or not\")\n",
    "print(queue.is_empty())  \n",
    "\n",
    "print(\"Size of the queue\")\n",
    "print(queue.size())  \n",
    "\n",
    "\n",
    "print(queue.peek())  \n",
    "\n",
    "print(\"remove items\")\n",
    "print(queue.dequeue())  \n",
    "print(queue.dequeue())  \n",
    "print(queue.dequeue())  \n",
    "\n",
    "\n",
    "print(\"check the queue is empty or not\")\n",
    "print(queue.is_empty())"
   ]
  },
  {
   "cell_type": "code",
   "execution_count": 30,
   "metadata": {},
   "outputs": [],
   "source": [
    "class Stack:\n",
    "    def __init__(self):\n",
    "        self.items = []\n",
    "\n",
    "    def is_empty(self):\n",
    "        return len(self.items) == 0\n",
    "\n",
    "    def push(self, item):\n",
    "        self.items.append(item)\n",
    "\n",
    "    def pop(self):\n",
    "        if self.is_empty():\n",
    "            raise Exception('Stack is empty')\n",
    "        return self.items.pop()\n",
    "\n",
    "    def peek(self):\n",
    "        if self.is_empty():\n",
    "            raise Exception('Stack is empty')\n",
    "        return self.items[-1]\n",
    "\n",
    "    def size(self):\n",
    "        return len(self.items)\n"
   ]
  },
  {
   "cell_type": "code",
   "execution_count": 33,
   "metadata": {},
   "outputs": [
    {
     "name": "stdout",
     "output_type": "stream",
     "text": [
      "3\n",
      "3\n",
      "2\n",
      "Check stack is empty or not\n",
      "False\n"
     ]
    }
   ],
   "source": [
    "stack = Stack()\n",
    "\n",
    "stack.push(1)\n",
    "stack.push(2)\n",
    "stack.push(3)\n",
    "\n",
    "print(stack.peek()) \n",
    "print(stack.pop())\n",
    "print(stack.size())\n",
    "\n",
    "print(\"Check stack is empty or not\")\n",
    "print(stack.is_empty()) \n"
   ]
  },
  {
   "cell_type": "code",
   "execution_count": 44,
   "metadata": {},
   "outputs": [],
   "source": [
    "from collections import deque\n",
    "\n",
    "def bfs(graph, start):\n",
    "    \n",
    "    visited = set()\n",
    "    queue = deque([start])\n",
    "\n",
    "    \n",
    "    while queue:\n",
    "        \n",
    "        node = queue.popleft()\n",
    "        visited.add(node)\n",
    "\n",
    "        \n",
    "        print(node)\n",
    "\n",
    "        \n",
    "        for neighbor in graph[node]:\n",
    "            if neighbor not in visited:\n",
    "                queue.append(neighbor)\n",
    "\n",
    "\n",
    "\n"
   ]
  },
  {
   "cell_type": "code",
   "execution_count": 45,
   "metadata": {},
   "outputs": [
    {
     "name": "stdout",
     "output_type": "stream",
     "text": [
      "A\n",
      "B\n",
      "C\n",
      "D\n",
      "E\n",
      "F\n",
      "F\n"
     ]
    }
   ],
   "source": [
    "graph = {\n",
    "    'A': ['B', 'C'],\n",
    "    'B': ['D', 'E'],\n",
    "    'C': ['F'],\n",
    "    'D': [],\n",
    "    'E': ['F'],\n",
    "    'F': []\n",
    "}\n",
    "bfs(graph, 'A')"
   ]
  },
  {
   "cell_type": "code",
   "execution_count": 38,
   "metadata": {},
   "outputs": [
    {
     "name": "stdout",
     "output_type": "stream",
     "text": [
      "A\n",
      "B\n",
      "C\n",
      "D\n",
      "D\n",
      "E\n",
      "E\n"
     ]
    }
   ],
   "source": [
    "graph = {\n",
    "    'A': ['B', 'C', 'D'],\n",
    "    'B': ['A'],\n",
    "    'C': ['A', 'D'],\n",
    "    'D': ['A', 'C', 'E'],\n",
    "    'E': ['D'],\n",
    "}\n",
    "\n",
    "bfs(graph , 'A')"
   ]
  },
  {
   "cell_type": "code",
   "execution_count": 43,
   "metadata": {},
   "outputs": [
    {
     "name": "stdout",
     "output_type": "stream",
     "text": [
      "1\n",
      "2\n",
      "3\n",
      "4\n",
      "4\n",
      "5\n",
      "5\n",
      "6\n",
      "6\n"
     ]
    }
   ],
   "source": [
    "graph = {\n",
    "    1: [2 , 3 , 4],\n",
    "    2: [1],\n",
    "    3: [1 , 4],\n",
    "    4: [3 , 5 ],\n",
    "    5: [6],\n",
    "    6: [4]\n",
    "}\n",
    "bfs(graph, 1 )"
   ]
  },
  {
   "cell_type": "code",
   "execution_count": 49,
   "metadata": {},
   "outputs": [
    {
     "name": "stdout",
     "output_type": "stream",
     "text": [
      "Following is the Depth-first search: [0, 2, 1, 3, 4]\n"
     ]
    }
   ],
   "source": [
    "def dfs(node, graph, visited, component):\n",
    "    component.append(node) \n",
    "    visited[node] = True  \n",
    "\n",
    "    \n",
    "    for child in graph[node]:\n",
    "        if not visited[child]:  \n",
    "            dfs(child, graph, visited, component) \n",
    "\n",
    "if __name__ == \"__main__\":\n",
    "\n",
    "    \n",
    "    graph = {\n",
    "        0: [2],\n",
    "        1: [2, 3],\n",
    "        2: [0, 1, 4],\n",
    "        3: [1, 4],\n",
    "        4: [2, 3]\n",
    "    }\n",
    "    node = 0  \n",
    "    visited = [False]*len(graph)  \n",
    "    component = []\n",
    "    dfs(node, graph, visited, component)  \n",
    "    print(f\"Following is the Depth-first search: {component}\") \n"
   ]
  }
 ],
 "metadata": {
  "kernelspec": {
   "display_name": "Python 3",
   "language": "python",
   "name": "python3"
  },
  "language_info": {
   "codemirror_mode": {
    "name": "ipython",
    "version": 3
   },
   "file_extension": ".py",
   "mimetype": "text/x-python",
   "name": "python",
   "nbconvert_exporter": "python",
   "pygments_lexer": "ipython3",
   "version": "3.10.7"
  },
  "orig_nbformat": 4,
  "vscode": {
   "interpreter": {
    "hash": "26de051ba29f2982a8de78e945f0abaf191376122a1563185a90213a26c5da77"
   }
  }
 },
 "nbformat": 4,
 "nbformat_minor": 2
}
