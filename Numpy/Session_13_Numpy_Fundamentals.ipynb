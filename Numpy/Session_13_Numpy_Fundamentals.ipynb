{
 "cells": [
  {
   "attachments": {},
   "cell_type": "markdown",
   "metadata": {},
   "source": [
    "### What is numpy?\n",
    "\n",
    "        NumPy is the fundamental package for scientific computing in Python. It is a Python library that provides a multidimensional array object, various derived objects (such as masked arrays and matrices), and an assortment of routines for fast operations on arrays, including mathematical, logical, shape manipulation, sorting, selecting, I/O, discrete Fourier transforms, basic linear algebra, basic statistical operations, random simulation and much more.\n",
    "\n",
    "\n",
    "        At the core of the NumPy package, is the `ndarray` object. This encapsulates n-dimensional arrays of homogeneous data types\n",
    "\n",
    "        numpy is a scientific computational library and the most important thing of numpy is numpy array.\n",
    "        and using that array the various object are made in this library like matrices , mask arrays , structured arrays.\n",
    "        using numpy we can perform operations on this objects.(matrices , mask arrays , structured arrays)\n",
    "\n",
    "        numpy is a mathematical library.\n"
   ]
  },
  {
   "attachments": {},
   "cell_type": "markdown",
   "metadata": {},
   "source": [
    "Why we need Numpy?"
   ]
  },
  {
   "attachments": {},
   "cell_type": "markdown",
   "metadata": {},
   "source": [
    "### Numpy Arrays Vs Python Sequences\n",
    "\n",
    "- `NumPy arrays` have a `fixed size at creation`, unlike Python lists (which can grow dynamically). `Changing the size of an ndarray` will create a `new array` and `delete the original`.\n",
    "\n",
    "- The `elements in a NumPy array` are `all required to be of the same data type`, and thus will be the `same size in memory`.\n",
    "\n",
    "- in python `list we can add data of diffrent data types` but in the `numpy ndArray` we `cannot add the data of the diffrent datatypes` (it is homogenous).\n",
    "\n",
    "-  `NumPy arrays facilitate advanced mathematical and other types of operations` on `large numbers of data`. Typically, such `operations are executed more efficiently` and with `less code` than is possible using `Python’s built-in sequences(list)`.\n",
    "\n",
    "- A growing plethora of scientific and mathematical Python-based packages are using NumPy arrays; though these typically support Python-sequence input, they convert such input to NumPy arrays prior to processing, and they often output NumPy arrays."
   ]
  },
  {
   "attachments": {},
   "cell_type": "markdown",
   "metadata": {},
   "source": [
    "why the numpy library is made ? \n",
    "\n",
    "-       because the data types of the python are very slow to perform operations on the huge data set\n",
    "\n",
    "-       but everyone likes python because syntax of the python is very easy to understand and anyone can learn the python very easily and fastly.\n",
    "\n",
    "-       to solve the problem of python is very slow and people wants python\n",
    "\n",
    "-       the numpy is developed.\n",
    "\n",
    "-       after the developement of numpy the python become the number one choice for the data science and machine learning across the world\n",
    "\n",
    "-       So the numpy become the godfather of the data science and machine learning which can make the python that much powerfull "
   ]
  },
  {
   "attachments": {},
   "cell_type": "markdown",
   "metadata": {},
   "source": [
    "### Creating a Numpy Array"
   ]
  },
  {
   "cell_type": "code",
   "execution_count": 3,
   "metadata": {},
   "outputs": [
    {
     "name": "stdout",
     "output_type": "stream",
     "text": [
      "[1 2 3]\n",
      "<class 'numpy.ndarray'>\n"
     ]
    }
   ],
   "source": [
    "# create a new numpy array\n",
    "\n",
    "# import the numpy library\n",
    "\n",
    "import numpy as np\n",
    "\n",
    "# we give short form to the numpy as 'np'\n",
    "# we can also another name also\n",
    "\n",
    "# creating array\n",
    "\n",
    "np.array([1 , 2 , 3 ])\n",
    "\n",
    "# our array is created\n",
    "\n",
    "\n",
    "#store the array in the new variable\n",
    "\n",
    "a = np.array([1 , 2 , 3 ])\n",
    "\n",
    "print(a)\n",
    "print(type(a))\n",
    "\n",
    "# [1 2 3]  -- > we can called it as a  vector"
   ]
  },
  {
   "cell_type": "code",
   "execution_count": 3,
   "metadata": {},
   "outputs": [
    {
     "name": "stdout",
     "output_type": "stream",
     "text": [
      "[[1 2 3]\n",
      " [4 5 6]]\n"
     ]
    }
   ],
   "source": [
    "# 2d and 3d numpy array\n",
    "\n",
    "b = np.array(([[1 , 2 , 3] , [4 , 5 , 6]]))\n",
    "print(b)\n",
    "\n",
    "# we make the 2d array\n",
    "# we can called it as a matrix also because it looks like it \n",
    "# in the rows and columns"
   ]
  },
  {
   "attachments": {},
   "cell_type": "markdown",
   "metadata": {},
   "source": [
    "[1 2 3]  -- > we can called it as a  vector\n",
    "\n",
    "[[1 2 3]   \n",
    " [4 5 6]]     ---> we make the 2d array\n",
    "                we can called it as a matrix also because it looks like it \n",
    "                in the rows and columns"
   ]
  },
  {
   "cell_type": "code",
   "execution_count": 4,
   "metadata": {},
   "outputs": [
    {
     "name": "stdout",
     "output_type": "stream",
     "text": [
      "[[[1 2]\n",
      "  [3 4]]\n",
      "\n",
      " [[5 6]\n",
      "  [7 8]]]\n"
     ]
    }
   ],
   "source": [
    "# 3d numpy array\n",
    "\n",
    "c = np.array([[[1 , 2] , [3 , 4]] , [[5 , 6] , [7 , 8]]])\n",
    "print(c)\n",
    "\n",
    "# we can called 3d numpy arrays as tensor \n",
    "\n",
    "# we can make 4d and 5d arrays also\n",
    "# there is no any restriction.\n"
   ]
  },
  {
   "attachments": {},
   "cell_type": "markdown",
   "metadata": {},
   "source": [
    "#### `create a nd Array of our own choice dataType`"
   ]
  },
  {
   "cell_type": "code",
   "execution_count": 9,
   "metadata": {},
   "outputs": [
    {
     "name": "stdout",
     "output_type": "stream",
     "text": [
      "[1. 2. 3.]\n",
      "[False  True  True  True]\n"
     ]
    }
   ],
   "source": [
    "# above arrays are integer data type of arrays\n",
    "\n",
    "# here we can create a array of float \n",
    "\n",
    "a = np.array([1 , 2 , 3] , dtype=float)\n",
    "print(a)\n",
    "\n",
    "# create array with boolean\n",
    "\n",
    "b = np.array([0 , 1  , 2  , 3] , dtype = bool)\n",
    "print(b)\n",
    "# python consider 0 --> false and 1 ---> true"
   ]
  },
  {
   "cell_type": "code",
   "execution_count": 11,
   "metadata": {},
   "outputs": [
    {
     "name": "stdout",
     "output_type": "stream",
     "text": [
      "[ 1  2  3  4  5  6  7  8  9 10]\n",
      "[1 3 5 7 9]\n"
     ]
    }
   ],
   "source": [
    "# np.arange\n",
    "\n",
    "# this function also creates the numpy array\n",
    "\n",
    "# this funtion is like range function in python\n",
    "\n",
    "a = np.arange(1 , 11)\n",
    "print(a)\n",
    "\n",
    "# we can also apply slicing here \n",
    "\n",
    "a = np.arange(1 , 11 , 2)\n",
    "print(a)"
   ]
  },
  {
   "cell_type": "code",
   "execution_count": 21,
   "metadata": {},
   "outputs": [
    {
     "name": "stdout",
     "output_type": "stream",
     "text": [
      "[[ 1  2]\n",
      " [ 3  4]\n",
      " [ 5  6]\n",
      " [ 7  8]\n",
      " [ 9 10]]\n",
      "----------------------------------------------\n",
      "[[ 1  2  3  4  5]\n",
      " [ 6  7  8  9 10]]\n",
      "----------------------------------------------\n",
      "[[ 1  2  3  4]\n",
      " [ 5  6  7  8]\n",
      " [ 9 10 11 12]]\n",
      "----------------------------------------------\n",
      "[[ 1  2  3]\n",
      " [ 4  5  6]\n",
      " [ 7  8  9]\n",
      " [10 11 12]]\n",
      "----------------------------------------------\n",
      "[[ 1  2  3  4  5  6]\n",
      " [ 7  8  9 10 11 12]]\n",
      "----------------------------------------------\n",
      "[[ 1  2]\n",
      " [ 3  4]\n",
      " [ 5  6]\n",
      " [ 7  8]\n",
      " [ 9 10]\n",
      " [11 12]]\n",
      "----------------------------------------------\n"
     ]
    }
   ],
   "source": [
    "# with reshape  \n",
    "\n",
    "# it con convert the given numpy array in to the another array.\n",
    "\n",
    "a = np.arange(1 , 11).reshape(5 , 2)\n",
    "\n",
    "print(a)\n",
    "\n",
    "# using reshape we can convert the given array in to the matrix\n",
    "\n",
    "print(\"----------------------------------------------\")\n",
    "\n",
    "a = np.arange(1 , 11).reshape(2 , 5)\n",
    "\n",
    "print(a)\n",
    "\n",
    "print(\"----------------------------------------------\")\n",
    "\n",
    "a = np.arange(1 , 13).reshape(3 , 4)\n",
    "\n",
    "print(a)\n",
    "\n",
    "print(\"----------------------------------------------\")\n",
    "\n",
    "a = np.arange(1 , 13).reshape(4 , 3)\n",
    "\n",
    "print(a)\n",
    "\n",
    "print(\"----------------------------------------------\")\n",
    "\n",
    "a = np.arange(1 , 13).reshape(2 , 6)\n",
    "\n",
    "print(a)\n",
    "\n",
    "print(\"----------------------------------------------\")\n",
    "\n",
    "a = np.arange(1 , 13).reshape(6 , 2)\n",
    "\n",
    "print(a)\n",
    "\n",
    "print(\"----------------------------------------------\")\n",
    "\n",
    "# this will work only in the possible condition other wise it gives error\n",
    "\n"
   ]
  },
  {
   "cell_type": "code",
   "execution_count": 29,
   "metadata": {},
   "outputs": [
    {
     "name": "stdout",
     "output_type": "stream",
     "text": [
      "[[1. 1. 1. 1.]\n",
      " [1. 1. 1. 1.]\n",
      " [1. 1. 1. 1.]]\n",
      "[[0. 0. 0. 0.]\n",
      " [0. 0. 0. 0.]\n",
      " [0. 0. 0. 0.]]\n"
     ]
    }
   ],
   "source": [
    "# np.ones and np.zeros\n",
    "\n",
    "# np.ones --> using it we can make an array which all the elements are the 1\n",
    "# we have to provide a tuple inside the function\n",
    "\n",
    "a = np.ones((3 , 4))\n",
    "print(a)\n",
    "\n",
    "\n",
    "# where we can use it \n",
    "# we use it to initialise the array with 1 \n",
    "# it uses it neural networking , deep learning.\n",
    "\n",
    "\n",
    "# np.zeros --> here all the elements of the array are zero.\n",
    "\n",
    "a = np.zeros((3 , 4))\n",
    "print(a)\n",
    "\n",
    "\n",
    "# np.ones and np.zeros are used to initialise the arrays or matrix\n"
   ]
  },
  {
   "cell_type": "code",
   "execution_count": 32,
   "metadata": {},
   "outputs": [
    {
     "data": {
      "text/plain": [
       "array([[0.84111756, 0.879462  , 0.72879089, 0.93909335],\n",
       "       [0.4123904 , 0.74875754, 0.00160884, 0.13027931],\n",
       "       [0.64508594, 0.39424527, 0.02604421, 0.42232994]])"
      ]
     },
     "execution_count": 32,
     "metadata": {},
     "output_type": "execute_result"
    }
   ],
   "source": [
    "# generate a array or matrix with a rondom number\n",
    "\n",
    "np.random.random((3 , 4))"
   ]
  },
  {
   "cell_type": "code",
   "execution_count": 39,
   "metadata": {},
   "outputs": [
    {
     "name": "stdout",
     "output_type": "stream",
     "text": [
      "[-10.          -7.77777778  -5.55555556  -3.33333333  -1.11111111\n",
      "   1.11111111   3.33333333   5.55555556   7.77777778  10.        ]\n",
      "[-10  -8  -6  -4  -2   1   3   5   7  10]\n"
     ]
    }
   ],
   "source": [
    "# np.linspace\n",
    "\n",
    "print(np.linspace(-10 , 10 , 10))\n",
    "\n",
    "# the linspace function \n",
    "# is used to generate the random number from the given range \n",
    "# and we can tell the function how many numbers we want to generate\n",
    "# it generate the points on the equal distance\n",
    "# the diffrence between two points is equal\n",
    "\n",
    "\n",
    "# 1st -10 is the lower range\n",
    "# 2nd 10 is the higher range\n",
    "# 3rd 10 is the number of elements we want to generate\n",
    "\n",
    "print(np.linspace(-10 , 10 , 10 , dtype= int))"
   ]
  },
  {
   "cell_type": "code",
   "execution_count": 40,
   "metadata": {},
   "outputs": [
    {
     "data": {
      "text/plain": [
       "array([[1., 0., 0.],\n",
       "       [0., 1., 0.],\n",
       "       [0., 0., 1.]])"
      ]
     },
     "execution_count": 40,
     "metadata": {},
     "output_type": "execute_result"
    }
   ],
   "source": [
    "# np.identity\n",
    "\n",
    "# using np.identity function we can make the indentity matrix\n",
    "\n",
    "np.identity(3)"
   ]
  },
  {
   "attachments": {},
   "cell_type": "markdown",
   "metadata": {},
   "source": [
    "`by default elements of the numpy arrays are float`"
   ]
  },
  {
   "attachments": {},
   "cell_type": "markdown",
   "metadata": {},
   "source": [
    "### `Array Attributes`"
   ]
  },
  {
   "cell_type": "code",
   "execution_count": 4,
   "metadata": {},
   "outputs": [
    {
     "name": "stdout",
     "output_type": "stream",
     "text": [
      "[0 1 2 3 4 5 6 7 8 9]\n",
      "[[ 0.  1.  2.  3.]\n",
      " [ 4.  5.  6.  7.]\n",
      " [ 8.  9. 10. 11.]]\n",
      "[[[0 1]\n",
      "  [2 3]]\n",
      "\n",
      " [[4 5]\n",
      "  [6 7]]]\n"
     ]
    }
   ],
   "source": [
    "a1 = np.arange(10)\n",
    "a2 = np.arange(12 , dtype = float ).reshape(3 , 4)\n",
    "a3 = np.arange(8).reshape(2 , 2 , 2)\n",
    "\n",
    "print(a1)\n",
    "print(a2)\n",
    "print(a3)"
   ]
  },
  {
   "cell_type": "code",
   "execution_count": 9,
   "metadata": {},
   "outputs": [
    {
     "name": "stdout",
     "output_type": "stream",
     "text": [
      "1\n",
      "2\n",
      "3\n"
     ]
    }
   ],
   "source": [
    "# ndim\n",
    "\n",
    "# using ndim function we can get the dimension of the array.\n",
    "\n",
    "print(a1.ndim)\n",
    "print(a2.ndim)\n",
    "print(a3.ndim)"
   ]
  },
  {
   "cell_type": "code",
   "execution_count": 12,
   "metadata": {},
   "outputs": [
    {
     "data": {
      "text/plain": [
       "(2, 2, 2)"
      ]
     },
     "execution_count": 12,
     "metadata": {},
     "output_type": "execute_result"
    }
   ],
   "source": [
    "# shape\n",
    "\n",
    "# using shape function we can know how many elements in one direction\n",
    "\n",
    "a1.shape\n",
    "a2.shape\n",
    "a3.shape"
   ]
  },
  {
   "cell_type": "code",
   "execution_count": 19,
   "metadata": {},
   "outputs": [
    {
     "name": "stdout",
     "output_type": "stream",
     "text": [
      "8\n",
      "12\n"
     ]
    }
   ],
   "source": [
    "# size\n",
    "# size attribute is used to check how many items or elements in the given object\n",
    "\n",
    "print(a3.size)\n",
    "\n",
    "print(a2.size)\n",
    "\n",
    "\n"
   ]
  },
  {
   "cell_type": "code",
   "execution_count": 17,
   "metadata": {},
   "outputs": [
    {
     "name": "stdout",
     "output_type": "stream",
     "text": [
      "4\n",
      "8\n",
      "4\n"
     ]
    }
   ],
   "source": [
    "# itemsize \n",
    "\n",
    "# using itemsize we can get how many memory a object stored in the memory\n",
    "\n",
    "print(a1.itemsize)\n",
    "print(a2.itemsize)\n",
    "print(a3.itemsize)"
   ]
  },
  {
   "cell_type": "code",
   "execution_count": 18,
   "metadata": {},
   "outputs": [
    {
     "name": "stdout",
     "output_type": "stream",
     "text": [
      "int32\n",
      "float64\n",
      "int32\n"
     ]
    }
   ],
   "source": [
    "print(a1.dtype)\n",
    "print(a2.dtype)\n",
    "print(a3.dtype)\n",
    "\n"
   ]
  },
  {
   "attachments": {},
   "cell_type": "markdown",
   "metadata": {},
   "source": [
    "### `changing Datatype`"
   ]
  },
  {
   "cell_type": "code",
   "execution_count": 23,
   "metadata": {},
   "outputs": [
    {
     "name": "stdout",
     "output_type": "stream",
     "text": [
      "int32\n",
      "int64\n"
     ]
    }
   ],
   "source": [
    "# astype\n",
    "\n",
    "# using astype we can change the data type of the premade numpy array\n",
    "\n",
    "print(a3.dtype)\n",
    "\n",
    "a4 = a3.astype(np.int64)\n",
    "\n",
    "print(a4.dtype)\n"
   ]
  },
  {
   "attachments": {},
   "cell_type": "markdown",
   "metadata": {},
   "source": [
    "### **`Array Operations`** "
   ]
  },
  {
   "cell_type": "code",
   "execution_count": 26,
   "metadata": {},
   "outputs": [
    {
     "name": "stdout",
     "output_type": "stream",
     "text": [
      "[[ 0  1  2  3]\n",
      " [ 4  5  6  7]\n",
      " [ 8  9 10 11]]\n"
     ]
    },
    {
     "data": {
      "text/plain": [
       "array([[12, 13, 14, 15],\n",
       "       [16, 17, 18, 19],\n",
       "       [20, 21, 22, 23]])"
      ]
     },
     "execution_count": 26,
     "metadata": {},
     "output_type": "execute_result"
    }
   ],
   "source": [
    "a1 = np.arange(12).reshape(3,4)\n",
    "a2 = np.arange(12,24).reshape(3,4)\n",
    "\n",
    "print(a1)\n",
    "a2"
   ]
  },
  {
   "cell_type": "code",
   "execution_count": 28,
   "metadata": {},
   "outputs": [
    {
     "name": "stdout",
     "output_type": "stream",
     "text": [
      "[[ 2  3  4  5]\n",
      " [ 6  7  8  9]\n",
      " [10 11 12 13]]\n",
      "[[-2 -1  0  1]\n",
      " [ 2  3  4  5]\n",
      " [ 6  7  8  9]]\n",
      "[[ 0  2  4  6]\n",
      " [ 8 10 12 14]\n",
      " [16 18 20 22]]\n",
      "[[0.  0.5 1.  1.5]\n",
      " [2.  2.5 3.  3.5]\n",
      " [4.  4.5 5.  5.5]]\n"
     ]
    }
   ],
   "source": [
    "# scalar operations \n",
    "\n",
    "# scalar operations means we perform operation on the single array\n",
    "\n",
    "# arithmatic\n",
    "\n",
    "print(a1 + 2 )\n",
    "\n",
    "print(a1 - 2 )\n",
    "\n",
    "print(a1 * 2 )\n",
    "\n",
    "print(a1 / 2 )"
   ]
  },
  {
   "cell_type": "code",
   "execution_count": 32,
   "metadata": {},
   "outputs": [
    {
     "name": "stdout",
     "output_type": "stream",
     "text": [
      "[[ True  True  True  True]\n",
      " [ True  True  True  True]\n",
      " [ True  True  True  True]]\n",
      "-------------------------------\n",
      "[[False False False False]\n",
      " [False False False False]\n",
      " [False False False False]]\n",
      "-------------------------------\n",
      "[[False False False  True]\n",
      " [False False False False]\n",
      " [False False False False]]\n",
      "-------------------------------\n"
     ]
    }
   ],
   "source": [
    "# relational operation\n",
    "\n",
    "print(a2 > 5)\n",
    "\n",
    "print(\"-------------------------------\")\n",
    "# it compare every element of the array\n",
    "\n",
    "print(a2 > 25)\n",
    "\n",
    "print(\"-------------------------------\")\n",
    "\n",
    "print(a2 == 15)\n",
    "\n",
    "print(\"-------------------------------\")"
   ]
  },
  {
   "cell_type": "code",
   "execution_count": 35,
   "metadata": {},
   "outputs": [
    {
     "name": "stdout",
     "output_type": "stream",
     "text": [
      "[[12 14 16 18]\n",
      " [20 22 24 26]\n",
      " [28 30 32 34]]\n",
      "-------------------------------\n",
      "[[-12 -12 -12 -12]\n",
      " [-12 -12 -12 -12]\n",
      " [-12 -12 -12 -12]]\n",
      "-------------------------------\n",
      "[[  0  13  28  45]\n",
      " [ 64  85 108 133]\n",
      " [160 189 220 253]]\n",
      "-------------------------------\n",
      "[[0.         0.07692308 0.14285714 0.2       ]\n",
      " [0.25       0.29411765 0.33333333 0.36842105]\n",
      " [0.4        0.42857143 0.45454545 0.47826087]]\n",
      "-------------------------------\n",
      "[[          0           1       16384    14348907]\n",
      " [          0 -1564725563  1159987200   442181591]\n",
      " [          0  1914644777 -1304428544  -122979837]]\n"
     ]
    }
   ],
   "source": [
    "#vector operation\n",
    "\n",
    "# vector operation means we do operation on the 2 arrays\n",
    "\n",
    "# arithmatic\n",
    "\n",
    "print(a1 + a2)\n",
    "\n",
    "print(\"-------------------------------\")\n",
    "\n",
    "print(a1 - a2)\n",
    "\n",
    "print(\"-------------------------------\")\n",
    "\n",
    "print(a1 * a2)\n",
    "\n",
    "print(\"-------------------------------\")\n",
    "\n",
    "print(a1 / a2)\n",
    "\n",
    "print(\"-------------------------------\")\n",
    "\n",
    "print(a1 ** a2)"
   ]
  },
  {
   "attachments": {},
   "cell_type": "markdown",
   "metadata": {},
   "source": [
    "##### `if the shapes of the array are same only then the arithmatic operations will work`"
   ]
  },
  {
   "attachments": {},
   "cell_type": "markdown",
   "metadata": {},
   "source": [
    "### **`Array Functions`**"
   ]
  },
  {
   "attachments": {},
   "cell_type": "markdown",
   "metadata": {},
   "source": [
    "there are lot of functions in the numpy \n",
    "\n",
    "we dont need to code anything while we using numpy\n",
    "\n",
    "because there are lots of prebuilt functions in the numpy library"
   ]
  },
  {
   "cell_type": "code",
   "execution_count": 49,
   "metadata": {},
   "outputs": [
    {
     "name": "stdout",
     "output_type": "stream",
     "text": [
      "[[16. 89. 79.]\n",
      " [40. 36. 46.]\n",
      " [ 1. 77. 16.]]\n"
     ]
    }
   ],
   "source": [
    "a1 = np.random.random((3,3))\n",
    "a1 = np.round(a1*100)\n",
    "\n",
    "\n",
    "print(a1)\n",
    "\n"
   ]
  },
  {
   "cell_type": "code",
   "execution_count": 54,
   "metadata": {},
   "outputs": [
    {
     "name": "stdout",
     "output_type": "stream",
     "text": [
      "89.0\n",
      "1.0\n",
      "400.0\n",
      "9180537569280.0\n"
     ]
    }
   ],
   "source": [
    "# max\n",
    "# max function is used to find the maximum element from the given array\n",
    "\n",
    "print(np.max(a1))\n",
    "\n",
    "# min  \n",
    "\n",
    "print(np.min(a1))\n",
    "\n",
    "# sum \n",
    "# sum function gives the sum of all the array elements\n",
    "\n",
    "print(np.sum(a1))\n",
    "\n",
    "\n",
    "# prod\n",
    "\n",
    "# product function gives the multiplication of all the given elements\n",
    "\n",
    "print(np.prod(a1))"
   ]
  },
  {
   "cell_type": "code",
   "execution_count": 57,
   "metadata": {},
   "outputs": [
    {
     "name": "stdout",
     "output_type": "stream",
     "text": [
      "[ 1. 36. 16.]\n",
      "[16. 36.  1.]\n"
     ]
    }
   ],
   "source": [
    "# how to find min from the each row of the array\n",
    "\n",
    "# columnwise\n",
    "print(np.min(a1 , axis = 0))\n",
    "\n",
    "# here\n",
    "# 0 -- > column\n",
    "# 1 --> row\n",
    "\n",
    "# row wise\n",
    "print(np.min(a1 , axis = 1))\n",
    "\n",
    "# also we can perform other all operations like these"
   ]
  },
  {
   "cell_type": "code",
   "execution_count": 60,
   "metadata": {},
   "outputs": [
    {
     "name": "stdout",
     "output_type": "stream",
     "text": [
      "44.44444444444444\n",
      "[19.         67.33333333 47.        ]\n",
      "[61.33333333 40.66666667 31.33333333]\n"
     ]
    }
   ],
   "source": [
    "# mean\n",
    "# it calculate the mean from the given matrix or array\n",
    "print(np.mean(a1))\n",
    "\n",
    "\n",
    "# column wise \n",
    "\n",
    "print(np.mean(a1 , axis = 0))\n",
    "\n",
    "\n",
    "# rowwise\n",
    "\n",
    "print(np.mean(a1 , axis = 1))"
   ]
  },
  {
   "cell_type": "code",
   "execution_count": 61,
   "metadata": {},
   "outputs": [
    {
     "name": "stdout",
     "output_type": "stream",
     "text": [
      "40.0\n"
     ]
    }
   ],
   "source": [
    "# median\n",
    "\n",
    "# finds the mid element or median of the array or matrix\n",
    "\n",
    "print(np.median(a1))"
   ]
  },
  {
   "cell_type": "code",
   "execution_count": 62,
   "metadata": {},
   "outputs": [
    {
     "name": "stdout",
     "output_type": "stream",
     "text": [
      "29.511244979616052\n"
     ]
    }
   ],
   "source": [
    "# std --> standar deviation\n",
    "\n",
    "# it gives the standard deviation of the array \n",
    "\n",
    "print(np.std(a1))"
   ]
  },
  {
   "cell_type": "code",
   "execution_count": 63,
   "metadata": {},
   "outputs": [
    {
     "name": "stdout",
     "output_type": "stream",
     "text": [
      "870.9135802469136\n"
     ]
    }
   ],
   "source": [
    "# var  -->  variance\n",
    "\n",
    "print(np.var(a1))"
   ]
  },
  {
   "cell_type": "code",
   "execution_count": 65,
   "metadata": {},
   "outputs": [
    {
     "name": "stdout",
     "output_type": "stream",
     "text": [
      "[[-0.28790332  0.86006941 -0.44411267]\n",
      " [ 0.74511316 -0.99177885  0.90178835]\n",
      " [ 0.84147098  0.99952016 -0.28790332]]\n",
      "[[-0.95765948  0.51017704 -0.89597095]\n",
      " [-0.66693806 -0.12796369 -0.43217794]\n",
      " [ 0.54030231 -0.03097503 -0.95765948]]\n",
      "[[  0.30063224   1.68582537   0.49567753]\n",
      " [ -1.11721493   7.75047091  -2.08661353]\n",
      " [  1.55740772 -32.26857578   0.30063224]]\n"
     ]
    }
   ],
   "source": [
    "# trigonometric operations\n",
    "\n",
    "print(np.sin(a1))\n",
    "print(np.cos(a1))\n",
    "print(np.tan(a1))"
   ]
  },
  {
   "cell_type": "code",
   "execution_count": 67,
   "metadata": {},
   "outputs": [
    {
     "data": {
      "text/plain": [
       "array([[114, 120, 126],\n",
       "       [378, 400, 422],\n",
       "       [642, 680, 718]])"
      ]
     },
     "execution_count": 67,
     "metadata": {},
     "output_type": "execute_result"
    }
   ],
   "source": [
    "# dot product\n",
    "\n",
    "# dot product function is used to find the dot product between the 2 matrix\n",
    "\n",
    "a2 = np.arange(12).reshape(3,4)\n",
    "a3 = np.arange(12,24).reshape(4,3)\n",
    "\n",
    "\n",
    "# for dot product the row of the 1st matrrix is equal to column of the 2nd matrix .\n",
    "# and column of the 1st matrix is equal to the row of the 2nd column\n",
    "\n",
    "np.dot(a2,a3)"
   ]
  },
  {
   "cell_type": "code",
   "execution_count": 69,
   "metadata": {},
   "outputs": [
    {
     "name": "stdout",
     "output_type": "stream",
     "text": [
      "[[2.77258872 4.48863637 4.36944785]\n",
      " [3.68887945 3.58351894 3.8286414 ]\n",
      " [0.         4.34380542 2.77258872]]\n",
      "[[8.88611052e+06 4.48961282e+38 2.03828107e+34]\n",
      " [2.35385267e+17 4.31123155e+15 9.49611942e+19]\n",
      " [2.71828183e+00 2.75851345e+33 8.88611052e+06]]\n"
     ]
    }
   ],
   "source": [
    "# log and exponents\n",
    "\n",
    "# using log funtion we can calculate the log of the every element \n",
    "\n",
    "print(np.log(a1))\n",
    "\n",
    "#  exp  --> exponent\n",
    "\n",
    "# using exp funtion we can calculate the exponent of the every element \n",
    "\n",
    "print(np.exp(a1))"
   ]
  },
  {
   "cell_type": "code",
   "execution_count": 77,
   "metadata": {},
   "outputs": [
    {
     "name": "stdout",
     "output_type": "stream",
     "text": [
      "[[35. 30. 39.]\n",
      " [88.  1. 66.]]\n",
      "[[ 4. 72.  0.]\n",
      " [86. 77. 99.]]\n",
      "[[58. 61. 99.]\n",
      " [13. 46.  4.]]\n"
     ]
    }
   ],
   "source": [
    "# round / floor / ceil\n",
    "\n",
    "\n",
    "# round function is used to round up the nearest values\n",
    "\n",
    "print(np.round(np.random.random((2 , 3)) * 100))\n",
    "\n",
    "# floor --> floor used the last values to round up\n",
    "\n",
    "print(np.floor(np.random.random((2 , 3)) * 100))\n",
    "\n",
    "\n",
    "# ceil --> ceil function push or through to next item\n",
    "\n",
    "# if 6.1 --> output --> 7\n",
    "\n",
    "print(np.ceil(np.random.random((2 , 3)) * 100))"
   ]
  },
  {
   "attachments": {},
   "cell_type": "markdown",
   "metadata": {},
   "source": [
    "### **`indexing and Slicing`**"
   ]
  },
  {
   "cell_type": "code",
   "execution_count": 79,
   "metadata": {},
   "outputs": [
    {
     "data": {
      "text/plain": [
       "array([[[0, 1],\n",
       "        [2, 3]],\n",
       "\n",
       "       [[4, 5],\n",
       "        [6, 7]]])"
      ]
     },
     "execution_count": 79,
     "metadata": {},
     "output_type": "execute_result"
    }
   ],
   "source": [
    "a1 = np.arange(10)\n",
    "a2 = np.arange(12).reshape(3,4)\n",
    "a3 = np.arange(8).reshape(2,2,2)\n",
    "\n",
    "a3"
   ]
  },
  {
   "cell_type": "code",
   "execution_count": 82,
   "metadata": {},
   "outputs": [
    {
     "name": "stdout",
     "output_type": "stream",
     "text": [
      "[0 1 2 3 4 5 6 7 8 9]\n",
      "9\n",
      "1\n"
     ]
    }
   ],
   "source": [
    "print(a1)\n",
    "\n",
    "print(a1[-1])\n",
    "\n",
    "print(a1[1])"
   ]
  },
  {
   "cell_type": "code",
   "execution_count": 89,
   "metadata": {},
   "outputs": [
    {
     "name": "stdout",
     "output_type": "stream",
     "text": [
      "[[ 0  1  2  3]\n",
      " [ 4  5  6  7]\n",
      " [ 8  9 10 11]]\n",
      "6\n",
      "11\n",
      "11\n",
      "5\n",
      "5\n",
      "5\n"
     ]
    }
   ],
   "source": [
    "print(a2)\n",
    "\n",
    "print(a2[1 , 2]) # --> to find 6 \n",
    "\n",
    "# print(a2[1 , 2]) \n",
    "# here the 1 is row and 2 is the column in which the 6 is ther in array\n",
    "\n",
    "# --> 11\n",
    "\n",
    "print(a2[2 , 3])\n",
    "print(a2[-1 , -1])\n",
    "\n",
    "# --> 5\n",
    "\n",
    "print(a2[1 , 1])\n",
    "print(a2[-2 , 1])\n",
    "print(a2[-2 , -3])\n",
    "\n",
    "# first told which is row and then tell which column inside the bracket\n",
    "\n"
   ]
  },
  {
   "cell_type": "code",
   "execution_count": 93,
   "metadata": {},
   "outputs": [
    {
     "name": "stdout",
     "output_type": "stream",
     "text": [
      "[[[0 1]\n",
      "  [2 3]]\n",
      "\n",
      " [[4 5]\n",
      "  [6 7]]]\n",
      "5\n",
      "3\n",
      "0\n"
     ]
    }
   ],
   "source": [
    "# 3d\n",
    "\n",
    "print(a3)\n",
    "\n",
    "# --> 5\n",
    "\n",
    "print(a3[1 , 0 , 1])\n",
    "\n",
    "# here the 1st 1 is for --> in which 2d array the 5 is there\n",
    "# again in in which row the 5 is there\n",
    "# and after that in which column the five is there\n",
    "\n",
    "# --> 3\n",
    "\n",
    "print(a3[0 , 1 , 1])\n",
    "\n",
    "# --> 0\n",
    "\n",
    "print(a3[0 , 0 , 0])\n",
    "\n",
    "\n"
   ]
  },
  {
   "cell_type": "code",
   "execution_count": 95,
   "metadata": {},
   "outputs": [
    {
     "name": "stdout",
     "output_type": "stream",
     "text": [
      "[0 1 2 3 4 5 6 7 8 9]\n",
      "[2 3 4]\n"
     ]
    }
   ],
   "source": [
    "print(a1)\n",
    "\n",
    "# slicing\n",
    "# --> 234\n",
    "\n",
    "print(a1[2 : 5])\n",
    "\n"
   ]
  },
  {
   "cell_type": "code",
   "execution_count": 125,
   "metadata": {},
   "outputs": [
    {
     "name": "stdout",
     "output_type": "stream",
     "text": [
      "[[ 0  1  2  3]\n",
      " [ 4  5  6  7]\n",
      " [ 8  9 10 11]]\n",
      "[0 1 2 3]\n",
      "[ 2  6 10]\n",
      "[[ 5  6]\n",
      " [ 9 10]]\n",
      "[[ 0  3]\n",
      " [ 8 11]]\n",
      "[[ 1  3]\n",
      " [ 9 11]]\n",
      "[4 7]\n",
      "[[1 2 3]\n",
      " [5 6 7]]\n"
     ]
    }
   ],
   "source": [
    "print(a2)\n",
    "\n",
    "print(a2[0 , :])\n",
    "\n",
    "# 3rd column\n",
    "\n",
    "print(a2[: , 2])\n",
    "\n",
    "# find 5 , 6 , 9 , 10\n",
    "\n",
    "print(a2[1 : , 1 : 3])\n",
    "\n",
    "# find 0 , 3 , 8 , 11\n",
    "\n",
    "print(a2[::2 , ::3 ])\n",
    "\n",
    "# find 1 , 3  , 9 , 11\n",
    "\n",
    "print(a2[::2 , 1::2])\n",
    "\n",
    "# find we want which row and which column\n",
    "\n",
    "\n",
    "# find 4 7 \n",
    "\n",
    "print(a2[1, 0::3])\n",
    "\n",
    "# find 1 , 2 , 3 , 5 , 6 , 7\n",
    "\n",
    "print(a2[0:2 , 1:])"
   ]
  },
  {
   "cell_type": "code",
   "execution_count": 131,
   "metadata": {},
   "outputs": [
    {
     "name": "stdout",
     "output_type": "stream",
     "text": [
      "[[[ 0  1  2]\n",
      "  [ 3  4  5]\n",
      "  [ 6  7  8]]\n",
      "\n",
      " [[ 9 10 11]\n",
      "  [12 13 14]\n",
      "  [15 16 17]]\n",
      "\n",
      " [[18 19 20]\n",
      "  [21 22 23]\n",
      "  [24 25 26]]]\n",
      "[[ 9 10 11]\n",
      " [12 13 14]\n",
      " [15 16 17]]\n"
     ]
    }
   ],
   "source": [
    "# 3d\n",
    "\n",
    "a3 = np.arange(27).reshape(3 , 3 , 3)\n",
    "print(a3)\n",
    "\n",
    "# find\n",
    "#   [[ 9 10 11]\n",
    "#    [12 13 14]\n",
    "#    [15 16 17]]\n",
    "\n",
    "print(a3[1])\n",
    "\n",
    "\n",
    "\n",
    "\n",
    "\n"
   ]
  },
  {
   "cell_type": "code",
   "execution_count": 132,
   "metadata": {},
   "outputs": [
    {
     "name": "stdout",
     "output_type": "stream",
     "text": [
      "[[[ 0  1  2]\n",
      "  [ 3  4  5]\n",
      "  [ 6  7  8]]\n",
      "\n",
      " [[18 19 20]\n",
      "  [21 22 23]\n",
      "  [24 25 26]]]\n"
     ]
    }
   ],
   "source": [
    "# find 1st and last array only\n",
    "\n",
    "print(a3[0 : : 2])"
   ]
  },
  {
   "cell_type": "code",
   "execution_count": 134,
   "metadata": {},
   "outputs": [
    {
     "name": "stdout",
     "output_type": "stream",
     "text": [
      "[3 4 5]\n",
      "[3 4 5]\n"
     ]
    }
   ],
   "source": [
    "# print the 1st arrays 2nd row\n",
    "\n",
    "print(a3[0 , 1])\n",
    "print(a3[0 , 1 , :])"
   ]
  },
  {
   "cell_type": "code",
   "execution_count": 135,
   "metadata": {},
   "outputs": [
    {
     "name": "stdout",
     "output_type": "stream",
     "text": [
      "[10 13 16]\n"
     ]
    }
   ],
   "source": [
    "# print 2nd arrays middle column\n",
    "\n",
    "print(a3[1 , : , 1])"
   ]
  },
  {
   "cell_type": "code",
   "execution_count": 136,
   "metadata": {},
   "outputs": [
    {
     "name": "stdout",
     "output_type": "stream",
     "text": [
      "[[22 23]\n",
      " [25 26]]\n"
     ]
    }
   ],
   "source": [
    "# find\n",
    "# 22 23\n",
    "# 25 26\n",
    "\n",
    "print(a3[2 , 1: , 1:])"
   ]
  },
  {
   "cell_type": "code",
   "execution_count": 139,
   "metadata": {},
   "outputs": [
    {
     "name": "stdout",
     "output_type": "stream",
     "text": [
      "[[[ 0  2]]\n",
      "\n",
      " [[18 20]]]\n",
      "[[ 0  2]\n",
      " [18 20]]\n"
     ]
    }
   ],
   "source": [
    "# find \n",
    "# 0 2\n",
    "# 18 20\n",
    "\n",
    "print(a3[0::2 , 0:1 , 0::2])\n",
    "\n",
    "print(a3[::2 , 0 , ::2])"
   ]
  },
  {
   "attachments": {},
   "cell_type": "markdown",
   "metadata": {},
   "source": [
    "### **`Iterating`** \n",
    "\n",
    "        if we want we can run loop on our numpy array"
   ]
  },
  {
   "cell_type": "code",
   "execution_count": 143,
   "metadata": {},
   "outputs": [
    {
     "name": "stdout",
     "output_type": "stream",
     "text": [
      "[0 1 2 3 4 5 6 7 8 9]\n",
      "0\n",
      "1\n",
      "2\n",
      "3\n",
      "4\n",
      "5\n",
      "6\n",
      "7\n",
      "8\n",
      "9\n"
     ]
    }
   ],
   "source": [
    "print(a1)\n",
    "\n",
    "for i in a1:\n",
    "    print(i)"
   ]
  },
  {
   "cell_type": "code",
   "execution_count": 145,
   "metadata": {},
   "outputs": [
    {
     "name": "stdout",
     "output_type": "stream",
     "text": [
      "[[ 0  1  2  3]\n",
      " [ 4  5  6  7]\n",
      " [ 8  9 10 11]]\n",
      "[0 1 2 3]\n",
      "[4 5 6 7]\n",
      "[ 8  9 10 11]\n"
     ]
    }
   ],
   "source": [
    "print(a2)\n",
    "\n",
    "for i in a2 :\n",
    "    print(i)\n",
    "\n",
    "# when we apply loop on 2d array then it will print one row at time"
   ]
  },
  {
   "cell_type": "code",
   "execution_count": 148,
   "metadata": {},
   "outputs": [
    {
     "name": "stdout",
     "output_type": "stream",
     "text": [
      "[[0 1 2]\n",
      " [3 4 5]\n",
      " [6 7 8]]\n",
      "[[ 9 10 11]\n",
      " [12 13 14]\n",
      " [15 16 17]]\n",
      "[[18 19 20]\n",
      " [21 22 23]\n",
      " [24 25 26]]\n"
     ]
    }
   ],
   "source": [
    "#print(a3)\n",
    "\n",
    "for i in a3 :\n",
    "    print(i)\n",
    "\n",
    "# when we run loop on 3d array then it will print one 2d array at time"
   ]
  },
  {
   "cell_type": "code",
   "execution_count": 150,
   "metadata": {},
   "outputs": [
    {
     "name": "stdout",
     "output_type": "stream",
     "text": [
      "0 1 2 3 4 5 6 7 8 9 10 11 12 13 14 15 16 17 18 19 20 21 22 23 24 25 26 "
     ]
    }
   ],
   "source": [
    "for i in np.nditer(a3):\n",
    "    print(i , end=\" \")\n",
    "\n",
    "# if we want to iterate through all elements of the 3 d and 2 d array then ther is a function called np.iter() using this function we can iterate evry element of the array.\n",
    "\n"
   ]
  },
  {
   "attachments": {},
   "cell_type": "markdown",
   "metadata": {},
   "source": [
    "### **`reshaping`**"
   ]
  },
  {
   "cell_type": "code",
   "execution_count": null,
   "metadata": {},
   "outputs": [],
   "source": [
    "# reshape"
   ]
  },
  {
   "cell_type": "code",
   "execution_count": 154,
   "metadata": {},
   "outputs": [
    {
     "name": "stdout",
     "output_type": "stream",
     "text": [
      "[[ 0  1  2  3]\n",
      " [ 4  5  6  7]\n",
      " [ 8  9 10 11]]\n",
      "[[ 0  4  8]\n",
      " [ 1  5  9]\n",
      " [ 2  6 10]\n",
      " [ 3  7 11]]\n"
     ]
    },
    {
     "data": {
      "text/plain": [
       "array([[ 0,  4,  8],\n",
       "       [ 1,  5,  9],\n",
       "       [ 2,  6, 10],\n",
       "       [ 3,  7, 11]])"
      ]
     },
     "execution_count": 154,
     "metadata": {},
     "output_type": "execute_result"
    }
   ],
   "source": [
    "# Transpose\n",
    "# e.g --> convert 4*3 matrix to 3*4 matrix --> transpose\n",
    "\n",
    "print(a2)\n",
    "\n",
    "print(np.transpose(a2))\n",
    "\n",
    "a2.T  # this is shortcut to use the transpose matrix"
   ]
  },
  {
   "cell_type": "code",
   "execution_count": 156,
   "metadata": {},
   "outputs": [
    {
     "name": "stdout",
     "output_type": "stream",
     "text": [
      "[[ 0  1  2  3]\n",
      " [ 4  5  6  7]\n",
      " [ 8  9 10 11]]\n",
      "[ 0  1  2  3  4  5  6  7  8  9 10 11]\n",
      "[[[ 0  1  2]\n",
      "  [ 3  4  5]\n",
      "  [ 6  7  8]]\n",
      "\n",
      " [[ 9 10 11]\n",
      "  [12 13 14]\n",
      "  [15 16 17]]\n",
      "\n",
      " [[18 19 20]\n",
      "  [21 22 23]\n",
      "  [24 25 26]]]\n",
      "[ 0  1  2  3  4  5  6  7  8  9 10 11 12 13 14 15 16 17 18 19 20 21 22 23\n",
      " 24 25 26]\n"
     ]
    }
   ],
   "source": [
    "# ravel \n",
    "# convert n dimensional array to 1 d array\n",
    "\n",
    "print(a2)\n",
    "print(a2.ravel())\n",
    "\n",
    "\n",
    "print(a3)\n",
    "print(a3.ravel())"
   ]
  },
  {
   "attachments": {},
   "cell_type": "markdown",
   "metadata": {},
   "source": [
    "### **`Stacking`**\n",
    "\n",
    "\n",
    "        in both stacking and splitting we make changes in our existing array\n",
    "\n",
    "        in stacking if we want we can join or stackup 2 arrays\n",
    "\n",
    "        and there are two ways to join : \n",
    "\n",
    "                1. horizontal stacking : \n",
    "\n",
    "                [2 * 2] [2 * 2]  --> stack \n",
    "\n",
    "                --> output --> [2 * 4]\n",
    "\n",
    "                2. vertical stacking\n",
    "\n",
    "                [2 * 2] [2 * 2]  --> stack \n",
    "\n",
    "                --> output --> [4 * 2]\n",
    "\n",
    "\n",
    "        we can do stacking on multiple arrrays"
   ]
  },
  {
   "cell_type": "code",
   "execution_count": 160,
   "metadata": {},
   "outputs": [
    {
     "name": "stdout",
     "output_type": "stream",
     "text": [
      "[[ 0  1  2  3]\n",
      " [ 4  5  6  7]\n",
      " [ 8  9 10 11]]\n",
      "\n",
      "[[12 13 14 15]\n",
      " [16 17 18 19]\n",
      " [20 21 22 23]]\n"
     ]
    }
   ],
   "source": [
    "# horizontal stacking\n",
    "\n",
    "a4 = np.arange(12).reshape(3 , 4)\n",
    "\n",
    "a5 = np.arange(12 , 24).reshape(3 , 4)\n",
    "\n",
    "print(a4 , a5 , sep = \"\\n\\n\")"
   ]
  },
  {
   "cell_type": "code",
   "execution_count": 161,
   "metadata": {},
   "outputs": [
    {
     "data": {
      "text/plain": [
       "array([[ 0,  1,  2,  3, 12, 13, 14, 15],\n",
       "       [ 4,  5,  6,  7, 16, 17, 18, 19],\n",
       "       [ 8,  9, 10, 11, 20, 21, 22, 23]])"
      ]
     },
     "execution_count": 161,
     "metadata": {},
     "output_type": "execute_result"
    }
   ],
   "source": [
    "np.hstack((a4 , a5))"
   ]
  },
  {
   "cell_type": "code",
   "execution_count": 163,
   "metadata": {},
   "outputs": [
    {
     "data": {
      "text/plain": [
       "array([[ 0,  1,  2,  3, 12, 13, 14, 15,  0,  1,  2,  3, 12, 13, 14, 15],\n",
       "       [ 4,  5,  6,  7, 16, 17, 18, 19,  4,  5,  6,  7, 16, 17, 18, 19],\n",
       "       [ 8,  9, 10, 11, 20, 21, 22, 23,  8,  9, 10, 11, 20, 21, 22, 23]])"
      ]
     },
     "execution_count": 163,
     "metadata": {},
     "output_type": "execute_result"
    }
   ],
   "source": [
    "np.hstack((a4 , a5 , a4 , a5 ))"
   ]
  },
  {
   "cell_type": "code",
   "execution_count": 162,
   "metadata": {},
   "outputs": [
    {
     "data": {
      "text/plain": [
       "array([[ 0,  1,  2,  3],\n",
       "       [ 4,  5,  6,  7],\n",
       "       [ 8,  9, 10, 11],\n",
       "       [12, 13, 14, 15],\n",
       "       [16, 17, 18, 19],\n",
       "       [20, 21, 22, 23]])"
      ]
     },
     "execution_count": 162,
     "metadata": {},
     "output_type": "execute_result"
    }
   ],
   "source": [
    "# vertical stacking\n",
    "\n",
    "np.vstack((a4 , a5))"
   ]
  },
  {
   "cell_type": "code",
   "execution_count": 164,
   "metadata": {},
   "outputs": [
    {
     "data": {
      "text/plain": [
       "array([[ 0,  1,  2,  3],\n",
       "       [ 4,  5,  6,  7],\n",
       "       [ 8,  9, 10, 11],\n",
       "       [12, 13, 14, 15],\n",
       "       [16, 17, 18, 19],\n",
       "       [20, 21, 22, 23],\n",
       "       [ 0,  1,  2,  3],\n",
       "       [ 4,  5,  6,  7],\n",
       "       [ 8,  9, 10, 11],\n",
       "       [12, 13, 14, 15],\n",
       "       [16, 17, 18, 19],\n",
       "       [20, 21, 22, 23]])"
      ]
     },
     "execution_count": 164,
     "metadata": {},
     "output_type": "execute_result"
    }
   ],
   "source": [
    "np.vstack((a4 , a5 , a4 , a5 ))"
   ]
  },
  {
   "cell_type": "code",
   "execution_count": null,
   "metadata": {},
   "outputs": [],
   "source": [
    "# there was only one requirement of stacking the shape of the all matrix must be same "
   ]
  },
  {
   "attachments": {},
   "cell_type": "markdown",
   "metadata": {},
   "source": [
    "### **`splitting`**\n",
    "\n",
    "        in splitting we seprate the array\n",
    "\n",
    "        it works opposite of the stacking\n",
    "\n",
    "\n",
    "        [    |    ]\n",
    "        [    |    ]   --->>>> horizontal splitting --> breaks  --> horizontally\n",
    "        [    |    ]\n",
    "        [    |    ]\n",
    "\n",
    "\n",
    "\n",
    "        [               ]\n",
    "        [               ]\n",
    "          --------------    -->>> vertical splitting --> breaks -->vertically\n",
    "        [               ]\n",
    "        [               ]"
   ]
  },
  {
   "cell_type": "code",
   "execution_count": 165,
   "metadata": {},
   "outputs": [
    {
     "name": "stdout",
     "output_type": "stream",
     "text": [
      "[[ 0  1  2  3]\n",
      " [ 4  5  6  7]\n",
      " [ 8  9 10 11]]\n"
     ]
    }
   ],
   "source": [
    "# horizontal splitting\n",
    "\n",
    "print(a4)\n",
    "\n"
   ]
  },
  {
   "cell_type": "code",
   "execution_count": 166,
   "metadata": {},
   "outputs": [
    {
     "data": {
      "text/plain": [
       "[array([[0, 1],\n",
       "        [4, 5],\n",
       "        [8, 9]]),\n",
       " array([[ 2,  3],\n",
       "        [ 6,  7],\n",
       "        [10, 11]])]"
      ]
     },
     "execution_count": 166,
     "metadata": {},
     "output_type": "execute_result"
    }
   ],
   "source": [
    "np.hsplit(a4 , 2)"
   ]
  },
  {
   "cell_type": "code",
   "execution_count": 168,
   "metadata": {},
   "outputs": [
    {
     "data": {
      "text/plain": [
       "[array([[0],\n",
       "        [4],\n",
       "        [8]]),\n",
       " array([[1],\n",
       "        [5],\n",
       "        [9]]),\n",
       " array([[ 2],\n",
       "        [ 6],\n",
       "        [10]]),\n",
       " array([[ 3],\n",
       "        [ 7],\n",
       "        [11]])]"
      ]
     },
     "execution_count": 168,
     "metadata": {},
     "output_type": "execute_result"
    }
   ],
   "source": [
    "np.hsplit(a4 , 4)"
   ]
  },
  {
   "cell_type": "code",
   "execution_count": null,
   "metadata": {},
   "outputs": [],
   "source": [
    "# vertical splitting\n",
    "\n"
   ]
  },
  {
   "cell_type": "code",
   "execution_count": 170,
   "metadata": {},
   "outputs": [
    {
     "data": {
      "text/plain": [
       "[array([[0, 1, 2, 3]]), array([[4, 5, 6, 7]]), array([[ 8,  9, 10, 11]])]"
      ]
     },
     "execution_count": 170,
     "metadata": {},
     "output_type": "execute_result"
    }
   ],
   "source": [
    "np.vsplit(a4 , 3)"
   ]
  },
  {
   "cell_type": "code",
   "execution_count": 172,
   "metadata": {},
   "outputs": [
    {
     "data": {
      "text/plain": [
       "[array([[ 0,  1,  2,  3],\n",
       "        [ 4,  5,  6,  7],\n",
       "        [ 8,  9, 10, 11]]),\n",
       " array([[12, 13, 14, 15],\n",
       "        [16, 17, 18, 19],\n",
       "        [20, 21, 22, 23]])]"
      ]
     },
     "execution_count": 172,
     "metadata": {},
     "output_type": "execute_result"
    }
   ],
   "source": [
    "a6 = np.vstack((a4 , a5))\n",
    "\n",
    "np.vsplit(a6 , 2)"
   ]
  },
  {
   "cell_type": "code",
   "execution_count": 173,
   "metadata": {},
   "outputs": [
    {
     "data": {
      "text/plain": [
       "[array([[0, 1, 2, 3],\n",
       "        [4, 5, 6, 7]]),\n",
       " array([[ 8,  9, 10, 11],\n",
       "        [12, 13, 14, 15]]),\n",
       " array([[16, 17, 18, 19],\n",
       "        [20, 21, 22, 23]])]"
      ]
     },
     "execution_count": 173,
     "metadata": {},
     "output_type": "execute_result"
    }
   ],
   "source": [
    "np.vsplit(a6 , 3)"
   ]
  },
  {
   "cell_type": "code",
   "execution_count": 174,
   "metadata": {},
   "outputs": [
    {
     "data": {
      "text/plain": [
       "[array([[0, 1, 2, 3]]),\n",
       " array([[4, 5, 6, 7]]),\n",
       " array([[ 8,  9, 10, 11]]),\n",
       " array([[12, 13, 14, 15]]),\n",
       " array([[16, 17, 18, 19]]),\n",
       " array([[20, 21, 22, 23]])]"
      ]
     },
     "execution_count": 174,
     "metadata": {},
     "output_type": "execute_result"
    }
   ],
   "source": [
    "np.vsplit(a6 , 6)"
   ]
  }
 ],
 "metadata": {
  "kernelspec": {
   "display_name": "Python 3",
   "language": "python",
   "name": "python3"
  },
  "language_info": {
   "codemirror_mode": {
    "name": "ipython",
    "version": 3
   },
   "file_extension": ".py",
   "mimetype": "text/x-python",
   "name": "python",
   "nbconvert_exporter": "python",
   "pygments_lexer": "ipython3",
   "version": "3.10.7"
  },
  "orig_nbformat": 4
 },
 "nbformat": 4,
 "nbformat_minor": 2
}
