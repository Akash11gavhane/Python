{
  "nbformat": 4,
  "nbformat_minor": 0,
  "metadata": {
    "colab": {
      "provenance": []
    },
    "kernelspec": {
      "name": "python3",
      "display_name": "Python 3"
    },
    "language_info": {
      "name": "python"
    }
  },
  "cells": [
    {
      "cell_type": "markdown",
      "source": [
        "**Note: In Data Science googling is a very important skill. If you find some difficulties to solve the problem, google it and try to find some clues to solve.**"
      ],
      "metadata": {
        "id": "6WdKdPGx-tnY"
      }
    },
    {
      "cell_type": "code",
      "source": [
        "import numpy as np"
      ],
      "metadata": {
        "id": "-J4F1ysN4mLk"
      },
      "execution_count": 1,
      "outputs": []
    },
    {
      "cell_type": "markdown",
      "source": [
        "###`Q-1` Create a null vector of size 10 but the fifth value which is 1.\n",
        "\n"
      ],
      "metadata": {
        "id": "a_K8IH-C6HDK"
      }
    },
    {
      "cell_type": "code",
      "source": [
        "#Code here\n",
        "\n",
        "# creating a null vector\n",
        "\n",
        "a = np.zeros(10)\n",
        "a[4] = 1\n",
        "print(a)"
      ],
      "metadata": {
        "id": "sTF03KsZ6QUI",
        "outputId": "02ead4f7-65a1-4e99-d243-63db27482dae",
        "colab": {
          "base_uri": "https://localhost:8080/"
        }
      },
      "execution_count": 6,
      "outputs": [
        {
          "output_type": "stream",
          "name": "stdout",
          "text": [
            "[0. 0. 0. 0. 1. 0. 0. 0. 0. 0.]\n"
          ]
        }
      ]
    },
    {
      "cell_type": "markdown",
      "source": [
        "###`Q-2` Ask user to input two numbers a, b. Write a program to generate a random array of shape (a, b) and print the array and avg of the array."
      ],
      "metadata": {
        "id": "TEiG25rS6S1i"
      }
    },
    {
      "cell_type": "code",
      "source": [
        "#Code here\n",
        "import random\n",
        "\n",
        "a = int(input(\"Enter 1st num : \"))\n",
        "b = int(input(\"Enter 2nd num : \"))\n",
        "\n",
        "# now generate the random array\n",
        "\n",
        "c = (np.random.random((a , b)) * 100)\n",
        "print(c)\n",
        "d = np.floor(c)\n",
        "print(d)\n",
        "\n",
        "# calculate the average of the array\n",
        "\n",
        "avg = np.mean(c)\n",
        "print(\"Average is \" , np.floor(avg))"
      ],
      "metadata": {
        "id": "ihwn4oOH6Vh7",
        "outputId": "98f6765f-72d8-4cac-9426-13e25ba16560",
        "colab": {
          "base_uri": "https://localhost:8080/"
        }
      },
      "execution_count": 22,
      "outputs": [
        {
          "output_type": "stream",
          "name": "stdout",
          "text": [
            "Enter 1st num : 4\n",
            "Enter 2nd num : 3\n",
            "[[18.98329383 96.84979133 81.6974892 ]\n",
            " [19.14408465  9.6867393  60.63454466]\n",
            " [59.14065232 52.61821408 59.89485342]\n",
            " [23.87498667 69.62019575  5.27832708]]\n",
            "[[18. 96. 81.]\n",
            " [19.  9. 60.]\n",
            " [59. 52. 59.]\n",
            " [23. 69.  5.]]\n",
            "Average is  46.0\n"
          ]
        }
      ]
    },
    {
      "cell_type": "markdown",
      "source": [
        "###`Q-3`Write a function to create a 2d array with 1 on the border and 0 inside. Take 2-D array shape as (a,b) as parameter to function.\n",
        "\n",
        "Eg.-\n",
        "```\n",
        "[[1,1,1,1],\n",
        "[1,0,0,1],\n",
        "[1,0,0,1],\n",
        "[1,1,1,1]]\n",
        "```"
      ],
      "metadata": {
        "id": "2iEeybS06ZSq"
      }
    },
    {
      "cell_type": "code",
      "source": [
        "#Code here\n",
        "\n",
        "import numpy as np\n",
        "\n",
        "def border_array(a , b) :\n",
        "\n",
        "  array = np.zeros((a , b))\n",
        "\n",
        "  array[0 , :] = 1\n",
        "  array[-1 , :] = 1\n",
        "  array[: , 0] = 1\n",
        "  array[: , -1] = 1\n",
        "\n",
        "  return array\n",
        "\n",
        "\n",
        "a = 4\n",
        "b = 4\n",
        "\n",
        "print(border_array(a , b))"
      ],
      "metadata": {
        "id": "gEKndkDU6ZSs",
        "outputId": "909ae3a7-2871-4570-e7eb-d709dff95ebe",
        "colab": {
          "base_uri": "https://localhost:8080/"
        }
      },
      "execution_count": 25,
      "outputs": [
        {
          "output_type": "stream",
          "name": "stdout",
          "text": [
            "[[1. 1. 1. 1.]\n",
            " [1. 0. 0. 1.]\n",
            " [1. 0. 0. 1.]\n",
            " [1. 1. 1. 1.]]\n"
          ]
        }
      ]
    },
    {
      "cell_type": "code",
      "source": [
        "import numpy as np\n",
        "\n",
        "def create_border_array(a, b):\n",
        "    array = np.zeros((a, b))\n",
        "\n",
        "    # Set the border elements to 1\n",
        "    array[0, :] = 1  # Top row\n",
        "    array[-1, :] = 1  # Bottom row\n",
        "    array[:, 0] = 1  # Left column\n",
        "    array[:, -1] = 1  # Right column\n",
        "\n",
        "    return array\n",
        "\n",
        "# Example usage:\n",
        "a = 4\n",
        "b = 4\n",
        "\n",
        "result_array = create_border_array(a, b)\n",
        "print(result_array)\n"
      ],
      "metadata": {
        "id": "Ng113uX5PuXG",
        "outputId": "22a229b9-63ae-4554-aba4-d9ee1ea2bdb4",
        "colab": {
          "base_uri": "https://localhost:8080/"
        }
      },
      "execution_count": 24,
      "outputs": [
        {
          "output_type": "stream",
          "name": "stdout",
          "text": [
            "[[1. 1. 1. 1.]\n",
            " [1. 0. 0. 1.]\n",
            " [1. 0. 0. 1.]\n",
            " [1. 1. 1. 1.]]\n"
          ]
        }
      ]
    },
    {
      "cell_type": "markdown",
      "source": [
        "###`Q-4` Create a vector of size 10 with values ranging from 0 to 1, both excluded.\n"
      ],
      "metadata": {
        "id": "QRJicQ8j6ZlE"
      }
    },
    {
      "cell_type": "code",
      "source": [
        "#Code here\n",
        "\n",
        "vector_array = np.arange(0 , 1 , 10)\n",
        "print(vector_array)\n",
        "\n",
        "# using np.arange we cant make it"
      ],
      "metadata": {
        "id": "eC4XLhDq6ZlF",
        "outputId": "5b92ac2a-a324-4642-eb32-aeb9d94610f5",
        "colab": {
          "base_uri": "https://localhost:8080/"
        }
      },
      "execution_count": 27,
      "outputs": [
        {
          "output_type": "stream",
          "name": "stdout",
          "text": [
            "[0]\n"
          ]
        }
      ]
    },
    {
      "cell_type": "code",
      "source": [
        "vector_array = np.linspace(0 , 1 , 10)\n",
        "print(vector_array)"
      ],
      "metadata": {
        "id": "6E9jjRxsQr8W",
        "outputId": "51e5a545-d547-4ed8-a793-c97be6a8cf81",
        "colab": {
          "base_uri": "https://localhost:8080/"
        }
      },
      "execution_count": 29,
      "outputs": [
        {
          "output_type": "stream",
          "name": "stdout",
          "text": [
            "[0.         0.11111111 0.22222222 0.33333333 0.44444444 0.55555556\n",
            " 0.66666667 0.77777778 0.88888889 1.        ]\n"
          ]
        }
      ]
    },
    {
      "cell_type": "markdown",
      "source": [
        "###`Q-5` Can you create a identity mattrix of shape (3,4). If yes write code for it."
      ],
      "metadata": {
        "id": "vb4jK4yQ6Zs2"
      }
    },
    {
      "cell_type": "code",
      "source": [
        "#Code here\n",
        "\n",
        "a = np.identity(3)\n",
        "print(a)\n",
        "\n",
        "# we can only create 3*3 , 4*4 , 5*5\n",
        "# not create 3*4 , 4*3"
      ],
      "metadata": {
        "id": "DTV_AbMS6Zs4",
        "outputId": "a114da87-5847-4d92-d0c7-4b1aaae858f7",
        "colab": {
          "base_uri": "https://localhost:8080/"
        }
      },
      "execution_count": 31,
      "outputs": [
        {
          "output_type": "stream",
          "name": "stdout",
          "text": [
            "[[1. 0. 0.]\n",
            " [0. 1. 0.]\n",
            " [0. 0. 1.]]\n"
          ]
        }
      ]
    },
    {
      "cell_type": "markdown",
      "source": [
        "###`Q-6:` Create a 5x5 matrix with row values ranging from 0 to 4."
      ],
      "metadata": {
        "id": "QtjAFm5PEntK"
      }
    },
    {
      "cell_type": "code",
      "source": [
        "#Code here\n",
        "\n",
        "matrix = np.arange(5).reshape(5) + np.zeros((1, 5))\n",
        "\n",
        "print(matrix)"
      ],
      "metadata": {
        "id": "z2WGxRjvEuRS",
        "outputId": "f2057234-0fd9-4dfa-b765-b0cb07fec8b8",
        "colab": {
          "base_uri": "https://localhost:8080/"
        }
      },
      "execution_count": 48,
      "outputs": [
        {
          "output_type": "stream",
          "name": "stdout",
          "text": [
            "[[0. 1. 2. 3. 4.]]\n"
          ]
        }
      ]
    },
    {
      "cell_type": "code",
      "source": [
        "import numpy as np\n",
        "\n",
        "matrix = np.tile(np.arange(5), (5, 1))\n",
        "\n",
        "print(matrix)\n"
      ],
      "metadata": {
        "id": "7LCMke5WTX-b",
        "outputId": "22289ef0-8221-451c-d27a-addcb4c1180e",
        "colab": {
          "base_uri": "https://localhost:8080/"
        }
      },
      "execution_count": 41,
      "outputs": [
        {
          "output_type": "stream",
          "name": "stdout",
          "text": [
            "[[0 1 2 3 4]\n",
            " [0 1 2 3 4]\n",
            " [0 1 2 3 4]\n",
            " [0 1 2 3 4]\n",
            " [0 1 2 3 4]]\n"
          ]
        }
      ]
    },
    {
      "cell_type": "markdown",
      "source": [
        "###`Q-7:`  Consider a random integer (in range 1 to 100) vector with shape `(10,2)` representing coordinates, and coordinates of a point as array is given. Create an array of distance of each point in the random vectros from the given point. Distance array should be interger type.\n",
        "\n",
        "```\n",
        "point = np.array([2,3])\n",
        "```\n"
      ],
      "metadata": {
        "id": "KPpvxKjVHnyx"
      }
    },
    {
      "cell_type": "code",
      "source": [
        "#code here\n",
        "\n",
        "import numpy as np\n",
        "\n",
        "# Generate random integer vector of shape (10, 2)\n",
        "random_vector = np.random.randint(1, 101, size=(10, 2))\n",
        "\n",
        "# Given point coordinates\n",
        "given_point = np.array([50, 50])\n",
        "\n",
        "\n",
        "# Calculate distances\n",
        "distances = np.linalg.norm(random_vector - given_point, axis=1).astype(int)\n",
        "\n",
        "print(distances)\n"
      ],
      "metadata": {
        "id": "X7KGnWLNIM6f",
        "outputId": "71fea2e4-5675-466f-e960-3212a2354eaa",
        "colab": {
          "base_uri": "https://localhost:8080/"
        }
      },
      "execution_count": 51,
      "outputs": [
        {
          "output_type": "stream",
          "name": "stdout",
          "text": [
            "[50 50]\n",
            "[55 37 29 16 51 53 61  5 33 44]\n"
          ]
        }
      ]
    },
    {
      "cell_type": "markdown",
      "source": [
        "###`Q-8:` Consider a (6,7,8) shape array, what is the index (x,y,z) of the 100th element?"
      ],
      "metadata": {
        "id": "tajOFJlCDwTr"
      }
    },
    {
      "cell_type": "code",
      "source": [
        "#Code here\n",
        "import numpy as np\n",
        "\n",
        "array_shape = (6, 7, 8)\n",
        "total_elements = np.prod(array_shape)\n",
        "index_100 = 100\n",
        "\n",
        "if index_100 < total_elements:\n",
        "    indices = np.unravel_index(index_100, array_shape)\n",
        "    print(f\"Index of the 100th element: {indices}\")\n",
        "else:\n",
        "    print(\"The 100th element does not exist in the given array shape.\")\n"
      ],
      "metadata": {
        "id": "qH4oxvs0D3Ra",
        "outputId": "05a697d2-981d-4161-b52e-47cfd292042b",
        "colab": {
          "base_uri": "https://localhost:8080/"
        }
      },
      "execution_count": 52,
      "outputs": [
        {
          "output_type": "stream",
          "name": "stdout",
          "text": [
            "Index of the 100th element: (1, 5, 4)\n"
          ]
        }
      ]
    },
    {
      "cell_type": "markdown",
      "source": [
        "### `Q-9:` Arrays\n",
        "\n",
        "You are given a space separated list of numbers. Your task is to print a reversed NumPy array with the element type float.\n",
        "\n"
      ],
      "metadata": {
        "id": "9LxBAbT2Pw33"
      }
    },
    {
      "cell_type": "markdown",
      "source": [
        "**Input Format:**\n",
        "\n",
        "A single line of input containing space separated numbers.\n",
        "\n",
        "**Output Format:**\n",
        "\n",
        "Print the reverse NumPy array with type float.\n",
        "\n",
        "**Example 1:**\n",
        "\n",
        "Input:\n",
        "\n",
        "```bash\n",
        "1 2 3 4 -8 -10\n",
        "```\n",
        "\n",
        "Output:\n",
        "\n",
        "```bash\n",
        "[-10.  -8.   4.   3.   2.   1.]\n",
        "```"
      ],
      "metadata": {
        "id": "JJpqVms2Nq7L"
      }
    },
    {
      "cell_type": "code",
      "source": [
        "#Code here\n",
        "\n",
        "import numpy as np\n",
        "\n",
        "# Input the space-separated numbers\n",
        "numbers = input(\"Enter space-separated numbers: \")\n",
        "\n",
        "# Split the input string into a list of numbers\n",
        "number_list = numbers.split()\n",
        "\n",
        "# Convert the list of strings to a NumPy array of floats\n",
        "num_array = np.array(number_list, dtype=float)\n",
        "\n",
        "# Reverse the NumPy array\n",
        "reversed_array = np.flip(num_array)\n",
        "\n",
        "# Print the reversed NumPy array\n",
        "print(reversed_array)\n"
      ],
      "metadata": {
        "id": "7iQyg6ChNl3j"
      },
      "execution_count": null,
      "outputs": []
    },
    {
      "cell_type": "markdown",
      "source": [
        "### `Q-10:` Elements count\n",
        "\n",
        "Count the number of elements of a numpy array.\n",
        "\n"
      ],
      "metadata": {
        "id": "TPxD7jM8Sjz9"
      }
    },
    {
      "cell_type": "markdown",
      "source": [
        "**Example 1:**\n",
        "\n",
        "Input:\n",
        "```bash\n",
        "np.array([])\n",
        "```\n",
        "\n",
        "Output:\n",
        "```bash\n",
        "elements_count :  0\n",
        "```\n",
        "\n",
        "**Example 2:**\n",
        "\n",
        "Input:\n",
        "```bash\n",
        "np.array([1, 2])\n",
        "```\n",
        "\n",
        "Output:\n",
        "```bash\n",
        "elements_count :  2\n",
        "```"
      ],
      "metadata": {
        "id": "oHTiTz_jNkAU"
      }
    },
    {
      "cell_type": "code",
      "source": [
        "#Code here\n",
        "\n",
        "import numpy as np\n",
        "\n",
        "# Input the NumPy array\n",
        "array = np.array([0 , 1 , 2 , 3 , 4 , 5])\n",
        "\n",
        "# Get the number of elements in the array\n",
        "elements_count = array.size\n",
        "\n",
        "# Print the number of elements\n",
        "print(\"elements_count:\", elements_count)\n"
      ],
      "metadata": {
        "id": "RG0H2I-TNeGN",
        "outputId": "c99ad313-7eb4-4d5d-e6ff-5c24eb042aa5",
        "colab": {
          "base_uri": "https://localhost:8080/"
        }
      },
      "execution_count": 54,
      "outputs": [
        {
          "output_type": "stream",
          "name": "stdout",
          "text": [
            "elements_count: 6\n"
          ]
        }
      ]
    },
    {
      "cell_type": "markdown",
      "source": [
        "### `Q-11:` Softmax function\n",
        "\n",
        "Create a Python function to calculate the Softmax of the given numpy 1D array. The function only accepts the numpy 1D array, otherwise raise error.\n",
        "\n",
        "$$\\Large \\sigma(\\vec z)_i = \\frac{e^{z_i}}{\\sum_{j=i}^{K}{e^{z_j}}}$$\n",
        "\n",
        "https://en.wikipedia.org/wiki/Softmax_function\n",
        "\n"
      ],
      "metadata": {
        "id": "pwgPz-3l5ic5"
      }
    },
    {
      "cell_type": "markdown",
      "source": [
        "**Example 1:**\n",
        "\n",
        "Input:\n",
        "```bash\n",
        "[86.03331084 37.7285648  48.64908087 87.16563062 38.40852563 37.20006318]\n",
        "```\n",
        "\n",
        "Output:\n",
        "```bash\n",
        "[2.43733249e-01, 2.56112115e-22, 1.41628284e-17, 7.56266751e-01,\n",
        "       5.05514197e-22, 1.50974911e-22]\n",
        "```\n",
        "\n",
        "**Example 2:**\n",
        "\n",
        "Input:\n",
        "```bash\n",
        "[33.17344305 45.61961654 82.05405781 80.9647098  68.82830233 91.52064278]\n",
        "```\n",
        "\n",
        "Output:\n",
        "```bash\n",
        "[4.57181035e-26, 1.16249923e-20, 7.73872596e-05, 2.60358426e-05,\n",
        "       1.39571531e-10, 9.99896577e-01]\n",
        "```"
      ],
      "metadata": {
        "id": "eZ3WJt6UM1ul"
      }
    },
    {
      "cell_type": "code",
      "source": [
        "#Code here"
      ],
      "metadata": {
        "id": "VNzj05lkNaNi"
      },
      "execution_count": null,
      "outputs": []
    },
    {
      "cell_type": "markdown",
      "source": [
        "### `Q-12:` Vertical stack\n",
        "\n",
        "Write a python function that accepts infinite number of numpy arrays and do the vertical stack to them. Then return that new array as result. The function only accepts the numpy array, otherwise raise error.\n",
        "\n"
      ],
      "metadata": {
        "id": "k4JWSwWu_HXg"
      }
    },
    {
      "cell_type": "markdown",
      "source": [
        "**Example 1:**\n",
        "\n",
        "Input:\n",
        "```bash\n",
        "a= [[0 1 2 3 4]\n",
        " [5 6 7 8 9]]\n",
        "\n",
        "b= [[1 1 1 1 1]\n",
        " [1 1 1 1 1]]\n",
        "```\n",
        "\n",
        "Output:\n",
        "\n",
        "```bash\n",
        "[[0 1 2 3 4]\n",
        " [5 6 7 8 9]\n",
        " [1 1 1 1 1]\n",
        " [1 1 1 1 1]]\n",
        "```\n",
        "\n",
        "**Example 2:**\n",
        "\n",
        "Input:\n",
        "```bash\n",
        "a= [[0 1 2 3 4]\n",
        " [5 6 7 8 9]]\n",
        "\n",
        "b= [[1 1 1 1 1]\n",
        " [1 1 1 1 1]]\n",
        "\n",
        "c= [[0.10117373 0.1677244  0.73764059 0.83166097 0.48985695]\n",
        " [0.44581567 0.13502419 0.55692335 0.16479622 0.61193593]]\n",
        "```\n",
        "\n",
        "Output:\n",
        "```bash\n",
        "[[0.         1.         2.         3.         4.        ]\n",
        " [5.         6.         7.         8.         9.        ]\n",
        " [1.         1.         1.         1.         1.        ]\n",
        " [1.         1.         1.         1.         1.        ]\n",
        " [0.10117373 0.1677244  0.73764059 0.83166097 0.48985695]\n",
        " [0.44581567 0.13502419 0.55692335 0.16479622 0.61193593]]\n",
        "```"
      ],
      "metadata": {
        "id": "XhhV3mraNAWr"
      }
    },
    {
      "cell_type": "code",
      "source": [
        "#Coder here"
      ],
      "metadata": {
        "id": "dhtnbSj6NP8z"
      },
      "execution_count": null,
      "outputs": []
    },
    {
      "cell_type": "markdown",
      "source": [
        "### `Q-13:` Dates\n",
        "\n",
        "Create a python function named **date_array** that accepts two dates as string format and returns a numpy array of dates between those 2 dates. The function only accept 2 strings, otherwise raise error. The date format should be like this only: `2022-12-6`. The end date should be included and for simplicity, choose dates from a same year.\n",
        "\n"
      ],
      "metadata": {
        "id": "3mk8T6CuC2DP"
      }
    },
    {
      "cell_type": "markdown",
      "source": [
        "**Example 1:**\n",
        "\n",
        "Input:\n",
        "```bash\n",
        "date_array(start = '2020-09-15', end = '2020-09-25')\n",
        "```\n",
        "\n",
        "Output:\n",
        "```bash\n",
        "['2020-09-15', '2020-09-16', '2020-09-17', '2020-09-18',\n",
        " '2020-09-19', '2020-09-20', '2020-09-21', '2020-09-22',\n",
        " '2020-09-23', '2020-09-24', '2020-09-25']\n",
        "```\n",
        "\n",
        "**Example 2:**\n",
        "\n",
        "Input:\n",
        "```bash\n",
        "date_array(start = '2022-12-01', end = '2022-12-06')\n",
        "```\n",
        "\n",
        "Output:\n",
        "```bash\n",
        "['2022-12-01', '2022-12-02', '2022-12-03', '2022-12-04', '2022-12-05', '2022-12-06']\n",
        "```\n",
        "\n",
        "**Example 3:**\n",
        "\n",
        "Input:\n",
        "```bash\n",
        "date_array(start = '2020-11-25', end = '2020-11-30')\n",
        "```\n",
        "\n",
        "Output:\n",
        "```bash\n",
        "['2020-11-25', '2020-11-26', '2020-11-27', '2020-11-28',\n",
        " '2020-11-29', '2020-11-30']\n",
        "```"
      ],
      "metadata": {
        "id": "E3IgjnTTNFEk"
      }
    },
    {
      "cell_type": "code",
      "source": [
        "#Code here"
      ],
      "metadata": {
        "id": "Yj5PBfQQNTnL"
      },
      "execution_count": null,
      "outputs": []
    },
    {
      "cell_type": "markdown",
      "source": [
        "###`Q-14:` Subtract the mean of each row from a matrix."
      ],
      "metadata": {
        "id": "bcEp0wTWQijK"
      }
    },
    {
      "cell_type": "code",
      "source": [
        "#code here\n",
        "\n",
        "import numpy as np\n",
        "\n",
        "matrix = np.array([[1, 2, 3],\n",
        "                   [4, 5, 6],\n",
        "                   [7, 8, 9]])\n",
        "\n",
        "mean_row = np.mean(matrix, axis=1, keepdims=True)\n",
        "result = matrix - mean_row\n",
        "\n",
        "print(result)\n"
      ],
      "metadata": {
        "id": "rpILVGcgQzMo",
        "outputId": "87c1ce58-1f9e-46c9-c942-f76e148f684a",
        "colab": {
          "base_uri": "https://localhost:8080/"
        }
      },
      "execution_count": 65,
      "outputs": [
        {
          "output_type": "stream",
          "name": "stdout",
          "text": [
            "[[-1.  0.  1.]\n",
            " [-1.  0.  1.]\n",
            " [-1.  0.  1.]]\n"
          ]
        }
      ]
    },
    {
      "cell_type": "markdown",
      "source": [
        "###`Q-15:` Swap column-1 of array with column-2 in the array."
      ],
      "metadata": {
        "id": "A-dMVlPPSBTT"
      }
    },
    {
      "cell_type": "code",
      "source": [
        "#Code here"
      ],
      "metadata": {
        "id": "3RtngM9-Q6S7"
      },
      "execution_count": null,
      "outputs": []
    },
    {
      "cell_type": "code",
      "source": [
        "import numpy as np\n",
        "\n",
        "array = np.array([[6, 3, 1, 5, 8],\n",
        "                  [9, 4, 2, 7, 0]])\n",
        "\n",
        "array[:, [0, 1]] = array[:, [1, 0]]\n",
        "\n",
        "print(array)\n"
      ],
      "metadata": {
        "id": "ueoMV_LlSnGU",
        "outputId": "46410ede-d289-4739-dd9f-c8f55101bfba",
        "colab": {
          "base_uri": "https://localhost:8080/"
        }
      },
      "execution_count": 64,
      "outputs": [
        {
          "output_type": "stream",
          "name": "stdout",
          "text": [
            "[[3 6 1 5 8]\n",
            " [4 9 2 7 0]]\n"
          ]
        }
      ]
    },
    {
      "cell_type": "markdown",
      "source": [
        "###`Q-16:` Replace odd elements in arrays with -1."
      ],
      "metadata": {
        "id": "cB4VMexvS6Zi"
      }
    },
    {
      "cell_type": "code",
      "source": [
        "#Code here"
      ],
      "metadata": {
        "id": "Bt83nXEVS5O4"
      },
      "execution_count": null,
      "outputs": []
    },
    {
      "cell_type": "code",
      "source": [
        "import numpy as np\n",
        "\n",
        "array = np.array([6, 3, 1, 5, 8])\n",
        "\n",
        "array[array % 2 != 0] = -1\n",
        "\n",
        "print(array)\n"
      ],
      "metadata": {
        "id": "1ZlvMaXLVyoW",
        "outputId": "34413f58-c6d6-4312-f5aa-85e35d42dcbc",
        "colab": {
          "base_uri": "https://localhost:8080/"
        }
      },
      "execution_count": 63,
      "outputs": [
        {
          "output_type": "stream",
          "name": "stdout",
          "text": [
            "[ 6 -1 -1 -1  8]\n"
          ]
        }
      ]
    },
    {
      "cell_type": "markdown",
      "source": [
        "###`Q-17:` Given two arrays of same shape make an array of max out of two arrays. (Numpy way)\n",
        "```\n",
        "a=np.array([6,3,1,5,8])\n",
        "b=np.array([3,2,1,7,2])\n",
        "\n",
        "Result-> [6 3 1 7 8]\n",
        "```"
      ],
      "metadata": {
        "id": "kf_qvmBxWIT_"
      }
    },
    {
      "cell_type": "code",
      "source": [
        "#Code here\n",
        "\n",
        "import numpy as np\n",
        "\n",
        "a = np.array([6, 3, 1, 5, 8])\n",
        "b = np.array([3, 2, 1, 7, 2])\n",
        "\n",
        "result = np.maximum(a, b)\n",
        "\n",
        "print(result)\n",
        "\n"
      ],
      "metadata": {
        "id": "TB9ZvF-EZSfu",
        "outputId": "bdbe0207-2afa-49d1-aaea-b9668efb3de0",
        "colab": {
          "base_uri": "https://localhost:8080/"
        }
      },
      "execution_count": 62,
      "outputs": [
        {
          "output_type": "stream",
          "name": "stdout",
          "text": [
            "[6 3 1 7 8]\n"
          ]
        }
      ]
    },
    {
      "cell_type": "code",
      "source": [],
      "metadata": {
        "id": "D7ad-A6jZzCL"
      },
      "execution_count": null,
      "outputs": []
    },
    {
      "cell_type": "markdown",
      "source": [
        "###`Q-18` Answer below asked questions on given array:\n",
        "1. Fetch Every alternate column of the array\n",
        "2. Normalise the given array\n",
        "\n",
        "https://en.wikipedia.org/wiki/Normalization_(statistics)\n",
        "\n",
        "There are different form of normalisation for this question use below formula.\n",
        "\n",
        "$$\\large X_{normalized} = \\frac{X - X_{min}}{X_{max} - X_{min}}$$\n",
        "\n",
        "```python\n",
        "arr1=np.random.randint(low=1, high=10000, size=40).reshape(8,5)\n",
        "```\n"
      ],
      "metadata": {
        "id": "iOQLUIeGc3zA"
      }
    },
    {
      "cell_type": "code",
      "source": [
        "# Given\n",
        "arr1=np.random.randint(low=1, high=10000, size=40).reshape(8,5)\n",
        "arr1"
      ],
      "metadata": {
        "colab": {
          "base_uri": "https://localhost:8080/"
        },
        "id": "vjSm18k3d_1p",
        "outputId": "83d23b61-d2ae-41bc-e91e-0e0722667521"
      },
      "execution_count": null,
      "outputs": [
        {
          "output_type": "execute_result",
          "data": {
            "text/plain": [
              "array([[2939, 1694, 6680, 8865, 2684],\n",
              "       [4066, 4573,  327, 6525,  851],\n",
              "       [5997, 7481, 2315, 5863, 9615],\n",
              "       [7821, 1225, 9138, 1114, 4885],\n",
              "       [7715, 8046, 9105, 3935, 3182],\n",
              "       [8842, 4836, 2705, 3751, 3800],\n",
              "       [4132, 1400, 7844, 9471, 7526],\n",
              "       [2749, 2624, 6900, 1576, 7515]])"
            ]
          },
          "metadata": {},
          "execution_count": 34
        }
      ]
    },
    {
      "cell_type": "code",
      "source": [
        "#Code here\n",
        "\n",
        "arr1=np.random.randint(low=1, high=10000, size=40).reshape(8,5)\n",
        "arr1"
      ],
      "metadata": {
        "id": "d7u8DB47eBfQ",
        "outputId": "f9ea296c-57eb-4b2d-ea9c-c1755a0b1aaf",
        "colab": {
          "base_uri": "https://localhost:8080/"
        }
      },
      "execution_count": 58,
      "outputs": [
        {
          "output_type": "execute_result",
          "data": {
            "text/plain": [
              "array([[8499, 8003, 2347, 7763, 2913],\n",
              "       [9864,  451, 6198,  192, 1545],\n",
              "       [1090, 9233, 9226, 9275, 7046],\n",
              "       [7399, 2869, 3743, 6115, 3113],\n",
              "       [7597, 9077, 3000, 7922, 9661],\n",
              "       [3584, 1752, 1001, 5482, 5077],\n",
              "       [ 125, 5118, 1710, 5326, 1592],\n",
              "       [6706, 3604, 3788,  629, 7432]])"
            ]
          },
          "metadata": {},
          "execution_count": 58
        }
      ]
    },
    {
      "cell_type": "code",
      "source": [
        "# Fetch Every alternate column of the array\n",
        "\n",
        "print(arr1[ : , 0 : : 2])"
      ],
      "metadata": {
        "id": "_yxSwi8ydJnw",
        "outputId": "b07d6268-cf9c-4d64-fffc-9f02c8ff1030",
        "colab": {
          "base_uri": "https://localhost:8080/"
        }
      },
      "execution_count": 60,
      "outputs": [
        {
          "output_type": "stream",
          "name": "stdout",
          "text": [
            "[[8499 2347 2913]\n",
            " [9864 6198 1545]\n",
            " [1090 9226 7046]\n",
            " [7399 3743 3113]\n",
            " [7597 3000 9661]\n",
            " [3584 1001 5077]\n",
            " [ 125 1710 1592]\n",
            " [6706 3788 7432]]\n"
          ]
        }
      ]
    },
    {
      "cell_type": "code",
      "source": [
        "norm = np.linalg.norm(arr1)\n",
        "normalized_array = arr1 / norm\n",
        "\n",
        "print(normalized_array)"
      ],
      "metadata": {
        "id": "6YXwKVWmdhxQ",
        "outputId": "67b0d94d-039b-460b-dc74-e3d12e39d11c",
        "colab": {
          "base_uri": "https://localhost:8080/"
        }
      },
      "execution_count": 61,
      "outputs": [
        {
          "output_type": "stream",
          "name": "stdout",
          "text": [
            "[[0.23164878 0.2181298  0.06396984 0.21158836 0.07939674]\n",
            " [0.26885322 0.01229246 0.16893271 0.00523315 0.04211053]\n",
            " [0.02970904 0.25165468 0.25146389 0.25279944 0.1920458 ]\n",
            " [0.20166717 0.07819748 0.10201922 0.16667046 0.08484794]\n",
            " [0.20706386 0.24740275 0.08176801 0.21592206 0.26332025]\n",
            " [0.09768552 0.04775252 0.02728326 0.14941741 0.13837873]\n",
            " [0.003407   0.13949623 0.04660777 0.14516548 0.04339156]\n",
            " [0.18277876 0.09823064 0.10324574 0.01714403 0.20256662]]\n"
          ]
        }
      ]
    },
    {
      "cell_type": "markdown",
      "source": [
        "###`Q-19:` Write a function which will accept 2 arguments.\n",
        "First: A 1D numpy array arr\n",
        "\n",
        "Second: An integer n {Please make sure n<=len(arr)}\n",
        "\n",
        "Output: The output should be the nth largest item out of the array\n",
        "```\n",
        "# Example1 : arr=(12,34,40,7,1,0) and n=3, the output should be 12\n",
        "# Example2 : arr=(12,34,40,7,1,0) and n=1, the output should be 40\n",
        "```"
      ],
      "metadata": {
        "id": "jCzsVEKLgGNo"
      }
    },
    {
      "cell_type": "code",
      "source": [
        "#Code here\n",
        "\n",
        "import numpy as np\n",
        "\n",
        "def find_nth_largest(arr, n):\n",
        "    sorted_arr = np.sort(arr)\n",
        "    nth_largest = sorted_arr[-n]\n",
        "    return nth_largest\n"
      ],
      "metadata": {
        "id": "J4AzkDk7gXSG"
      },
      "execution_count": 56,
      "outputs": []
    },
    {
      "cell_type": "code",
      "source": [
        "arr = np.array([12, 34, 40, 7, 1, 0])\n",
        "n = 3\n",
        "result = find_nth_largest(arr, n)\n",
        "print(result)  # Output: 12\n",
        "\n",
        "n = 1\n",
        "result = find_nth_largest(arr, n)\n",
        "print(result)  # Output: 40\n"
      ],
      "metadata": {
        "id": "ZoXcjk9UcO9o",
        "outputId": "a494696b-1683-491d-ae9f-c5eab2b17360",
        "colab": {
          "base_uri": "https://localhost:8080/"
        }
      },
      "execution_count": 57,
      "outputs": [
        {
          "output_type": "stream",
          "name": "stdout",
          "text": [
            "12\n",
            "40\n"
          ]
        }
      ]
    },
    {
      "cell_type": "markdown",
      "source": [
        "###`Q-20:` Create the following pattern without hardcoding. Use only numpy functions and the below input array a.\n",
        "```\n",
        "# Input: a = np.array([1,2,3])\n",
        "# Output: array([1, 1, 1, 2, 2, 2, 3, 3, 3, 1, 2, 3, 1, 2, 3, 1, 2, 3])\n",
        "```"
      ],
      "metadata": {
        "id": "ja0xPCgjhBsg"
      }
    },
    {
      "cell_type": "code",
      "source": [
        "#code here\n",
        "\n",
        "import numpy as np\n",
        "\n",
        "a = np.array([1, 2, 3])\n",
        "\n",
        "repeated_a = np.repeat(a, len(a))\n",
        "tiled_a = np.tile(a, len(a))\n",
        "\n",
        "output = np.concatenate((repeated_a, tiled_a))\n",
        "\n",
        "print(output)\n"
      ],
      "metadata": {
        "id": "CndS8TTNhG0F",
        "outputId": "4b7a07b6-a4a9-40ae-ca0b-c8262037177e",
        "colab": {
          "base_uri": "https://localhost:8080/"
        }
      },
      "execution_count": 55,
      "outputs": [
        {
          "output_type": "stream",
          "name": "stdout",
          "text": [
            "[1 1 1 2 2 2 3 3 3 1 2 3 1 2 3 1 2 3]\n"
          ]
        }
      ]
    }
  ]
}