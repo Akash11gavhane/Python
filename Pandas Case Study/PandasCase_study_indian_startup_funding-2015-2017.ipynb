{
 "cells": [
  {
   "attachments": {},
   "cell_type": "markdown",
   "metadata": {},
   "source": [
    "### **`Pandas Case study On Indian Startup Funding Data 2015 - 2017`**"
   ]
  },
  {
   "attachments": {},
   "cell_type": "markdown",
   "metadata": {},
   "source": [
    "#### Importing Libraries"
   ]
  },
  {
   "cell_type": "code",
   "execution_count": 22,
   "metadata": {},
   "outputs": [],
   "source": [
    "import os"
   ]
  },
  {
   "cell_type": "code",
   "execution_count": 23,
   "metadata": {},
   "outputs": [],
   "source": [
    "import numpy as np\n",
    "import pandas as pd\n",
    "\n",
    "import matplotlib.pyplot as plt\n",
    "from pandas import DataFrame as show\n",
    "\n",
    "import seaborn as sns\n",
    "import squarify\n",
    "\n",
    "%matplotlib inline"
   ]
  },
  {
   "attachments": {},
   "cell_type": "markdown",
   "metadata": {},
   "source": [
    "#### Reading and making dataframe of the csv formated file\n",
    "\n",
    "    Here we convert categorical data to 'category' type\n",
    "\n",
    "    csv file-(startup_funding_2015-2017.csv)- contains the information of all startups(india) from 2015 to 2017"
   ]
  },
  {
   "cell_type": "code",
   "execution_count": 24,
   "metadata": {},
   "outputs": [],
   "source": [
    "dataframe = pd.read_csv(\"startup_funding_2015-2017.csv\" , dtype = {\n",
    "    'InvestmentType' : 'category'\n",
    "})\n",
    "\n",
    "#read_csv function is used to import dataset 'startup_funding.csv'"
   ]
  },
  {
   "attachments": {},
   "cell_type": "markdown",
   "metadata": {},
   "source": [
    "#### sample of our dataset (startup_funding_2015-2017.csv)"
   ]
  },
  {
   "cell_type": "code",
   "execution_count": 25,
   "metadata": {},
   "outputs": [
    {
     "data": {
      "text/html": [
       "<div>\n",
       "<style scoped>\n",
       "    .dataframe tbody tr th:only-of-type {\n",
       "        vertical-align: middle;\n",
       "    }\n",
       "\n",
       "    .dataframe tbody tr th {\n",
       "        vertical-align: top;\n",
       "    }\n",
       "\n",
       "    .dataframe thead th {\n",
       "        text-align: right;\n",
       "    }\n",
       "</style>\n",
       "<table border=\"1\" class=\"dataframe\">\n",
       "  <thead>\n",
       "    <tr style=\"text-align: right;\">\n",
       "      <th></th>\n",
       "      <th>SNo</th>\n",
       "      <th>Date</th>\n",
       "      <th>StartupName</th>\n",
       "      <th>IndustryVertical</th>\n",
       "      <th>SubVertical</th>\n",
       "      <th>CityLocation</th>\n",
       "      <th>InvestorsName</th>\n",
       "      <th>InvestmentType</th>\n",
       "      <th>AmountInUSD</th>\n",
       "      <th>Remarks</th>\n",
       "    </tr>\n",
       "  </thead>\n",
       "  <tbody>\n",
       "    <tr>\n",
       "      <th>0</th>\n",
       "      <td>0</td>\n",
       "      <td>01/08/2017</td>\n",
       "      <td>TouchKin</td>\n",
       "      <td>Technology</td>\n",
       "      <td>Predictive Care Platform</td>\n",
       "      <td>Bangalore</td>\n",
       "      <td>Kae Capital</td>\n",
       "      <td>Private Equity</td>\n",
       "      <td>1,300,000</td>\n",
       "      <td>NaN</td>\n",
       "    </tr>\n",
       "    <tr>\n",
       "      <th>1</th>\n",
       "      <td>1</td>\n",
       "      <td>02/08/2017</td>\n",
       "      <td>Ethinos</td>\n",
       "      <td>Technology</td>\n",
       "      <td>Digital Marketing Agency</td>\n",
       "      <td>Mumbai</td>\n",
       "      <td>Triton Investment Advisors</td>\n",
       "      <td>Private Equity</td>\n",
       "      <td>NaN</td>\n",
       "      <td>NaN</td>\n",
       "    </tr>\n",
       "    <tr>\n",
       "      <th>2</th>\n",
       "      <td>2</td>\n",
       "      <td>02/08/2017</td>\n",
       "      <td>Leverage Edu</td>\n",
       "      <td>Consumer Internet</td>\n",
       "      <td>Online platform for Higher Education Services</td>\n",
       "      <td>New Delhi</td>\n",
       "      <td>Kashyap Deorah, Anand Sankeshwar, Deepak Jain,...</td>\n",
       "      <td>Seed Funding</td>\n",
       "      <td>NaN</td>\n",
       "      <td>NaN</td>\n",
       "    </tr>\n",
       "    <tr>\n",
       "      <th>3</th>\n",
       "      <td>3</td>\n",
       "      <td>02/08/2017</td>\n",
       "      <td>Zepo</td>\n",
       "      <td>Consumer Internet</td>\n",
       "      <td>DIY Ecommerce platform</td>\n",
       "      <td>Mumbai</td>\n",
       "      <td>Kunal Shah, LetsVenture, Anupam Mittal, Hetal ...</td>\n",
       "      <td>Seed Funding</td>\n",
       "      <td>500,000</td>\n",
       "      <td>NaN</td>\n",
       "    </tr>\n",
       "  </tbody>\n",
       "</table>\n",
       "</div>"
      ],
      "text/plain": [
       "   SNo        Date   StartupName   IndustryVertical  \\\n",
       "0    0  01/08/2017      TouchKin         Technology   \n",
       "1    1  02/08/2017       Ethinos         Technology   \n",
       "2    2  02/08/2017  Leverage Edu  Consumer Internet   \n",
       "3    3  02/08/2017          Zepo  Consumer Internet   \n",
       "\n",
       "                                     SubVertical CityLocation  \\\n",
       "0                       Predictive Care Platform    Bangalore   \n",
       "1                       Digital Marketing Agency       Mumbai   \n",
       "2  Online platform for Higher Education Services    New Delhi   \n",
       "3                         DIY Ecommerce platform       Mumbai   \n",
       "\n",
       "                                       InvestorsName  InvestmentType  \\\n",
       "0                                        Kae Capital  Private Equity   \n",
       "1                         Triton Investment Advisors  Private Equity   \n",
       "2  Kashyap Deorah, Anand Sankeshwar, Deepak Jain,...    Seed Funding   \n",
       "3  Kunal Shah, LetsVenture, Anupam Mittal, Hetal ...    Seed Funding   \n",
       "\n",
       "  AmountInUSD Remarks  \n",
       "0   1,300,000     NaN  \n",
       "1         NaN     NaN  \n",
       "2         NaN     NaN  \n",
       "3     500,000     NaN  "
      ]
     },
     "execution_count": 25,
     "metadata": {},
     "output_type": "execute_result"
    }
   ],
   "source": [
    "dataframe.head(4)#display first 4 rows of dataframe"
   ]
  },
  {
   "cell_type": "code",
   "execution_count": 26,
   "metadata": {},
   "outputs": [
    {
     "data": {
      "text/html": [
       "<div>\n",
       "<style scoped>\n",
       "    .dataframe tbody tr th:only-of-type {\n",
       "        vertical-align: middle;\n",
       "    }\n",
       "\n",
       "    .dataframe tbody tr th {\n",
       "        vertical-align: top;\n",
       "    }\n",
       "\n",
       "    .dataframe thead th {\n",
       "        text-align: right;\n",
       "    }\n",
       "</style>\n",
       "<table border=\"1\" class=\"dataframe\">\n",
       "  <thead>\n",
       "    <tr style=\"text-align: right;\">\n",
       "      <th></th>\n",
       "      <th>SNo</th>\n",
       "      <th>Date</th>\n",
       "      <th>StartupName</th>\n",
       "      <th>IndustryVertical</th>\n",
       "      <th>SubVertical</th>\n",
       "      <th>CityLocation</th>\n",
       "      <th>InvestorsName</th>\n",
       "      <th>InvestmentType</th>\n",
       "      <th>AmountInUSD</th>\n",
       "      <th>Remarks</th>\n",
       "    </tr>\n",
       "  </thead>\n",
       "  <tbody>\n",
       "    <tr>\n",
       "      <th>2368</th>\n",
       "      <td>2368</td>\n",
       "      <td>29/01/2015</td>\n",
       "      <td>Graphene</td>\n",
       "      <td>NaN</td>\n",
       "      <td>NaN</td>\n",
       "      <td>NaN</td>\n",
       "      <td>KARSEMVEN Fund</td>\n",
       "      <td>Private Equity</td>\n",
       "      <td>825,000</td>\n",
       "      <td>Govt backed VC Fund</td>\n",
       "    </tr>\n",
       "    <tr>\n",
       "      <th>2369</th>\n",
       "      <td>2369</td>\n",
       "      <td>30/01/2015</td>\n",
       "      <td>Mad Street Den</td>\n",
       "      <td>NaN</td>\n",
       "      <td>NaN</td>\n",
       "      <td>NaN</td>\n",
       "      <td>Exfinity Fund, GrowX Ventures.</td>\n",
       "      <td>Private Equity</td>\n",
       "      <td>1,500,000</td>\n",
       "      <td>NaN</td>\n",
       "    </tr>\n",
       "    <tr>\n",
       "      <th>2370</th>\n",
       "      <td>2370</td>\n",
       "      <td>30/01/2015</td>\n",
       "      <td>Simplotel</td>\n",
       "      <td>NaN</td>\n",
       "      <td>NaN</td>\n",
       "      <td>NaN</td>\n",
       "      <td>MakeMyTrip</td>\n",
       "      <td>Private Equity</td>\n",
       "      <td>NaN</td>\n",
       "      <td>Strategic Funding, Minority stake</td>\n",
       "    </tr>\n",
       "    <tr>\n",
       "      <th>2371</th>\n",
       "      <td>2371</td>\n",
       "      <td>31/01/2015</td>\n",
       "      <td>couponmachine.in</td>\n",
       "      <td>NaN</td>\n",
       "      <td>NaN</td>\n",
       "      <td>NaN</td>\n",
       "      <td>UK based Group of Angel Investors</td>\n",
       "      <td>Seed Funding</td>\n",
       "      <td>140,000</td>\n",
       "      <td>NaN</td>\n",
       "    </tr>\n",
       "  </tbody>\n",
       "</table>\n",
       "</div>"
      ],
      "text/plain": [
       "       SNo        Date       StartupName IndustryVertical SubVertical  \\\n",
       "2368  2368  29/01/2015          Graphene              NaN         NaN   \n",
       "2369  2369  30/01/2015    Mad Street Den              NaN         NaN   \n",
       "2370  2370  30/01/2015         Simplotel              NaN         NaN   \n",
       "2371  2371  31/01/2015  couponmachine.in              NaN         NaN   \n",
       "\n",
       "     CityLocation                      InvestorsName  InvestmentType  \\\n",
       "2368          NaN                     KARSEMVEN Fund  Private Equity   \n",
       "2369          NaN     Exfinity Fund, GrowX Ventures.  Private Equity   \n",
       "2370          NaN                         MakeMyTrip  Private Equity   \n",
       "2371          NaN  UK based Group of Angel Investors    Seed Funding   \n",
       "\n",
       "     AmountInUSD                            Remarks  \n",
       "2368     825,000                Govt backed VC Fund  \n",
       "2369   1,500,000                                NaN  \n",
       "2370         NaN  Strategic Funding, Minority stake  \n",
       "2371     140,000                                NaN  "
      ]
     },
     "execution_count": 26,
     "metadata": {},
     "output_type": "execute_result"
    }
   ],
   "source": [
    "dataframe.tail(4)#display first 4 rows of dataframe"
   ]
  },
  {
   "attachments": {},
   "cell_type": "markdown",
   "metadata": {},
   "source": [
    "#### Metadata\n",
    "\n",
    "    columns and index information"
   ]
  },
  {
   "cell_type": "code",
   "execution_count": 27,
   "metadata": {},
   "outputs": [
    {
     "name": "stdout",
     "output_type": "stream",
     "text": [
      "<class 'pandas.core.frame.DataFrame'>\n",
      "RangeIndex: 2372 entries, 0 to 2371\n",
      "Data columns (total 10 columns):\n",
      " #   Column            Non-Null Count  Dtype   \n",
      "---  ------            --------------  -----   \n",
      " 0   SNo               2372 non-null   int64   \n",
      " 1   Date              2372 non-null   object  \n",
      " 2   StartupName       2372 non-null   object  \n",
      " 3   IndustryVertical  2201 non-null   object  \n",
      " 4   SubVertical       1436 non-null   object  \n",
      " 5   CityLocation      2193 non-null   object  \n",
      " 6   InvestorsName     2364 non-null   object  \n",
      " 7   InvestmentType    2371 non-null   category\n",
      " 8   AmountInUSD       1525 non-null   object  \n",
      " 9   Remarks           419 non-null    object  \n",
      "dtypes: category(1), int64(1), object(8)\n",
      "memory usage: 169.6+ KB\n"
     ]
    }
   ],
   "source": [
    "dataframe.info(show_counts=True)"
   ]
  },
  {
   "attachments": {},
   "cell_type": "markdown",
   "metadata": {},
   "source": [
    "dimentions of dataframe"
   ]
  },
  {
   "cell_type": "code",
   "execution_count": 28,
   "metadata": {},
   "outputs": [
    {
     "name": "stdout",
     "output_type": "stream",
     "text": [
      "Rows 2372 and Columns 10\n"
     ]
    }
   ],
   "source": [
    "print('Rows {rows} and Columns {columns}'.format(rows=dataframe.shape[0],columns=dataframe.shape[1]))"
   ]
  },
  {
   "attachments": {},
   "cell_type": "markdown",
   "metadata": {},
   "source": [
    "### **`Cleaning Data`**"
   ]
  },
  {
   "attachments": {},
   "cell_type": "markdown",
   "metadata": {},
   "source": [
    "#### **Problem**\n",
    "\n",
    "    Dataset doesn't have proper format"
   ]
  },
  {
   "cell_type": "code",
   "execution_count": 29,
   "metadata": {},
   "outputs": [
    {
     "data": {
      "text/plain": [
       "SNo                    int64\n",
       "Date                  object\n",
       "StartupName           object\n",
       "IndustryVertical      object\n",
       "SubVertical           object\n",
       "CityLocation          object\n",
       "InvestorsName         object\n",
       "InvestmentType      category\n",
       "AmountInUSD           object\n",
       "Remarks               object\n",
       "dtype: object"
      ]
     },
     "execution_count": 29,
     "metadata": {},
     "output_type": "execute_result"
    }
   ],
   "source": [
    "dataframe.dtypes"
   ]
  },
  {
   "attachments": {},
   "cell_type": "markdown",
   "metadata": {},
   "source": [
    "#### repersentation of missing data\n",
    "\n",
    "- here yellow bars repersent the null values(missing values)\n",
    "- since we can see that 'remarks' has the higher density of missing data,we can neglect this column\n",
    "- here we can use estimated statistical values of available data of attribute('AmountInUSD') to fill the missing values"
   ]
  },
  {
   "attachments": {},
   "cell_type": "markdown",
   "metadata": {},
   "source": [
    "#### dataframe contains lots of NaN(null values)"
   ]
  },
  {
   "cell_type": "code",
   "execution_count": 30,
   "metadata": {},
   "outputs": [
    {
     "data": {
      "text/plain": [
       "SNo                    0\n",
       "Date                   0\n",
       "StartupName            0\n",
       "IndustryVertical     171\n",
       "SubVertical          936\n",
       "CityLocation         179\n",
       "InvestorsName          8\n",
       "InvestmentType         1\n",
       "AmountInUSD          847\n",
       "Remarks             1953\n",
       "dtype: int64"
      ]
     },
     "execution_count": 30,
     "metadata": {},
     "output_type": "execute_result"
    }
   ],
   "source": [
    "dataframe.apply(lambda x : sum (x.isnull()))"
   ]
  },
  {
   "cell_type": "code",
   "execution_count": 31,
   "metadata": {},
   "outputs": [
    {
     "data": {
      "text/plain": [
       "<Axes: >"
      ]
     },
     "execution_count": 31,
     "metadata": {},
     "output_type": "execute_result"
    },
    {
     "data": {
      "image/png": "[encoded data removed]",
      "text/plain": [
       "<Figure size 1000x500 with 1 Axes>"
      ]
     },
     "metadata": {},
     "output_type": "display_data"
    }
   ],
   "source": [
    "plt.figure(figsize=(10 , 5))\n",
    "\n",
    "sns.heatmap(dataframe.isnull() , cmap='viridis' ,  cbar=False)"
   ]
  },
  {
   "attachments": {},
   "cell_type": "markdown",
   "metadata": {},
   "source": [
    "        Using Heatmap we can easily see which column contains Null values"
   ]
  },
  {
   "attachments": {},
   "cell_type": "markdown",
   "metadata": {},
   "source": [
    "#### specifying format error\n",
    "\n",
    "        some dates are not formated where generalized format is 'dd/mm/yy'"
   ]
  },
  {
   "cell_type": "code",
   "execution_count": 32,
   "metadata": {},
   "outputs": [
    {
     "data": {
      "text/plain": [
       "2103    12/05.2015\n",
       "2104    12/05.2015\n",
       "Name: Date, dtype: object"
      ]
     },
     "execution_count": 32,
     "metadata": {},
     "output_type": "execute_result"
    }
   ],
   "source": [
    "dataframe[dataframe['Date']=='12/05.2015']['Date']#here '.' is there instead of '/'"
   ]
  },
  {
   "attachments": {},
   "cell_type": "markdown",
   "metadata": {},
   "source": [
    "#### Amount in usd has ','(notnumeric) chracters and null values\n",
    "\n",
    "    datatype is not numerical"
   ]
  },
  {
   "cell_type": "code",
   "execution_count": 33,
   "metadata": {},
   "outputs": [
    {
     "data": {
      "text/plain": [
       "0    1,300,000\n",
       "1          NaN\n",
       "2          NaN\n",
       "3      500,000\n",
       "4      850,000\n",
       "Name: AmountInUSD, dtype: object"
      ]
     },
     "execution_count": 33,
     "metadata": {},
     "output_type": "execute_result"
    }
   ],
   "source": [
    "\n",
    "dataframe['AmountInUSD'].head()"
   ]
  },
  {
   "attachments": {},
   "cell_type": "markdown",
   "metadata": {},
   "source": [
    "#### solving problem with missing data\n",
    "- WE CAN FILL THE MISSING NUMERICAL VALUES USING FOLLWING STATISTICAL METHODS- -BY MODE OF CENTRAL TENDENCY\n",
    "\n",
    "   - BACKWARD FILLING\n",
    "\n",
    "   - FORWARD FILLING\n",
    "\n",
    "   - INTERPOLATION(LINEAR)"
   ]
  },
  {
   "attachments": {},
   "cell_type": "markdown",
   "metadata": {},
   "source": [
    "#### Cleaning missing data and formatting"
   ]
  },
  {
   "attachments": {},
   "cell_type": "markdown",
   "metadata": {},
   "source": [
    "##### handling null in cities column"
   ]
  },
  {
   "cell_type": "code",
   "execution_count": 34,
   "metadata": {},
   "outputs": [],
   "source": [
    "dataframe['CityLocation'] = dataframe['CityLocation'].fillna(value='NotSpecific')"
   ]
  },
  {
   "cell_type": "code",
   "execution_count": 35,
   "metadata": {},
   "outputs": [],
   "source": [
    "dataframe['IndustryVertical'] = dataframe['IndustryVertical'].fillna(value='other')"
   ]
  },
  {
   "cell_type": "code",
   "execution_count": 36,
   "metadata": {},
   "outputs": [
    {
     "data": {
      "text/html": [
       "<div>\n",
       "<style scoped>\n",
       "    .dataframe tbody tr th:only-of-type {\n",
       "        vertical-align: middle;\n",
       "    }\n",
       "\n",
       "    .dataframe tbody tr th {\n",
       "        vertical-align: top;\n",
       "    }\n",
       "\n",
       "    .dataframe thead th {\n",
       "        text-align: right;\n",
       "    }\n",
       "</style>\n",
       "<table border=\"1\" class=\"dataframe\">\n",
       "  <thead>\n",
       "    <tr style=\"text-align: right;\">\n",
       "      <th></th>\n",
       "      <th>SNo</th>\n",
       "      <th>Date</th>\n",
       "      <th>StartupName</th>\n",
       "      <th>IndustryVertical</th>\n",
       "      <th>SubVertical</th>\n",
       "      <th>CityLocation</th>\n",
       "      <th>InvestorsName</th>\n",
       "      <th>InvestmentType</th>\n",
       "      <th>AmountInUSD</th>\n",
       "      <th>Remarks</th>\n",
       "    </tr>\n",
       "  </thead>\n",
       "  <tbody>\n",
       "    <tr>\n",
       "      <th>1260</th>\n",
       "      <td>1260</td>\n",
       "      <td>08/02/2016</td>\n",
       "      <td>Xpressbees</td>\n",
       "      <td>ECommerce</td>\n",
       "      <td>ECommerce Logistics solutions</td>\n",
       "      <td>Pune</td>\n",
       "      <td>SAIF Partners, IDG Ventures India, Vertex Vent...</td>\n",
       "      <td>Private Equity</td>\n",
       "      <td>12,500,000</td>\n",
       "      <td>NaN</td>\n",
       "    </tr>\n",
       "    <tr>\n",
       "      <th>2241</th>\n",
       "      <td>2241</td>\n",
       "      <td>24/03/2015</td>\n",
       "      <td>Furlenco</td>\n",
       "      <td>other</td>\n",
       "      <td>NaN</td>\n",
       "      <td>NotSpecific</td>\n",
       "      <td>LightBox Ventures</td>\n",
       "      <td>Private Equity</td>\n",
       "      <td>6,000,000</td>\n",
       "      <td>Series A</td>\n",
       "    </tr>\n",
       "    <tr>\n",
       "      <th>1695</th>\n",
       "      <td>1695</td>\n",
       "      <td>27/10/2015</td>\n",
       "      <td>Simpli5d</td>\n",
       "      <td>Online user engagement platform</td>\n",
       "      <td>NaN</td>\n",
       "      <td>Gurgaon</td>\n",
       "      <td>Redcliffe Capital, YourNest Angel Fund</td>\n",
       "      <td>Private Equity</td>\n",
       "      <td>NaN</td>\n",
       "      <td>Bridge Funding</td>\n",
       "    </tr>\n",
       "    <tr>\n",
       "      <th>611</th>\n",
       "      <td>611</td>\n",
       "      <td>07/10/2016</td>\n",
       "      <td>KOOH Sports</td>\n",
       "      <td>Technology</td>\n",
       "      <td>Sports Training &amp; Technology</td>\n",
       "      <td>Mumbai</td>\n",
       "      <td>HDFC, Faering Capital, Elevate Sports</td>\n",
       "      <td>Private Equity</td>\n",
       "      <td>2,200,000</td>\n",
       "      <td>NaN</td>\n",
       "    </tr>\n",
       "    <tr>\n",
       "      <th>68</th>\n",
       "      <td>68</td>\n",
       "      <td>12/06/2017</td>\n",
       "      <td>LendingKart</td>\n",
       "      <td>Consumer Internet</td>\n",
       "      <td>Online Lending platform</td>\n",
       "      <td>Ahmedabad</td>\n",
       "      <td>Yes Bank</td>\n",
       "      <td>Debt Funding</td>\n",
       "      <td>7,800,000</td>\n",
       "      <td>NaN</td>\n",
       "    </tr>\n",
       "  </tbody>\n",
       "</table>\n",
       "</div>"
      ],
      "text/plain": [
       "       SNo        Date  StartupName                 IndustryVertical  \\\n",
       "1260  1260  08/02/2016   Xpressbees                        ECommerce   \n",
       "2241  2241  24/03/2015     Furlenco                            other   \n",
       "1695  1695  27/10/2015     Simpli5d  Online user engagement platform   \n",
       "611    611  07/10/2016  KOOH Sports                       Technology   \n",
       "68      68  12/06/2017  LendingKart                Consumer Internet   \n",
       "\n",
       "                        SubVertical CityLocation  \\\n",
       "1260  ECommerce Logistics solutions         Pune   \n",
       "2241                            NaN  NotSpecific   \n",
       "1695                            NaN      Gurgaon   \n",
       "611    Sports Training & Technology       Mumbai   \n",
       "68          Online Lending platform    Ahmedabad   \n",
       "\n",
       "                                          InvestorsName  InvestmentType  \\\n",
       "1260  SAIF Partners, IDG Ventures India, Vertex Vent...  Private Equity   \n",
       "2241                                  LightBox Ventures  Private Equity   \n",
       "1695             Redcliffe Capital, YourNest Angel Fund  Private Equity   \n",
       "611               HDFC, Faering Capital, Elevate Sports  Private Equity   \n",
       "68                                             Yes Bank    Debt Funding   \n",
       "\n",
       "     AmountInUSD         Remarks  \n",
       "1260  12,500,000             NaN  \n",
       "2241   6,000,000        Series A  \n",
       "1695         NaN  Bridge Funding  \n",
       "611    2,200,000             NaN  \n",
       "68     7,800,000             NaN  "
      ]
     },
     "execution_count": 36,
     "metadata": {},
     "output_type": "execute_result"
    }
   ],
   "source": [
    "dataframe.sample(5)\n",
    "\n",
    "# here we can see the all nan values from column 'CityLocation' and 'IndustryVertical' are changed to notspecific and other"
   ]
  },
  {
   "attachments": {},
   "cell_type": "markdown",
   "metadata": {},
   "source": [
    "##### Formatting citylocation"
   ]
  },
  {
   "cell_type": "code",
   "execution_count": 37,
   "metadata": {},
   "outputs": [],
   "source": [
    "import re\n",
    "\n",
    "# importing regular expression\n",
    "\n",
    "def convert_Slash(x) : # converts cityLocation where multiple citiescentres\n",
    "\n",
    "    x = x.lower()\n",
    "\n",
    "    if re.search('/' , x):\n",
    "\n",
    "        return x.split('/')[0].strip()\n",
    "    \n",
    "    else : \n",
    "\n",
    "        return x.strip()\n",
    "    \n",
    "\n",
    "dataframe['CityLocation'] = dataframe['CityLocation'].apply(convert_Slash)"
   ]
  },
  {
   "attachments": {},
   "cell_type": "markdown",
   "metadata": {},
   "source": [
    "#### Backup of dataframe\n",
    "\n",
    "    deleting unwanted columns"
   ]
  },
  {
   "cell_type": "code",
   "execution_count": 38,
   "metadata": {},
   "outputs": [],
   "source": [
    "newdf = dataframe.copy()\n",
    "\n",
    "del newdf['Remarks']\n",
    "del newdf['SNo']"
   ]
  },
  {
   "attachments": {},
   "cell_type": "markdown",
   "metadata": {},
   "source": [
    "#### Investmenttype column has repeated values of categories\n",
    "\n",
    "##### categories have alphabetical error\n",
    "\n",
    "- this column has unformatted categories which results in repetition error(spaces between words)\n",
    "\n",
    "- here -Seed Funding and SeedFunding are same"
   ]
  },
  {
   "cell_type": "code",
   "execution_count": 39,
   "metadata": {},
   "outputs": [
    {
     "data": {
      "text/plain": [
       "CategoricalIndex(['Seed Funding', 'Private Equity', 'SeedFunding',\n",
       "                  'Crowd Funding', 'Crowd funding', 'Debt Funding',\n",
       "                  'PrivateEquity'],\n",
       "                 categories=['Crowd Funding', 'Crowd funding', 'Debt Funding', 'Private Equity', 'PrivateEquity', 'Seed Funding', 'SeedFunding'], ordered=False, dtype='category')"
      ]
     },
     "execution_count": 39,
     "metadata": {},
     "output_type": "execute_result"
    }
   ],
   "source": [
    "newdf['InvestmentType'].value_counts().index"
   ]
  },
  {
   "cell_type": "code",
   "execution_count": 40,
   "metadata": {},
   "outputs": [],
   "source": [
    "newdf['InvestmentType'] = newdf['InvestmentType'].apply(lambda x : x.replace(\" \" ,\"\").lower())"
   ]
  },
  {
   "attachments": {},
   "cell_type": "markdown",
   "metadata": {},
   "source": [
    "#### Fomatting dates to time series"
   ]
  },
  {
   "cell_type": "code",
   "execution_count": 41,
   "metadata": {},
   "outputs": [],
   "source": [
    "def rem_err_date(x):#function checks for error in format of date column in funding dataframe\n",
    "    if re.search('.',x):\n",
    "        return x.replace('.','')\n",
    "    return x\n",
    "newdf['Date']=newdf['Date'].apply(rem_err_date)\n",
    "newdf['Date'].replace('12/052015','12/05/2015',inplace=True)\n",
    "newdf['Date'].replace('15/012015','15/01/2015',inplace=True)\n",
    "newdf['Date'].replace('22/01//2015','22/01/2015',inplace=True)\n",
    "newdf['Date'].replace('13/042015','13/04/2015',inplace=True)\n",
    "newdf['Date']=pd.to_datetime(newdf['Date'],format='%d/%m/%Y')"
   ]
  },
  {
   "cell_type": "code",
   "execution_count": 42,
   "metadata": {},
   "outputs": [
    {
     "data": {
      "text/plain": [
       "dtype('<M8[ns]')"
      ]
     },
     "execution_count": 42,
     "metadata": {},
     "output_type": "execute_result"
    }
   ],
   "source": [
    "newdf.dtypes['Date']"
   ]
  },
  {
   "attachments": {},
   "cell_type": "markdown",
   "metadata": {},
   "source": [
    "#### calculating number of investors for each startup\n",
    "\n",
    "- as various startups have multiple number of investors arrange according to the number of investors for a particular startup(startup name)"
   ]
  },
  {
   "cell_type": "code",
   "execution_count": 43,
   "metadata": {},
   "outputs": [],
   "source": [
    "def calculate_n_investors(x):\n",
    "\n",
    "    if re.search(',' , x) and x != 'empty':\n",
    "\n",
    "        return len(x.split(','))\n",
    "    \n",
    "    elif x != 'empty':\n",
    "\n",
    "        return 1\n",
    "    \n",
    "    else :\n",
    "        return -1"
   ]
  },
  {
   "cell_type": "code",
   "execution_count": 45,
   "metadata": {},
   "outputs": [],
   "source": [
    "newdf['numberofinvestors'] = newdf['InvestorsName'].replace(np.NAN , 'empty').apply(calculate_n_investors)"
   ]
  },
  {
   "cell_type": "code",
   "execution_count": 46,
   "metadata": {},
   "outputs": [
    {
     "data": {
      "text/html": [
       "<div>\n",
       "<style scoped>\n",
       "    .dataframe tbody tr th:only-of-type {\n",
       "        vertical-align: middle;\n",
       "    }\n",
       "\n",
       "    .dataframe tbody tr th {\n",
       "        vertical-align: top;\n",
       "    }\n",
       "\n",
       "    .dataframe thead th {\n",
       "        text-align: right;\n",
       "    }\n",
       "</style>\n",
       "<table border=\"1\" class=\"dataframe\">\n",
       "  <thead>\n",
       "    <tr style=\"text-align: right;\">\n",
       "      <th></th>\n",
       "      <th>Date</th>\n",
       "      <th>StartupName</th>\n",
       "      <th>IndustryVertical</th>\n",
       "      <th>SubVertical</th>\n",
       "      <th>CityLocation</th>\n",
       "      <th>InvestorsName</th>\n",
       "      <th>InvestmentType</th>\n",
       "      <th>AmountInUSD</th>\n",
       "      <th>numberofinvestors</th>\n",
       "    </tr>\n",
       "  </thead>\n",
       "  <tbody>\n",
       "    <tr>\n",
       "      <th>0</th>\n",
       "      <td>2017-08-01</td>\n",
       "      <td>TouchKin</td>\n",
       "      <td>Technology</td>\n",
       "      <td>Predictive Care Platform</td>\n",
       "      <td>bangalore</td>\n",
       "      <td>Kae Capital</td>\n",
       "      <td>privateequity</td>\n",
       "      <td>1,300,000</td>\n",
       "      <td>1</td>\n",
       "    </tr>\n",
       "    <tr>\n",
       "      <th>1</th>\n",
       "      <td>2017-08-02</td>\n",
       "      <td>Ethinos</td>\n",
       "      <td>Technology</td>\n",
       "      <td>Digital Marketing Agency</td>\n",
       "      <td>mumbai</td>\n",
       "      <td>Triton Investment Advisors</td>\n",
       "      <td>privateequity</td>\n",
       "      <td>NaN</td>\n",
       "      <td>1</td>\n",
       "    </tr>\n",
       "    <tr>\n",
       "      <th>2</th>\n",
       "      <td>2017-08-02</td>\n",
       "      <td>Leverage Edu</td>\n",
       "      <td>Consumer Internet</td>\n",
       "      <td>Online platform for Higher Education Services</td>\n",
       "      <td>new delhi</td>\n",
       "      <td>Kashyap Deorah, Anand Sankeshwar, Deepak Jain,...</td>\n",
       "      <td>seedfunding</td>\n",
       "      <td>NaN</td>\n",
       "      <td>7</td>\n",
       "    </tr>\n",
       "    <tr>\n",
       "      <th>3</th>\n",
       "      <td>2017-08-02</td>\n",
       "      <td>Zepo</td>\n",
       "      <td>Consumer Internet</td>\n",
       "      <td>DIY Ecommerce platform</td>\n",
       "      <td>mumbai</td>\n",
       "      <td>Kunal Shah, LetsVenture, Anupam Mittal, Hetal ...</td>\n",
       "      <td>seedfunding</td>\n",
       "      <td>500,000</td>\n",
       "      <td>4</td>\n",
       "    </tr>\n",
       "    <tr>\n",
       "      <th>4</th>\n",
       "      <td>2017-08-02</td>\n",
       "      <td>Click2Clinic</td>\n",
       "      <td>Consumer Internet</td>\n",
       "      <td>healthcare service aggregator</td>\n",
       "      <td>hyderabad</td>\n",
       "      <td>Narottam Thudi, Shireesh Palle</td>\n",
       "      <td>seedfunding</td>\n",
       "      <td>850,000</td>\n",
       "      <td>2</td>\n",
       "    </tr>\n",
       "    <tr>\n",
       "      <th>...</th>\n",
       "      <td>...</td>\n",
       "      <td>...</td>\n",
       "      <td>...</td>\n",
       "      <td>...</td>\n",
       "      <td>...</td>\n",
       "      <td>...</td>\n",
       "      <td>...</td>\n",
       "      <td>...</td>\n",
       "      <td>...</td>\n",
       "    </tr>\n",
       "    <tr>\n",
       "      <th>2367</th>\n",
       "      <td>2015-01-29</td>\n",
       "      <td>Printvenue</td>\n",
       "      <td>other</td>\n",
       "      <td>NaN</td>\n",
       "      <td>notspecific</td>\n",
       "      <td>Asia Pacific Internet Group</td>\n",
       "      <td>privateequity</td>\n",
       "      <td>4,500,000</td>\n",
       "      <td>1</td>\n",
       "    </tr>\n",
       "    <tr>\n",
       "      <th>2368</th>\n",
       "      <td>2015-01-29</td>\n",
       "      <td>Graphene</td>\n",
       "      <td>other</td>\n",
       "      <td>NaN</td>\n",
       "      <td>notspecific</td>\n",
       "      <td>KARSEMVEN Fund</td>\n",
       "      <td>privateequity</td>\n",
       "      <td>825,000</td>\n",
       "      <td>1</td>\n",
       "    </tr>\n",
       "    <tr>\n",
       "      <th>2369</th>\n",
       "      <td>2015-01-30</td>\n",
       "      <td>Mad Street Den</td>\n",
       "      <td>other</td>\n",
       "      <td>NaN</td>\n",
       "      <td>notspecific</td>\n",
       "      <td>Exfinity Fund, GrowX Ventures.</td>\n",
       "      <td>privateequity</td>\n",
       "      <td>1,500,000</td>\n",
       "      <td>2</td>\n",
       "    </tr>\n",
       "    <tr>\n",
       "      <th>2370</th>\n",
       "      <td>2015-01-30</td>\n",
       "      <td>Simplotel</td>\n",
       "      <td>other</td>\n",
       "      <td>NaN</td>\n",
       "      <td>notspecific</td>\n",
       "      <td>MakeMyTrip</td>\n",
       "      <td>privateequity</td>\n",
       "      <td>NaN</td>\n",
       "      <td>1</td>\n",
       "    </tr>\n",
       "    <tr>\n",
       "      <th>2371</th>\n",
       "      <td>2015-01-31</td>\n",
       "      <td>couponmachine.in</td>\n",
       "      <td>other</td>\n",
       "      <td>NaN</td>\n",
       "      <td>notspecific</td>\n",
       "      <td>UK based Group of Angel Investors</td>\n",
       "      <td>seedfunding</td>\n",
       "      <td>140,000</td>\n",
       "      <td>1</td>\n",
       "    </tr>\n",
       "  </tbody>\n",
       "</table>\n",
       "<p>2372 rows × 9 columns</p>\n",
       "</div>"
      ],
      "text/plain": [
       "           Date       StartupName   IndustryVertical  \\\n",
       "0    2017-08-01          TouchKin         Technology   \n",
       "1    2017-08-02           Ethinos         Technology   \n",
       "2    2017-08-02      Leverage Edu  Consumer Internet   \n",
       "3    2017-08-02              Zepo  Consumer Internet   \n",
       "4    2017-08-02      Click2Clinic  Consumer Internet   \n",
       "...         ...               ...                ...   \n",
       "2367 2015-01-29        Printvenue              other   \n",
       "2368 2015-01-29          Graphene              other   \n",
       "2369 2015-01-30    Mad Street Den              other   \n",
       "2370 2015-01-30         Simplotel              other   \n",
       "2371 2015-01-31  couponmachine.in              other   \n",
       "\n",
       "                                        SubVertical CityLocation  \\\n",
       "0                          Predictive Care Platform    bangalore   \n",
       "1                          Digital Marketing Agency       mumbai   \n",
       "2     Online platform for Higher Education Services    new delhi   \n",
       "3                            DIY Ecommerce platform       mumbai   \n",
       "4                     healthcare service aggregator    hyderabad   \n",
       "...                                             ...          ...   \n",
       "2367                                            NaN  notspecific   \n",
       "2368                                            NaN  notspecific   \n",
       "2369                                            NaN  notspecific   \n",
       "2370                                            NaN  notspecific   \n",
       "2371                                            NaN  notspecific   \n",
       "\n",
       "                                          InvestorsName InvestmentType  \\\n",
       "0                                           Kae Capital  privateequity   \n",
       "1                            Triton Investment Advisors  privateequity   \n",
       "2     Kashyap Deorah, Anand Sankeshwar, Deepak Jain,...    seedfunding   \n",
       "3     Kunal Shah, LetsVenture, Anupam Mittal, Hetal ...    seedfunding   \n",
       "4                        Narottam Thudi, Shireesh Palle    seedfunding   \n",
       "...                                                 ...            ...   \n",
       "2367                        Asia Pacific Internet Group  privateequity   \n",
       "2368                                     KARSEMVEN Fund  privateequity   \n",
       "2369                     Exfinity Fund, GrowX Ventures.  privateequity   \n",
       "2370                                         MakeMyTrip  privateequity   \n",
       "2371                  UK based Group of Angel Investors    seedfunding   \n",
       "\n",
       "     AmountInUSD  numberofinvestors  \n",
       "0      1,300,000                  1  \n",
       "1            NaN                  1  \n",
       "2            NaN                  7  \n",
       "3        500,000                  4  \n",
       "4        850,000                  2  \n",
       "...          ...                ...  \n",
       "2367   4,500,000                  1  \n",
       "2368     825,000                  1  \n",
       "2369   1,500,000                  2  \n",
       "2370         NaN                  1  \n",
       "2371     140,000                  1  \n",
       "\n",
       "[2372 rows x 9 columns]"
      ]
     },
     "execution_count": 46,
     "metadata": {},
     "output_type": "execute_result"
    }
   ],
   "source": [
    "newdf"
   ]
  },
  {
   "attachments": {},
   "cell_type": "markdown",
   "metadata": {},
   "source": [
    "#### most multiple investors for individual startup"
   ]
  },
  {
   "cell_type": "code",
   "execution_count": 53,
   "metadata": {},
   "outputs": [],
   "source": [
    "n_inv = newdf.loc[: , ['StartupName' , 'InvestorsName' , 'numberofinvestors']].sort_values('numberofinvestors' , ascending=False)"
   ]
  },
  {
   "attachments": {},
   "cell_type": "markdown",
   "metadata": {},
   "source": [
    "##### visualizing the number of investors per startup\n",
    "\n",
    "- visualizing the top 10 as per number of investors\n",
    "- here maximum number of investors per startup is 10"
   ]
  },
  {
   "cell_type": "code",
   "execution_count": 54,
   "metadata": {},
   "outputs": [
    {
     "data": {
      "text/html": [
       "<div>\n",
       "<style scoped>\n",
       "    .dataframe tbody tr th:only-of-type {\n",
       "        vertical-align: middle;\n",
       "    }\n",
       "\n",
       "    .dataframe tbody tr th {\n",
       "        vertical-align: top;\n",
       "    }\n",
       "\n",
       "    .dataframe thead th {\n",
       "        text-align: right;\n",
       "    }\n",
       "</style>\n",
       "<table border=\"1\" class=\"dataframe\">\n",
       "  <thead>\n",
       "    <tr style=\"text-align: right;\">\n",
       "      <th></th>\n",
       "      <th>StartupName</th>\n",
       "      <th>InvestorsName</th>\n",
       "      <th>numberofinvestors</th>\n",
       "    </tr>\n",
       "  </thead>\n",
       "  <tbody>\n",
       "    <tr>\n",
       "      <th>1338</th>\n",
       "      <td>MyChild App</td>\n",
       "      <td>Samir Bangara, Anisha Mittal, Amit Gupta, Pall...</td>\n",
       "      <td>10</td>\n",
       "    </tr>\n",
       "    <tr>\n",
       "      <th>348</th>\n",
       "      <td>Innov8</td>\n",
       "      <td>Vijay Shekhar Sharma, Rajan Anandan, Kunal Sha...</td>\n",
       "      <td>10</td>\n",
       "    </tr>\n",
       "    <tr>\n",
       "      <th>1377</th>\n",
       "      <td>Zapr</td>\n",
       "      <td>Flipkart, Saavn, Micromax, Dhiraj Rajaram, Amb...</td>\n",
       "      <td>9</td>\n",
       "    </tr>\n",
       "    <tr>\n",
       "      <th>473</th>\n",
       "      <td>GoComet</td>\n",
       "      <td>India Quotient, Rajul Garg, Rajesh Yabaji, Cha...</td>\n",
       "      <td>8</td>\n",
       "    </tr>\n",
       "    <tr>\n",
       "      <th>568</th>\n",
       "      <td>Hubilo</td>\n",
       "      <td>Girish Mathrubootham, VC Karthic, Miten Mehta,...</td>\n",
       "      <td>8</td>\n",
       "    </tr>\n",
       "    <tr>\n",
       "      <th>1617</th>\n",
       "      <td>Indifi</td>\n",
       "      <td>Accel Partners, Elevar Equity, Pramod Bhasin, ...</td>\n",
       "      <td>8</td>\n",
       "    </tr>\n",
       "    <tr>\n",
       "      <th>1219</th>\n",
       "      <td>HashLearn</td>\n",
       "      <td>Bhavish Aggarwal, Binny Bansal,  Rajan Anandan...</td>\n",
       "      <td>8</td>\n",
       "    </tr>\n",
       "    <tr>\n",
       "      <th>2197</th>\n",
       "      <td>Dazo</td>\n",
       "      <td>Sumit Jain, Aprameya Radhakrishna, Alok Goel, ...</td>\n",
       "      <td>8</td>\n",
       "    </tr>\n",
       "    <tr>\n",
       "      <th>701</th>\n",
       "      <td>infeedo</td>\n",
       "      <td>Dheeraj Jain, Palash Jain, Anupam Mittal, Amee...</td>\n",
       "      <td>8</td>\n",
       "    </tr>\n",
       "    <tr>\n",
       "      <th>1043</th>\n",
       "      <td>Parentlane</td>\n",
       "      <td>Sujeet Kumar, Aprameya, Sumit Jain, Subramanya...</td>\n",
       "      <td>8</td>\n",
       "    </tr>\n",
       "  </tbody>\n",
       "</table>\n",
       "</div>"
      ],
      "text/plain": [
       "      StartupName                                      InvestorsName  \\\n",
       "1338  MyChild App  Samir Bangara, Anisha Mittal, Amit Gupta, Pall...   \n",
       "348        Innov8  Vijay Shekhar Sharma, Rajan Anandan, Kunal Sha...   \n",
       "1377         Zapr  Flipkart, Saavn, Micromax, Dhiraj Rajaram, Amb...   \n",
       "473       GoComet  India Quotient, Rajul Garg, Rajesh Yabaji, Cha...   \n",
       "568        Hubilo  Girish Mathrubootham, VC Karthic, Miten Mehta,...   \n",
       "1617       Indifi  Accel Partners, Elevar Equity, Pramod Bhasin, ...   \n",
       "1219    HashLearn  Bhavish Aggarwal, Binny Bansal,  Rajan Anandan...   \n",
       "2197         Dazo  Sumit Jain, Aprameya Radhakrishna, Alok Goel, ...   \n",
       "701       infeedo  Dheeraj Jain, Palash Jain, Anupam Mittal, Amee...   \n",
       "1043   Parentlane  Sujeet Kumar, Aprameya, Sumit Jain, Subramanya...   \n",
       "\n",
       "      numberofinvestors  \n",
       "1338                 10  \n",
       "348                  10  \n",
       "1377                  9  \n",
       "473                   8  \n",
       "568                   8  \n",
       "1617                  8  \n",
       "1219                  8  \n",
       "2197                  8  \n",
       "701                   8  \n",
       "1043                  8  "
      ]
     },
     "execution_count": 54,
     "metadata": {},
     "output_type": "execute_result"
    }
   ],
   "source": [
    "n_inv.head(10)"
   ]
  },
  {
   "cell_type": "code",
   "execution_count": 55,
   "metadata": {},
   "outputs": [
    {
     "data": {
      "text/plain": [
       "<Axes: xlabel='numberofinvestors', ylabel='count'>"
      ]
     },
     "execution_count": 55,
     "metadata": {},
     "output_type": "execute_result"
    },
    {
     "data": {
      "image/png": "[encoded data removed]",
      "text/plain": [
       "<Figure size 800x500 with 1 Axes>"
      ]
     },
     "metadata": {},
     "output_type": "display_data"
    }
   ],
   "source": [
    "plt.figure(figsize=(8 , 5))\n",
    "\n",
    "sns.countplot(x = 'numberofinvestors' , data = n_inv)"
   ]
  },
  {
   "attachments": {},
   "cell_type": "markdown",
   "metadata": {},
   "source": [
    "#### FILLING MISSING VALUES IN AmountInUSD\n",
    "\n",
    "- AmountinUSD column is formatted to integer"
   ]
  },
  {
   "cell_type": "code",
   "execution_count": 76,
   "metadata": {},
   "outputs": [],
   "source": [
    "def convert_AmountInUSD(x):\n",
    "    if re.search(',',x):\n",
    "        return (x.replace(',',''))\n",
    "    return x\n",
    "newdf['AmountInUSD']=newdf[newdf['AmountInUSD'].notnull()]['AmountInUSD'].apply(convert_AmountInUSD).astype('int')"
   ]
  },
  {
   "cell_type": "code",
   "execution_count": 77,
   "metadata": {},
   "outputs": [],
   "source": [
    "newdf['AmountInUSD'] = round(newdf['AmountInUSD'].fillna(np.mean(newdf['AmountInUSD'])))\n",
    "newdf['AmountInUSD'] = newdf['AmountInUSD'].astype('int')"
   ]
  },
  {
   "cell_type": "code",
   "execution_count": 78,
   "metadata": {},
   "outputs": [
    {
     "data": {
      "text/plain": [
       "<seaborn.axisgrid.JointGrid at 0x1b074e379d0>"
      ]
     },
     "execution_count": 78,
     "metadata": {},
     "output_type": "execute_result"
    },
    {
     "data": {
      "image/png": "[encoded data removed]",
      "text/plain": [
       "<Figure size 600x600 with 3 Axes>"
      ]
     },
     "metadata": {},
     "output_type": "display_data"
    }
   ],
   "source": [
    "sns.jointplot(x='numberofinvestors',y='AmountInUSD',data=newdf)"
   ]
  },
  {
   "attachments": {},
   "cell_type": "markdown",
   "metadata": {},
   "source": []
  }
 ],
 "metadata": {
  "kernelspec": {
   "display_name": "Python 3",
   "language": "python",
   "name": "python3"
  },
  "language_info": {
   "codemirror_mode": {
    "name": "ipython",
    "version": 3
   },
   "file_extension": ".py",
   "mimetype": "text/x-python",
   "name": "python",
   "nbconvert_exporter": "python",
   "pygments_lexer": "ipython3",
   "version": "3.10.7"
  },
  "orig_nbformat": 4
 },
 "nbformat": 4,
 "nbformat_minor": 2
}
