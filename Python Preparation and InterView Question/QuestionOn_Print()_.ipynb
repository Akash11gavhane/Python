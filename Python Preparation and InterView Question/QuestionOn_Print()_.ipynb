{
 "cells": [
  {
   "attachments": {},
   "cell_type": "markdown",
   "metadata": {},
   "source": [
    "## python Print Function Questions"
   ]
  },
  {
   "attachments": {},
   "cell_type": "markdown",
   "metadata": {},
   "source": [
    "### What is the purpose of the print() function in Python?\n",
    "\n",
    "\n",
    "        The print() function in Python is used to display output to the console or command line. It can be used to print values of variables, strings, numbers, and other types of data to the console."
   ]
  },
  {
   "attachments": {},
   "cell_type": "markdown",
   "metadata": {},
   "source": [
    "### How do you print the value of a variable in Python?\n",
    "\n",
    "\n",
    "        To print the value of a variable in Python, you can use the print() function and include the variable name inside the parentheses. For example, if you have a variable x with the value 10, you can print its value to the console using the following code:\n",
    "\n",
    "        x = 10\n",
    "        print(x)\n"
   ]
  },
  {
   "cell_type": "code",
   "execution_count": 1,
   "metadata": {},
   "outputs": [
    {
     "name": "stdout",
     "output_type": "stream",
     "text": [
      "10\n"
     ]
    }
   ],
   "source": [
    "x = 10 \n",
    "print(x)"
   ]
  },
  {
   "attachments": {},
   "cell_type": "markdown",
   "metadata": {},
   "source": [
    "### What is the difference between using single quotes and double quotes when printing a string in Python?\n",
    "\n",
    "\n",
    "        In Python, you can use either single quotes or double quotes to define a string. The choice of which one to use is largely a matter of personal preference. However, if you want to include a quote character inside a string, you should use the opposite type of quote to delimit the string.\n",
    "\n",
    "        print(\"I'm learning Python!\")\n",
    "        print('He said, \"Hello world!\"')\n"
   ]
  },
  {
   "attachments": {},
   "cell_type": "markdown",
   "metadata": {},
   "source": [
    "### How do you format output in Python using the print() function?\n",
    "\n",
    "\n",
    "        You can format output in Python using the print() function by including placeholders inside the string, which are then replaced with actual values when the string is printed. The most common way to format output in Python is to use the string formatting syntax, which uses curly braces {} to indicate where the values should be inserted. For example : \n",
    "\n",
    "\n",
    "            name = \"Alice\"\n",
    "            age = 30\n",
    "            print(\"My name is {} and I am {} years old.\".format(name, age))\n"
   ]
  },
  {
   "attachments": {},
   "cell_type": "markdown",
   "metadata": {},
   "source": [
    "### Can you print multiple values on a single line in Python?\n",
    "\n",
    "\n",
    "        Yes, you can print multiple values on a single line in Python by separating them with commas inside the print() function. For example:\n",
    "\n",
    "        x = 10\n",
    "        y = 20\n",
    "        print(\"The values of x and y are:\", x, y)\n"
   ]
  },
  {
   "cell_type": "code",
   "execution_count": null,
   "metadata": {},
   "outputs": [],
   "source": []
  }
 ],
 "metadata": {
  "kernelspec": {
   "display_name": "Python 3",
   "language": "python",
   "name": "python3"
  },
  "language_info": {
   "codemirror_mode": {
    "name": "ipython",
    "version": 3
   },
   "file_extension": ".py",
   "mimetype": "text/x-python",
   "name": "python",
   "nbconvert_exporter": "python",
   "pygments_lexer": "ipython3",
   "version": "3.10.7"
  },
  "orig_nbformat": 4
 },
 "nbformat": 4,
 "nbformat_minor": 2
}
