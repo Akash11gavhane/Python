{
 "cells": [
  {
   "attachments": {},
   "cell_type": "markdown",
   "metadata": {},
   "source": [
    "## Recursion : \n",
    "\n",
    "- recursion is a technique where we can write a code in which a function call it self\n",
    "\n",
    "- without loop we can do it.\n",
    "\n",
    "- recursion is difficult \n",
    "\n",
    "- Recursion vs iteration --> iteration\n",
    "    |              |\n",
    "    |              |\n",
    "for placement    for real life"
   ]
  },
  {
   "cell_type": "code",
   "execution_count": 2,
   "metadata": {},
   "outputs": [
    {
     "name": "stdout",
     "output_type": "stream",
     "text": [
      "12\n"
     ]
    }
   ],
   "source": [
    "#using simple method\n",
    "\n",
    "def multiply(a , b):\n",
    "\n",
    "    result = 0\n",
    "\n",
    "    for i in range(b):\n",
    "\n",
    "        result += a\n",
    "\n",
    "    print(result)\n",
    "\n",
    "multiply(3 , 4)"
   ]
  },
  {
   "cell_type": "code",
   "execution_count": 3,
   "metadata": {},
   "outputs": [
    {
     "name": "stdout",
     "output_type": "stream",
     "text": [
      "12\n"
     ]
    }
   ],
   "source": [
    "# using recursion\n",
    "\n",
    "def mul(a , b):\n",
    "\n",
    "    if b == 1 :\n",
    "        return a\n",
    "    else:\n",
    "        return a + mul(a , b - 1)\n",
    "    \n",
    "print(mul(3 , 4))\n",
    "\n",
    "# summarise using python tutor\n"
   ]
  },
  {
   "cell_type": "code",
   "execution_count": null,
   "metadata": {},
   "outputs": [],
   "source": [
    "# recusrion is work like stack\n",
    "# first in last out\n",
    "\n",
    "# if we make a new langauage and youy make a new feature if recursion then we use which data structure\n",
    "# we use stack data strucuture\n",
    "\n"
   ]
  },
  {
   "cell_type": "code",
   "execution_count": null,
   "metadata": {},
   "outputs": [],
   "source": [
    "# factorial program\n",
    "# e.g-->\n",
    "# find factorial of 5 \n",
    "# 5 * 4 * 3 * 2  * 1\n",
    "# find factorial of 6\n",
    "# 6 * 5 * 4 * 3 * 2  * 1\n",
    "\n",
    "# find factorial of 15\n",
    "# 15 * 14 * 13 * 12 * 11 * 10 * 9 * 8 * 7 * 6 * 5 * 4 * 3 * 2  * 1\n"
   ]
  },
  {
   "cell_type": "code",
   "execution_count": 4,
   "metadata": {},
   "outputs": [
    {
     "name": "stdout",
     "output_type": "stream",
     "text": [
      "120\n"
     ]
    }
   ],
   "source": [
    "# find the factorial of given number using recursion\n",
    "\n",
    "def fact(num):\n",
    "\n",
    "    if num == 1 : \n",
    "\n",
    "        return 1\n",
    "    \n",
    "    else : \n",
    "\n",
    "        # 5 = 5 * 4!\n",
    "\n",
    "        return num * fact(num - 1 )\n",
    "    \n",
    "print(fact(5))"
   ]
  },
  {
   "cell_type": "code",
   "execution_count": 9,
   "metadata": {},
   "outputs": [
    {
     "name": "stdout",
     "output_type": "stream",
     "text": [
      "palindrome\n",
      "palindrome\n",
      "palindrome\n"
     ]
    }
   ],
   "source": [
    "# find string is palindrome or not\n",
    "\n",
    "def palin(text):\n",
    "\n",
    "    if len(text) <= 1 :\n",
    "\n",
    "        print(\"palindrome\")\n",
    "    \n",
    "    else : \n",
    "\n",
    "        if(text[0] == text[-1]):\n",
    "\n",
    "            palin(text[1 : -1])\n",
    "\n",
    "        else : \n",
    "\n",
    "            print(\"Not a palindrome\")\n",
    "\n",
    "\n",
    "palin(\"madam\")\n",
    "palin(\"121\")\n",
    "palin(\"appa\")"
   ]
  },
  {
   "cell_type": "code",
   "execution_count": 13,
   "metadata": {},
   "outputs": [
    {
     "name": "stdout",
     "output_type": "stream",
     "text": [
      "233\n"
     ]
    }
   ],
   "source": [
    "# Rabbit problem\n",
    "\n",
    "def fib(month):\n",
    "\n",
    "    if month == 0 or month == 1 : \n",
    "\n",
    "        return 1\n",
    "    else :\n",
    "        return fib(month - 1) + fib(month - 2)\n",
    "    \n",
    "print(fib(12))"
   ]
  },
  {
   "cell_type": "code",
   "execution_count": 23,
   "metadata": {},
   "outputs": [
    {
     "name": "stdout",
     "output_type": "stream",
     "text": [
      "233\n",
      "0.0\n"
     ]
    }
   ],
   "source": [
    "import time\n",
    "def memo(month , d):\n",
    "\n",
    "    if month in d :\n",
    "\n",
    "        return d[month]\n",
    "    else :\n",
    "        d[month] = memo(month - 1 , d) + memo(month - 2 , d)\n",
    "        return d[month]\n",
    "\n",
    "start = time.time()\n",
    "d = {0 : 1 , 1 : 1} \n",
    "print(memo(12 , d))\n",
    "print(time.time() - start)\n",
    "#print(d)"
   ]
  },
  {
   "cell_type": "code",
   "execution_count": null,
   "metadata": {},
   "outputs": [],
   "source": [
    "# powerset\n",
    "\n"
   ]
  }
 ],
 "metadata": {
  "kernelspec": {
   "display_name": "Python 3",
   "language": "python",
   "name": "python3"
  },
  "language_info": {
   "codemirror_mode": {
    "name": "ipython",
    "version": 3
   },
   "file_extension": ".py",
   "mimetype": "text/x-python",
   "name": "python",
   "nbconvert_exporter": "python",
   "pygments_lexer": "ipython3",
   "version": "3.10.7"
  },
  "orig_nbformat": 4
 },
 "nbformat": 4,
 "nbformat_minor": 2
}
