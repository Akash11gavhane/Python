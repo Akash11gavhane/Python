{
 "cells": [
  {
   "attachments": {},
   "cell_type": "markdown",
   "metadata": {},
   "source": [
    "### Some Theory\n",
    "\n",
    "##### Types of data used for I/O:\n",
    "- Text - '12345' as a sequence of unicode chars\n",
    "- Binary - 12345 as a sequence of bytes of its binary equivalent\n",
    "\n",
    "##### Hence there are 2 file types to deal with\n",
    "- Text files - All program files are text files\n",
    "- Binary Files - Images,music,video,exe files"
   ]
  },
  {
   "attachments": {},
   "cell_type": "markdown",
   "metadata": {},
   "source": [
    "### How File I/O is done in most programming languages\n",
    "\n",
    "- Open a file\n",
    "- Read/Write data\n",
    "- Close the file"
   ]
  },
  {
   "attachments": {},
   "cell_type": "markdown",
   "metadata": {},
   "source": [
    "#### Writing to a file"
   ]
  },
  {
   "cell_type": "code",
   "execution_count": 3,
   "metadata": {},
   "outputs": [],
   "source": [
    "# write a code into the text file .txt\n",
    "\n",
    "\n",
    "# case 1 - if the file is not present\n",
    "\n",
    "f = open('sample.txt' , 'w')\n",
    "# here we create a new file using open() function\n",
    "# in open function we gave the file name   \"sample.txt\"\n",
    "# and the next 'w' represent in which mode we want to open it \n",
    "# now we have to write in to the file so we used 'w'\n",
    "\n",
    "f.write(\"Hello World\")\n",
    "\n",
    "# here using write() function we can write inside the file\n",
    "# we have to add text inside the write() function\n",
    "# like ----> f.write(\"Hello World\")\n",
    "\n",
    "f.close()\n",
    "\n",
    "# we close the file\n",
    "# and after closing if we do any operation it gives error"
   ]
  },
  {
   "cell_type": "code",
   "execution_count": 4,
   "metadata": {},
   "outputs": [
    {
     "ename": "ValueError",
     "evalue": "I/O operation on closed file.",
     "output_type": "error",
     "traceback": [
      "\u001b[1;31m---------------------------------------------------------------------------\u001b[0m",
      "\u001b[1;31mValueError\u001b[0m                                Traceback (most recent call last)",
      "Cell \u001b[1;32mIn[4], line 1\u001b[0m\n\u001b[1;32m----> 1\u001b[0m f\u001b[39m.\u001b[39;49mwrite(\u001b[39m\"\u001b[39;49m\u001b[39mHii\u001b[39;49m\u001b[39m\"\u001b[39;49m)\n",
      "\u001b[1;31mValueError\u001b[0m: I/O operation on closed file."
     ]
    }
   ],
   "source": [
    "# since file is closed hence this will not work\n",
    "f.write(\"Hii\")"
   ]
  },
  {
   "cell_type": "code",
   "execution_count": 7,
   "metadata": {},
   "outputs": [],
   "source": [
    "# write multiline strings\n",
    "\n",
    "f = open('sample1.txt' , 'w')\n",
    "f.write(\"Hello World\")\n",
    "f.write(\"\\nhow are you?\")\n",
    "f.close()\n",
    "\n",
    "# thats how we can add multiline text inside the file"
   ]
  },
  {
   "cell_type": "code",
   "execution_count": 9,
   "metadata": {},
   "outputs": [],
   "source": [
    "# case 2 - if the file is already present\n",
    "# how to write a file that is already exist\n",
    "# so have to give the whole path of the file \n",
    "# if the file is in the same directory then just type its name\n",
    "\n",
    "f = open(\"sample.txt\" , 'w')\n",
    "f.write(\"Akash Gavhane\")\n",
    "f.close()\n"
   ]
  },
  {
   "attachments": {},
   "cell_type": "markdown",
   "metadata": {},
   "source": [
    "how exactly open() works?\n",
    "\n",
    "        when we write \n",
    "        f = open(\"sample.txt\")\n",
    "        then the file from storage or rom come into the ram or buffer memory\n",
    "        in buffer memory the file is read characterwise\n",
    "        until we executing the operations the file is in the ram inside the buffer memory\n",
    "        and when we\n",
    "        f.close() \n",
    "        use then the file go from ram to rom\n",
    "        "
   ]
  },
  {
   "cell_type": "code",
   "execution_count": 13,
   "metadata": {},
   "outputs": [],
   "source": [
    "# Problem with w mode\n",
    "\n",
    "# the problem is the w functuion overwrite the file means it clear all the existing content from the file and rewrite it.\n",
    "\n",
    "# what can i do if i want to add new content in the file but not delete the last content inside the file \n",
    "# in that case we use append mode\n",
    "\n",
    "\n",
    "# introducing append mode\n",
    "\n",
    "f = open(\"sample1.txt\" , 'a')\n",
    "# so here 'a' is the append mode \n",
    "# here the text is not replaced just add into the next line\n",
    "\n",
    "f.write(\"\\ni am fine\")\n",
    "f.close()\n"
   ]
  },
  {
   "cell_type": "code",
   "execution_count": 33,
   "metadata": {},
   "outputs": [],
   "source": [
    "# write lines\n",
    "# what if i want to write multiple lines in the file \n",
    "# consider we have a list \n",
    "# and inside that list we have multiple sentences\n",
    "# what can i do that the whole lines add in a single line of code \n",
    "# we use writelines() function\n",
    "\n",
    "\n",
    "L = ['hello\\n','hi\\n','how are you\\n','I am fine']\n",
    "\n",
    "f = open(\"sample.txt\",'w')\n",
    "f.writelines(L)\n",
    "# we can pass a list inside the writeline function \n",
    "# and all the lines are added in the file\n",
    "f.close()"
   ]
  },
  {
   "cell_type": "code",
   "execution_count": null,
   "metadata": {},
   "outputs": [],
   "source": [
    "# why we close the file \n",
    "# to clear memory if we didnt use the f.close() the file will be in the memory\n",
    "# here the files are smalled\n",
    "# but what if our files in the gb\n",
    "# then we just wasting our memory"
   ]
  },
  {
   "cell_type": "code",
   "execution_count": 19,
   "metadata": {},
   "outputs": [],
   "source": [
    "# what if you want to save or create file inside the diffrent folder\n",
    "\n",
    "f = open(\"E:\\Data Scince and Machine Learning\\Python\\python Codes\\python Jupyter files\\Python Basics\\sample2.txt\" , 'w')\n",
    "\n",
    "\n",
    "# add the address of that folder and after that file name\n",
    "# file is created successfully\n",
    "\n",
    "f.close() "
   ]
  },
  {
   "attachments": {},
   "cell_type": "markdown",
   "metadata": {},
   "source": [
    "#### Reading a file"
   ]
  },
  {
   "cell_type": "code",
   "execution_count": null,
   "metadata": {},
   "outputs": [],
   "source": [
    "# reading from files\n",
    "\n",
    "# we have two function in reading\n",
    "\n",
    "#1.read()  --> read whole time at a time\n",
    "#2.readline() --> read the file line by Line\n"
   ]
  },
  {
   "cell_type": "code",
   "execution_count": 22,
   "metadata": {},
   "outputs": [
    {
     "name": "stdout",
     "output_type": "stream",
     "text": [
      "hello\n",
      "hi\n",
      "how are you\n",
      "I am fine\n"
     ]
    }
   ],
   "source": [
    "f = open(\"sample.txt\" , 'r')\n",
    "# here we use 'r' means we are reading the file\n",
    "\n",
    "\n",
    "s = f.read()\n",
    "print(s)\n",
    "f.close()"
   ]
  },
  {
   "cell_type": "code",
   "execution_count": 24,
   "metadata": {},
   "outputs": [
    {
     "name": "stdout",
     "output_type": "stream",
     "text": [
      "hello\n",
      "hi\n",
      "h\n"
     ]
    }
   ],
   "source": [
    "# reading upto n chars\n",
    "\n",
    "f = open(\"sample.txt\" , 'r')\n",
    "s = f.read(10) # thats how we only access the starting 10 characters\n",
    "print(s)\n",
    "f.close()"
   ]
  },
  {
   "cell_type": "code",
   "execution_count": 25,
   "metadata": {},
   "outputs": [
    {
     "name": "stdout",
     "output_type": "stream",
     "text": [
      "hello\n",
      "\n",
      "hi\n",
      "\n",
      "how are you\n",
      "\n"
     ]
    }
   ],
   "source": [
    "# what if we want to read the file by line by line\n",
    "# then use readline() function\n",
    "# readline() -> to read line by line\n",
    "\n",
    "\n",
    "f = open(\"sample.txt\" , 'r')\n",
    "print(f.readline())\n",
    "print(f.readline())\n",
    "print(f.readline())\n",
    "\n",
    "f.close()\n",
    "\n",
    "# why in the output there is extra space between lines\n",
    "# the readline function also print the line in the next line and we the print also here "
   ]
  },
  {
   "cell_type": "code",
   "execution_count": 26,
   "metadata": {},
   "outputs": [
    {
     "name": "stdout",
     "output_type": "stream",
     "text": [
      "hello\n",
      "hi\n",
      "how are you\n"
     ]
    }
   ],
   "source": [
    "f = open(\"sample.txt\" , 'r')\n",
    "print(f.readline() , end = \"\")\n",
    "print(f.readline() , end = \"\")\n",
    "print(f.readline() , end = \"\")\n",
    "\n",
    "f.close()\n",
    "\n",
    "# now the line is not changing\n"
   ]
  },
  {
   "attachments": {},
   "cell_type": "markdown",
   "metadata": {},
   "source": [
    "where we use read() and readline()?\n",
    "\n",
    "        we use readline() \n",
    "        when the file has lots of lines or content then we use readline() because we can see the content line by line and also we using readline we are not giving too much load on the memory\n",
    "\n",
    "        we use read()\n",
    "        when we have small files then we use read()"
   ]
  },
  {
   "cell_type": "code",
   "execution_count": 28,
   "metadata": {},
   "outputs": [
    {
     "name": "stdout",
     "output_type": "stream",
     "text": [
      "hello\n",
      "hi\n",
      "how are you\n",
      "I am fine"
     ]
    }
   ],
   "source": [
    "# reading entire using readline\n",
    "\n",
    "f = open('sample.txt','r')\n",
    "\n",
    "while True:\n",
    "\n",
    "  data = f.readline()\n",
    "\n",
    "  if data == '':\n",
    "    break\n",
    "  else:\n",
    "    print(data,end='')\n",
    "\n",
    "f.close()"
   ]
  },
  {
   "attachments": {},
   "cell_type": "markdown",
   "metadata": {},
   "source": [
    "### Using Context Manager (With)\n",
    "\n",
    "- It's a good idea to close a file after usage as it will free up the resources\n",
    "- If we dont close it, garbage collector would close it\n",
    "- with keyword closes the file as soon as the usage is over"
   ]
  },
  {
   "cell_type": "code",
   "execution_count": 30,
   "metadata": {},
   "outputs": [],
   "source": [
    "# with\n",
    "# with is replace for close() function\n",
    "\n",
    "with open(\"sample1.txt\" , 'w') as f:\n",
    "    f.write(\"Akash Bhau Gavhane\")\n",
    "\n",
    "# after this the our content is write\n",
    "# and the file is also code when it comes out of the \"with\"\n",
    "# with is working like a loop "
   ]
  },
  {
   "cell_type": "code",
   "execution_count": 31,
   "metadata": {},
   "outputs": [
    {
     "ename": "ValueError",
     "evalue": "I/O operation on closed file.",
     "output_type": "error",
     "traceback": [
      "\u001b[1;31m---------------------------------------------------------------------------\u001b[0m",
      "\u001b[1;31mValueError\u001b[0m                                Traceback (most recent call last)",
      "Cell \u001b[1;32mIn[31], line 4\u001b[0m\n\u001b[0;32m      1\u001b[0m \u001b[39m# so we try the file is really closed \u001b[39;00m\n\u001b[0;32m      2\u001b[0m \u001b[39m# if the file is closed then we cant edit the file or write the content inside the file and it gives error\u001b[39;00m\n\u001b[1;32m----> 4\u001b[0m f\u001b[39m.\u001b[39;49mwrite(\u001b[39m\"\u001b[39;49m\u001b[39mAk\u001b[39;49m\u001b[39m\"\u001b[39;49m)\n",
      "\u001b[1;31mValueError\u001b[0m: I/O operation on closed file."
     ]
    }
   ],
   "source": [
    "# so we try the file is really closed \n",
    "# if the file is closed then we cant edit the file or write the content inside the file and it gives error\n",
    "\n",
    "f.write(\"Ak\")"
   ]
  },
  {
   "cell_type": "code",
   "execution_count": 32,
   "metadata": {},
   "outputs": [
    {
     "name": "stdout",
     "output_type": "stream",
     "text": [
      "Akash Bhau Gavhane\n"
     ]
    }
   ],
   "source": [
    "# how to use read using with :\n",
    "\n",
    "with open(\"sample1.txt\") as f:\n",
    "    \n",
    "    print(f.read())"
   ]
  },
  {
   "cell_type": "code",
   "execution_count": 34,
   "metadata": {},
   "outputs": [
    {
     "name": "stdout",
     "output_type": "stream",
     "text": [
      "hello\n",
      "\n"
     ]
    }
   ],
   "source": [
    "with open(\"sample.txt\") as f:\n",
    "    \n",
    "    print(f.readline())"
   ]
  },
  {
   "cell_type": "code",
   "execution_count": 38,
   "metadata": {},
   "outputs": [
    {
     "name": "stdout",
     "output_type": "stream",
     "text": [
      "hello\n",
      "hi\n",
      "h\n"
     ]
    }
   ],
   "source": [
    "# moving within a file -> 10 char then 10 char\n",
    "\n",
    "with open(\"sample.txt\" , 'r') as f:\n",
    "\n",
    "    print(f.read(10))\n",
    "    "
   ]
  },
  {
   "cell_type": "code",
   "execution_count": 40,
   "metadata": {},
   "outputs": [
    {
     "name": "stdout",
     "output_type": "stream",
     "text": [
      "hello\n",
      "hi\n",
      "h\n",
      "ow are you\n",
      "\n",
      "I am fine\n"
     ]
    }
   ],
   "source": [
    "with open(\"sample.txt\" , 'r') as f:\n",
    "\n",
    "    print(f.read(10))\n",
    "    print(f.read(10))\n",
    "    print(f.read(10))\n",
    "\n",
    "\n",
    "# here inside the output\n",
    "# we can see the the next 10 char are printed not the same characters are printed\n",
    "# so thats the benefit of the buffer\n",
    "# it keep the track of that how many characters we are parsed \n",
    "# using these we can load larger size files \n",
    "# "
   ]
  },
  {
   "cell_type": "code",
   "execution_count": 49,
   "metadata": {},
   "outputs": [],
   "source": [
    "# benefit? -> to load a big file in memory\n",
    "big_L = ['hello world ' for i in range(1000)]\n",
    "# thats how we write hello world 1000 times\n",
    "\n",
    "with open('big.txt','w') as f:\n",
    "  f.writelines(big_L)\n"
   ]
  },
  {
   "cell_type": "code",
   "execution_count": 52,
   "metadata": {},
   "outputs": [
    {
     "name": "stdout",
     "output_type": "stream",
     "text": [
      "o world hello world hello world hello world hello world hello world hello world hello world hello wo***o world hello world hello world hello world hello world hello world hello world hello world hello wo***o world hello world hello world hello world hello world hello world hello world hello world hello wo***o world hello world hello world hello world hello world hello world hello world hello world hello wo***o world hello world hello world hello world hello world hello world hello world hello world hello wo***o world hello world hello world hello world hello world hello world hello world hello world hello wo***o world hello world hello world hello world hello world hello world hello world hello world hello wo***o world hello world hello world hello world hello world hello world hello world hello world hello wo***o world hello world hello world hello world hello world hello world hello world hello world hello wo***o world hello world hello world hello world hello world hello world hello world hello world hello wo***o world hello world hello world hello world hello world hello world hello world hello world hello wo***o world hello world hello world hello world hello world hello world hello world hello world hello wo***o world hello world hello world hello world hello world hello world hello world hello world hello wo***o world hello world hello world hello world hello world hello world hello world hello world hello wo***o world hello world hello world hello world hello world hello world hello world hello world hello wo***o world hello world hello world hello world hello world hello world hello world hello world hello wo***o world hello world hello world hello world hello world hello world hello world hello world hello wo***o world hello world hello world hello world hello world hello world hello world hello world hello wo***o world hello world hello world hello world hello world hello world hello world hello world hello wo***o world hello world hello world hello world hello world hello world hello world hello world hello wo***o world hello world hello world hello world hello world hello world hello world hello world hello wo***o world hello world hello world hello world hello world hello world hello world hello world hello wo***o world hello world hello world hello world hello world hello world hello world hello world hello wo***o world hello world hello world hello world hello world hello world hello world hello world hello wo***o world hello world hello world hello world hello world hello world hello world hello world hello wo***o world hello world hello world hello world hello world hello world hello world hello world hello wo***o world hello world hello world hello world hello world hello world hello world hello world hello wo***o world hello world hello world hello world hello world hello world hello world hello world hello wo***o world hello world hello world hello world hello world hello world hello world hello world hello wo***o world hello world hello world hello world hello world hello world hello world hello world hello wo***o world hello world hello world hello world hello world hello world hello world hello world hello wo***o world hello world hello world hello world hello world hello world hello world hello world hello wo***o world hello world hello world hello world hello world hello world hello world hello world hello wo***o world hello world hello world hello world hello world hello world hello world hello world hello wo***o world hello world hello world hello world hello world hello world hello world hello world hello wo***o world hello world hello world hello world hello world hello world hello world hello world hello wo***o world hello world hello world hello world hello world hello world hello world hello world hello wo***o world hello world hello world hello world hello world hello world hello world hello world hello wo***o world hello world hello world hello world hello world hello world hello world hello world hello wo***o world hello world hello world hello world hello world hello world hello world hello world hello wo***"
     ]
    }
   ],
   "source": [
    "with open('big.txt','r') as f:\n",
    "\n",
    "  chunk_size = 100\n",
    "\n",
    "  while len(f.read(chunk_size)) > 0:\n",
    "    print(f.read(chunk_size) , end = \"***\")\n",
    "    f.read(chunk_size)\n",
    "\n",
    "\n"
   ]
  },
  {
   "cell_type": "code",
   "execution_count": 54,
   "metadata": {},
   "outputs": [
    {
     "name": "stdout",
     "output_type": "stream",
     "text": [
      "hello\n",
      "hi\n",
      "h\n",
      "12\n",
      "hello\n",
      "hi\n",
      "h\n",
      "12\n"
     ]
    }
   ],
   "source": [
    "# seek and tell function\n",
    "with open('sample.txt','r') as f:\n",
    "  \n",
    "  print(f.read(10))\n",
    "  print(f.tell())\n",
    "  f.seek(0)\n",
    "  print(f.read(10))\n",
    "  print(f.tell())"
   ]
  },
  {
   "cell_type": "code",
   "execution_count": 59,
   "metadata": {},
   "outputs": [
    {
     "name": "stdout",
     "output_type": "stream",
     "text": [
      "are you\n",
      "I \n",
      "26\n",
      "hello\n",
      "hi\n",
      "h\n",
      "12\n"
     ]
    }
   ],
   "source": [
    "with open('sample.txt','r') as f:\n",
    "  \n",
    "  f.seek(15) # it print the character after 15\n",
    "  print(f.read(10))\n",
    "  print(f.tell())\n",
    "  f.seek(0) # here we can again set our curser to 0 \n",
    "  # means we can set out curser from where it can be start \n",
    "  # it clear the curser which is running in the buffer memory\n",
    "  print(f.read(10))\n",
    "  print(f.tell())\n",
    "\n",
    "  # seek can you send anywhere\n",
    "  # it vomits the between character\n",
    "\n",
    "\n",
    "  # tell() function tells you where are you or where is your curser right now"
   ]
  },
  {
   "cell_type": "code",
   "execution_count": 60,
   "metadata": {},
   "outputs": [],
   "source": [
    "# seek during write\n",
    "\n",
    "with open(\"sample.txt\" , \"w\") as f:\n",
    "\n",
    "    f.write(\"hello\")\n",
    "    f.seek(0)\n",
    "    f.write('x')\n",
    "\n",
    "\n",
    "# output --> xello"
   ]
  },
  {
   "attachments": {},
   "cell_type": "markdown",
   "metadata": {},
   "source": [
    "### Problems with working in text mode\n",
    "\n",
    "- can't work with binary files like images\n",
    "- not good for other data types like int/float/list/tuples"
   ]
  },
  {
   "attachments": {},
   "cell_type": "markdown",
   "metadata": {},
   "source": [
    "#### working with binary file"
   ]
  },
  {
   "cell_type": "code",
   "execution_count": 63,
   "metadata": {},
   "outputs": [
    {
     "ename": "UnicodeDecodeError",
     "evalue": "'charmap' codec can't decode byte 0x81 in position 251: character maps to <undefined>",
     "output_type": "error",
     "traceback": [
      "\u001b[1;31m---------------------------------------------------------------------------\u001b[0m",
      "\u001b[1;31mUnicodeDecodeError\u001b[0m                        Traceback (most recent call last)",
      "Cell \u001b[1;32mIn[63], line 5\u001b[0m\n\u001b[0;32m      1\u001b[0m \u001b[39m# working with binary file\u001b[39;00m\n\u001b[0;32m      3\u001b[0m \u001b[39mwith\u001b[39;00m \u001b[39mopen\u001b[39m(\u001b[39m\"\u001b[39m\u001b[39mscreenshot1.jpg\u001b[39m\u001b[39m\"\u001b[39m , \u001b[39m'\u001b[39m\u001b[39mr\u001b[39m\u001b[39m'\u001b[39m) \u001b[39mas\u001b[39;00m f:\n\u001b[1;32m----> 5\u001b[0m     f\u001b[39m.\u001b[39;49mread()\n\u001b[0;32m      7\u001b[0m \u001b[39m# it gives error because it is binary file\u001b[39;00m\n\u001b[0;32m      8\u001b[0m \u001b[39m# and the text is unicode characters\u001b[39;00m\n",
      "File \u001b[1;32mc:\\Program Files\\Python310\\lib\\encodings\\cp1252.py:23\u001b[0m, in \u001b[0;36mIncrementalDecoder.decode\u001b[1;34m(self, input, final)\u001b[0m\n\u001b[0;32m     22\u001b[0m \u001b[39mdef\u001b[39;00m \u001b[39mdecode\u001b[39m(\u001b[39mself\u001b[39m, \u001b[39minput\u001b[39m, final\u001b[39m=\u001b[39m\u001b[39mFalse\u001b[39;00m):\n\u001b[1;32m---> 23\u001b[0m     \u001b[39mreturn\u001b[39;00m codecs\u001b[39m.\u001b[39;49mcharmap_decode(\u001b[39minput\u001b[39;49m,\u001b[39mself\u001b[39;49m\u001b[39m.\u001b[39;49merrors,decoding_table)[\u001b[39m0\u001b[39m]\n",
      "\u001b[1;31mUnicodeDecodeError\u001b[0m: 'charmap' codec can't decode byte 0x81 in position 251: character maps to <undefined>"
     ]
    }
   ],
   "source": [
    "# working with binary file\n",
    "\n",
    "with open(\"screenshot1.jpg\" , 'r') as f:\n",
    "\n",
    "    f.read()\n",
    "\n",
    "# it gives error because it is binary file\n",
    "# and the text is unicode characters"
   ]
  },
  {
   "cell_type": "code",
   "execution_count": 65,
   "metadata": {},
   "outputs": [],
   "source": [
    "# working with binary file\n",
    "\n",
    "# creating a copy of our screenshot file exact same copy\n",
    "\n",
    "with open(\"screenshot1.jpg\" , \"rb\") as f : \n",
    "\n",
    "    # here we open file as \"rb\" -->  readBinary \n",
    "\n",
    "    # nested with\n",
    "\n",
    "    with open(\"screenshot1_copy.jpg\" , \"wb\") as wf:\n",
    "\n",
    "        # here \"wb\" --> write Binary\n",
    "\n",
    "        wf.write(f.read())\n",
    "\n",
    "        # here we read the wf \n",
    "        # and using write we store it inside the wf\n",
    "\n",
    "\n",
    "# and the file is created\n"
   ]
  },
  {
   "cell_type": "code",
   "execution_count": 67,
   "metadata": {},
   "outputs": [
    {
     "ename": "TypeError",
     "evalue": "write() argument must be str, not int",
     "output_type": "error",
     "traceback": [
      "\u001b[1;31m---------------------------------------------------------------------------\u001b[0m",
      "\u001b[1;31mTypeError\u001b[0m                                 Traceback (most recent call last)",
      "Cell \u001b[1;32mIn[67], line 7\u001b[0m\n\u001b[0;32m      1\u001b[0m \u001b[39m# working with other data types\u001b[39;00m\n\u001b[0;32m      2\u001b[0m \n\u001b[0;32m      3\u001b[0m \u001b[39m# we store int data inside a file\u001b[39;00m\n\u001b[0;32m      5\u001b[0m \u001b[39mwith\u001b[39;00m \u001b[39mopen\u001b[39m(\u001b[39m\"\u001b[39m\u001b[39msample.txt\u001b[39m\u001b[39m\"\u001b[39m , \u001b[39m\"\u001b[39m\u001b[39mw\u001b[39m\u001b[39m\"\u001b[39m) \u001b[39mas\u001b[39;00m f:\n\u001b[1;32m----> 7\u001b[0m     f\u001b[39m.\u001b[39;49mwrite(\u001b[39m5\u001b[39;49m)\n\u001b[0;32m      8\u001b[0m     \u001b[39m# we never store the int data type or any other data tyep inside a text file\u001b[39;00m\n",
      "\u001b[1;31mTypeError\u001b[0m: write() argument must be str, not int"
     ]
    }
   ],
   "source": [
    "# working with other data types\n",
    "\n",
    "# we store int data inside a file\n",
    "\n",
    "with open(\"sample.txt\" , \"w\") as f:\n",
    "\n",
    "    f.write(5)\n",
    "    # we never store the int data type or any other data tyep inside a text file"
   ]
  },
  {
   "cell_type": "code",
   "execution_count": 68,
   "metadata": {},
   "outputs": [],
   "source": [
    "with open('sample.txt','w') as f:\n",
    "  f.write('5')\n",
    "\n",
    "  #now the code is working \n",
    "  # we have to make other data types in to the textual data"
   ]
  },
  {
   "cell_type": "code",
   "execution_count": 70,
   "metadata": {},
   "outputs": [
    {
     "ename": "TypeError",
     "evalue": "can only concatenate str (not \"int\") to str",
     "output_type": "error",
     "traceback": [
      "\u001b[1;31m---------------------------------------------------------------------------\u001b[0m",
      "\u001b[1;31mTypeError\u001b[0m                                 Traceback (most recent call last)",
      "Cell \u001b[1;32mIn[70], line 2\u001b[0m\n\u001b[0;32m      1\u001b[0m \u001b[39mwith\u001b[39;00m \u001b[39mopen\u001b[39m(\u001b[39m'\u001b[39m\u001b[39msample.txt\u001b[39m\u001b[39m'\u001b[39m,\u001b[39m'\u001b[39m\u001b[39mr\u001b[39m\u001b[39m'\u001b[39m) \u001b[39mas\u001b[39;00m f:\n\u001b[1;32m----> 2\u001b[0m   \u001b[39mprint\u001b[39m(f\u001b[39m.\u001b[39;49mread() \u001b[39m+\u001b[39;49m \u001b[39m5\u001b[39;49m)\n",
      "\u001b[1;31mTypeError\u001b[0m: can only concatenate str (not \"int\") to str"
     ]
    }
   ],
   "source": [
    "with open('sample.txt','r') as f:\n",
    "  print(f.read() + 5)"
   ]
  },
  {
   "cell_type": "code",
   "execution_count": 71,
   "metadata": {},
   "outputs": [
    {
     "name": "stdout",
     "output_type": "stream",
     "text": [
      "10\n"
     ]
    }
   ],
   "source": [
    "with open('sample.txt','r') as f:\n",
    "  print(int(f.read()) + 5)"
   ]
  },
  {
   "cell_type": "code",
   "execution_count": 73,
   "metadata": {},
   "outputs": [
    {
     "ename": "TypeError",
     "evalue": "write() argument must be str, not dict",
     "output_type": "error",
     "traceback": [
      "\u001b[1;31m---------------------------------------------------------------------------\u001b[0m",
      "\u001b[1;31mTypeError\u001b[0m                                 Traceback (most recent call last)",
      "Cell \u001b[1;32mIn[73], line 9\u001b[0m\n\u001b[0;32m      2\u001b[0m d \u001b[39m=\u001b[39m {\n\u001b[0;32m      3\u001b[0m     \u001b[39m'\u001b[39m\u001b[39mname\u001b[39m\u001b[39m'\u001b[39m:\u001b[39m'\u001b[39m\u001b[39mnitish\u001b[39m\u001b[39m'\u001b[39m,\n\u001b[0;32m      4\u001b[0m      \u001b[39m'\u001b[39m\u001b[39mage\u001b[39m\u001b[39m'\u001b[39m:\u001b[39m33\u001b[39m,\n\u001b[0;32m      5\u001b[0m      \u001b[39m'\u001b[39m\u001b[39mgender\u001b[39m\u001b[39m'\u001b[39m:\u001b[39m'\u001b[39m\u001b[39mmale\u001b[39m\u001b[39m'\u001b[39m\n\u001b[0;32m      6\u001b[0m }\n\u001b[0;32m      8\u001b[0m \u001b[39mwith\u001b[39;00m \u001b[39mopen\u001b[39m(\u001b[39m'\u001b[39m\u001b[39msample.txt\u001b[39m\u001b[39m'\u001b[39m,\u001b[39m'\u001b[39m\u001b[39mw\u001b[39m\u001b[39m'\u001b[39m) \u001b[39mas\u001b[39;00m f:\n\u001b[1;32m----> 9\u001b[0m   f\u001b[39m.\u001b[39;49mwrite(d)\n",
      "\u001b[1;31mTypeError\u001b[0m: write() argument must be str, not dict"
     ]
    }
   ],
   "source": [
    "# more complex data\n",
    "d = {\n",
    "    'name':'nitish',\n",
    "     'age':33,\n",
    "     'gender':'male'\n",
    "}\n",
    "\n",
    "with open('sample.txt','w') as f:\n",
    "  f.write(d)"
   ]
  },
  {
   "cell_type": "code",
   "execution_count": 77,
   "metadata": {},
   "outputs": [],
   "source": [
    "# more complex data\n",
    "d = {\n",
    "    'name':'nitish',\n",
    "     'age':33,\n",
    "     'gender':'male'\n",
    "}\n",
    "\n",
    "with open('sample.txt','w') as f:\n",
    "  f.write(str(d))\n",
    "  # we convert it into the string\n",
    "  # we have to cconvert it to read and write any other data types"
   ]
  },
  {
   "cell_type": "code",
   "execution_count": 79,
   "metadata": {},
   "outputs": [
    {
     "name": "stdout",
     "output_type": "stream",
     "text": [
      "{'name': 'nitish', 'age': 33, 'gender': 'male'}\n"
     ]
    }
   ],
   "source": [
    "with open('sample.txt','r') as f:\n",
    "  print(f.read())"
   ]
  },
  {
   "cell_type": "code",
   "execution_count": null,
   "metadata": {},
   "outputs": [],
   "source": [
    "with open('sample.txt','r') as f:\n",
    "  print(dict(f.read()))\n",
    "\n",
    "  # we cant convert a string in to a dict \n",
    "  # if we add a dictionary inside a file we never get it back as a dictionary\n",
    "  \n"
   ]
  },
  {
   "attachments": {},
   "cell_type": "markdown",
   "metadata": {},
   "source": [
    "### Serialization and Deserialization\n",
    "\n",
    "- **Serialization** - process of converting python data types to JSON format\n",
    "- **Deserialization** - process of converting JSON to python data types\n",
    "\n",
    "#### What is JSON?\n",
    "\n",
    "        JSON stands for JavaScript Object Notation\n",
    "\n",
    "        JSON is a lightweight format for storing and transporting data\n",
    "\n",
    "        JSON is often used when data is sent from a server to a web page\n",
    "\n",
    "        JSON is \"self-describing\" and easy to understand\n",
    "\n",
    "        Json is understand by every programming langauge"
   ]
  },
  {
   "cell_type": "code",
   "execution_count": 81,
   "metadata": {},
   "outputs": [],
   "source": [
    "# serialization using json module\n",
    "# list\n",
    "\n",
    "#we are converting list into JSON\n",
    "\n",
    "import json\n",
    "# for using JSON we have to import json package\n",
    "\n",
    "L = [1 , 2 , 3 , 4]\n",
    "\n",
    "with open(\"demo.json\" , 'w')as f :\n",
    "\n",
    "    json.dump(L , f)\n",
    "    # json module has function called dump \n",
    "    # we have to give two things inside the dump() function\n",
    "    # what to dump and your file handler object\n",
    "\n",
    "    # and the new json file is created\n",
    "    # and in that json file the list is stored\n"
   ]
  },
  {
   "cell_type": "code",
   "execution_count": 83,
   "metadata": {},
   "outputs": [],
   "source": [
    "# dict\n",
    "d = {\n",
    "    'name':'nitish',\n",
    "     'age':33,\n",
    "     'gender':'male'\n",
    "}\n",
    "\n",
    "\n",
    "with open(\"demo.json\" , \"w\") as f:\n",
    "\n",
    "    json.dump(d , f , indent = 4)\n",
    "\n",
    "\n",
    "# thats how we can store python datatypes in to the json format\n",
    "\n"
   ]
  },
  {
   "attachments": {},
   "cell_type": "markdown",
   "metadata": {},
   "source": [
    "deserialization"
   ]
  },
  {
   "cell_type": "code",
   "execution_count": 84,
   "metadata": {},
   "outputs": [
    {
     "name": "stdout",
     "output_type": "stream",
     "text": [
      "{'name': 'nitish', 'age': 33, 'gender': 'male'}\n"
     ]
    }
   ],
   "source": [
    "# deserialization\n",
    "\n",
    "import json\n",
    "\n",
    "with open(\"demo.json\" , \"r\") as f:\n",
    "\n",
    "    print(json.load(f))\n"
   ]
  },
  {
   "cell_type": "code",
   "execution_count": 85,
   "metadata": {},
   "outputs": [],
   "source": [
    "# using deserilization we convert json to python\n",
    "# or access the pythons complex data types\n",
    "# using serilization and deserlization"
   ]
  },
  {
   "cell_type": "code",
   "execution_count": 87,
   "metadata": {},
   "outputs": [],
   "source": [
    "# serialize and deserialize tuple\n",
    "import json\n",
    "\n",
    "t = (1,2,3,4,5)\n",
    "\n",
    "with open('demo.json','w') as f:\n",
    "  json.dump(t,f)\n",
    "\n",
    "# when we serialize the tuple then it stores like list\n",
    "# and when we access that tuple we not get it back as tuple we get list"
   ]
  },
  {
   "cell_type": "code",
   "execution_count": 90,
   "metadata": {},
   "outputs": [],
   "source": [
    "# serialize and deserialize a nested dict\n",
    "\n",
    "d = {\n",
    "    'student':'nitish',\n",
    "     'marks':[23,14,34,45,56]\n",
    "}\n",
    "\n",
    "with open('demo.json','w') as f:\n",
    "  json.dump(d,f , indent= 4)"
   ]
  },
  {
   "attachments": {},
   "cell_type": "markdown",
   "metadata": {},
   "source": [
    "### Serializing and Deserializing custom objects"
   ]
  },
  {
   "cell_type": "code",
   "execution_count": 91,
   "metadata": {},
   "outputs": [],
   "source": [
    "class Person:\n",
    "\n",
    "  def __init__(self,fname,lname,age,gender):\n",
    "    self.fname = fname\n",
    "    self.lname = lname\n",
    "    self.age = age\n",
    "    self.gender = gender\n",
    "\n",
    "# format to printed in\n",
    "# -> Nitish Singh age -> 33 gender -> male"
   ]
  },
  {
   "cell_type": "code",
   "execution_count": 92,
   "metadata": {},
   "outputs": [],
   "source": [
    "person = Person('Nitish','Singh',33,'male')"
   ]
  },
  {
   "cell_type": "code",
   "execution_count": 93,
   "metadata": {},
   "outputs": [
    {
     "ename": "TypeError",
     "evalue": "Object of type Person is not JSON serializable",
     "output_type": "error",
     "traceback": [
      "\u001b[1;31m---------------------------------------------------------------------------\u001b[0m",
      "\u001b[1;31mTypeError\u001b[0m                                 Traceback (most recent call last)",
      "Cell \u001b[1;32mIn[93], line 7\u001b[0m\n\u001b[0;32m      3\u001b[0m \u001b[39mimport\u001b[39;00m \u001b[39mjson\u001b[39;00m\n\u001b[0;32m      5\u001b[0m \u001b[39mwith\u001b[39;00m \u001b[39mopen\u001b[39m(\u001b[39m\"\u001b[39m\u001b[39mdemo.json\u001b[39m\u001b[39m\"\u001b[39m , \u001b[39m\"\u001b[39m\u001b[39mw\u001b[39m\u001b[39m\"\u001b[39m) \u001b[39mas\u001b[39;00m f:\n\u001b[1;32m----> 7\u001b[0m     json\u001b[39m.\u001b[39;49mdump(person , f)\n",
      "File \u001b[1;32mc:\\Program Files\\Python310\\lib\\json\\__init__.py:179\u001b[0m, in \u001b[0;36mdump\u001b[1;34m(obj, fp, skipkeys, ensure_ascii, check_circular, allow_nan, cls, indent, separators, default, sort_keys, **kw)\u001b[0m\n\u001b[0;32m    173\u001b[0m     iterable \u001b[39m=\u001b[39m \u001b[39mcls\u001b[39m(skipkeys\u001b[39m=\u001b[39mskipkeys, ensure_ascii\u001b[39m=\u001b[39mensure_ascii,\n\u001b[0;32m    174\u001b[0m         check_circular\u001b[39m=\u001b[39mcheck_circular, allow_nan\u001b[39m=\u001b[39mallow_nan, indent\u001b[39m=\u001b[39mindent,\n\u001b[0;32m    175\u001b[0m         separators\u001b[39m=\u001b[39mseparators,\n\u001b[0;32m    176\u001b[0m         default\u001b[39m=\u001b[39mdefault, sort_keys\u001b[39m=\u001b[39msort_keys, \u001b[39m*\u001b[39m\u001b[39m*\u001b[39mkw)\u001b[39m.\u001b[39miterencode(obj)\n\u001b[0;32m    177\u001b[0m \u001b[39m# could accelerate with writelines in some versions of Python, at\u001b[39;00m\n\u001b[0;32m    178\u001b[0m \u001b[39m# a debuggability cost\u001b[39;00m\n\u001b[1;32m--> 179\u001b[0m \u001b[39mfor\u001b[39;00m chunk \u001b[39min\u001b[39;00m iterable:\n\u001b[0;32m    180\u001b[0m     fp\u001b[39m.\u001b[39mwrite(chunk)\n",
      "File \u001b[1;32mc:\\Program Files\\Python310\\lib\\json\\encoder.py:438\u001b[0m, in \u001b[0;36m_make_iterencode.<locals>._iterencode\u001b[1;34m(o, _current_indent_level)\u001b[0m\n\u001b[0;32m    436\u001b[0m         \u001b[39mraise\u001b[39;00m \u001b[39mValueError\u001b[39;00m(\u001b[39m\"\u001b[39m\u001b[39mCircular reference detected\u001b[39m\u001b[39m\"\u001b[39m)\n\u001b[0;32m    437\u001b[0m     markers[markerid] \u001b[39m=\u001b[39m o\n\u001b[1;32m--> 438\u001b[0m o \u001b[39m=\u001b[39m _default(o)\n\u001b[0;32m    439\u001b[0m \u001b[39myield from\u001b[39;00m _iterencode(o, _current_indent_level)\n\u001b[0;32m    440\u001b[0m \u001b[39mif\u001b[39;00m markers \u001b[39mis\u001b[39;00m \u001b[39mnot\u001b[39;00m \u001b[39mNone\u001b[39;00m:\n",
      "File \u001b[1;32mc:\\Program Files\\Python310\\lib\\json\\encoder.py:179\u001b[0m, in \u001b[0;36mJSONEncoder.default\u001b[1;34m(self, o)\u001b[0m\n\u001b[0;32m    160\u001b[0m \u001b[39mdef\u001b[39;00m \u001b[39mdefault\u001b[39m(\u001b[39mself\u001b[39m, o):\n\u001b[0;32m    161\u001b[0m     \u001b[39m\"\"\"Implement this method in a subclass such that it returns\u001b[39;00m\n\u001b[0;32m    162\u001b[0m \u001b[39m    a serializable object for ``o``, or calls the base implementation\u001b[39;00m\n\u001b[0;32m    163\u001b[0m \u001b[39m    (to raise a ``TypeError``).\u001b[39;00m\n\u001b[1;32m   (...)\u001b[0m\n\u001b[0;32m    177\u001b[0m \n\u001b[0;32m    178\u001b[0m \u001b[39m    \"\"\"\u001b[39;00m\n\u001b[1;32m--> 179\u001b[0m     \u001b[39mraise\u001b[39;00m \u001b[39mTypeError\u001b[39;00m(\u001b[39mf\u001b[39m\u001b[39m'\u001b[39m\u001b[39mObject of type \u001b[39m\u001b[39m{\u001b[39;00mo\u001b[39m.\u001b[39m\u001b[39m__class__\u001b[39m\u001b[39m.\u001b[39m\u001b[39m__name__\u001b[39m\u001b[39m}\u001b[39;00m\u001b[39m \u001b[39m\u001b[39m'\u001b[39m\n\u001b[0;32m    180\u001b[0m                     \u001b[39mf\u001b[39m\u001b[39m'\u001b[39m\u001b[39mis not JSON serializable\u001b[39m\u001b[39m'\u001b[39m)\n",
      "\u001b[1;31mTypeError\u001b[0m: Object of type Person is not JSON serializable"
     ]
    }
   ],
   "source": [
    "# as a string\n",
    "\n",
    "import json\n",
    "\n",
    "with open(\"demo.json\" , \"w\") as f:\n",
    "\n",
    "    json.dump(person , f)"
   ]
  },
  {
   "cell_type": "code",
   "execution_count": 95,
   "metadata": {},
   "outputs": [],
   "source": [
    "# As a string\n",
    "import json\n",
    "\n",
    "def show_object(person):\n",
    "  if isinstance(person,Person):\n",
    "    return \"{} {} age -> {} gender -> {}\".format(person.fname,person.lname,person.age,person.gender)\n",
    "\n",
    "with open('demo.json','w') as f:\n",
    "  json.dump(person,f,default=show_object)"
   ]
  },
  {
   "cell_type": "code",
   "execution_count": 96,
   "metadata": {},
   "outputs": [],
   "source": [
    "# As a dict\n",
    "import json\n",
    "\n",
    "def show_object(person):\n",
    "  if isinstance(person,Person):\n",
    "    return {'name':person.fname + ' ' + person.lname,'age':person.age,'gender':person.gender}\n",
    "\n",
    "with open('demo.json','w') as f:\n",
    "  json.dump(person,f,default=show_object,indent=4)"
   ]
  },
  {
   "cell_type": "code",
   "execution_count": 97,
   "metadata": {},
   "outputs": [
    {
     "name": "stdout",
     "output_type": "stream",
     "text": [
      "{'name': 'Nitish Singh', 'age': 33, 'gender': 'male'}\n",
      "<class 'dict'>\n"
     ]
    }
   ],
   "source": [
    "# deserializing\n",
    "import json\n",
    "\n",
    "with open('demo.json','r') as f:\n",
    "  d = json.load(f)\n",
    "  print(d)\n",
    "  print(type(d))"
   ]
  },
  {
   "attachments": {},
   "cell_type": "markdown",
   "metadata": {},
   "source": [
    "### Pickling\n",
    "`Pickling` is the process whereby a Python object hierarchy is converted into a byte stream\n",
    "\n",
    "and \n",
    "\n",
    "`unpickling` is the inverse operation, whereby a byte stream (from a binary file or bytes-like object) is converted back into an object hierarchy."
   ]
  },
  {
   "cell_type": "code",
   "execution_count": 98,
   "metadata": {},
   "outputs": [],
   "source": [
    "class Person:\n",
    "\n",
    "  def __init__(self,name,age):\n",
    "    self.name = name\n",
    "    self.age = age\n",
    "\n",
    "  def display_info(self):\n",
    "    print('Hi my name is',self.name,'and I am ',self.age,'years old')"
   ]
  },
  {
   "cell_type": "code",
   "execution_count": 99,
   "metadata": {},
   "outputs": [],
   "source": [
    "p = Person('nitish',33)"
   ]
  },
  {
   "cell_type": "code",
   "execution_count": 100,
   "metadata": {},
   "outputs": [],
   "source": [
    "# pickle dump\n",
    "import pickle\n",
    "with open('person.pkl','wb') as f:\n",
    "  pickle.dump(p,f)"
   ]
  },
  {
   "cell_type": "code",
   "execution_count": 102,
   "metadata": {},
   "outputs": [
    {
     "name": "stdout",
     "output_type": "stream",
     "text": [
      "Hi my name is nitish and I am  33 years old\n"
     ]
    }
   ],
   "source": [
    "# pickle load\n",
    "import pickle\n",
    "with open('person.pkl','rb') as f:\n",
    "  p = pickle.load(f)\n",
    "\n",
    "p.display_info()"
   ]
  },
  {
   "attachments": {},
   "cell_type": "markdown",
   "metadata": {},
   "source": [
    "### Pickle Vs Json\n",
    "\n",
    "- Pickle lets the user to store data in binary format. JSON lets the user store data in a human-readable text format."
   ]
  },
  {
   "cell_type": "code",
   "execution_count": null,
   "metadata": {},
   "outputs": [],
   "source": []
  }
 ],
 "metadata": {
  "kernelspec": {
   "display_name": "Python 3",
   "language": "python",
   "name": "python3"
  },
  "language_info": {
   "codemirror_mode": {
    "name": "ipython",
    "version": 3
   },
   "file_extension": ".py",
   "mimetype": "text/x-python",
   "name": "python",
   "nbconvert_exporter": "python",
   "pygments_lexer": "ipython3",
   "version": "3.10.7"
  },
  "orig_nbformat": 4
 },
 "nbformat": 4,
 "nbformat_minor": 2
}
