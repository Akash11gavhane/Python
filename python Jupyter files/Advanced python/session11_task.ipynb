{
  "nbformat": 4,
  "nbformat_minor": 0,
  "metadata": {
    "colab": {
      "provenance": []
    },
    "kernelspec": {
      "name": "python3",
      "display_name": "Python 3"
    },
    "language_info": {
      "name": "python"
    }
  },
  "cells": [
    {
      "cell_type": "markdown",
      "source": [
        "## Exception Handling\n"
      ],
      "metadata": {
        "id": "ajVfqio_GinI"
      }
    },
    {
      "cell_type": "markdown",
      "source": [
        "###`Q-1`: You are given a function definition. There might be several issues on execution of this function. You are asked to do exception handling for diffrent errors that this function goes in to `without altering this function`. And print error text.\n",
        "\n"
      ],
      "metadata": {
        "id": "0qnQkJtnGozz"
      }
    },
    {
      "cell_type": "markdown",
      "source": [
        "Function parameters `l -> list, s -> could be anything`\n",
        "\n",
        "```\n",
        "def function(l: list, s, **args):\n",
        "    last_element = l[-1]\n",
        "    \n",
        "    l[int(s)]=10\n",
        "    any_element = l[int(s)+10]\n",
        "    l[s]=10\n",
        "    \n",
        "    res = sum(l)\n",
        "    \n",
        "    p = args['p']\n",
        "    # print(p)\n",
        "    return res/last_element * p + any_element\n",
        "\n",
        "```\n",
        "Check for different function calls:-\n",
        "\n",
        "```\n",
        "function([1,2,1], 12)\n",
        "function([1,2,1]*9, '1-2')\n",
        "function([1,'2',1]*9, 12)\n",
        "function([1,'2',1]*9, 12)\n",
        "function([1,2,0]*9, 12  )\n",
        "function([1,2,1]*9, 12, p=None)\n",
        "function([1,2,0]*9, 12, p=10)\n",
        "```"
      ],
      "metadata": {
        "id": "2no_EB2fGyGq"
      }
    },
    {
      "cell_type": "code",
      "source": [
        "# Write code here\n",
        "\n",
        "def function(l : list , s , **args):\n",
        "\n",
        "  try :\n",
        "\n",
        "    last_element = l[-1]\n",
        "\n",
        "    l[int(s)]=10\n",
        "    any_element = l[int(s)+10]\n",
        "    l[s]=10\n",
        "\n",
        "    res = sum(l)\n",
        "\n",
        "    p = args['p']\n",
        "    # print(p)\n",
        "    return res/last_element * p + any_element\n",
        "\n",
        "  except IndexError as e :\n",
        "    print(\"IndexError:\", str(e))\n",
        "\n",
        "  except ValueError as e :\n",
        "    print(\"ValueError : \" , str(e))\n",
        "\n",
        "  except TypeError as e : \n",
        "    print(\"TypeError : \"  , str(e))\n",
        "\n",
        "  except KeyError as e :\n",
        "    print(\"KeyError : \" , str(e))\n",
        "\n",
        "  except ZeroDivisionError as e : \n",
        "    print(\"ZeroDivisionError : \" , str(e))\n",
        "\n",
        "  "
      ],
      "metadata": {
        "id": "VoaL4_9eGjFU"
      },
      "execution_count": 17,
      "outputs": []
    },
    {
      "cell_type": "code",
      "source": [
        "function([1,2,1], 12)\n",
        "function([1,2,1]*9, '1-2')\n",
        "function([1,'2',1]*9, 12)\n",
        "function([1,'2',1]*9, 12)\n",
        "function([1,2,0]*9, 12  )\n",
        "function([1,2,1]*9, 12, p=None)\n",
        "function([1,2,0]*9, 12, p=10)"
      ],
      "metadata": {
        "id": "2p0r_cEM3vIt",
        "outputId": "684f8088-37f0-4bca-8b91-5a58c26e48b0",
        "colab": {
          "base_uri": "https://localhost:8080/",
          "height": 0
        }
      },
      "execution_count": 19,
      "outputs": [
        {
          "output_type": "stream",
          "name": "stdout",
          "text": [
            "IndexError: list assignment index out of range\n",
            "ValueError :  invalid literal for int() with base 10: '1-2'\n",
            "TypeError :  unsupported operand type(s) for +: 'int' and 'str'\n",
            "TypeError :  unsupported operand type(s) for +: 'int' and 'str'\n",
            "KeyError :  'p'\n",
            "TypeError :  unsupported operand type(s) for *: 'float' and 'NoneType'\n",
            "ZeroDivisionError :  division by zero\n"
          ]
        }
      ]
    },
    {
      "cell_type": "markdown",
      "source": [
        "###`Q-2:` You are given a code snippet. There might be several issues on execution of this code. You are asked to do exception handling for diffrent errors, condition is what ever happens we need to execute last line printing correct result of `sum of elements`.\n",
        "\n",
        "List have elemnts as any no of  `key-pair dict with key as list index and value as any integer`, `integers` and `numeric-strings`. There is always only one element in the dict.\n",
        "\n",
        "\n",
        "```\n",
        "l = [{0:2},2,3,4,'5', {5:10}]\n",
        "# For calculating sum of above list\n",
        "s=0\n",
        "for i in range(len(l)):\n",
        "    #You can Edit code from here\n",
        "    s += l[i].get(i)\n",
        "    s += l[i]\n",
        "    s += int(l[i])\n",
        "\n",
        "\n",
        "print(s)\n",
        "```"
      ],
      "metadata": {
        "id": "HuLMy2fVG9sL"
      }
    },
    {
      "cell_type": "code",
      "source": [
        "# Write code here\n",
        "l = [{0:2},2,3,4,'5', {5:10}]\n",
        "# For calculating sum of above list\n",
        "s=0\n",
        "for i in range(len(l)):\n",
        "    #You can Edit code from here\n",
        "    try : \n",
        "      s += l[i].get(i)\n",
        "\n",
        "    except AttributeError as e:\n",
        "      print(\"Attribute Error : \" , str(e))\n",
        "    try : \n",
        "      s += l[i]\n",
        "    except TypeError as e : \n",
        "      print(\"Type Error : \" , str(e))\n",
        "    \n",
        "    try : \n",
        "      s += int(l[i])\n",
        "\n",
        "    except TypeError as e : \n",
        "      print(\"Type Error : \" , str(e))\n",
        "\n",
        "print(s)"
      ],
      "metadata": {
        "id": "pEP8JU0qHAf8",
        "colab": {
          "base_uri": "https://localhost:8080/",
          "height": 0
        },
        "outputId": "ee0b8c5d-532f-4090-893a-f791d185ac76"
      },
      "execution_count": 23,
      "outputs": [
        {
          "output_type": "stream",
          "name": "stdout",
          "text": [
            "Type Error :  unsupported operand type(s) for +=: 'int' and 'dict'\n",
            "Type Error :  int() argument must be a string, a bytes-like object or a real number, not 'dict'\n",
            "Attribute Error :  'int' object has no attribute 'get'\n",
            "Attribute Error :  'int' object has no attribute 'get'\n",
            "Attribute Error :  'int' object has no attribute 'get'\n",
            "Attribute Error :  'str' object has no attribute 'get'\n",
            "Type Error :  unsupported operand type(s) for +=: 'int' and 'str'\n",
            "Type Error :  unsupported operand type(s) for +=: 'int' and 'dict'\n",
            "Type Error :  int() argument must be a string, a bytes-like object or a real number, not 'dict'\n",
            "35\n"
          ]
        }
      ]
    },
    {
      "cell_type": "code",
      "source": [
        "l = [{0: 2}, 2, 3, 4, '5', {5: 10}]\n",
        "s = 0\n",
        "for i in range(len(l)):\n",
        "    try:\n",
        "        s += l[i].get(i)\n",
        "        s += l[i]\n",
        "        s += int(l[i])\n",
        "    except (KeyError, TypeError, ValueError , AttributeError):\n",
        "        pass\n",
        "\n",
        "print(s)\n"
      ],
      "metadata": {
        "id": "ci6jOGzj5hNs",
        "outputId": "d2cda7ac-4dcd-4c9e-a769-6152d7afa4ec",
        "colab": {
          "base_uri": "https://localhost:8080/",
          "height": 0
        }
      },
      "execution_count": 25,
      "outputs": [
        {
          "output_type": "stream",
          "name": "stdout",
          "text": [
            "12\n"
          ]
        }
      ]
    },
    {
      "cell_type": "code",
      "source": [
        "l = [{0:2},2,3,4,'5', {5:10}]\n",
        "# For calculating sum of above list\n",
        "s=0\n",
        "for i in range(len(l)):\n",
        "    #You can Edit code from here\n",
        "    try:\n",
        "      s += l[i].get(i)\n",
        "      s += l[i]\n",
        "      s += int(l[i])\n",
        "    except AttributeError as e:\n",
        "        print(\"Error: l[i] is not a dict.\")\n",
        "    except KeyError as e:\n",
        "        print(\"Error: Key {} not found in l[i].\".format(i))\n",
        "    except TypeError as e:\n",
        "        print(\"Type Error : \" , str(e))\n",
        "    except ValueError as e:\n",
        "        print(\"Error: {} is not an integer.\".format(l[i]))\n",
        "    \n",
        "\n",
        "\n",
        "print(s)\n"
      ],
      "metadata": {
        "id": "EiOOHbk15jjE",
        "outputId": "2acec06c-a53a-401d-d432-ad2d05f3ddbe",
        "colab": {
          "base_uri": "https://localhost:8080/",
          "height": 0
        }
      },
      "execution_count": 32,
      "outputs": [
        {
          "output_type": "stream",
          "name": "stdout",
          "text": [
            "Type Error :  unsupported operand type(s) for +=: 'int' and 'dict'\n",
            "Error: l[i] is not a dict.\n",
            "Error: l[i] is not a dict.\n",
            "Error: l[i] is not a dict.\n",
            "Error: l[i] is not a dict.\n",
            "Type Error :  unsupported operand type(s) for +=: 'int' and 'dict'\n",
            "12\n"
          ]
        }
      ]
    },
    {
      "cell_type": "markdown",
      "source": [
        "### `Q-3:`: File Handling with Exception handling\n",
        "\n",
        "Write a program that opens a text file and write data to it as \"Hello, Good Morning!!!\". Handle exceptions that can be generated during the I/O operations. Do not show the success message on the main exception handling block (write inside the else block)."
      ],
      "metadata": {
        "id": "ohE2fDTXHIan"
      }
    },
    {
      "cell_type": "code",
      "source": [
        "# write code here\n",
        "\n",
        "file_path = \"sample.txt\"\n",
        "\n",
        "try : \n",
        "  with open(file_path , 'w') as f : \n",
        "    f.write(\"Hello , Good Morning!!!!\")\n",
        "\n",
        "except IOError as e : \n",
        "  print(\"IOError : \" , str(e))\n",
        "\n",
        "except Exception as e :\n",
        "  print(\"An unknown error occured : \" , str(e))\n",
        "\n",
        "else : \n",
        "  print(\"data is successfully write into the file..\")"
      ],
      "metadata": {
        "id": "iOeiWrcIHPlY",
        "colab": {
          "base_uri": "https://localhost:8080/",
          "height": 0
        },
        "outputId": "82ef9e91-3d2c-4337-f1c5-87eaa9ffa0fd"
      },
      "execution_count": 38,
      "outputs": [
        {
          "output_type": "stream",
          "name": "stdout",
          "text": [
            "data is successfully write into the file..\n"
          ]
        }
      ]
    },
    {
      "cell_type": "markdown",
      "source": [
        "### `Q-4`: Number game program.\n",
        "\n",
        "Write a number game program. Ask the user to enter a number. If the number is greater than number to be guessed, raise a **ValueTooLarge** exception. If the value is smaller the number to be guessed the, raise a **ValueTooSmall** exception and prompt the user to enter again. Quit the program only when the user enters the correct number. Also raise **GuessError** if user guess a number less than 1."
      ],
      "metadata": {
        "id": "ru8g8-_bHTUf"
      }
    },
    {
      "cell_type": "code",
      "source": [
        "from IPython.utils.path import random\n",
        "# Write code here\n",
        "\n",
        "\n",
        "class ValueTooLarge(Exception):\n",
        "    pass\n",
        "\n",
        "class ValueTooSmall(Exception):\n",
        "    pass\n",
        "\n",
        "class GuessError(Exception):\n",
        "    pass\n",
        "\n",
        "\n",
        "def guess_number() : \n",
        "\n",
        "  while True : \n",
        "    try : \n",
        "\n",
        "      guessNumber = random.randint(1 , 100)\n",
        "      num = int(input(\"Enter a number\"))\n",
        "\n",
        "      if num == 1 : \n",
        "        raise GuessError(\"Invalid guess! Please enter a number greater than 0.\")\n",
        "\n",
        "      elif num == guessNumber :\n",
        "        print(\"correct guess\")\n",
        "      elif num < guessNumber :\n",
        "\n",
        "        raise ValueTooSmall(\"Too small! Try again with a larger number.\")\n",
        "\n",
        "      elif num > guessNumber :\n",
        "\n",
        "        raise ValueTooLarge(\"Too Big!! try again with a large number.\")\n",
        "    \n",
        "\n",
        "\n",
        "    except GuessError as ge:\n",
        "      print(ge)\n",
        "    except ValueTooSmall as vs:\n",
        "      print(vs)\n",
        "    except ValueTooLarge as vb :\n",
        "      print(vb)\n",
        "\n",
        "guess_number()"
      ],
      "metadata": {
        "id": "QftlN5LJHZSX"
      },
      "execution_count": null,
      "outputs": []
    },
    {
      "cell_type": "markdown",
      "source": [
        "### `Q-5:` Cast vote\n",
        "\n",
        "Write a program that validate name and age as entered by the user to determine whether the person can cast vote or not. To handle the age, create **InvalidAge** exception and for name, create **InvalidName** exception. The name will be invalid when the string will be empty or name has only one word.\n",
        "\n",
        "Example 1:\n",
        "\n",
        "Input:\n",
        "\n",
        "```bash\n",
        "Enter the name:               goransh singh\n",
        "Enter the age: 25\n",
        "```\n",
        "\n",
        "Output:\n",
        "\n",
        "```bash\n",
        "Goransh Singh  Congratulation !!! You can vote.\n",
        "```"
      ],
      "metadata": {
        "id": "ZsGI_40fHcsd"
      }
    },
    {
      "cell_type": "code",
      "source": [
        "# Write code here\n",
        "class InvalidAge(Exception):\n",
        "    pass\n",
        "\n",
        "class InvalidName(Exception):\n",
        "    pass\n",
        "\n",
        "def validate_vote():\n",
        "    try:\n",
        "        name = input(\"Enter the name: \").strip()\n",
        "\n",
        "        if len(name) == 0 or len(name.split()) == 1:\n",
        "            raise InvalidName(\"Invalid name! Name must have at least two words.\")\n",
        "\n",
        "        age = int(input(\"Enter the age: \"))\n",
        "\n",
        "        if age < 18:\n",
        "            raise InvalidAge(\"Sorry! You are not eligible to vote.\")\n",
        "\n",
        "        print(name.title(), \"Congratulation!!! You can vote.\")\n",
        "\n",
        "    except ValueError:\n",
        "        print(\"Invalid age! Please enter a valid age.\")\n",
        "\n",
        "    except InvalidName as invn:\n",
        "        print(invn)\n",
        "\n",
        "    except InvalidAge as inva:\n",
        "        print(inva)\n",
        "\n",
        "validate_vote()\n"
      ],
      "metadata": {
        "id": "OHL3UiS4Hi3U",
        "colab": {
          "base_uri": "https://localhost:8080/",
          "height": 0
        },
        "outputId": "39dc8f71-7b40-4a2d-806b-86fc08549426"
      },
      "execution_count": 51,
      "outputs": [
        {
          "output_type": "stream",
          "name": "stdout",
          "text": [
            "Enter the name: Akash Gavhane\n",
            "Enter the age: 18\n",
            "Akash Gavhane Congratulation!!! You can vote.\n"
          ]
        }
      ]
    },
    {
      "cell_type": "markdown",
      "source": [
        "### `Q-6`: Write a python function which infinitely prints natural numbers in a single line. Raise the **StopIteration** exception after displaying first 20 numnbers to exit from the program."
      ],
      "metadata": {
        "id": "SCvs0QjgHlOG"
      }
    },
    {
      "cell_type": "code",
      "source": [
        "# Write code here\n",
        "\n",
        "def print_natural_numbers():\n",
        "    count = 1\n",
        "\n",
        "    while True:\n",
        "        print(count, end=' ')\n",
        "        count += 1\n",
        "\n",
        "        if count > 20:\n",
        "            raise StopIteration\n",
        "\n",
        "try:\n",
        "    print_natural_numbers()\n",
        "\n",
        "except StopIteration:\n",
        "    print(\"\\nStopped printing after displaying the first 20 numbers.\")\n"
      ],
      "metadata": {
        "id": "Lc5ilNgNHoSx",
        "colab": {
          "base_uri": "https://localhost:8080/",
          "height": 0
        },
        "outputId": "2d891dab-8612-4e39-d91c-d665dc27f870"
      },
      "execution_count": 52,
      "outputs": [
        {
          "output_type": "stream",
          "name": "stdout",
          "text": [
            "1 2 3 4 5 6 7 8 9 10 11 12 13 14 15 16 17 18 19 20 \n",
            "Stopped printing after displaying the first 20 numbers.\n"
          ]
        }
      ]
    }
  ]
}