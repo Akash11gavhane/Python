{
 "cells": [
  {
   "attachments": {},
   "cell_type": "markdown",
   "metadata": {},
   "source": [
    "python is well designed\n",
    "\n",
    "    it is beautiful \n",
    "    the code written by python is easy to understand \n",
    "\n",
    "python is easy to learn for beginners also \n",
    "\n",
    "python has multiple additional features\n",
    "\n",
    "the loops of python are much better than the loops of c++ and java\n",
    "\n",
    "it support general purpose language\n",
    "\n",
    "using python we can make : \n",
    "\n",
    "        web apps \n",
    "        softwares \n",
    "        desktop softwares\n",
    "        we can write data science code\n",
    "        hacking \n",
    "\n",
    "\n",
    "\n",
    "the community of python is very large \n",
    "\n",
    "it provides many libraries that makes your work so easy \n",
    "\n",
    "\n"
   ]
  },
  {
   "attachments": {},
   "cell_type": "markdown",
   "metadata": {},
   "source": [
    "### why Python for Data science : \n",
    "\n",
    "\n",
    "        1. Easy to learn\n",
    "        2. proximity with maths means we found lot of libraries of maths in python (numpy , scipy) because of that data scientist of mathematecian choose python\n",
    "\n",
    "        3. community :-\n",
    "\n",
    "\n",
    "                community grows day by day and makes new libraries solves the problems the python."
   ]
  },
  {
   "attachments": {},
   "cell_type": "markdown",
   "metadata": {},
   "source": [
    "## python is slow compare to c++ and java !! \n",
    "\n",
    "        but the python developrs find the solution for that by providing the libraries like **Numpy**"
   ]
  },
  {
   "cell_type": "code",
   "execution_count": null,
   "metadata": {},
   "outputs": [],
   "source": []
  }
 ],
 "metadata": {
  "language_info": {
   "name": "python"
  },
  "orig_nbformat": 4
 },
 "nbformat": 4,
 "nbformat_minor": 2
}
