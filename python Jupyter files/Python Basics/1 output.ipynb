{
 "cells": [
  {
   "attachments": {},
   "cell_type": "markdown",
   "metadata": {},
   "source": [
    "Python output :\n",
    "\n",
    "    print() we give input in bracket and it gives a output."
   ]
  },
  {
   "cell_type": "code",
   "execution_count": 3,
   "metadata": {},
   "outputs": [
    {
     "name": "stdout",
     "output_type": "stream",
     "text": [
      "Akash Gavhane\n"
     ]
    }
   ],
   "source": [
    "# python print function\n",
    "# print() -> print function gives output.\n",
    "\n",
    "print(\"Akash Gavhane\")\n",
    "\n",
    "# Print(\"Akash Gavhane\");\n",
    "    # it gives error because python is case sensitive"
   ]
  },
  {
   "cell_type": "code",
   "execution_count": 6,
   "metadata": {},
   "outputs": [
    {
     "name": "stdout",
     "output_type": "stream",
     "text": [
      "Akash\n",
      "Gavhane\n",
      "Akash Gavhane\n"
     ]
    }
   ],
   "source": [
    "# Diffrent types of using Print function\n",
    "\n",
    "print(\"Akash\")\n",
    "print('Gavhane')\n",
    "print('''Akash Gavhane''')"
   ]
  },
  {
   "cell_type": "code",
   "execution_count": 7,
   "metadata": {},
   "outputs": [
    {
     "name": "stdout",
     "output_type": "stream",
     "text": [
      "Hello 1 4.5 True\n"
     ]
    }
   ],
   "source": [
    "# we can print any type of data type using print function\n",
    "\n",
    "\n",
    "# We can print multiple things using print function\n",
    "print('Hello' , 1 , 4.5 , True)\n",
    "# why there is a space between output\n",
    "# python functions seprator parameter is resposnisble for that.\n",
    "    # using sep parameter we can seprate the output by custom output\n",
    "    # by default value of sep parameter is \" \"(spaace).\n",
    "    "
   ]
  },
  {
   "cell_type": "code",
   "execution_count": 12,
   "metadata": {},
   "outputs": [
    {
     "name": "stdout",
     "output_type": "stream",
     "text": [
      "Hello !!! How are you ?\n",
      "Hello/1/4.5/True\n",
      "Hello\n",
      "World\n",
      "Hello-world\n"
     ]
    }
   ],
   "source": [
    "print(\"Hello\" , \"How are you ?\" , sep = ' !!! ')\n",
    "\n",
    "print('Hello' , 1 , 4.5 , True , sep='/')\n",
    "\n",
    "# print end line\n",
    "\n",
    "print(\"Hello\")\n",
    "print(\"World\")\n",
    "\n",
    "print(\"Hello\" , end='-')\n",
    "print(\"world\")"
   ]
  },
  {
   "cell_type": "code",
   "execution_count": 1,
   "metadata": {},
   "outputs": [
    {
     "name": "stdout",
     "output_type": "stream",
     "text": [
      "Hello World\n"
     ]
    }
   ],
   "source": [
    "print(\"Hello World\")"
   ]
  },
  {
   "cell_type": "code",
   "execution_count": null,
   "metadata": {},
   "outputs": [],
   "source": []
  },
  {
   "attachments": {},
   "cell_type": "markdown",
   "metadata": {},
   "source": []
  }
 ],
 "metadata": {
  "kernelspec": {
   "display_name": "Python 3",
   "language": "python",
   "name": "python3"
  },
  "language_info": {
   "codemirror_mode": {
    "name": "ipython",
    "version": 3
   },
   "file_extension": ".py",
   "mimetype": "text/x-python",
   "name": "python",
   "nbconvert_exporter": "python",
   "pygments_lexer": "ipython3",
   "version": "3.10.7"
  },
  "orig_nbformat": 4,
  "vscode": {
   "interpreter": {
    "hash": "26de051ba29f2982a8de78e945f0abaf191376122a1563185a90213a26c5da77"
   }
  }
 },
 "nbformat": 4,
 "nbformat_minor": 2
}
