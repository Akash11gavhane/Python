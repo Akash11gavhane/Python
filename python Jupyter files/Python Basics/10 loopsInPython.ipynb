{
 "cells": [
  {
   "attachments": {},
   "cell_type": "markdown",
   "metadata": {},
   "source": [
    "Loops In python \n",
    "\n",
    "        using loops we can repeat the one thing for numerous time"
   ]
  },
  {
   "attachments": {},
   "cell_type": "markdown",
   "metadata": {},
   "source": [
    "There are two types ofloop in python : \n",
    "\n",
    "    1. While Loop \n",
    "    2. For Loop\n",
    "    "
   ]
  },
  {
   "attachments": {},
   "cell_type": "markdown",
   "metadata": {},
   "source": [
    "Need of Loops : \n",
    "\n",
    "    loops used in diffrent type of softwares.\n",
    "    for showing diffrent type of categories."
   ]
  },
  {
   "attachments": {},
   "cell_type": "markdown",
   "metadata": {},
   "source": [
    "1. While Loop : \n",
    "    \n",
    "    with the while loop we can execute a set of statement as\n",
    "    long as a condition is true.\n",
    "    "
   ]
  },
  {
   "cell_type": "code",
   "execution_count": 1,
   "metadata": {},
   "outputs": [
    {
     "name": "stdout",
     "output_type": "stream",
     "text": [
      "15 * 1  =  15\n",
      "15 * 2  =  30\n",
      "15 * 3  =  45\n",
      "15 * 4  =  60\n",
      "15 * 5  =  75\n",
      "15 * 6  =  90\n",
      "15 * 7  =  105\n",
      "15 * 8  =  120\n",
      "15 * 9  =  135\n",
      "15 * 10  =  150\n"
     ]
    }
   ],
   "source": [
    "# Print the table using while loops.\n",
    "\n",
    "num = int(input(\"Enter a number :  \"))\n",
    " \n",
    "i = 1\n",
    "while i <= 10:\n",
    "  \n",
    "  print(num , \"*\" , i , \" = \" ,  num * i)\n",
    "  i = i + 1  "
   ]
  },
  {
   "cell_type": "code",
   "execution_count": 2,
   "metadata": {},
   "outputs": [
    {
     "name": "stdout",
     "output_type": "stream",
     "text": [
      "1\n",
      "2\n",
      "limit crossed\n"
     ]
    }
   ],
   "source": [
    "# while loop with else \n",
    "\n",
    "x = 1\n",
    "\n",
    "while x < 3:\n",
    "  print(x)\n",
    "  x += 1\n",
    "\n",
    "else:\n",
    "  print('limit crossed')\n",
    "\n"
   ]
  },
  {
   "cell_type": "code",
   "execution_count": 10,
   "metadata": {},
   "outputs": [
    {
     "name": "stdout",
     "output_type": "stream",
     "text": [
      "Wrong!! , Guess Higher\n",
      "Wrong!! , Guess Higher\n",
      "Wrong!! , Guess Higher\n",
      "Wrong!! , guess lower\n",
      "Wrong!! , Guess Higher\n",
      "Wrong!! , guess lower\n",
      "Wrong!! , guess lower\n",
      "Wrong!! , guess lower\n",
      "Correct guess\n",
      "Attempts :  9\n"
     ]
    }
   ],
   "source": [
    "# guessing game \n",
    "\n",
    "import random\n",
    "\n",
    "# generate random number from 1 - 100\n",
    "jackpot = random.randint(1 , 100)\n",
    "\n",
    "guess = int(input(\"Enter a number\"))\n",
    "counter = 1\n",
    "while guess != jackpot : \n",
    "\n",
    "    if guess < jackpot : \n",
    "        print(\"Wrong!! , Guess Higher\")\n",
    "\n",
    "    elif guess > jackpot : \n",
    "        print(\"Wrong!! , guess lower\")\n",
    "\n",
    "    guess = int(input(\"Enter a number\"))\n",
    "    counter = counter + 1 \n",
    "else : \n",
    "    print(\"Correct guess\")\n",
    "    print(\"Attempts : \" , counter)\n",
    "\n",
    "\n"
   ]
  },
  {
   "attachments": {},
   "cell_type": "markdown",
   "metadata": {},
   "source": [
    "2. For loop : \n",
    "\n",
    "        a for loop is used to iterating over a sequance."
   ]
  },
  {
   "cell_type": "code",
   "execution_count": 13,
   "metadata": {},
   "outputs": [
    {
     "name": "stdout",
     "output_type": "stream",
     "text": [
      "1\n",
      "2\n",
      "3\n",
      "4\n",
      "5\n",
      "6\n",
      "7\n",
      "8\n",
      "9\n",
      "10\n"
     ]
    }
   ],
   "source": [
    "# for loop demo\n",
    "\n",
    "for i in range(1,11) :\n",
    "    print(i)\n",
    "    i = i + 1"
   ]
  },
  {
   "cell_type": "code",
   "execution_count": 14,
   "metadata": {},
   "outputs": [
    {
     "name": "stdout",
     "output_type": "stream",
     "text": [
      "1\n",
      "5\n",
      "9\n"
     ]
    }
   ],
   "source": [
    "for i in range(1 , 11 , 4):\n",
    "    print(i)\n",
    "    #i += 1"
   ]
  },
  {
   "cell_type": "code",
   "execution_count": null,
   "metadata": {},
   "outputs": [],
   "source": []
  },
  {
   "cell_type": "code",
   "execution_count": 7,
   "metadata": {},
   "outputs": [
    {
     "name": "stdout",
     "output_type": "stream",
     "text": [
      "10\n",
      "9\n",
      "8\n",
      "7\n",
      "6\n",
      "5\n",
      "4\n",
      "3\n",
      "2\n",
      "1\n"
     ]
    }
   ],
   "source": [
    "for i in range(10 , 0 , -1) : \n",
    "    print(i)"
   ]
  },
  {
   "cell_type": "code",
   "execution_count": 9,
   "metadata": {},
   "outputs": [
    {
     "name": "stdout",
     "output_type": "stream",
     "text": [
      "1\n",
      "2\n",
      "3\n",
      "4\n",
      "5\n",
      "6\n",
      "7\n",
      "8\n",
      "9\n"
     ]
    }
   ],
   "source": [
    "for i in {1,2,3,4,5,6,7,8,9} :\n",
    "    print(i)\n",
    "    i += 1\n"
   ]
  },
  {
   "attachments": {},
   "cell_type": "markdown",
   "metadata": {},
   "source": [
    "Program - The current population of a town is 10000. The population of the town is increasing at the rate of 10% per year. You have to write a program to find out the population at the end of each of the last 10 years."
   ]
  },
  {
   "cell_type": "code",
   "execution_count": 15,
   "metadata": {},
   "outputs": [
    {
     "name": "stdout",
     "output_type": "stream",
     "text": [
      "10 10000\n",
      "9 9000.0\n",
      "8 8100.0\n",
      "7 7290.0\n",
      "6 6561.0\n",
      "5 5904.9\n",
      "4 5314.41\n",
      "3 4782.969\n",
      "2 4304.6721\n",
      "1 3874.20489\n"
     ]
    }
   ],
   "source": [
    "\n",
    "curr_pop = 10000\n",
    "\n",
    "for i in range(10 , 0 , -1):\n",
    "\n",
    "    print(i , curr_pop)\n",
    "    curr_pop = curr_pop - 0.1 * curr_pop"
   ]
  },
  {
   "cell_type": "code",
   "execution_count": 21,
   "metadata": {},
   "outputs": [
    {
     "name": "stdout",
     "output_type": "stream",
     "text": [
      "Population at the end of year 10: 9000\n",
      "Population at the end of year 9: 8100\n",
      "Population at the end of year 8: 7290\n",
      "Population at the end of year 7: 6561\n",
      "Population at the end of year 6: 5904\n",
      "Population at the end of year 5: 5314\n",
      "Population at the end of year 4: 4782\n",
      "Population at the end of year 3: 4304\n",
      "Population at the end of year 2: 3874\n",
      "Population at the end of year 1: 3486\n"
     ]
    }
   ],
   "source": [
    "population = 10000\n",
    "growth_rate = 0.10  # 10% growth rate per year\n",
    "\n",
    "for year in range(10, 0 ,-1):  # Calculate population for the last 10 years\n",
    "    #population *= (1 + growth_rate)  # Calculate new population\n",
    "    population = population - growth_rate * population\n",
    "    print(f\"Population at the end of year {year}: {int(population)}\")\n"
   ]
  }
 ],
 "metadata": {
  "kernelspec": {
   "display_name": "Python 3",
   "language": "python",
   "name": "python3"
  },
  "language_info": {
   "codemirror_mode": {
    "name": "ipython",
    "version": 3
   },
   "file_extension": ".py",
   "mimetype": "text/x-python",
   "name": "python",
   "nbconvert_exporter": "python",
   "pygments_lexer": "ipython3",
   "version": "3.10.7"
  },
  "orig_nbformat": 4,
  "vscode": {
   "interpreter": {
    "hash": "26de051ba29f2982a8de78e945f0abaf191376122a1563185a90213a26c5da77"
   }
  }
 },
 "nbformat": 4,
 "nbformat_minor": 2
}
