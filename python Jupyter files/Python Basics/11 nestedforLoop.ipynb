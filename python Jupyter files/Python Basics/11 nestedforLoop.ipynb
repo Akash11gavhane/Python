{
 "cells": [
  {
   "cell_type": "code",
   "execution_count": 2,
   "metadata": {},
   "outputs": [
    {
     "name": "stdout",
     "output_type": "stream",
     "text": [
      "10 10000\n",
      "9 9090.0\n",
      "8 8263.0\n",
      "7 7511.0\n",
      "6 6828.0\n",
      "5 6207.0\n",
      "4 5642.0\n",
      "3 5129.0\n",
      "2 4662.0\n",
      "1 4238.0\n"
     ]
    }
   ],
   "source": [
    "# program : \n",
    "## the current population of a town is 10000. the population of the town is increasing at the rate of 10% per year.\n",
    "### You have to write a program to find out the population at the end of each of the last 10 years.\n",
    "\n",
    "\n",
    "curr_pop = 10000\n",
    "\n",
    "for i in range(10 , 0 , -1) : \n",
    "    print(i , curr_pop)\n",
    "    curr_pop = curr_pop // 1.1\n"
   ]
  },
  {
   "attachments": {},
   "cell_type": "markdown",
   "metadata": {},
   "source": [
    "Sequance Sum -- >  for loop example\n",
    "\n",
    "1/1i + 2/2i + 3/3i+_____________________+n/ni\n",
    "\n",
    "find Sum till nth Num\n",
    "\n"
   ]
  },
  {
   "cell_type": "code",
   "execution_count": 8,
   "metadata": {},
   "outputs": [
    {
     "name": "stdout",
     "output_type": "stream",
     "text": [
      "1.0\n"
     ]
    }
   ],
   "source": [
    "# Take input from here\n",
    "n = int(input(\"Enter Nth Term\"))\n",
    "\n",
    "result = 0\n",
    "fact = 1\n",
    "for i in range(1 , n+1):\n",
    "\n",
    "    fact = fact * 1 \n",
    "    result = result + i/fact\n",
    "\n",
    "print(result)"
   ]
  },
  {
   "attachments": {},
   "cell_type": "markdown",
   "metadata": {},
   "source": [
    "Nested For loop"
   ]
  },
  {
   "cell_type": "code",
   "execution_count": 1,
   "metadata": {},
   "outputs": [
    {
     "name": "stdout",
     "output_type": "stream",
     "text": [
      "1 1\n",
      "1 2\n",
      "1 3\n",
      "1 4\n",
      "2 1\n",
      "2 2\n",
      "2 3\n",
      "2 4\n",
      "3 1\n",
      "3 2\n",
      "3 3\n",
      "3 4\n",
      "4 1\n",
      "4 2\n",
      "4 3\n",
      "4 4\n"
     ]
    }
   ],
   "source": [
    "for i in range(1 , 5 ):\n",
    "    for j in range(1,5):\n",
    "        print(i ,  j)"
   ]
  },
  {
   "cell_type": "code",
   "execution_count": 11,
   "metadata": {},
   "outputs": [],
   "source": [
    "# Print The following Pattern.\n",
    "\n",
    "#  *\n",
    "#  * * \n",
    "#  * * * \n",
    "#  * * * *\n",
    "#  * * * * *\n",
    "\n"
   ]
  },
  {
   "cell_type": "code",
   "execution_count": 13,
   "metadata": {},
   "outputs": [
    {
     "name": "stdout",
     "output_type": "stream",
     "text": [
      "* \n",
      "* * \n",
      "* * * \n",
      "* * * * \n",
      "* * * * * \n"
     ]
    }
   ],
   "source": [
    "nrow = int(input(\"Enter the Number of rows\"))\n",
    "for i in range(1 , nrow+1):\n",
    "    for j in range(1 , i+1):\n",
    "        print(\"*\" , end = ' ')\n",
    "    print()"
   ]
  },
  {
   "cell_type": "code",
   "execution_count": null,
   "metadata": {},
   "outputs": [],
   "source": [
    "# print the following pattern\n",
    "\n",
    "# 1\n",
    "# 1 2 1\n",
    "# 1 2 3 2 1 \n",
    "# 1 2 3 4 3 2 1\n",
    "\n",
    "nrow = int(input('Enter the Number of rows'))\n",
    "\n",
    "for i in range(1 , nrow+1):\n",
    "    for j in range(1 , i+1):\n",
    "        print(j , end=' ')\n",
    "    for k in range(i-1 , 0 , -1):\n",
    "        print(k , end=' ')\n",
    "    print()"
   ]
  },
  {
   "cell_type": "code",
   "execution_count": null,
   "metadata": {},
   "outputs": [],
   "source": []
  }
 ],
 "metadata": {
  "kernelspec": {
   "display_name": "Python 3",
   "language": "python",
   "name": "python3"
  },
  "language_info": {
   "codemirror_mode": {
    "name": "ipython",
    "version": 3
   },
   "file_extension": ".py",
   "mimetype": "text/x-python",
   "name": "python",
   "nbconvert_exporter": "python",
   "pygments_lexer": "ipython3",
   "version": "3.10.7 (tags/v3.10.7:6cc6b13, Sep  5 2022, 14:08:36) [MSC v.1933 64 bit (AMD64)]"
  },
  "orig_nbformat": 4,
  "vscode": {
   "interpreter": {
    "hash": "26de051ba29f2982a8de78e945f0abaf191376122a1563185a90213a26c5da77"
   }
  }
 },
 "nbformat": 4,
 "nbformat_minor": 2
}
