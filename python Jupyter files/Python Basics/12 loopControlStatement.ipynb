{
 "cells": [
  {
   "attachments": {},
   "cell_type": "markdown",
   "metadata": {},
   "source": [
    "Loop COntrol Statement \n",
    "\n",
    "    1. Break\n",
    "            break statement break the loop means the execution of loop is stopped\n",
    "\n",
    "    2. Continue\n",
    "                Continue statement skip the current iteration or condition that is mentioned.\n",
    "                if the condition is meet then continue statement skip the iteration and more to next iteration.\n",
    "\n",
    "    3. pass\n",
    "\n",
    "        pass is used for telling the interpreter that do not show error. I write code here means pass or skip function  pass or skip that iteration without execution."
   ]
  },
  {
   "cell_type": "code",
   "execution_count": 2,
   "metadata": {},
   "outputs": [
    {
     "name": "stdout",
     "output_type": "stream",
     "text": [
      "1\n",
      "2\n",
      "3\n",
      "4\n"
     ]
    }
   ],
   "source": [
    "# Break \n",
    "\n",
    "for i in range(1 , 10):\n",
    "    if i == 5 :\n",
    "        break\n",
    "    print(i)\n",
    "\n",
    "\n",
    "## searching is an example of break.\n",
    "## if we want to search a person or entity in the database and when weerminated rat find that entity at that time the loop become ther than it checks all the database"
   ]
  },
  {
   "cell_type": "code",
   "execution_count": null,
   "metadata": {},
   "outputs": [],
   "source": [
    "\n",
    "# print prime numbers between 1 to 100\n",
    "\n",
    "# see the logic for finding prime number on youtube\n",
    "\n",
    "# we take lower range and upper range from user\n",
    "\n",
    "lower = int(input(\"enter lower range\"))\n",
    "upper = int(input(\"Enter upper range\"))\n",
    "\n",
    "for i in range(lower , upper+1):\n",
    "     for j in range(2 , i ):\n",
    "        if i % j == 0 :\n",
    "            break\n",
    "        else:\n",
    "            print(i)"
   ]
  },
  {
   "cell_type": "code",
   "execution_count": 5,
   "metadata": {},
   "outputs": [
    {
     "name": "stdout",
     "output_type": "stream",
     "text": [
      "1\n",
      "2\n",
      "3\n",
      "4\n",
      "6\n",
      "7\n",
      "8\n",
      "9\n"
     ]
    }
   ],
   "source": [
    "# Continue \n",
    "\n",
    "for i in range(1,10):\n",
    "    if i == 5 :\n",
    "        continue\n",
    "    print(i)\n",
    "\n",
    "\n",
    "# if we want to display the products on e-commerce site but we dont want to display the products that have 0 stock or out of stock. then we run a loop and that check the current stock of that product."
   ]
  },
  {
   "cell_type": "code",
   "execution_count": null,
   "metadata": {},
   "outputs": [],
   "source": [
    "# pass \n",
    "\n",
    "for i in range(1 , 10):\n",
    "    pass\n",
    "\n",
    "# pass is mechanism for not throwing an error.\n"
   ]
  }
 ],
 "metadata": {
  "kernelspec": {
   "display_name": "Python 3",
   "language": "python",
   "name": "python3"
  },
  "language_info": {
   "codemirror_mode": {
    "name": "ipython",
    "version": 3
   },
   "file_extension": ".py",
   "mimetype": "text/x-python",
   "name": "python",
   "nbconvert_exporter": "python",
   "pygments_lexer": "ipython3",
   "version": "3.10.7 (tags/v3.10.7:6cc6b13, Sep  5 2022, 14:08:36) [MSC v.1933 64 bit (AMD64)]"
  },
  "orig_nbformat": 4,
  "vscode": {
   "interpreter": {
    "hash": "26de051ba29f2982a8de78e945f0abaf191376122a1563185a90213a26c5da77"
   }
  }
 },
 "nbformat": 4,
 "nbformat_minor": 2
}
