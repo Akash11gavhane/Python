{
 "cells": [
  {
   "attachments": {},
   "cell_type": "markdown",
   "metadata": {},
   "source": [
    "Strings : \n",
    "\n",
    "    Text is the string in programming language.\n",
    "    String is a collection of characters.\n",
    "\n",
    "        In Python specifically , Strings are the sequance of characters.\n",
    "\n",
    "        Python code are unicode strings.\n",
    "\n",
    "        What is Unicode Strings ? \n",
    "\n",
    "            In early time there are 8 bit computers means 256 bits to store a value.\n",
    "            but in unicode we can store  16  bits (2 to power 16 )\n",
    "            \n",
    "\n",
    "\n",
    "\n"
   ]
  },
  {
   "attachments": {},
   "cell_type": "markdown",
   "metadata": {},
   "source": [
    "Creating String :\n",
    "\n",
    "    s = \"hello World\"\n",
    "    s = 'hello world'\n",
    "    s = '''hello world'''\n",
    "\n",
    "    for multiline input we use :\n",
    "\n",
    "        s = '''Akash is a \n",
    "                good learner'''"
   ]
  },
  {
   "attachments": {},
   "cell_type": "markdown",
   "metadata": {},
   "source": [
    "Accessign A Substring from a String : \n",
    "\n",
    "    Indexing :\n",
    "        there are two types of indexing : \n",
    "\n",
    "            1. Postive indexing  : \n",
    "\n",
    "                s = \"hello World\"\n",
    "\n",
    "                    python assign values for every character\n",
    "\n",
    "                    print(s[0])  --> we get 'h' here.\n",
    "\n",
    "                    h e l l o ' ' w o r l d\n",
    "                    | | | | |  |  | | | | |\n",
    "                    0 1 2 3 4  5  6 7 8 9 10\n",
    "\n",
    "            2. Negative Indexing : \n",
    "\n",
    "                s = \"helloworld\"\n",
    "\n",
    "                    by negative indexing you can get character from last character.\n",
    "\n",
    "                    print(s[-1]) --> we get 'd' here.\n",
    "\n",
    "                    h  e  l  l  o  w  o  r  l  d\n",
    "                    |  |  |  |  |  |  |  |  |  |\n",
    "                   -10 -9 -8 -7 -6 -5 -4 -3 -2 -1\n"
   ]
  },
  {
   "cell_type": "code",
   "execution_count": 5,
   "metadata": {},
   "outputs": [
    {
     "name": "stdout",
     "output_type": "stream",
     "text": [
      "h\n",
      " \n",
      "l\n",
      "d\n",
      "w\n",
      "l\n"
     ]
    }
   ],
   "source": [
    "# positive indexing\n",
    "\n",
    "s = \"hello world\"\n",
    "\n",
    "print(s[0])\n",
    "print(s[5])\n",
    "print(s[9])\n",
    "\n",
    "#   negative Indexing\n",
    "\n",
    "print(s[-1])\n",
    "print(s[-5])\n",
    "print(s[-9])"
   ]
  },
  {
   "cell_type": "code",
   "execution_count": 16,
   "metadata": {},
   "outputs": [
    {
     "name": "stdout",
     "output_type": "stream",
     "text": [
      "Hello\n",
      "l\n",
      "ll\n",
      "Hlo\n",
      "W olle\n",
      "dlroW\n",
      "World\n",
      "\n"
     ]
    }
   ],
   "source": [
    "# Slicing \n",
    "# in slicing we can access multiple character of a string at a same time\n",
    "\n",
    "s = \"Hello World\"\n",
    "\n",
    "print(s[0:5]) # \n",
    "print(s[2:3])\n",
    "print(s[2:4])\n",
    "\n",
    "print(s[0:6:2])\n",
    "\n",
    "# here start from 0th index to 6th index , and last 2 is for jump. it skip the middle 2 character.\n",
    "\n",
    "# similar its work for negative indexing \n",
    "\n",
    "print(s[6:0:-1])\n",
    "\n",
    "print(s[-1 : -6 : -1 ])\n",
    "\n",
    "print(s[-5 : ])\n",
    "\n",
    "print(s[-1 : -5])"
   ]
  },
  {
   "attachments": {},
   "cell_type": "markdown",
   "metadata": {},
   "source": [
    "Editing and Deleting of string \n",
    "\n",
    "       we cannot change a string in python once its created.\n",
    "\n",
    "        "
   ]
  },
  {
   "cell_type": "code",
   "execution_count": 19,
   "metadata": {},
   "outputs": [
    {
     "ename": "NameError",
     "evalue": "name 's' is not defined",
     "output_type": "error",
     "traceback": [
      "\u001b[1;31m---------------------------------------------------------------------------\u001b[0m",
      "\u001b[1;31mNameError\u001b[0m                                 Traceback (most recent call last)",
      "Cell \u001b[1;32mIn[19], line 8\u001b[0m\n\u001b[0;32m      2\u001b[0m \u001b[39m# s[0] = 'H' \u001b[39;00m\n\u001b[0;32m      3\u001b[0m \u001b[39m# strings in python are immutable.\u001b[39;00m\n\u001b[0;32m      4\u001b[0m \u001b[39m# immuatable means : once its create we cannot change it.\u001b[39;00m\n\u001b[0;32m      6\u001b[0m \u001b[39mdel\u001b[39;00m s\n\u001b[1;32m----> 8\u001b[0m \u001b[39mprint\u001b[39m(s)\n",
      "\u001b[1;31mNameError\u001b[0m: name 's' is not defined"
     ]
    }
   ],
   "source": [
    "s  =\"hello world\" \n",
    "# s[0] = 'H' \n",
    "# strings in python are immutable.\n",
    "# immuatable means : once its create we cannot change it.\n",
    "\n",
    "del s\n",
    "\n",
    "print(s) \n",
    "\n",
    "# because our variable s is deleted\n",
    "# using del function we can delete the variable of string\n",
    "\n",
    "# using del the whole string is delete we cannot delete some part of string\n",
    "# because pythons strings are immutable. so they cannot change\n"
   ]
  },
  {
   "attachments": {},
   "cell_type": "markdown",
   "metadata": {},
   "source": [
    "Operations On String : \n",
    "\n",
    "    1. Arithmatic Operations : \n",
    "\n",
    "        Strings Support + and * operations.\n",
    "\n",
    "        print(\"delhi\" + \"mumbai\") --> delhimumbai\n",
    "\n",
    "            '+' is used for concatenation of the two strings.\n",
    "\n",
    "        pri\n"
   ]
  },
  {
   "cell_type": "code",
   "execution_count": 22,
   "metadata": {},
   "outputs": [
    {
     "name": "stdout",
     "output_type": "stream",
     "text": [
      "delhimumbai\n",
      "delhi delhi delhi delhi delhi \n"
     ]
    }
   ],
   "source": [
    "# + \n",
    "print(\"delhi\" + \"mumbai\")\n",
    "\n",
    "# '*'\n",
    "\n",
    "print(\"delhi \" * 5)\n"
   ]
  },
  {
   "attachments": {},
   "cell_type": "markdown",
   "metadata": {},
   "source": [
    "2. Relational Operators \n",
    "    "
   ]
  },
  {
   "cell_type": "code",
   "execution_count": 25,
   "metadata": {},
   "outputs": [
    {
     "name": "stdout",
     "output_type": "stream",
     "text": [
      "False\n",
      "True\n",
      "False\n"
     ]
    }
   ],
   "source": [
    "# equal to operator (==)\n",
    "\n",
    "print(\"mumbai\" == \"Pune\")\n",
    "\n",
    "# here we check that both strings are same or not \n",
    "\n",
    "print(\"mumbai\" != \"Pune\")\n",
    "\n",
    "# here we check that both strings are equal \n",
    "\n",
    "print(\"mumbai\" > \"pune\") \n",
    "\n",
    "# here we compare the characters on the basis of lexiography which uses ascii values for comparison"
   ]
  },
  {
   "attachments": {},
   "cell_type": "markdown",
   "metadata": {},
   "source": [
    "3. Logical Operators"
   ]
  },
  {
   "cell_type": "code",
   "execution_count": 34,
   "metadata": {},
   "outputs": [
    {
     "name": "stdout",
     "output_type": "stream",
     "text": [
      "world\n",
      "hello\n",
      "True\n",
      "False\n"
     ]
    }
   ],
   "source": [
    "# and operator \n",
    "\n",
    "print(\"hello\" and \"world\" )\n",
    "\n",
    "# or operator \n",
    "\n",
    "print(\"hello\" or \"World\")\n",
    "\n",
    "# in python empty string means false\n",
    "# and string which have characters that are True \n",
    "\n",
    "# \"\" --> False ; \"Hii\" --> True\n",
    "# so \n",
    "# \"Hello\" and \"World\" --> World\n",
    "#   T   and   T --> T(2nd)\n",
    "#   F   and   T --> F\n",
    "\n",
    "#   F  or  T  -->  T\n",
    "#   T  or  F -->  T\n",
    "#   T  or  T -->  T (1st)\n",
    "\n",
    "# not operator\n",
    "\n",
    "print(not \"\")  # --> it reverse the ouput shows false as true and true as false\n",
    "print(not \"Hii\")"
   ]
  },
  {
   "attachments": {},
   "cell_type": "markdown",
   "metadata": {},
   "source": [
    "4. Loops in Strings "
   ]
  },
  {
   "cell_type": "code",
   "execution_count": 38,
   "metadata": {},
   "outputs": [
    {
     "name": "stdout",
     "output_type": "stream",
     "text": [
      "h\n",
      "e\n",
      "l\n",
      "l\n",
      "o\n"
     ]
    }
   ],
   "source": [
    "# in python for loop can iterate on Strings\n",
    "\n",
    "for i in 'hello' : \n",
    "    print(i)"
   ]
  },
  {
   "attachments": {},
   "cell_type": "markdown",
   "metadata": {},
   "source": [
    "5. Membership Operator "
   ]
  },
  {
   "cell_type": "code",
   "execution_count": 42,
   "metadata": {},
   "outputs": [
    {
     "name": "stdout",
     "output_type": "stream",
     "text": [
      "True\n",
      "False\n",
      "False\n",
      "True\n"
     ]
    }
   ],
   "source": [
    "print('D' in 'Delhi')\n",
    "\n",
    "print('d' in 'Delhi')\n",
    "\n",
    "print('D' not in 'Delhi')\n",
    "\n",
    "print('d' not in 'Delhi')"
   ]
  }
 ],
 "metadata": {
  "kernelspec": {
   "display_name": "Python 3",
   "language": "python",
   "name": "python3"
  },
  "language_info": {
   "codemirror_mode": {
    "name": "ipython",
    "version": 3
   },
   "file_extension": ".py",
   "mimetype": "text/x-python",
   "name": "python",
   "nbconvert_exporter": "python",
   "pygments_lexer": "ipython3",
   "version": "3.10.7"
  },
  "orig_nbformat": 4,
  "vscode": {
   "interpreter": {
    "hash": "26de051ba29f2982a8de78e945f0abaf191376122a1563185a90213a26c5da77"
   }
  }
 },
 "nbformat": 4,
 "nbformat_minor": 2
}
