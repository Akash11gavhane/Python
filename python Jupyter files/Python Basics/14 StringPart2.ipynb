{
 "cells": [
  {
   "attachments": {},
   "cell_type": "markdown",
   "metadata": {},
   "source": [
    "Common Functions in Python"
   ]
  },
  {
   "attachments": {},
   "cell_type": "markdown",
   "metadata": {},
   "source": [
    "1. len() Function : \n",
    "\n",
    "        this Function Count the number of Strings Including space'_'.\n",
    "        "
   ]
  },
  {
   "cell_type": "code",
   "execution_count": 6,
   "metadata": {},
   "outputs": [
    {
     "name": "stdout",
     "output_type": "stream",
     "text": [
      "11\n"
     ]
    }
   ],
   "source": [
    "s = \"Hey Hii..! How are you..?\"\n",
    "\n",
    "len(s)\n",
    "\n",
    "len(\"Hello\")\n",
    "\n",
    "print(len(\"Hello World\"))"
   ]
  },
  {
   "attachments": {},
   "cell_type": "markdown",
   "metadata": {},
   "source": [
    "2. Max() Function : \n",
    "\n",
    "        max function prints the maximum value on the basis of ascii values"
   ]
  },
  {
   "cell_type": "code",
   "execution_count": 5,
   "metadata": {},
   "outputs": [
    {
     "name": "stdout",
     "output_type": "stream",
     "text": [
      "y\n"
     ]
    }
   ],
   "source": [
    "s = \"Hey Hii..! How are you..?\"\n",
    "\n",
    "max(s)\n",
    "\n",
    "max(\"Hello World\")\n",
    "\n",
    "print(max(\"Hey Akash\"))\n"
   ]
  },
  {
   "attachments": {},
   "cell_type": "markdown",
   "metadata": {},
   "source": [
    "3. Min() Function \n",
    "\n",
    "        it prints the minimum value on the basis of ascci values."
   ]
  },
  {
   "cell_type": "code",
   "execution_count": 12,
   "metadata": {},
   "outputs": [
    {
     "name": "stdout",
     "output_type": "stream",
     "text": [
      "H\n"
     ]
    }
   ],
   "source": [
    "s = \"Hey Hii..! How are you..?\"\n",
    "\n",
    "min(s)\n",
    "\n",
    "min(\"Hey Hii\")\n",
    "\n",
    "print(min(\"Hello\"))\n",
    "\n",
    "# Min value is space'_'\n"
   ]
  },
  {
   "attachments": {},
   "cell_type": "markdown",
   "metadata": {},
   "source": [
    "4. Sorted() function.\n",
    "\n",
    "        it prints the sorted characters in the list on the basis of ascii values.\n",
    "\n"
   ]
  },
  {
   "cell_type": "code",
   "execution_count": 16,
   "metadata": {},
   "outputs": [
    {
     "name": "stdout",
     "output_type": "stream",
     "text": [
      "[' ', 'H', 'W', 'd', 'e', 'l', 'l', 'l', 'o', 'o', 'r']\n",
      "[' ', 'A', 'a', 'h', 'h', 'i', 'i', 'k', 's']\n"
     ]
    }
   ],
   "source": [
    "sorted(\"Hello World\")\n",
    "\n",
    "sorted(\"Hello world\" , reverse=True)\n",
    "# it print the sorted character in the reverse order base on the ascii values\n",
    "\n",
    "print(sorted(\"Hello World\"))\n",
    "\n",
    "s = \"hii Akash\"\n",
    "print(sorted(s))"
   ]
  },
  {
   "attachments": {},
   "cell_type": "markdown",
   "metadata": {},
   "source": [
    "Capitalize , Title , Upper , Lower , Swapcase "
   ]
  },
  {
   "cell_type": "code",
   "execution_count": 19,
   "metadata": {},
   "outputs": [
    {
     "data": {
      "text/plain": [
       "'Hello world'"
      ]
     },
     "execution_count": 19,
     "metadata": {},
     "output_type": "execute_result"
    }
   ],
   "source": [
    "# 1.capitalize \n",
    "#          it convert the first letter of string into uppercase\n",
    "s = \"hello world\"\n",
    "\n",
    "s.capitalize()\n",
    "# or\n",
    "print(s.capitalize())\n",
    "\n",
    "\n"
   ]
  },
  {
   "cell_type": "code",
   "execution_count": 21,
   "metadata": {},
   "outputs": [
    {
     "name": "stdout",
     "output_type": "stream",
     "text": [
      "Hey Guys My Name Is Akash. \n"
     ]
    }
   ],
   "source": [
    "# 2.title\n",
    "#       it convert the first letter each word in to upper case\n",
    "\n",
    "s = \"hey guys my name is akash. \"\n",
    "\n",
    "s.title()\n",
    "# or \n",
    "print(s.title())"
   ]
  },
  {
   "cell_type": "code",
   "execution_count": 23,
   "metadata": {},
   "outputs": [
    {
     "name": "stdout",
     "output_type": "stream",
     "text": [
      "HII MY NAME IS AKASH\n"
     ]
    }
   ],
   "source": [
    "# 3. Upper\n",
    "#   it converts all characters in to upper case\n",
    "\n",
    "s = \"hii my name is akash\"\n",
    "\n",
    "s.upper()\n",
    "\n",
    "# or \n",
    "\n",
    "print(s.upper())"
   ]
  },
  {
   "cell_type": "code",
   "execution_count": 25,
   "metadata": {},
   "outputs": [
    {
     "name": "stdout",
     "output_type": "stream",
     "text": [
      "hii how are you ? \n"
     ]
    }
   ],
   "source": [
    "# 4. Lower\n",
    "# it convert all character in to the lower case \n",
    "\n",
    "s = \"HII HOW ARE YOU ? \"\n",
    "\n",
    "s.lower()\n",
    "# or \n",
    "print(s.lower())"
   ]
  },
  {
   "cell_type": "code",
   "execution_count": 27,
   "metadata": {},
   "outputs": [
    {
     "name": "stdout",
     "output_type": "stream",
     "text": [
      "hII aKASH hOW aRE yOU\n"
     ]
    }
   ],
   "source": [
    "# Swapcase \n",
    "#  it convert capital letter into lower and lower letters in to capital\n",
    "\n",
    "s = \"Hii Akash How Are You\"\n",
    "\n",
    "s.swapcase()\n",
    "# or \n",
    "print(s.swapcase())"
   ]
  },
  {
   "attachments": {},
   "cell_type": "markdown",
   "metadata": {},
   "source": [
    "Count , Find , Index \n",
    "\n"
   ]
  },
  {
   "cell_type": "code",
   "execution_count": 33,
   "metadata": {},
   "outputs": [
    {
     "name": "stdout",
     "output_type": "stream",
     "text": [
      "1\n"
     ]
    },
    {
     "data": {
      "text/plain": [
       "1"
      ]
     },
     "execution_count": 33,
     "metadata": {},
     "output_type": "execute_result"
    }
   ],
   "source": [
    "#   1.count \n",
    "#  count function is used to count the perticular character occurs how many times in the sentence.\n",
    "\n",
    "s = \"Hii Akash How are you?\"\n",
    "s.count(\"A\")\n",
    "# or \n",
    "print(s.count(\"A\"))\n",
    "# or\n",
    "\"Hii Akash How are you?\".count(\"A\")"
   ]
  },
  {
   "cell_type": "code",
   "execution_count": 40,
   "metadata": {},
   "outputs": [
    {
     "data": {
      "text/plain": [
       "8"
      ]
     },
     "execution_count": 40,
     "metadata": {},
     "output_type": "execute_result"
    }
   ],
   "source": [
    "#   2. Find\n",
    "#   this function helps you to find the position index of perticular character or word in  the given sentence.\n",
    "# if you want to find character that is not present in the sentence then it gives -1 as output.\n",
    "\n",
    "\"My name is Akash\".find(\"is\")\n",
    "# or \n",
    "s = \"my name is Akash\"\n",
    "s.find(\"is\")\n",
    "\n",
    "# s.find(\"are\")"
   ]
  },
  {
   "cell_type": "code",
   "execution_count": 39,
   "metadata": {},
   "outputs": [
    {
     "data": {
      "text/plain": [
       "8"
      ]
     },
     "execution_count": 39,
     "metadata": {},
     "output_type": "execute_result"
    }
   ],
   "source": [
    "#  3. index \n",
    "# this function is works same as per find function but the diffrence is when you try to find something that is not present in the sentence then it shows error.\n",
    "\n",
    "\"My name is Akash\".index(\"is\")\n",
    "# or \n",
    "s = \"my name is Akash\"\n",
    "s.index(\"is\")\n",
    "\n",
    "#s.index(\"Are\")"
   ]
  }
 ],
 "metadata": {
  "kernelspec": {
   "display_name": "Python 3",
   "language": "python",
   "name": "python3"
  },
  "language_info": {
   "codemirror_mode": {
    "name": "ipython",
    "version": 3
   },
   "file_extension": ".py",
   "mimetype": "text/x-python",
   "name": "python",
   "nbconvert_exporter": "python",
   "pygments_lexer": "ipython3",
   "version": "3.10.7"
  },
  "orig_nbformat": 4,
  "vscode": {
   "interpreter": {
    "hash": "26de051ba29f2982a8de78e945f0abaf191376122a1563185a90213a26c5da77"
   }
  }
 },
 "nbformat": 4,
 "nbformat_minor": 2
}
