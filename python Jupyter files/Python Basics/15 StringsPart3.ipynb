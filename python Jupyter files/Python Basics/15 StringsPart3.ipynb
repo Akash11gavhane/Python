{
 "cells": [
  {
   "cell_type": "code",
   "execution_count": 3,
   "metadata": {},
   "outputs": [
    {
     "data": {
      "text/plain": [
       "True"
      ]
     },
     "execution_count": 3,
     "metadata": {},
     "output_type": "execute_result"
    }
   ],
   "source": [
    "# endswith \n",
    "\n",
    "\"my name is Akash\".endswith(\"sh\")\n",
    "\n",
    "# it gives true if the given strings ends with input given by user\n",
    "\n",
    "\n",
    "\"my name is Akash\".startswith(\"my\")\n",
    "# ir gives true if given sentence start with my"
   ]
  },
  {
   "cell_type": "code",
   "execution_count": 5,
   "metadata": {},
   "outputs": [
    {
     "name": "stdout",
     "output_type": "stream",
     "text": [
      "True\n",
      "False\n",
      "True\n",
      "False\n"
     ]
    }
   ],
   "source": [
    "s = \"hey my dear Akash how are you ?\"\n",
    "\n",
    "print(s.startswith(\"hey\"))\n",
    "print(s.startswith(\"him\"))\n",
    "print(s.endswith(\"?\"))\n",
    "print(s.endswith(\"okk.\"))"
   ]
  },
  {
   "cell_type": "code",
   "execution_count": 7,
   "metadata": {},
   "outputs": [
    {
     "name": "stdout",
     "output_type": "stream",
     "text": [
      "Hi my name is Akash and i am a male\n",
      "Hi my name is male and i am a Akash\n",
      "Hi my name is Akash and i am a male\n"
     ]
    }
   ],
   "source": [
    "# format \n",
    "#        using format function we can insert value of variable in the given string\n",
    "\n",
    "name = 'Akash'\n",
    "gender = \"male\"\n",
    "\n",
    "print(\"Hi my name is {} and i am a {}\".format(name , gender))\n",
    "\n",
    "print(\"Hi my name is {} and i am a {}\".format(gender , name))\n",
    "\n",
    "print(\"Hi my name is {1} and i am a {0}\".format(gender , name)) # we can also give order of the variables\n",
    "\n"
   ]
  },
  {
   "cell_type": "code",
   "execution_count": 8,
   "metadata": {},
   "outputs": [
    {
     "name": "stdout",
     "output_type": "stream",
     "text": [
      "my Name is Akash and my surname is Gavhane . \n",
      "i am 21 years old and i am male\n",
      "----------------------------------------\n",
      "my Name is Akash and my surname is Gavhane . \n",
      "i am 21 years old and i am male\n",
      "------------------------------------------------\n",
      "my Name is Akash and my surname is Gavhane . \n",
      "i am 21 years old and i am male\n"
     ]
    }
   ],
   "source": [
    "name = \"Akash\"\n",
    "surname = \"Gavhane\"\n",
    "age = 21\n",
    "gender = \"male\"\n",
    "\n",
    "print(\"\"\"my Name is {} and my surname is {} . \n",
    "i am {} years old and i am {}\"\"\".format(name , surname , age , gender))\n",
    "\n",
    "print(\"----------------------------------------\")\n",
    "\n",
    "print(\"\"\"my Name is {3} and my surname is {1} . \n",
    "i am {2} years old and i am {0}\"\"\".format(gender , surname , age , name ))\n",
    "\n",
    "print(\"------------------------------------------------\")\n",
    "\n",
    "\n",
    "print(f\"\"\"my Name is {name} and my surname is {surname} . \n",
    "i am {age} years old and i am {gender}\"\"\")\n"
   ]
  },
  {
   "cell_type": "code",
   "execution_count": 11,
   "metadata": {},
   "outputs": [
    {
     "name": "stdout",
     "output_type": "stream",
     "text": [
      "-------------------------------\n",
      "False\n",
      "-------------------------------\n",
      "True\n"
     ]
    }
   ],
   "source": [
    "# isalnum \n",
    "#      this function checks the given string is alphanumeeric or not\n",
    "\n",
    "'akash123'.isalnum()\n",
    "\n",
    "print(\"-------------------------------\")\n",
    "\n",
    "username = \"Akash@@1106\"\n",
    "print(username.isalnum())\n",
    "\n",
    "print(\"-------------------------------\")\n",
    "\n",
    "username = \"Akash1106\"\n",
    "print(username.isalnum())"
   ]
  },
  {
   "cell_type": "code",
   "execution_count": 12,
   "metadata": {},
   "outputs": [
    {
     "name": "stdout",
     "output_type": "stream",
     "text": [
      "True\n",
      "False\n"
     ]
    }
   ],
   "source": [
    "#isaplha \n",
    "# it checks the given string is only alphabetical or not \n",
    "\n",
    "print(\"AkashGavhane\".isalpha())\n",
    "\n",
    "print(\"Akash919\".isalpha())"
   ]
  },
  {
   "cell_type": "code",
   "execution_count": 13,
   "metadata": {},
   "outputs": [
    {
     "name": "stdout",
     "output_type": "stream",
     "text": [
      "True\n",
      "False\n"
     ]
    }
   ],
   "source": [
    "# isdigit \n",
    "# this function checks the string have only digit or not\n",
    "\n",
    "print(\"1234\".isdigit())\n",
    "\n",
    "print(\"Akash1106\".isdigit())"
   ]
  },
  {
   "cell_type": "code",
   "execution_count": 14,
   "metadata": {},
   "outputs": [
    {
     "name": "stdout",
     "output_type": "stream",
     "text": [
      "False\n",
      "True\n"
     ]
    }
   ],
   "source": [
    "# isidentifier\n",
    "#   checks the given  name is correct identifier or not\n",
    "\n",
    "print('1name'.isidentifier())\n",
    "\n",
    "print(\"name_1\".isidentifier())\n",
    "\n"
   ]
  },
  {
   "attachments": {},
   "cell_type": "markdown",
   "metadata": {},
   "source": [
    "Split , join : \n",
    "\n",
    "        split : \n",
    "            split function breaks or break the given sentence in to words and written in a list.\n",
    "            if we dont pass any parameter then it break on the basis of space ,\n",
    "                and if we pass something then it breaks on the basis of that perticular parameter or character or object\n",
    "\n",
    "        join : \n",
    "            join is the reverse of split\n",
    "            using join function we can make sentence using words or list of words\n",
    "            \n"
   ]
  },
  {
   "cell_type": "code",
   "execution_count": 1,
   "metadata": {},
   "outputs": [
    {
     "name": "stdout",
     "output_type": "stream",
     "text": [
      "['hi', 'my', 'name', 'is', 'Akash']\n",
      "['h', ' my name ', 's Akash']\n",
      "['hi my name ', ' Akash']\n",
      "hi my name is Akash\n",
      "hi-my-name-is-Akash\n"
     ]
    }
   ],
   "source": [
    "# split\n",
    "print(\"hi my name is Akash\".split())\n",
    "\n",
    "print(\"hi my name is Akash\".split('i'))\n",
    "\n",
    "print(\"hi my name is Akash\".split('is'))\n",
    "\n",
    "\n",
    "# join \n",
    "\n",
    "print(\" \".join(['hi', 'my', 'name', 'is', 'Akash']))\n",
    "\n",
    "print(\"-\".join(['hi', 'my', 'name', 'is', 'Akash']))\n"
   ]
  },
  {
   "cell_type": "code",
   "execution_count": 21,
   "metadata": {},
   "outputs": [
    {
     "name": "stdout",
     "output_type": "stream",
     "text": [
      "['hii', 'i', 'am', 'Akash', 'how', 'are', 'you', '?']\n",
      "['hii', 'i', 'am', 'Akash', 'how', 'are', 'you', '?']\n",
      "['hii i ', 'm Ak', 'sh how ', 're you ?']\n",
      "['hii i ', ' Akash how are you ?']\n",
      "--------------------------------------------\n",
      "hii i am Akash how are you ?\n",
      "hii-i-am-Akash-how-are-you-?\n",
      "hii i   Akash how are you ?\n"
     ]
    }
   ],
   "source": [
    "print(\"hii i am Akash how are you ?\".split())\n",
    "\n",
    "k = \"hii i am Akash how are you ?\"\n",
    "\n",
    "print(k.split())\n",
    "\n",
    "print(k.split(\"a\"))\n",
    "\n",
    "print(k.split(\"am\"))\n",
    "\n",
    "print(\"--------------------------------------------\")\n",
    "\n",
    "print(\" \".join(['hii', 'i', 'am', 'Akash', 'how', 'are', 'you', '?']))\n",
    "\n",
    "print(\"-\".join(['hii', 'i', 'am', 'Akash', 'how', 'are', 'you', '?']))\n",
    "\n",
    "print(\" \".join(['hii i ', ' Akash how are you ?']))"
   ]
  },
  {
   "cell_type": "code",
   "execution_count": 23,
   "metadata": {},
   "outputs": [
    {
     "data": {
      "text/plain": [
       "'Hi my name is Akash'"
      ]
     },
     "execution_count": 23,
     "metadata": {},
     "output_type": "execute_result"
    }
   ],
   "source": [
    "# Replace \n",
    "# replace the word by another word\n",
    "\n",
    "'Hi my name is akash'.replace('akash' , 'Akash')"
   ]
  },
  {
   "cell_type": "code",
   "execution_count": 22,
   "metadata": {},
   "outputs": [
    {
     "data": {
      "text/plain": [
       "'hello my name is sky'"
      ]
     },
     "execution_count": 22,
     "metadata": {},
     "output_type": "execute_result"
    }
   ],
   "source": [
    "s = \"hello my name is akash\"\n",
    "\n",
    "s.replace(\"akash\" , \"sky\")"
   ]
  },
  {
   "cell_type": "code",
   "execution_count": 25,
   "metadata": {},
   "outputs": [
    {
     "data": {
      "text/plain": [
       "'Akash'"
      ]
     },
     "execution_count": 25,
     "metadata": {},
     "output_type": "execute_result"
    }
   ],
   "source": [
    "# strip \n",
    "# using strip function we can remove the extra space from the given string.\n",
    "\n",
    "\"Hey Guys My name is Akash\".strip()\n",
    "\n",
    "\"Akash                         \".strip()\n"
   ]
  },
  {
   "cell_type": "code",
   "execution_count": 26,
   "metadata": {},
   "outputs": [
    {
     "name": "stdout",
     "output_type": "stream",
     "text": [
      "hii bro how are you ?\n",
      "---------------------------------------\n",
      "hii bro how are you ?                              i am fine\n"
     ]
    },
    {
     "data": {
      "text/plain": [
       "'hii bro how are you ?'"
      ]
     },
     "execution_count": 26,
     "metadata": {},
     "output_type": "execute_result"
    }
   ],
   "source": [
    "s  = \"hii bro how are you ? \"\n",
    "\n",
    "print(s.strip())\n",
    "\n",
    "print(\"---------------------------------------\")\n",
    "\n",
    "s  = \"hii bro how are you ?                              i am fine\"\n",
    "\n",
    "print(s.strip())\n",
    "\n",
    "\"hii bro how are you ?                              \".strip()"
   ]
  }
 ],
 "metadata": {
  "kernelspec": {
   "display_name": "Python 3",
   "language": "python",
   "name": "python3"
  },
  "language_info": {
   "codemirror_mode": {
    "name": "ipython",
    "version": 3
   },
   "file_extension": ".py",
   "mimetype": "text/x-python",
   "name": "python",
   "nbconvert_exporter": "python",
   "pygments_lexer": "ipython3",
   "version": "3.10.7"
  },
  "orig_nbformat": 4,
  "vscode": {
   "interpreter": {
    "hash": "26de051ba29f2982a8de78e945f0abaf191376122a1563185a90213a26c5da77"
   }
  }
 },
 "nbformat": 4,
 "nbformat_minor": 2
}
