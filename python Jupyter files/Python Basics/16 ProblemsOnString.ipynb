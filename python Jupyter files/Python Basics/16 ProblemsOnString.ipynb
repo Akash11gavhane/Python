{
 "cells": [
  {
   "attachments": {},
   "cell_type": "markdown",
   "metadata": {},
   "source": [
    "1. find the length of a given string without using the len() function"
   ]
  },
  {
   "cell_type": "code",
   "execution_count": 1,
   "metadata": {},
   "outputs": [
    {
     "name": "stdout",
     "output_type": "stream",
     "text": [
      "Length of string is :  23\n"
     ]
    }
   ],
   "source": [
    "s = input(\"enter the string\")\n",
    "\n",
    "counter = 0 \n",
    "\n",
    "for i in s:\n",
    "    counter += 1\n",
    "print(\"Length of string is : \" , counter)"
   ]
  },
  {
   "cell_type": "code",
   "execution_count": null,
   "metadata": {},
   "outputs": [],
   "source": [
    "s = input(\"Enter a String : \")\n",
    "\n",
    "counter = 0 \n",
    "\n",
    "spaces = 0\n",
    "for i in s : \n",
    "\n",
    "  if i == \" \" :\n",
    "\n",
    "    spaces = spaces + 1 \n",
    "\n",
    "\n",
    "  counter = counter + 1 \n",
    "\n",
    "character =  counter - spaces \n",
    "print(\"--------------------------------------\")\n",
    "\n",
    "\n",
    "print(\"all characters in count : \" , counter)\n",
    "print(\"--------------------------------------\")\n",
    "print(\"only characters are : \" , character)\n",
    "print(\"---------------------------------------\")\n",
    "print(\"And spaces in given string are : \" , spaces)"
   ]
  },
  {
   "attachments": {},
   "cell_type": "markdown",
   "metadata": {},
   "source": [
    "2. Extract Username from a given email .\n",
    "        \n",
    "        Eg. if the mail is Akash123Gavhane@gmai.com\n",
    "            Then the username should be AKash123Gavhane"
   ]
  },
  {
   "cell_type": "code",
   "execution_count": 5,
   "metadata": {},
   "outputs": [
    {
     "name": "stdout",
     "output_type": "stream",
     "text": [
      "Akash123Gavhane@gmail.com\n",
      "Akash123Gavhane\n"
     ]
    }
   ],
   "source": [
    "s = input(\"Enter the email\")\n",
    "print(s)\n",
    "pos = s.find('@') \n",
    "\n",
    "print(s[0 : pos])"
   ]
  },
  {
   "cell_type": "code",
   "execution_count": null,
   "metadata": {},
   "outputs": [],
   "source": [
    "s = input(\"Enter the email : \")\n",
    "\n",
    "position = s.index('@')\n",
    "\n",
    "username = s[0:position]\n",
    "\n",
    "print(\"-----------------------------\")\n",
    "print(\"username is : \" , username)"
   ]
  },
  {
   "attachments": {},
   "cell_type": "markdown",
   "metadata": {},
   "source": [
    "3. Count the frequancy of a particular character in a provided String.\n",
    "\n",
    "    Eg. 'hello how are you' is the string, the frequency of h in this strign is 2."
   ]
  },
  {
   "cell_type": "code",
   "execution_count": 7,
   "metadata": {},
   "outputs": [
    {
     "name": "stdout",
     "output_type": "stream",
     "text": [
      "the character  i  occurs  3  times in the given sentence\n"
     ]
    }
   ],
   "source": [
    "s = input(\"Enter the string\")\n",
    "\n",
    "term = input(\"What would you like to search\")\n",
    "\n",
    "counter = 0\n",
    "\n",
    "for i in s :\n",
    "    if i == term :\n",
    "        counter += 1\n",
    "print(\"the character \" , term , \" occurs \" , counter ,\" times in the given sentence\")\n"
   ]
  },
  {
   "cell_type": "code",
   "execution_count": null,
   "metadata": {},
   "outputs": [],
   "source": [
    "s = input(\"Enter a string : \")\n",
    "\n",
    "term = input(\"Which term you want to find : \")\n",
    "\n",
    "count = s.count(term)\n",
    "\n",
    "print(\"---------------------------------------\")\n",
    "\n",
    "print(f\"character '{term}' occurs {count} times\")"
   ]
  },
  {
   "cell_type": "code",
   "execution_count": 8,
   "metadata": {},
   "outputs": [
    {
     "name": "stdout",
     "output_type": "stream",
     "text": [
      "the character  i  occurs  5  times in the given sentence\n"
     ]
    }
   ],
   "source": [
    "s = input(\"Enter the string\")\n",
    "\n",
    "term = input(\"What would you like to search\")\n",
    "\n",
    "count = (s.count(term))\n",
    "\n",
    "print(\"the character \" , term , \" occurs \" , count ,\" times in the given sentence\")"
   ]
  },
  {
   "attachments": {},
   "cell_type": "markdown",
   "metadata": {},
   "source": [
    "4. Write aprogram which can remove a particular character from a string"
   ]
  },
  {
   "cell_type": "code",
   "execution_count": 9,
   "metadata": {},
   "outputs": [
    {
     "name": "stdout",
     "output_type": "stream",
     "text": [
      "Aksh\n"
     ]
    }
   ],
   "source": [
    "s = input('Enter the String')\n",
    "term = input(\"What should you like to remove\")\n",
    "\n",
    "result = ''\n",
    "\n",
    "for i in s:\n",
    "    if i != term:\n",
    "        result = result + i\n",
    "print(result)"
   ]
  },
  {
   "cell_type": "code",
   "execution_count": null,
   "metadata": {},
   "outputs": [],
   "source": [
    "string = input(\"Enter a string : \")\n",
    "\n",
    "term = input(\"Which character you want to remove : \")\n",
    "\n",
    "result = ''\n",
    "\n",
    "for i in string : \n",
    "  if i != term : \n",
    "    result = result + i \n",
    "\n",
    "print(f\"The String removed after {term} is : {result}\" )"
   ]
  },
  {
   "attachments": {},
   "cell_type": "markdown",
   "metadata": {},
   "source": [
    "5. Write a program that can check whether a given string is palindrome or not \n"
   ]
  },
  {
   "cell_type": "code",
   "execution_count": 12,
   "metadata": {},
   "outputs": [
    {
     "name": "stdout",
     "output_type": "stream",
     "text": [
      "not a palindrome\n"
     ]
    }
   ],
   "source": [
    "s = input(\"enter the string\")\n",
    "flag = True\n",
    "for i in range(0 , len(s)//2):\n",
    "\n",
    "    if s[i] != s[len(s) - i - 1]:\n",
    "        flag = False\n",
    "        print(\"not a palindrome\")\n",
    "        break\n",
    "if flag :\n",
    "    print(\"palindrome\")\n"
   ]
  },
  {
   "attachments": {},
   "cell_type": "markdown",
   "metadata": {},
   "source": [
    "6. write a program to count the number of words in a string without split()"
   ]
  },
  {
   "cell_type": "code",
   "execution_count": 15,
   "metadata": {},
   "outputs": [
    {
     "name": "stdout",
     "output_type": "stream",
     "text": [
      "there are  6  Words in the given String\n",
      "['Hey', 'hii', 'bro', 'how', 'are', 'you']\n"
     ]
    }
   ],
   "source": [
    "s = input(\"enter the string\")\n",
    "L = []\n",
    "temp = ''\n",
    "count = 1\n",
    "for i in s : \n",
    "\n",
    "    if i != ' ' :\n",
    "        temp = temp + i \n",
    "    else :\n",
    "\n",
    "        if i == ' ':\n",
    "            count = count + 1\n",
    "\n",
    "        L.append(temp)\n",
    "        temp = ''\n",
    "L.append(temp)\n",
    "print(\"there are \" , count , \" Words in the given String\")\n",
    "print(L)\n",
    "\n"
   ]
  },
  {
   "attachments": {},
   "cell_type": "markdown",
   "metadata": {},
   "source": [
    "7. Write a python program to convert a string to title case without using the title()\n"
   ]
  },
  {
   "cell_type": "code",
   "execution_count": 21,
   "metadata": {},
   "outputs": [
    {
     "name": "stdout",
     "output_type": "stream",
     "text": [
      "Hii How Are You\n"
     ]
    }
   ],
   "source": [
    "s = input(\"Enter the String\")\n",
    "\n",
    "L = []\n",
    "for i in s.split():\n",
    "    L.append(i[0].upper() + i[1:].lower())\n",
    "\n",
    "print(\" \".join(L))"
   ]
  },
  {
   "cell_type": "code",
   "execution_count": 18,
   "metadata": {},
   "outputs": [
    {
     "name": "stdout",
     "output_type": "stream",
     "text": [
      "Hii\n",
      "How\n",
      "Are\n",
      "You\n"
     ]
    }
   ],
   "source": [
    "s = input(\"Enter the String\")\n",
    "\n",
    "L = []\n",
    "for i in s.split():\n",
    "    L.append(i.capitalize())\n",
    "print(\" \".join(L))"
   ]
  },
  {
   "attachments": {},
   "cell_type": "markdown",
   "metadata": {},
   "source": [
    "Write a program that can convert an integer to string  \n",
    "\n",
    "        4 --> four"
   ]
  },
  {
   "cell_type": "code",
   "execution_count": 25,
   "metadata": {},
   "outputs": [
    {
     "name": "stdout",
     "output_type": "stream",
     "text": [
      "254\n"
     ]
    }
   ],
   "source": [
    "number = int(input(\"enter the number\"))\n",
    "\n",
    "digits = '0123456789'\n",
    "result = ''\n",
    "while number != 0 : \n",
    "    result = digits[number % 10] + result\n",
    "\n",
    "    number = number//10\n",
    "\n",
    "print(result)"
   ]
  }
 ],
 "metadata": {
  "kernelspec": {
   "display_name": "Python 3",
   "language": "python",
   "name": "python3"
  },
  "language_info": {
   "codemirror_mode": {
    "name": "ipython",
    "version": 3
   },
   "file_extension": ".py",
   "mimetype": "text/x-python",
   "name": "python",
   "nbconvert_exporter": "python",
   "pygments_lexer": "ipython3",
   "version": "3.10.7"
  },
  "orig_nbformat": 4,
  "vscode": {
   "interpreter": {
    "hash": "26de051ba29f2982a8de78e945f0abaf191376122a1563185a90213a26c5da77"
   }
  }
 },
 "nbformat": 4,
 "nbformat_minor": 2
}
