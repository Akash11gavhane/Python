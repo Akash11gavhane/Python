{
 "cells": [
  {
   "attachments": {},
   "cell_type": "markdown",
   "metadata": {},
   "source": [
    "# List"
   ]
  },
  {
   "attachments": {},
   "cell_type": "markdown",
   "metadata": {},
   "source": [
    "1. What are List?\n",
    "2. List Vs Arrays\n",
    "3. Characteristic of a list\n",
    "4. How to create a list\n",
    "5. Access items from a list\n",
    "6. Editing items in a list\n",
    "7. Deleting items in a list\n",
    "8. Operations on lists\n",
    "9. Functions on lists\n"
   ]
  },
  {
   "attachments": {},
   "cell_type": "markdown",
   "metadata": {},
   "source": [
    "## What are Lists ? \n",
    "\n",
    "    List is a data type where you can store multiple items under 1 name or a single variable. \n",
    "    list is same like a container which can hold the diffrent data of diffrent types.\n",
    "    we can store the list inside a list.\n",
    "    More technically, lists act like dynamic arrays which means you can add more items on the fly.\n",
    "\n",
    "        L = [ 20 , 'jessa' , 35.56 , [30 , 60 , 90]]\n",
    "              |       |        |            |\n",
    "             L[0]    L[1]     L[2]         L[3]\n",
    "\n",
    "\n",
    "        E.g. : \n",
    "                Movie Centimate Analysis , based on reviews so we store reviews all in one list.\n",
    "    \n",
    "### Why Lists are required in programming?\n",
    "\n",
    "        Find that answer after session..!\n",
    "\n",
    "        Python lists are fundamental data structures in programming and are widely used for various reasons:\n",
    "\n",
    "                \n",
    "                \n",
    "                Storage of multiple values: Lists allow you to store and organize multiple values in a single variable. Instead of using separate variables for each value, you can store them in a list, making it easier to manage and access the data.\n",
    "\n",
    "                Sequential data: Lists are ordered collections, meaning the elements are stored in a specific order and can be accessed based on their position (index) within the list. This is particularly useful when dealing with sequential data, such as a list of names, a sequence of numbers, or a series of steps in an algorithm.\n",
    "\n",
    "                Mutable data: Lists are mutable, which means you can modify, add, or remove elements after the list is created. This flexibility allows you to update the data stored in a list based on your program's requirements.\n",
    "\n",
    "                Dynamic resizing: Unlike arrays in some other programming languages, Python lists can grow or shrink dynamically. You can add or remove elements from a list without worrying about its initial size. This dynamic resizing makes lists versatile and adaptable to changing data needs.\n",
    "\n",
    "                Versatility: Python lists can hold elements of different data types, including numbers, strings, booleans, objects, and even other lists. This versatility allows you to create complex data structures and build powerful algorithms using lists as building blocks.\n",
    "\n",
    "                Iterating and manipulating data: Lists provide convenient methods and syntax for iterating over the elements, performing operations on them, and applying various transformations. You can loop through a list using a for loop, apply functions to each element, filter elements based on conditions, and perform other common data manipulations easily.\n",
    "\n",
    "                Common operations: Lists support various common operations, such as indexing (accessing elements by their position), slicing (extracting a subset of elements), concatenation (combining two lists), sorting, reversing, and more. These operations make it easier to work with the data stored in lists efficiently.\n",
    "\n",
    "            Overall, Python lists are essential because they provide a flexible, ordered, and mutable way to store and manipulate collections of data in your programs."
   ]
  },
  {
   "attachments": {},
   "cell_type": "markdown",
   "metadata": {},
   "source": [
    "### Array Vs Lists\n",
    "        \n",
    "        1. array have Fixed size Vs list have Dynamic Size\n",
    "                                    list is flexible\n",
    "\n",
    "        2. arrays are homogeneous means we store same datatype \n",
    "        Convenience -> list are Hetrogeneous we can store multiple data types in list\n",
    "\n",
    "        3. arrays are fast vs list are slow than array, Speed of Execution is slower than array.\n",
    "\n",
    "        4. arrays take small memory compare to list vs whereas list taking more memory than arrays"
   ]
  },
  {
   "attachments": {},
   "cell_type": "markdown",
   "metadata": {},
   "source": [
    "\n",
    "        list allows us to add duplicate element also "
   ]
  },
  {
   "cell_type": "code",
   "execution_count": 2,
   "metadata": {},
   "outputs": [
    {
     "name": "stdout",
     "output_type": "stream",
     "text": [
      "2169962554496\n",
      "2169878216944\n",
      "2169878216976\n",
      "2169878217008\n",
      "2169878216944\n",
      "2169878216976\n",
      "2169878217008\n"
     ]
    }
   ],
   "source": [
    "L = [1 , 2 , 3]\n",
    "\n",
    "print(id(L))\n",
    "print(id(L[0]))\n",
    "print(id(L[1]))\n",
    "print(id(L[2]))\n",
    "  \n",
    "print(id(1))\n",
    "print(id(2))\n",
    "print(id(3))"
   ]
  },
  {
   "attachments": {},
   "cell_type": "markdown",
   "metadata": {},
   "source": [
    "#### Characterstics of a List\n",
    "        1. list items  are Ordered\n",
    "        2. we can change items of list || Changeble/Mutable\n",
    "        3. lists are Hetrogeneous\n",
    "        4. python list allows to have duplicates\n",
    "        5. list are dynamic\n",
    "        6. can be nested\n",
    "        7. list items can be accessed using indexing\n",
    "        8. can contain any kind of objects in python"
   ]
  },
  {
   "attachments": {},
   "cell_type": "markdown",
   "metadata": {},
   "source": [
    "#### Creating a List"
   ]
  },
  {
   "cell_type": "code",
   "execution_count": 5,
   "metadata": {},
   "outputs": [
    {
     "name": "stdout",
     "output_type": "stream",
     "text": [
      "[]\n",
      "[1, 2, 3, 4, 5]\n",
      "[1, 2, 3, [4, 5]]\n",
      "[[[1, 2], [3, 4]], [[5, 6], [7, 8]]]\n",
      "[1, True, 5.6, (5+6j), 'Hello']\n",
      "['h', 'e', 'l', 'l', 'o']\n"
     ]
    }
   ],
   "source": [
    "# Empty\n",
    "print([])\n",
    "# 1D -> Homo\n",
    "print([1,2,3,4,5])\n",
    "# 2D\n",
    "print([1,2,3,[4,5]])\n",
    "# 3D\n",
    "print([[[1,2],[3,4]],[[5,6],[7,8]]])\n",
    "# Hetrogenous\n",
    "print([1,True,5.6,5+6j,'Hello'])\n",
    "# Using Type conversion\n",
    "print(list('hello'))\n",
    "\n",
    "l = 'hello'\n",
    "\n",
    "L = list(l)\n",
    "\n",
    "print(list(l))"
   ]
  },
  {
   "attachments": {},
   "cell_type": "markdown",
   "metadata": {},
   "source": [
    "#### Accessing Items Form List"
   ]
  },
  {
   "cell_type": "code",
   "execution_count": 23,
   "metadata": {},
   "outputs": [
    {
     "name": "stdout",
     "output_type": "stream",
     "text": [
      "2\n",
      "[6, 5, 4, 3, 2, 1]\n",
      "1\n",
      "4\n",
      "5\n",
      "3\n",
      "[4, 5]\n",
      "4\n",
      "[4, 5]\n",
      "5\n",
      "[[1, 2], [3, 4]]\n",
      "5\n",
      "2\n",
      "[1, 2, 3]\n",
      "[4, 5, 6]\n",
      "[1, 3, 5]\n",
      "[2, 4]\n",
      "[6, 5, 4, 3, 2, 1]\n"
     ]
    }
   ],
   "source": [
    "# Indexing  - indexing is same like how we are use it in Strings \n",
    "# list can also support the positive and negative indexing.\n",
    "\n",
    "L = [[[1,2],[3,4]],[[5,6],[7,8]]]\n",
    "\n",
    "#positive\n",
    "print(L[0][0][1])\n",
    "\n",
    "# Slicing\n",
    "L = [1,2,3,4,5,6]\n",
    "\n",
    "print(L[::-1])\n",
    "\n",
    "\n",
    "#################\n",
    "\n",
    "l = [1 , 2 , 3 , 4 , 5]\n",
    "print(l[0])\n",
    "print(l[3])\n",
    "\n",
    "# print(l[30]) --> it gives error that not that much indexing is there\n",
    "\n",
    "\n",
    "# Negative Indexing \n",
    "\n",
    "print(l[-1])\n",
    "print(l[-3])\n",
    "\n",
    "\n",
    "\n",
    "k = [1 , 2 , 3 , [4 , 5 ]]\n",
    "\n",
    "print(k[-1])\n",
    "print(k[-1][-2])\n",
    "\n",
    "\n",
    "# for positive indexing\n",
    "\n",
    "print(k[3])\n",
    "print(k[3][1])\n",
    "\n",
    "\n",
    "# 3d list Indexing\n",
    "L = [[[1,2],[3,4]],[[5,6],[7,8]]]\n",
    "\n",
    "#positive\n",
    "\n",
    "print(L[0])\n",
    "print(L[1][0][0])\n",
    "print(L[0][0][1])\n",
    "\n",
    "\n",
    "# Slicing\n",
    "M = [1,2,3,4,5,6]\n",
    "\n",
    "print(M[0:3])\n",
    "print(M[-3:])\n",
    "\n",
    "# Jumps \n",
    "print(M[0::2])\n",
    "print(M[-5 : -2 : 2])\n",
    "\n",
    "print(M[::-1])"
   ]
  },
  {
   "attachments": {},
   "cell_type": "markdown",
   "metadata": {},
   "source": [
    "#### Adding Items to List"
   ]
  },
  {
   "cell_type": "code",
   "execution_count": 32,
   "metadata": {},
   "outputs": [
    {
     "name": "stdout",
     "output_type": "stream",
     "text": [
      "[1, 2, 3, 4, 5, 6, 6, True, 8]\n"
     ]
    }
   ],
   "source": [
    "# Append \n",
    "# append \n",
    "# we can add the element in the list only on the last position using append function\n",
    "# alternate to that is insert function\n",
    "#using append we can add only one element\n",
    "# alternative for to add multiple thing extend function is there\n",
    "L = [1,2,3,4,5,6]\n",
    "\n",
    "# using append we can add single element in the last position \n",
    "\n",
    "L.append(6)\n",
    "L.append(True)\n",
    "L.append(8)\n",
    "\n",
    "print(L)\n",
    "\n",
    "L.append([9,10,11])"
   ]
  },
  {
   "cell_type": "code",
   "execution_count": 1,
   "metadata": {},
   "outputs": [
    {
     "name": "stdout",
     "output_type": "stream",
     "text": [
      "[1, 2, 3, 4, 5, 6, 7, 8, 9]\n"
     ]
    }
   ],
   "source": [
    "# extend\n",
    "# using extend we can add multiple elements in the list but it also adds at the last postion\n",
    "\n",
    "L = [1,2,3,4,5,6]\n",
    "\n",
    "L.extend([7,8,9])\n",
    "print(L)\n",
    "\n",
    "L.extend('delhi')"
   ]
  },
  {
   "cell_type": "code",
   "execution_count": 39,
   "metadata": {},
   "outputs": [
    {
     "name": "stdout",
     "output_type": "stream",
     "text": [
      "[1, 100, 2, 3, 4, 5, 6]\n"
     ]
    }
   ],
   "source": [
    "# insert \n",
    "# using insert function we can add element at the position where we want\n",
    "# it stores on that position not replace the element on that position\n",
    "\n",
    "L = [1,2,3,4,5,6]\n",
    "\n",
    "L.insert(1 , 100)\n",
    "\n",
    "print(L)"
   ]
  },
  {
   "attachments": {},
   "cell_type": "markdown",
   "metadata": {},
   "source": [
    "#### Editing the Elements\n",
    "\n",
    "\n",
    "        we can also edit the elements of string means we can replace one element with another\n",
    "\n",
    "        only because the list of python is mutable "
   ]
  },
  {
   "cell_type": "code",
   "execution_count": 44,
   "metadata": {},
   "outputs": [
    {
     "name": "stdout",
     "output_type": "stream",
     "text": [
      "[1, 200, 300, 400, 5, 500]\n"
     ]
    }
   ],
   "source": [
    "L = [1,2,3,4,5,6]\n",
    "\n",
    "# Editing with indexing\n",
    "L[-1] = 500\n",
    "\n",
    "# Editing with slicing\n",
    "L[1 : 4] = [200 , 300 , 400]\n",
    "\n",
    "print(L)"
   ]
  },
  {
   "attachments": {},
   "cell_type": "markdown",
   "metadata": {},
   "source": [
    "#### Deletion items from a list\n",
    "\n",
    "        We can remove one item , multiple item or delete the whole list"
   ]
  },
  {
   "cell_type": "code",
   "execution_count": 48,
   "metadata": {},
   "outputs": [
    {
     "name": "stdout",
     "output_type": "stream",
     "text": [
      "[1, 2, 3, 4, 5, 6]\n",
      "[1, 2, 3, 4, 5]\n",
      "[1, 4, 5]\n"
     ]
    }
   ],
   "source": [
    "# del\n",
    "\n",
    "L = [1,2,3,4,5,6]\n",
    "\n",
    "print(L)\n",
    "# del L\n",
    "\n",
    "#Indexing\n",
    "del L[-1]\n",
    "print(L)\n",
    "# Slicing\n",
    "\n",
    "del L[1:3]\n",
    "print(L)"
   ]
  },
  {
   "cell_type": "code",
   "execution_count": 49,
   "metadata": {},
   "outputs": [
    {
     "name": "stdout",
     "output_type": "stream",
     "text": [
      "[1, 2, 3, 4, 6]\n"
     ]
    }
   ],
   "source": [
    "# remove\n",
    "\n",
    "L = [1,2,3,4,5,6]\n",
    "\n",
    "# using remove function we can remove perticular element\n",
    "\n",
    "L.remove(5)\n",
    "\n",
    "print(L)"
   ]
  },
  {
   "cell_type": "code",
   "execution_count": 52,
   "metadata": {},
   "outputs": [
    {
     "name": "stdout",
     "output_type": "stream",
     "text": [
      "[2, 3, 4, 5, 6]\n",
      "[2, 3, 4, 5]\n"
     ]
    }
   ],
   "source": [
    "# pop\n",
    "# it can delete item on perticular index\n",
    "\n",
    "L = [1,2,3,4,5,6]\n",
    "\n",
    "L.pop(0)\n",
    "\n",
    "print(L)\n",
    "\n",
    "L.pop()\n",
    "# if we dont add any value in the pop function so it by default delete last element\n",
    "\n",
    "print(L)"
   ]
  },
  {
   "cell_type": "code",
   "execution_count": 53,
   "metadata": {},
   "outputs": [
    {
     "name": "stdout",
     "output_type": "stream",
     "text": [
      "[]\n"
     ]
    }
   ],
   "source": [
    "# clear \n",
    "# it can not delete the list but it clear or remove all elements present in the list\n",
    "\n",
    "L = [1,2,3,4,5,6]\n",
    "\n",
    "L.clear()\n",
    "\n",
    "print(L)"
   ]
  },
  {
   "attachments": {},
   "cell_type": "markdown",
   "metadata": {},
   "source": [
    "### Operations on Lists\n",
    "\n",
    "    1. Arithmatic\n",
    "    2. Membership\n",
    "    3. Loop"
   ]
  },
  {
   "cell_type": "code",
   "execution_count": 54,
   "metadata": {},
   "outputs": [
    {
     "name": "stdout",
     "output_type": "stream",
     "text": [
      "[1, 2, 3, 4, 5, 6, 7, 8]\n"
     ]
    }
   ],
   "source": [
    "# Arithmatic \n",
    "\n",
    "# addition\n",
    "L1 = [1,2,3,4]\n",
    "L2 = [5,6,7,8]\n",
    "\n",
    "# it use for concatenation or merging the two list\n",
    "\n",
    "print( L1 + L2 )"
   ]
  },
  {
   "cell_type": "code",
   "execution_count": 55,
   "metadata": {},
   "outputs": [
    {
     "name": "stdout",
     "output_type": "stream",
     "text": [
      "[1, 2, 3, 4, 1, 2, 3, 4, 1, 2, 3, 4]\n"
     ]
    }
   ],
   "source": [
    "# multiplication \n",
    "\n",
    "print(L1 * 3)\n",
    "\n",
    "# "
   ]
  },
  {
   "cell_type": "code",
   "execution_count": 59,
   "metadata": {},
   "outputs": [
    {
     "name": "stdout",
     "output_type": "stream",
     "text": [
      "True\n",
      "False\n",
      "True\n"
     ]
    }
   ],
   "source": [
    "# Membership operator \n",
    "\n",
    "L1 = [1,2,3,4,5]\n",
    "L2 = [1,2,3,4,5,[6,7]]\n",
    "\n",
    "print(5 in L1) \n",
    "\n",
    "print(5 not in L1)\n",
    "\n",
    "print(6 in L2)\n",
    "print([6,7] in L2)"
   ]
  },
  {
   "cell_type": "code",
   "execution_count": 65,
   "metadata": {},
   "outputs": [
    {
     "name": "stdout",
     "output_type": "stream",
     "text": [
      "1 2 3 4 5 \n",
      "1 2 3 4 5 [6, 7] \n",
      "[[1, 2], [3, 4]]\n",
      "[[5, 6], [7, 8]]\n"
     ]
    }
   ],
   "source": [
    "# Loop\n",
    "\n",
    "L1 = [1,2,3,4,5]\n",
    "L2 = [1,2,3,4,5,[6,7]]\n",
    "\n",
    "for i in L1 :\n",
    "    print(i , end=' ')\n",
    "\n",
    "print()\n",
    "for i in L2:\n",
    "    print(i , end=' ')\n",
    "\n",
    "print()\n",
    "\n",
    "L = [[[1,2],[3,4]],[[5,6],[7,8]]]\n",
    "\n",
    "for i in L:\n",
    "    print(i)"
   ]
  },
  {
   "attachments": {},
   "cell_type": "markdown",
   "metadata": {},
   "source": [
    "#### Functions in List or List Function "
   ]
  },
  {
   "cell_type": "code",
   "execution_count": 71,
   "metadata": {},
   "outputs": [
    {
     "name": "stdout",
     "output_type": "stream",
     "text": [
      "[2, 5, 3, 4, 8, 6, 2, 1]\n",
      "8\n",
      "1\n",
      "8\n",
      "[1, 2, 2, 3, 4, 5, 6, 8]\n",
      "[8, 6, 5, 4, 3, 2, 2, 1]\n"
     ]
    }
   ],
   "source": [
    "# len / min / max / sorted\n",
    "\n",
    "L = [2,5,3,4,8,6,2,1]\n",
    "\n",
    "print(L)\n",
    "\n",
    "print(len(L)) # Lenth of list or how many items in the list\n",
    "\n",
    "print(min(L)) # minimum item in the list\n",
    "\n",
    "print(max(L)) # maximum item in the list\n",
    "\n",
    "print(sorted(L)) # it sorts the the array in the ascending order\n",
    "\n",
    "print(sorted(L , reverse=True)) # it sorts the list in the descending order\n",
    "\n"
   ]
  },
  {
   "cell_type": "code",
   "execution_count": 74,
   "metadata": {},
   "outputs": [
    {
     "name": "stdout",
     "output_type": "stream",
     "text": [
      "1\n",
      "2\n"
     ]
    }
   ],
   "source": [
    "# count()\n",
    "\n",
    "L = [2,5,3,4,8,6,2,1]\n",
    "\n",
    "# count function prints the frequency of perticular element\n",
    "\n",
    "print(L.count(1))\n",
    "print(L.count(2))"
   ]
  },
  {
   "cell_type": "code",
   "execution_count": 77,
   "metadata": {},
   "outputs": [
    {
     "name": "stdout",
     "output_type": "stream",
     "text": [
      "1\n",
      "0\n"
     ]
    }
   ],
   "source": [
    "# Index\n",
    "\n",
    "L = [2,5,3,4,8,6,2,1]\n",
    "\n",
    "# index function tells the index of perticular function\n",
    "\n",
    "print(L.index(5))\n",
    "print(L.index(2)) # in the case of multiple items it prints the first elements index"
   ]
  },
  {
   "cell_type": "code",
   "execution_count": 79,
   "metadata": {},
   "outputs": [
    {
     "name": "stdout",
     "output_type": "stream",
     "text": [
      "None\n",
      "[1, 2, 6, 8, 4, 3, 5, 2]\n"
     ]
    }
   ],
   "source": [
    "# reverse \n",
    "\n",
    "L = [2,5,3,4,8,6,2,1]\n",
    "\n",
    "# it make permanently changes in L and make it reverse\n",
    "\n",
    "L.reverse()\n",
    "print(L)"
   ]
  },
  {
   "cell_type": "code",
   "execution_count": 80,
   "metadata": {},
   "outputs": [
    {
     "name": "stdout",
     "output_type": "stream",
     "text": [
      "[2, 5, 3, 4, 8, 6, 2, 1]\n",
      "[1, 2, 2, 3, 4, 5, 6, 8]\n",
      "[2, 5, 3, 4, 8, 6, 2, 1]\n",
      "[1, 2, 2, 3, 4, 5, 6, 8]\n"
     ]
    }
   ],
   "source": [
    "# sort \n",
    "# it is also sort the list but in sort it is permanent and in sorted it is temporary\n",
    "\n",
    "L = [2,5,3,4,8,6,2,1]\n",
    "\n",
    "print(L)\n",
    "print(sorted(L))\n",
    "\n",
    "print(L)\n",
    "\n",
    "L.sort()\n",
    "\n",
    "print(L)"
   ]
  },
  {
   "cell_type": "code",
   "execution_count": 82,
   "metadata": {},
   "outputs": [
    {
     "name": "stdout",
     "output_type": "stream",
     "text": [
      "[2, 5, 3, 4, 8, 6, 2, 1]\n",
      "2169983365248\n",
      "[2, 5, 3, 4, 8, 6, 2, 1]\n",
      "2169983456320\n"
     ]
    }
   ],
   "source": [
    "# copy\n",
    "# it creates a copy of our list\n",
    "\n",
    "L = [2,5,3,4,8,6,2,1]\n",
    "print(L)\n",
    "print(id(L))\n",
    "\n",
    "L1 = L.copy()\n",
    "print(L1)\n",
    "print(id(L1))\n",
    "\n",
    "# the address is diffrent means both the lists are diffrent"
   ]
  },
  {
   "attachments": {},
   "cell_type": "markdown",
   "metadata": {},
   "source": [
    "Deep Copy vs Shallow Copy ? \n",
    "\n",
    "        find after session"
   ]
  },
  {
   "attachments": {},
   "cell_type": "markdown",
   "metadata": {},
   "source": [
    "##  List Comprehension\n",
    "        List Comprehension provides a concise way of creating lists.\n",
    "\n",
    "#### newlist = [expression for item in iterable if condition == True]\n",
    "\n",
    "### Advantages of List Comprehension\n",
    "\n",
    "        More time-efficient and space-efficient than loops.\n",
    "        Require fewer lines of code.\n",
    "        Transforms iterative statement into a formula."
   ]
  },
  {
   "cell_type": "code",
   "execution_count": 83,
   "metadata": {},
   "outputs": [
    {
     "name": "stdout",
     "output_type": "stream",
     "text": [
      "[1, 2, 3, 4, 5, 6, 7, 8, 9, 10]\n"
     ]
    }
   ],
   "source": [
    "# add 1 to 10 numbers to a list\n",
    "\n",
    "L = []\n",
    "for i in range(1,11):\n",
    "    L.append(i)\n",
    "print(L)"
   ]
  },
  {
   "cell_type": "code",
   "execution_count": 84,
   "metadata": {},
   "outputs": [
    {
     "name": "stdout",
     "output_type": "stream",
     "text": [
      "[1, 2, 3, 4, 5, 6, 7, 8, 9, 10]\n"
     ]
    }
   ],
   "source": [
    "L = [i for i in range(1 , 11)]\n",
    "print(L)"
   ]
  },
  {
   "cell_type": "code",
   "execution_count": 86,
   "metadata": {},
   "outputs": [
    {
     "name": "stdout",
     "output_type": "stream",
     "text": [
      "[-6, -9, -12]\n"
     ]
    }
   ],
   "source": [
    "# scalar multiplication on a  vector\n",
    "\n",
    "v = [2,3,4]\n",
    "s = -3\n",
    "\n",
    "# [-6 , -9 , -12]\n",
    "\n",
    "x=[]\n",
    "for i in v: \n",
    "    x.append(i*s)\n",
    "\n",
    "print(x)"
   ]
  },
  {
   "cell_type": "code",
   "execution_count": 87,
   "metadata": {},
   "outputs": [
    {
     "data": {
      "text/plain": [
       "[-6, -9, -12]"
      ]
     },
     "execution_count": 87,
     "metadata": {},
     "output_type": "execute_result"
    }
   ],
   "source": [
    "v = [2,3,4]\n",
    "s = -3\n",
    "\n",
    "[s*i for i in v]"
   ]
  },
  {
   "cell_type": "code",
   "execution_count": 88,
   "metadata": {},
   "outputs": [
    {
     "data": {
      "text/plain": [
       "[1, 4, 9, 16, 25]"
      ]
     },
     "execution_count": 88,
     "metadata": {},
     "output_type": "execute_result"
    }
   ],
   "source": [
    "# Add Squares\n",
    "\n",
    "L = [1,2,3,4,5]\n",
    "\n",
    "[i**2 for i in L]"
   ]
  },
  {
   "cell_type": "code",
   "execution_count": 91,
   "metadata": {},
   "outputs": [
    {
     "data": {
      "text/plain": [
       "[5, 10, 15, 20, 25, 30, 35, 40, 45, 50]"
      ]
     },
     "execution_count": 91,
     "metadata": {},
     "output_type": "execute_result"
    }
   ],
   "source": [
    "# print all numbers divisible by 5 in the range of 2 to 50\n",
    "\n",
    "[i for i in range(1 , 51) if i%5 == 0]"
   ]
  },
  {
   "cell_type": "code",
   "execution_count": 93,
   "metadata": {},
   "outputs": [
    {
     "data": {
      "text/plain": [
       "['python', 'php']"
      ]
     },
     "execution_count": 93,
     "metadata": {},
     "output_type": "execute_result"
    }
   ],
   "source": [
    "# find the languages which start with letter p \n",
    "\n",
    "langauges = ['java' , 'python' , 'php' , 'c' , 'javascript']\n",
    "\n",
    "[language for language in langauges if language.startswith('p')]"
   ]
  },
  {
   "cell_type": "code",
   "execution_count": 94,
   "metadata": {},
   "outputs": [
    {
     "data": {
      "text/plain": [
       "['apple']"
      ]
     },
     "execution_count": 94,
     "metadata": {},
     "output_type": "execute_result"
    }
   ],
   "source": [
    "# Nested if with list Comprehension\n",
    "\n",
    "# Nested if with List Comprehension\n",
    "basket = ['apple','guava','cherry','banana']\n",
    "my_fruits = ['apple','kiwi','grapes','banana']\n",
    "\n",
    "# add new list from my_fruits and items if the fruit exists in basket and also starts with 'a'\n",
    "\n",
    "[fruit for fruit in my_fruits if fruit in basket if fruit.startswith('a')]"
   ]
  },
  {
   "cell_type": "code",
   "execution_count": 95,
   "metadata": {},
   "outputs": [
    {
     "data": {
      "text/plain": [
       "[[1, 2, 3], [2, 4, 6], [3, 6, 9]]"
      ]
     },
     "execution_count": 95,
     "metadata": {},
     "output_type": "execute_result"
    }
   ],
   "source": [
    "# Print a (3,3) matrix using list comprehension -> Nested List comprehension\n",
    "[[i*j for i in range(1,4)] for j in range(1,4)]"
   ]
  },
  {
   "cell_type": "code",
   "execution_count": 96,
   "metadata": {},
   "outputs": [
    {
     "data": {
      "text/plain": [
       "[5, 6, 7, 8, 10, 12, 14, 16, 15, 18, 21, 24, 20, 24, 28, 32]"
      ]
     },
     "execution_count": 96,
     "metadata": {},
     "output_type": "execute_result"
    }
   ],
   "source": [
    "# cartesian products -> List comprehension on 2 lists together\n",
    "L1 = [1,2,3,4]\n",
    "L2 = [5,6,7,8]\n",
    "\n",
    "[i*j for i in L1 for j in L2]"
   ]
  },
  {
   "attachments": {},
   "cell_type": "markdown",
   "metadata": {},
   "source": [
    "### 2 ways to traverse a list\n",
    "\n",
    "        1. itemwise\n",
    "        2. indexwise"
   ]
  },
  {
   "cell_type": "code",
   "execution_count": 97,
   "metadata": {},
   "outputs": [
    {
     "name": "stdout",
     "output_type": "stream",
     "text": [
      "1\n",
      "2\n",
      "3\n",
      "4\n"
     ]
    }
   ],
   "source": [
    "# itemwise\n",
    "\n",
    "L = [1,2,3,4]\n",
    "\n",
    "for i in L:\n",
    "    print(i)"
   ]
  },
  {
   "cell_type": "code",
   "execution_count": 102,
   "metadata": {},
   "outputs": [
    {
     "name": "stdout",
     "output_type": "stream",
     "text": [
      "index --  0  value at that index --- 1\n",
      "index --  1  value at that index --- 2\n",
      "index --  2  value at that index --- 3\n",
      "index --  3  value at that index --- 4\n"
     ]
    }
   ],
   "source": [
    "# indexwise\n",
    "\n",
    "L = [1,2,3,4]\n",
    "\n",
    "for i in range(0 , len(L)):\n",
    "    print(\"index -- \" , i , \" value at that index ---\" , L[i])\n",
    "  "
   ]
  },
  {
   "attachments": {},
   "cell_type": "markdown",
   "metadata": {},
   "source": [
    "### Zip\n",
    "        The zip() function returns a zip object, which is an iterator of tuples where the first item in each passed iterator is paired together, and then the second item in each passed iterator are paired together.\n",
    "\n",
    "        If the passed iterators have different lengths, the iterator with the least items decides the length of the new iterator."
   ]
  },
  {
   "cell_type": "code",
   "execution_count": 103,
   "metadata": {},
   "outputs": [
    {
     "data": {
      "text/plain": [
       "[0, 0, 0, 0]"
      ]
     },
     "execution_count": 103,
     "metadata": {},
     "output_type": "execute_result"
    }
   ],
   "source": [
    "# Write a program to add items of 2 lists indexwise\n",
    "\n",
    "L1 = [1,2,3,4]\n",
    "L2 = [-1,-2,-3,-4]\n",
    "\n",
    "list(zip(L1,L2)) \n",
    "\n",
    "[i+j for i,j in zip(L1,L2)]"
   ]
  },
  {
   "cell_type": "code",
   "execution_count": 105,
   "metadata": {},
   "outputs": [
    {
     "name": "stdout",
     "output_type": "stream",
     "text": [
      "5\n",
      "[1, 2, None, <class 'type'>, <bound method Kernel.raw_input of <ipykernel.ipkernel.IPythonKernel object at 0x000001F93BC8A4D0>>]\n"
     ]
    }
   ],
   "source": [
    "L = [1,2,print,type,input]\n",
    "\n",
    "print(L)"
   ]
  },
  {
   "attachments": {},
   "cell_type": "markdown",
   "metadata": {},
   "source": [
    "### Disadvantages of Python Lists\n",
    "    Slow\n",
    "    Risky usage\n",
    "    eats up more memory"
   ]
  },
  {
   "attachments": {},
   "cell_type": "markdown",
   "metadata": {},
   "source": [
    "Programs of list"
   ]
  },
  {
   "cell_type": "code",
   "execution_count": 109,
   "metadata": {},
   "outputs": [
    {
     "name": "stdout",
     "output_type": "stream",
     "text": [
      "[2, 4, 6]\n",
      "[1, 3, 5]\n"
     ]
    }
   ],
   "source": [
    "# Create 2 lists from a given list where \n",
    "# 1st list will contain all the odd numbers from the original list and\n",
    "# the 2nd one will contain all the even numbers \n",
    "\n",
    "L = [1,2,3,4,5,6]\n",
    "\n",
    "L1 = [ i for i in L if i%2==0 ]\n",
    "L2 = [ i for i in L if i%2!=0 ]\n",
    "print(L1)\n",
    "print(L2)"
   ]
  },
  {
   "cell_type": "code",
   "execution_count": null,
   "metadata": {},
   "outputs": [],
   "source": [
    "# How to take list as input from user\n",
    "\n",
    "user_input = input(\"Enter a list of values separated by commas: \")\n",
    "user_list = user_input.split(\",\")\n",
    "\n",
    "# Convert the elements to integers if needed\n",
    "user_list = [int(item.strip()) for item in user_list]\n",
    "\n",
    "print(\"User list:\", user_list)\n"
   ]
  },
  {
   "cell_type": "code",
   "execution_count": 14,
   "metadata": {},
   "outputs": [
    {
     "name": "stdout",
     "output_type": "stream",
     "text": [
      "Merged list: [1, 2, 3, 4, 5, 6]\n"
     ]
    }
   ],
   "source": [
    "# Write a program to merge 2 list without using the + operator\n",
    "L1 = [1,2,3,4]\n",
    "L2 = [5,6,7,8]\n",
    "\n",
    "\n",
    "list1 = [1, 2, 3]\n",
    "list2 = [4, 5, 6]\n",
    "\n",
    "merged_list = list1.copy()\n",
    "for item in list2:\n",
    "    merged_list.append(item)\n",
    "\n",
    "print(\"Merged list:\", merged_list)\n"
   ]
  },
  {
   "cell_type": "code",
   "execution_count": 13,
   "metadata": {},
   "outputs": [
    {
     "name": "stdout",
     "output_type": "stream",
     "text": [
      "Original list: [1, 2, 3, 4, 5, 3]\n",
      "Modified list: [1, 2, 10, 4, 5, 10]\n"
     ]
    }
   ],
   "source": [
    "# Write a program to replace an item with a different item if found in the list \n",
    "L = [1,2,3,4,5,3]\n",
    "# replace 3 with 300\n",
    "\n",
    "my_list = [1, 2, 3, 4, 5 , 3]\n",
    "print(\"Original list:\", my_list)\n",
    "\n",
    "target = 3\n",
    "replacement = 10\n",
    "\n",
    "for i in range(len(my_list)):\n",
    "    if my_list[i] == target:\n",
    "        my_list[i] = replacement\n",
    "\n",
    "print(\"Modified list:\", my_list)\n"
   ]
  },
  {
   "cell_type": "code",
   "execution_count": 8,
   "metadata": {},
   "outputs": [
    {
     "name": "stdout",
     "output_type": "stream",
     "text": [
      "Original 2D list: [[1, 2, 3], [4, 5, 6], [7, 8, 9]]\n",
      "1D list: [1, 2, 3, 4, 5, 6, 7, 8, 9]\n"
     ]
    }
   ],
   "source": [
    "# Write a program that can convert a 2D list to 1D list\n",
    "\n",
    "two_dimensional_list = [[1, 2, 3], [4, 5, 6], [7, 8, 9]]\n",
    "print(\"Original 2D list:\", two_dimensional_list)\n",
    "\n",
    "one_dimensional_list = []\n",
    "for sublist in two_dimensional_list:\n",
    "    for item in sublist:\n",
    "        one_dimensional_list.append(item)\n",
    "\n",
    "print(\"1D list:\", one_dimensional_list)\n"
   ]
  },
  {
   "cell_type": "code",
   "execution_count": 7,
   "metadata": {},
   "outputs": [
    {
     "name": "stdout",
     "output_type": "stream",
     "text": [
      "Original list: [1, 2, 3, 4, 1, 2, 5, 6, 3, 4]\n",
      "List with duplicates removed: [1, 2, 3, 4, 5, 6]\n"
     ]
    }
   ],
   "source": [
    "# Write a program to remove duplicate items from a list\n",
    "\n",
    "my_list = [1, 2, 3, 4, 1, 2, 5, 6, 3, 4]\n",
    "\n",
    "print(\"Original list:\", my_list)\n",
    "\n",
    "unique_list = []\n",
    "\n",
    "for item in my_list:\n",
    "    if item not in unique_list:\n",
    "        unique_list.append(item)\n",
    "\n",
    "print(\"List with duplicates removed:\", unique_list)\n"
   ]
  },
  {
   "cell_type": "code",
   "execution_count": 6,
   "metadata": {},
   "outputs": [
    {
     "name": "stdout",
     "output_type": "stream",
     "text": [
      "[1, 2, 3, 5, 4]\n",
      "[1, 2, 3, 4, 5]\n",
      "not sorted\n"
     ]
    }
   ],
   "source": [
    "# Write a program to check if a list is in ascending order or not\n",
    "\n",
    "l = [1 , 2 , 3 , 5 , 4]\n",
    "\n",
    "m = sorted(l)\n",
    "\n",
    "print(l , m , sep= \"\\n\")\n",
    "if l == m :\n",
    "\n",
    "    print(\"sorted\")\n",
    "\n",
    "else:\n",
    "    print(\"not sorted\")"
   ]
  },
  {
   "cell_type": "code",
   "execution_count": null,
   "metadata": {},
   "outputs": [],
   "source": [
    "l = [1, 2, 3, 4, 5, 6, 7, 8, 9, 10, 11]"
   ]
  }
 ],
 "metadata": {
  "kernelspec": {
   "display_name": "Python 3",
   "language": "python",
   "name": "python3"
  },
  "language_info": {
   "codemirror_mode": {
    "name": "ipython",
    "version": 3
   },
   "file_extension": ".py",
   "mimetype": "text/x-python",
   "name": "python",
   "nbconvert_exporter": "python",
   "pygments_lexer": "ipython3",
   "version": "3.10.7"
  },
  "orig_nbformat": 4,
  "vscode": {
   "interpreter": {
    "hash": "26de051ba29f2982a8de78e945f0abaf191376122a1563185a90213a26c5da77"
   }
  }
 },
 "nbformat": 4,
 "nbformat_minor": 2
}
