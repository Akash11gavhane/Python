{
 "cells": [
  {
   "attachments": {},
   "cell_type": "markdown",
   "metadata": {},
   "source": [
    "# Dictionary\n",
    "\n",
    "    Dictionary in Python is a collection of keys values, used to store data values like a map, which, unlike other data types which hold only a single value as an element.\n",
    "\n",
    "    In some languages it is known as map or assosiative arrays.\n",
    "\n",
    "    dict = { 'name' : 'nitish' , 'age' : 33 , 'gender' : 'male' }\n",
    "\n",
    "Characterstics:\n",
    "\n",
    "- Mutable\n",
    "- Indexing has no meaning\n",
    "- keys can't be duplicated\n",
    "- keys can't be mutable items"
   ]
  },
  {
   "attachments": {},
   "cell_type": "markdown",
   "metadata": {},
   "source": [
    "## Creating of dictionary"
   ]
  },
  {
   "cell_type": "code",
   "execution_count": 1,
   "metadata": {},
   "outputs": [
    {
     "name": "stdout",
     "output_type": "stream",
     "text": [
      "{}\n"
     ]
    }
   ],
   "source": [
    "# empty dictionary\n",
    "\n",
    "d = {} \n",
    "print(d)\n",
    "\n"
   ]
  },
  {
   "cell_type": "code",
   "execution_count": 3,
   "metadata": {},
   "outputs": [
    {
     "name": "stdout",
     "output_type": "stream",
     "text": [
      "{'name': 'nitish', 'gender': 'male'}\n",
      "{'name': 'nitish', 'age': 33, 'gender': 'male'}\n"
     ]
    }
   ],
   "source": [
    "# 1D dictionary \n",
    "# homogeneous\n",
    "d1 = { 'name' : 'nitish' ,'gender' : 'male' }\n",
    "print(d1)\n",
    "\n",
    "# heterogeneous\n",
    "\n",
    "d2 = { 'name' : 'nitish' , 'age' : 33 , 'gender' : 'male' }\n",
    "print(d2)"
   ]
  },
  {
   "cell_type": "code",
   "execution_count": 8,
   "metadata": {},
   "outputs": [
    {
     "name": "stdout",
     "output_type": "stream",
     "text": [
      "{'Name': 'Akash', 'College': 'MITWPU', 'Semester': 1, 'class': 'F.Y', 'Subjects': {'Machine learning', 'Android', 'R', 'Java', 'Python'}, 'marks': {'Machine Learning': 40, 'Android': 40, 'Java': 40}}\n",
      "---------------------------\n"
     ]
    },
    {
     "data": {
      "text/plain": [
       "{'Name': 'Akash',\n",
       " 'College': 'MITWPU',\n",
       " 'Semester': 1,\n",
       " 'class': 'F.Y',\n",
       " 'Subjects': {'Android', 'Java', 'Machine learning', 'Python', 'R'},\n",
       " 'marks': {'Machine Learning': 40, 'Android': 40, 'Java': 40}}"
      ]
     },
     "execution_count": 8,
     "metadata": {},
     "output_type": "execute_result"
    }
   ],
   "source": [
    "# 2D dictionary\n",
    "\n",
    "s = {\n",
    "    'Name' : 'Akash',\n",
    "    'College' : 'MITWPU' ,\n",
    "    'Semester' : 1 ,\n",
    "    'class' : \"F.Y\" , \n",
    "    'Subjects' : {\n",
    "        \"Machine learning\" , \n",
    "        \"Java\" , \n",
    "        \"R\" ,\n",
    "        \"Python\",\n",
    "        \"Android\"\n",
    "    } ,\n",
    "    'marks' : {\n",
    "        \"Machine Learning\" : 40 ,\n",
    "        \"Android\" : 40 ,\n",
    "        \"Java\" : 40 ,\n",
    "    }\n",
    "}\n",
    "\n",
    "print(s)\n",
    "print(\"---------------------------\")\n",
    "\n",
    "s"
   ]
  },
  {
   "cell_type": "code",
   "execution_count": 12,
   "metadata": {},
   "outputs": [
    {
     "name": "stdout",
     "output_type": "stream",
     "text": [
      "{1: 2, 3: 4, 5: 6}\n"
     ]
    },
    {
     "data": {
      "text/plain": [
       "{'Name': 'Akash', 'Age': 21, 'school': 'Mitwpu'}"
      ]
     },
     "execution_count": 12,
     "metadata": {},
     "output_type": "execute_result"
    }
   ],
   "source": [
    "# using dict() function\n",
    "\n",
    "d4 = dict([(1  , 2 ) , (3 , 4) , (5 , 6)])\n",
    "print(d4)\n",
    "\n",
    "d5 = dict([(\"Name\" ,\"Akash\" ) , (\"Age\" , 21) , (\"school\" , \"Mitwpu\")])\n",
    "\n",
    "d5"
   ]
  },
  {
   "cell_type": "code",
   "execution_count": 13,
   "metadata": {},
   "outputs": [
    {
     "data": {
      "text/plain": [
       "{'Name': 'Balaji'}"
      ]
     },
     "execution_count": 13,
     "metadata": {},
     "output_type": "execute_result"
    }
   ],
   "source": [
    "\n",
    "# it does not contain duplicates\n",
    "\n",
    "d6 = {\"Name\" : \"Akash\" , \"Name\" : \"Balaji\"}\n",
    "d6\n",
    "\n",
    "# it does not allow the duplicate values\n",
    "# it print the last element"
   ]
  },
  {
   "cell_type": "code",
   "execution_count": 14,
   "metadata": {},
   "outputs": [
    {
     "name": "stdout",
     "output_type": "stream",
     "text": [
      "{'name': 'nitish', (1, 2, 3): 2}\n"
     ]
    }
   ],
   "source": [
    "# mutable items as keys\n",
    "\n",
    "#d7 = {'name':'nitish',[1,2,3]:2}\n",
    "#print(d7)\n",
    "# this shows an error because we add the mutable datatype in it\n",
    "\n",
    "\n",
    "d7 = {'name':'nitish',(1,2,3):2}\n",
    "print(d7)\n",
    "# but here we use tuple so it allowed because tuple is immutable"
   ]
  },
  {
   "attachments": {},
   "cell_type": "markdown",
   "metadata": {},
   "source": [
    "-dictionaries are unordered "
   ]
  },
  {
   "cell_type": "code",
   "execution_count": 18,
   "metadata": {},
   "outputs": [
    {
     "name": "stdout",
     "output_type": "stream",
     "text": [
      "Akash\n",
      "21\n",
      "Mitwpu\n"
     ]
    }
   ],
   "source": [
    "# accessing items from dictionary\n",
    "\n",
    "# it does not work because indexing concept is not here\n",
    "\n",
    "# but we want to access any value from the list we give the corresponding key of the value\n",
    "\n",
    "my_dict = {'Name': 'Akash', 'Age': 21, 'school': 'Mitwpu'}\n",
    "\n",
    "print(my_dict['Name'])\n",
    "\n",
    "print(my_dict['Age'])\n",
    "\n",
    "print(my_dict['school'])\n"
   ]
  },
  {
   "cell_type": "code",
   "execution_count": 20,
   "metadata": {},
   "outputs": [
    {
     "name": "stdout",
     "output_type": "stream",
     "text": [
      "Akash\n",
      "21\n"
     ]
    }
   ],
   "source": [
    "# we use another method to get the values \n",
    "# using get() method\n",
    "\n",
    "print(my_dict.get(\"Name\"))\n",
    "\n",
    "print(my_dict.get(\"Age\"))"
   ]
  },
  {
   "cell_type": "code",
   "execution_count": 23,
   "metadata": {},
   "outputs": [
    {
     "name": "stdout",
     "output_type": "stream",
     "text": [
      "{'Name': 'Akash', 'Age': 21, 'school': 'Mitwpu', 'Gender': 'Male'}\n",
      "-----------------------------\n",
      "{'Name': 'Akash', 'Age': 21, 'school': 'Mitwpu', 'Gender': 'Male', 'Weight': '75kg'}\n"
     ]
    }
   ],
   "source": [
    "# adding the key value pair in the dictionory\n",
    "\n",
    "d10 = {'Name': 'Akash', 'Age': 21, 'school': 'Mitwpu'}\n",
    "\n",
    "d10[\"Gender\"] = \"Male\"\n",
    "\n",
    "print(d10)\n",
    "\n",
    "print(\"-----------------------------\")\n",
    "\n",
    "\n",
    "d10[\"Weight\"] = \"75kg\"\n",
    "\n",
    "print(d10)"
   ]
  },
  {
   "attachments": {},
   "cell_type": "markdown",
   "metadata": {},
   "source": [
    "### how to remove key and value pairs from the dictionary\n",
    "\n",
    "        so there are 4 ways to remove the key value pairs from the dictionary : \n",
    "\n",
    "        - pop\n",
    "        - popitem\n",
    "        - del\n",
    "        - clear"
   ]
  },
  {
   "cell_type": "code",
   "execution_count": 30,
   "metadata": {},
   "outputs": [
    {
     "name": "stdout",
     "output_type": "stream",
     "text": [
      "{'Name': 'Akash', 'Age': 21, 'school': 'Mitwpu', 'Gender': 'Male', 'Weight': '75kg'}\n",
      "{'Name': 'Akash', 'Age': 21, 'school': 'Mitwpu', 'Gender': 'Male'}\n"
     ]
    }
   ],
   "source": [
    "# pop -> \n",
    "# if we provide the key in the pop function then it removes the perticular key from the dictionary\n",
    "\n",
    "\n",
    "d10 = {'Name': 'Akash', 'Age': 21, 'school': 'Mitwpu', 'Gender': 'Male', 'Weight': '75kg'}\n",
    "\n",
    "print(d10)\n",
    "\n",
    "d10.pop(\"Weight\")\n",
    "\n",
    "print(d10)"
   ]
  },
  {
   "cell_type": "code",
   "execution_count": 31,
   "metadata": {},
   "outputs": [
    {
     "name": "stdout",
     "output_type": "stream",
     "text": [
      "{'Name': 'Akash', 'Age': 21, 'school': 'Mitwpu', 'Gender': 'Male'}\n"
     ]
    }
   ],
   "source": [
    "# popitem\n",
    "# popitem function deletes the last key value pair function\n",
    "d10 = {'Name': 'Akash', 'Age': 21, 'school': 'Mitwpu', 'Gender': 'Male', 'Weight': '75kg'}\n",
    "\n",
    "d10.popitem()\n",
    "\n",
    "print(d10)\n",
    "\n"
   ]
  },
  {
   "cell_type": "code",
   "execution_count": 33,
   "metadata": {},
   "outputs": [
    {
     "name": "stdout",
     "output_type": "stream",
     "text": [
      "{'Age': 21, 'school': 'Mitwpu', 'Gender': 'Male', 'Weight': '75kg'}\n"
     ]
    }
   ],
   "source": [
    "# del\n",
    "\n",
    "# using del we can delete the whole list as well as a perticular dictionary key  value pair\n",
    "d10 = {'Name': 'Akash', 'Age': 21, 'school': 'Mitwpu', 'Gender': 'Male', 'Weight': '75kg'}\n",
    "\n",
    "del d10['Name']\n",
    "\n",
    "print(d10)"
   ]
  },
  {
   "cell_type": "code",
   "execution_count": 34,
   "metadata": {},
   "outputs": [
    {
     "name": "stdout",
     "output_type": "stream",
     "text": [
      "{}\n"
     ]
    }
   ],
   "source": [
    "# clear\n",
    "# using clear we cnn clear or empty the dictionary\n",
    "\n",
    "d10 = {'Name': 'Akash', 'Age': 21, 'school': 'Mitwpu', 'Gender': 'Male', 'Weight': '75kg'}\n",
    "\n",
    "d10.clear()\n",
    "\n",
    "print(d10)"
   ]
  },
  {
   "cell_type": "code",
   "execution_count": 36,
   "metadata": {},
   "outputs": [
    {
     "data": {
      "text/plain": [
       "40"
      ]
     },
     "execution_count": 36,
     "metadata": {},
     "output_type": "execute_result"
    }
   ],
   "source": [
    "# accesing elements from the 2D dictionary\n",
    "\n",
    "s = {\n",
    "    'Name' : 'Akash',\n",
    "    'College' : 'MITWPU' ,\n",
    "    'Semester' : 1 ,\n",
    "    'class' : \"F.Y\" , \n",
    "    'Subjects' : {\n",
    "        \"Machine learning\" , \n",
    "        \"Java\" , \n",
    "        \"R\" ,\n",
    "        \"Python\",\n",
    "        \"Android\"\n",
    "    } ,\n",
    "    'marks' : {\n",
    "        \"Machine Learning\" : 40 ,\n",
    "        \"Android\" : 40 ,\n",
    "        \"Java\" : 40 ,\n",
    "    }\n",
    "}\n",
    "\n",
    "\n",
    "s[\"marks\"][\"Java\"]"
   ]
  },
  {
   "cell_type": "code",
   "execution_count": 39,
   "metadata": {},
   "outputs": [
    {
     "data": {
      "text/plain": [
       "{'Name': 'Akash',\n",
       " 'College': 'MITWPU',\n",
       " 'Semester': 1,\n",
       " 'class': 'F.Y',\n",
       " 'Subjects': {'Android', 'Java', 'Machine learning', 'Python', 'R'},\n",
       " 'marks': {'Machine Learning': 40, 'Android': 40, 'Java': 40, 'Python': 40}}"
      ]
     },
     "execution_count": 39,
     "metadata": {},
     "output_type": "execute_result"
    }
   ],
   "source": [
    "# add elements in the 2d dictionary\n",
    "\n",
    "s = {\n",
    "    'Name' : 'Akash',\n",
    "    'College' : 'MITWPU' ,\n",
    "    'Semester' : 1 ,\n",
    "    'class' : \"F.Y\" , \n",
    "    'Subjects' : {\n",
    "        \"Machine learning\" , \n",
    "        \"Java\" , \n",
    "        \"R\" ,\n",
    "        \"Python\",\n",
    "        \"Android\"\n",
    "    } ,\n",
    "    'marks' : {\n",
    "        \"Machine Learning\" : 40 ,\n",
    "        \"Android\" : 40 ,\n",
    "        \"Java\" : 40 ,\n",
    "    }\n",
    "}\n",
    "\n",
    "s[\"marks\"][\"Python\"] = 40\n",
    "\n",
    "s"
   ]
  },
  {
   "cell_type": "code",
   "execution_count": 45,
   "metadata": {},
   "outputs": [
    {
     "name": "stdout",
     "output_type": "stream",
     "text": [
      "<class 'dict'>\n",
      "{'Name': 'Akash', 'College': 'MITWPU', 'Semester': 1, 'class': 'F.Y', 'Subjects': {'Machine learning', 'Android', 'R', 'Java', 'Python'}, 'marks': {'Machine Learning': 40, 'Android': 40}}\n"
     ]
    }
   ],
   "source": [
    "# remove key value pair from 2d dictionary\n",
    "# we only delete the elements from the key which are in the key value pair a single item cannot be delete\n",
    "s = {\n",
    "    'Name' : 'Akash',\n",
    "    'College' : 'MITWPU' ,\n",
    "    'Semester' : 1 ,\n",
    "    'class' : \"F.Y\" , \n",
    "    'Subjects' : {\n",
    "        \"Machine learning\" , \n",
    "        \"Java\" , \n",
    "        \"R\" ,\n",
    "        \"Python\",\n",
    "        \"Android\"\n",
    "    } ,\n",
    "    'marks' : {\n",
    "        \"Machine Learning\" : 40 ,\n",
    "        \"Android\" : 40 ,\n",
    "        \"Java\" : 40 ,\n",
    "    }\n",
    "}\n",
    "\n",
    "print(type(s))\n",
    "\n",
    "del s[\"marks\"][\"Java\"]\n",
    "\n",
    "print(s)"
   ]
  },
  {
   "attachments": {},
   "cell_type": "markdown",
   "metadata": {},
   "source": [
    "#### Editing the key Value Pair"
   ]
  },
  {
   "cell_type": "code",
   "execution_count": 47,
   "metadata": {},
   "outputs": [
    {
     "data": {
      "text/plain": [
       "{'Name': 'Akash',\n",
       " 'College': 'MITWPU',\n",
       " 'Semester': 2,\n",
       " 'class': 'F.Y',\n",
       " 'Subjects': {'Android', 'Java', 'Machine learning', 'Python', 'R'},\n",
       " 'marks': {'Machine Learning': 40, 'Android': 40, 'Java': 40}}"
      ]
     },
     "execution_count": 47,
     "metadata": {},
     "output_type": "execute_result"
    }
   ],
   "source": [
    "s = {\n",
    "    'Name' : 'Akash',\n",
    "    'College' : 'MITWPU' ,\n",
    "    'Semester' : 1 ,\n",
    "    'class' : \"F.Y\" , \n",
    "    'Subjects' : {\n",
    "        \"Machine learning\" , \n",
    "        \"Java\" , \n",
    "        \"R\" ,\n",
    "        \"Python\",\n",
    "        \"Android\"\n",
    "    } ,\n",
    "    'marks' : {\n",
    "        \"Machine Learning\" : 40 ,\n",
    "        \"Android\" : 40 ,\n",
    "        \"Java\" : 40 ,\n",
    "    }\n",
    "}\n",
    "\n",
    "s[\"Semester\"] = 2\n",
    "\n",
    "s"
   ]
  },
  {
   "cell_type": "code",
   "execution_count": 49,
   "metadata": {},
   "outputs": [
    {
     "data": {
      "text/plain": [
       "{'Name': 'Akash',\n",
       " 'College': 'MITWPU',\n",
       " 'Semester': 1,\n",
       " 'class': 'F.Y',\n",
       " 'Subjects': {'Android', 'Java', 'Machine learning', 'Python', 'R'},\n",
       " 'marks': {'Machine Learning': 40, 'Android': 40, 'Java': 50}}"
      ]
     },
     "execution_count": 49,
     "metadata": {},
     "output_type": "execute_result"
    }
   ],
   "source": [
    "s = {\n",
    "    'Name' : 'Akash',\n",
    "    'College' : 'MITWPU' ,\n",
    "    'Semester' : 1 ,\n",
    "    'class' : \"F.Y\" , \n",
    "    'Subjects' : {\n",
    "        \"Machine learning\" , \n",
    "        \"Java\" , \n",
    "        \"R\" ,\n",
    "        \"Python\",\n",
    "        \"Android\"\n",
    "    } ,\n",
    "    'marks' : {\n",
    "        \"Machine Learning\" : 40 ,\n",
    "        \"Android\" : 40 ,\n",
    "        \"Java\" : 40 ,\n",
    "    }\n",
    "}\n",
    "\n",
    "s[\"marks\"][\"Java\"] = 50\n",
    "\n",
    "s"
   ]
  },
  {
   "attachments": {},
   "cell_type": "markdown",
   "metadata": {},
   "source": [
    "### Dictionary Operations\n",
    "\n",
    "    -membership\n",
    "    -iteration"
   ]
  },
  {
   "cell_type": "code",
   "execution_count": 51,
   "metadata": {},
   "outputs": [
    {
     "name": "stdout",
     "output_type": "stream",
     "text": [
      "False\n",
      "True\n"
     ]
    }
   ],
   "source": [
    "# membership \n",
    "\n",
    "s = {\n",
    "    'Name' : 'Akash',\n",
    "    'College' : 'MITWPU' ,\n",
    "    'Semester' : 1 ,\n",
    "    'class' : \"F.Y\" , \n",
    "    'Subjects' : {\n",
    "        \"Machine learning\" , \n",
    "        \"Java\" , \n",
    "        \"R\" ,\n",
    "        \"Python\",\n",
    "        \"Android\"\n",
    "    } ,\n",
    "    'marks' : {\n",
    "        \"Machine Learning\" : 40 ,\n",
    "        \"Android\" : 40 ,\n",
    "        \"Java\" : 40 ,\n",
    "    }\n",
    "}\n",
    "\n",
    "print(\"Akash\" in s) # false because everything is about keys because it finds or search only for keys value is not matter\n",
    "\n",
    "print(\"Name\" in s) # true because we find key for this time \n",
    "\n"
   ]
  },
  {
   "cell_type": "code",
   "execution_count": 55,
   "metadata": {},
   "outputs": [
    {
     "name": "stdout",
     "output_type": "stream",
     "text": [
      "Name\n",
      "Gender\n",
      "Age\n",
      "Name : Akash\n",
      "Gender : male\n",
      "Age : 33\n"
     ]
    }
   ],
   "source": [
    "# iteration \n",
    "\n",
    "d = {\"Name\" : \"Akash\" , \"Gender\" : \"male\" , \"Age\" : 33}\n",
    "\n",
    "# this only print the keys in dictionary\n",
    "for i in d:\n",
    "    print(i)\n",
    "\n",
    "# how we can print the key and values with dictionary\n",
    "for i in d:\n",
    "    print(i , d[i] , sep= \" : \")"
   ]
  },
  {
   "attachments": {},
   "cell_type": "markdown",
   "metadata": {},
   "source": [
    "### Functions in the Dictionary : \n"
   ]
  },
  {
   "cell_type": "code",
   "execution_count": 58,
   "metadata": {},
   "outputs": [
    {
     "name": "stdout",
     "output_type": "stream",
     "text": [
      "3\n",
      "['Age', 'Gender', 'Name']\n",
      "Age\n",
      "Name\n"
     ]
    }
   ],
   "source": [
    "# len\n",
    "\n",
    "d = {\"Name\" : \"Akash\" , \"Gender\" : \"male\" , \"Age\" : 33}\n",
    "\n",
    "print(len(d))\n",
    "\n",
    "\n",
    "# sorted \n",
    "\n",
    "print(sorted(d))\n",
    "\n",
    "# min\n",
    "\n",
    "print(min(d))\n",
    "\n",
    "# max\n",
    "\n",
    "print(max(d))\n",
    "# but min and max gives answers on the basis of ascii values\n",
    "\n"
   ]
  },
  {
   "cell_type": "code",
   "execution_count": 61,
   "metadata": {},
   "outputs": [
    {
     "name": "stdout",
     "output_type": "stream",
     "text": [
      "dict_items([('Name', 'Akash'), ('Gender', 'male'), ('Age', 33)])\n",
      "dict_keys(['Name', 'Gender', 'Age'])\n",
      "dict_values(['Akash', 'male', 33])\n"
     ]
    }
   ],
   "source": [
    "d = {\"Name\" : \"Akash\" , \"Gender\" : \"male\" , \"Age\" : 33}\n",
    "\n",
    "# items \n",
    "# it display all the key value value pairs in the form for tuple in the list\n",
    "\n",
    "print(d.items()) \n",
    "\n",
    "# keys\n",
    "# it print all the keys at same time but only the keys\n",
    "\n",
    "print(d.keys())\n",
    "\n",
    "\n",
    "# values\n",
    "# it prints all the values present in the dictionary bbut only values\n",
    "\n",
    "print(d.values())\n"
   ]
  },
  {
   "cell_type": "code",
   "execution_count": 62,
   "metadata": {},
   "outputs": [
    {
     "name": "stdout",
     "output_type": "stream",
     "text": [
      "{1: 2, 3: 4, 4: 7, 6: 8}\n"
     ]
    }
   ],
   "source": [
    "# update \n",
    "# it updates the the d1 on the basis of d2 \n",
    "\n",
    "\n",
    "d1 = {1:2,3:4,4:5}\n",
    "d2 = {4:7,6:8}\n",
    "\n",
    "d1.update(d2)\n",
    "print(d1)\n",
    "\n"
   ]
  },
  {
   "attachments": {},
   "cell_type": "markdown",
   "metadata": {},
   "source": [
    "### Dictionary comprehension\n",
    "\n",
    "        {key : value for vars in iterable}"
   ]
  },
  {
   "cell_type": "code",
   "execution_count": 63,
   "metadata": {},
   "outputs": [
    {
     "data": {
      "text/plain": [
       "{1: 1, 2: 4, 3: 9, 4: 16, 5: 25, 6: 36, 7: 49, 8: 64, 9: 81, 10: 100}"
      ]
     },
     "execution_count": 63,
     "metadata": {},
     "output_type": "execute_result"
    }
   ],
   "source": [
    "# print 1st 10 numbers and their squares\n",
    "\n",
    "{i : i**2 for i in range(1 , 10 + 1)}"
   ]
  },
  {
   "cell_type": "code",
   "execution_count": 65,
   "metadata": {},
   "outputs": [
    {
     "data": {
      "text/plain": [
       "{'Delhi': 620.0, 'Mumbai': 1240.0, 'banglore': 1860.0}"
      ]
     },
     "execution_count": 65,
     "metadata": {},
     "output_type": "execute_result"
    }
   ],
   "source": [
    "# using existing dictionary\n",
    "\n",
    "distnaces = {'Delhi' : 1000 , 'Mumbai' : 2000 , 'banglore' : 3000}\n",
    "\n",
    "{key : value * 0.62 for (key , value) in distnaces.items()}"
   ]
  },
  {
   "cell_type": "code",
   "execution_count": 66,
   "metadata": {},
   "outputs": [
    {
     "data": {
      "text/plain": [
       "{'Sunday': 30.5,\n",
       " 'Monday': 32.6,\n",
       " 'Tuesday': 31.8,\n",
       " 'Wednesday': 33.4,\n",
       " 'Thursday': 29.8,\n",
       " 'Friday': 30.2,\n",
       " 'Saturday': 29.9}"
      ]
     },
     "execution_count": 66,
     "metadata": {},
     "output_type": "execute_result"
    }
   ],
   "source": [
    "# using zip\n",
    "days = [\"Sunday\", \"Monday\",\"Tuesday\",\"Wednesday\",\"Thursday\",\"Friday\",\"Saturday\"]\n",
    "temp_C = [30.5,32.6,31.8,33.4,29.8,30.2,29.9]\n",
    "\n",
    "{i:j for (i,j) in zip(days,temp_C)}"
   ]
  },
  {
   "cell_type": "code",
   "execution_count": 67,
   "metadata": {},
   "outputs": [
    {
     "data": {
      "text/plain": [
       "{'phone': 10, 'charger': 32}"
      ]
     },
     "execution_count": 67,
     "metadata": {},
     "output_type": "execute_result"
    }
   ],
   "source": [
    "# using if condition\n",
    "products = {'phone':10,'laptop':0,'charger':32,'tablet':0}\n",
    "\n",
    "{key:value for (key,value) in products.items() if value>0}"
   ]
  },
  {
   "cell_type": "code",
   "execution_count": 69,
   "metadata": {},
   "outputs": [
    {
     "data": {
      "text/plain": [
       "{2: {1: 2, 2: 4, 3: 6, 4: 8, 5: 10, 6: 12, 7: 14, 8: 16, 9: 18, 10: 20},\n",
       " 3: {1: 3, 2: 6, 3: 9, 4: 12, 5: 15, 6: 18, 7: 21, 8: 24, 9: 27, 10: 30},\n",
       " 4: {1: 4, 2: 8, 3: 12, 4: 16, 5: 20, 6: 24, 7: 28, 8: 32, 9: 36, 10: 40}}"
      ]
     },
     "execution_count": 69,
     "metadata": {},
     "output_type": "execute_result"
    }
   ],
   "source": [
    "# Nested Comprehension\n",
    "# print tables of number from 2 to 4\n",
    "{i:{j:i*j for j in range(1,11)} for i in range(2,4 + 1)}"
   ]
  }
 ],
 "metadata": {
  "kernelspec": {
   "display_name": "Python 3",
   "language": "python",
   "name": "python3"
  },
  "language_info": {
   "codemirror_mode": {
    "name": "ipython",
    "version": 3
   },
   "file_extension": ".py",
   "mimetype": "text/x-python",
   "name": "python",
   "nbconvert_exporter": "python",
   "pygments_lexer": "ipython3",
   "version": "3.10.7"
  },
  "orig_nbformat": 4
 },
 "nbformat": 4,
 "nbformat_minor": 2
}
