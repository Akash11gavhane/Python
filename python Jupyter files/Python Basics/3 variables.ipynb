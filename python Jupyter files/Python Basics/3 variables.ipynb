{
 "cells": [
  {
   "attachments": {},
   "cell_type": "markdown",
   "metadata": {},
   "source": [
    "Variables : \n",
    "\n",
    "    Variables are the function where we can store the data..\n",
    "\n",
    "    Variables are the container where or in which we can store values or information"
   ]
  },
  {
   "attachments": {},
   "cell_type": "markdown",
   "metadata": {},
   "source": [
    "Eg : \n",
    "\n",
    "    C++ \n",
    "    int a = 65;\n",
    "    char c = 'Akash'\n",
    "\n",
    "    Python : \n",
    "    a = 65;\n",
    "    c = 'Akash'"
   ]
  },
  {
   "cell_type": "code",
   "execution_count": null,
   "metadata": {},
   "outputs": [],
   "source": [
    "# Dynamic typing : \n",
    "        # means we not tell the datatype of the variable\n",
    "        #   to the pythons interpreter it automatically detects it.\n",
    "\n",
    "x = 5 \n",
    "c = 'Akash'"
   ]
  },
  {
   "cell_type": "code",
   "execution_count": null,
   "metadata": {},
   "outputs": [],
   "source": [
    "# Static Typing \n",
    "\n",
    "    # Means at the declaring time we tell teh data type of variable.\n",
    "\n",
    "int x = 5 \n",
    "char c = 'Akash'"
   ]
  },
  {
   "cell_type": "code",
   "execution_count": 1,
   "metadata": {},
   "outputs": [
    {
     "name": "stdout",
     "output_type": "stream",
     "text": [
      "5\n",
      "Akash\n"
     ]
    }
   ],
   "source": [
    "# Dynamic Binding \n",
    "\n",
    "    # in python when we make a variable that does not have a fix data type it will change\n",
    "# eg \n",
    "\n",
    "a = 5;\n",
    "print(a)\n",
    "\n",
    "a = 'Akash'\n",
    "print(a)"
   ]
  },
  {
   "attachments": {},
   "cell_type": "markdown",
   "metadata": {},
   "source": [
    "Ways to create variable"
   ]
  },
  {
   "cell_type": "code",
   "execution_count": 5,
   "metadata": {},
   "outputs": [
    {
     "name": "stdout",
     "output_type": "stream",
     "text": [
      "5 10 15\n",
      "5 10 15\n",
      "5 5 5\n"
     ]
    }
   ],
   "source": [
    "a = 5\n",
    "b = 10\n",
    "c = 15\n",
    "print(a , b , c)\n",
    "\n",
    "a , b , c = 5 , 10 , 15 \n",
    "print(a , b , c)\n",
    "\n",
    "a = b = c = 5\n",
    "print(a , b ,  c)"
   ]
  }
 ],
 "metadata": {
  "kernelspec": {
   "display_name": "Python 3",
   "language": "python",
   "name": "python3"
  },
  "language_info": {
   "codemirror_mode": {
    "name": "ipython",
    "version": 3
   },
   "file_extension": ".py",
   "mimetype": "text/x-python",
   "name": "python",
   "nbconvert_exporter": "python",
   "pygments_lexer": "ipython3",
   "version": "3.10.7 (tags/v3.10.7:6cc6b13, Sep  5 2022, 14:08:36) [MSC v.1933 64 bit (AMD64)]"
  },
  "orig_nbformat": 4,
  "vscode": {
   "interpreter": {
    "hash": "26de051ba29f2982a8de78e945f0abaf191376122a1563185a90213a26c5da77"
   }
  }
 },
 "nbformat": 4,
 "nbformat_minor": 2
}
