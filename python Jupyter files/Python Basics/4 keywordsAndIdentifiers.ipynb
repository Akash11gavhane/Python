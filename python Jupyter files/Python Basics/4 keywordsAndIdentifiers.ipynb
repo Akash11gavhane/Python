{
 "cells": [
  {
   "attachments": {},
   "cell_type": "markdown",
   "metadata": {},
   "source": [
    "Comments : \n",
    "    \n",
    "    Comment is the part of the code that is ignored by interpreter or compiler."
   ]
  },
  {
   "cell_type": "code",
   "execution_count": 1,
   "metadata": {},
   "outputs": [
    {
     "name": "stdout",
     "output_type": "stream",
     "text": [
      "10\n"
     ]
    }
   ],
   "source": [
    "# this is a comment\n",
    "a = 4 \n",
    "b = 6 \n",
    "# add this two number\n",
    "\n",
    "print(a+b) # like that we use comments\n",
    "\n"
   ]
  },
  {
   "attachments": {},
   "cell_type": "markdown",
   "metadata": {},
   "source": [
    "What is Compilation...?\n",
    "    \n",
    "    Compilation is the process where our code is get converted into binary or machine level langauge"
   ]
  },
  {
   "attachments": {},
   "cell_type": "markdown",
   "metadata": {},
   "source": [
    "Keywords : \n",
    "\n",
    "    Keywords are the reserved words , we cannot use them as a variables name , function name or any other identifier."
   ]
  },
  {
   "attachments": {},
   "cell_type": "markdown",
   "metadata": {},
   "source": [
    "Identifiers :\n",
    "    \n",
    "    you cannot start a variable name with digit.\n",
    "\n",
    "You can use special character i.e only <_>\n",
    "\n",
    "eg.\n",
    "\n",
    " First_name = 'nitish'\n",
    " \n",
    " print(First_name)\n",
    "\n",
    "\n",
    "Identifiers Cannot be Keywords"
   ]
  }
 ],
 "metadata": {
  "kernelspec": {
   "display_name": "Python 3",
   "language": "python",
   "name": "python3"
  },
  "language_info": {
   "codemirror_mode": {
    "name": "ipython",
    "version": 3
   },
   "file_extension": ".py",
   "mimetype": "text/x-python",
   "name": "python",
   "nbconvert_exporter": "python",
   "pygments_lexer": "ipython3",
   "version": "3.10.7 (tags/v3.10.7:6cc6b13, Sep  5 2022, 14:08:36) [MSC v.1933 64 bit (AMD64)]"
  },
  "orig_nbformat": 4,
  "vscode": {
   "interpreter": {
    "hash": "26de051ba29f2982a8de78e945f0abaf191376122a1563185a90213a26c5da77"
   }
  }
 },
 "nbformat": 4,
 "nbformat_minor": 2
}
