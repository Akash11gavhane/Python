{
 "cells": [
  {
   "attachments": {},
   "cell_type": "markdown",
   "metadata": {},
   "source": [
    "There are two type of software that are:\n",
    "\n",
    "Static Software : \n",
    " \n",
    "    Which are used for only give information it cannot get any input from user.\n",
    "\n",
    "Dynamic Software : \n",
    "\n",
    "    Dynamic software are used for give information as well as get input from user."
   ]
  },
  {
   "attachments": {},
   "cell_type": "markdown",
   "metadata": {},
   "source": [
    "Python's input : \n",
    "\n",
    "        input() funtion is used in python to get input from User. \n",
    "\n",
    "        "
   ]
  },
  {
   "cell_type": "code",
   "execution_count": 7,
   "metadata": {},
   "outputs": [
    {
     "name": "stdout",
     "output_type": "stream",
     "text": [
      "our Addition is : 6756\n",
      "The addition is : 123\n"
     ]
    }
   ],
   "source": [
    "#take input from user and store them in a variable \n",
    "\n",
    "fnum = input('enter first number')\n",
    "snum = input('enter second number')\n",
    "\n",
    "total = fnum + snum \n",
    "\n",
    "print(\"our Addition is :\" , total)\n",
    "\n",
    "type(fnum)\n",
    "type(snum)\n",
    "\n",
    "# Our input will stored in the form of string\n",
    "## because of that it shows the like 6756 not the actual addition\n",
    "\n",
    "result = int(fnum) + int(snum)\n",
    "\n",
    "print(\"The addition is :\" , result)\n"
   ]
  },
  {
   "attachments": {},
   "cell_type": "markdown",
   "metadata": {},
   "source": [
    "Why python store input in string..?\n",
    "\n",
    "    Because the string is the universal datatype."
   ]
  },
  {
   "attachments": {},
   "cell_type": "markdown",
   "metadata": {},
   "source": [
    "Type Conversion : \n",
    "\n",
    "    There Are two types of conversion that are : \n",
    "\n",
    "        1. Implicit : \n",
    "\n",
    "                implicit conversion means interpreter automatically detects it and convert it.\n",
    "\n",
    "        2. Explicit : \n",
    "\n",
    "                in explicit conversion there is need to tells the python to convert the datatype of the variable"
   ]
  },
  {
   "cell_type": "code",
   "execution_count": 10,
   "metadata": {},
   "outputs": [
    {
     "name": "stdout",
     "output_type": "stream",
     "text": [
      "the addition is : 31\n"
     ]
    }
   ],
   "source": [
    "fnum = input('enter 1st number')\n",
    "snum = input('enter 2nd number')\n",
    "result = int(fnum) + int(snum)\n",
    "\n",
    "print(\"the addition is :\" , result)"
   ]
  },
  {
   "cell_type": "code",
   "execution_count": null,
   "metadata": {},
   "outputs": [],
   "source": [
    "fnum = int(input('enter 1st number'))\n",
    "snum = int(input('enter 2nd number'))\n",
    "result = fnum + snum\n",
    "\n",
    "print(\"the addition is :\" , result)"
   ]
  }
 ],
 "metadata": {
  "kernelspec": {
   "display_name": "Python 3",
   "language": "python",
   "name": "python3"
  },
  "language_info": {
   "codemirror_mode": {
    "name": "ipython",
    "version": 3
   },
   "file_extension": ".py",
   "mimetype": "text/x-python",
   "name": "python",
   "nbconvert_exporter": "python",
   "pygments_lexer": "ipython3",
   "version": "3.10.7 (tags/v3.10.7:6cc6b13, Sep  5 2022, 14:08:36) [MSC v.1933 64 bit (AMD64)]"
  },
  "orig_nbformat": 4,
  "vscode": {
   "interpreter": {
    "hash": "26de051ba29f2982a8de78e945f0abaf191376122a1563185a90213a26c5da77"
   }
  }
 },
 "nbformat": 4,
 "nbformat_minor": 2
}
