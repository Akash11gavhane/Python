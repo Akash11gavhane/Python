{
 "cells": [
  {
   "attachments": {},
   "cell_type": "markdown",
   "metadata": {},
   "source": [
    "Litrals : \n",
    "\n",
    "        the value that is stored in variable that value or object is called as litrals.\n",
    "        "
   ]
  },
  {
   "cell_type": "code",
   "execution_count": null,
   "metadata": {},
   "outputs": [],
   "source": [
    "a = 2 \n",
    "# here 2 is litral "
   ]
  },
  {
   "cell_type": "code",
   "execution_count": 3,
   "metadata": {},
   "outputs": [
    {
     "name": "stdout",
     "output_type": "stream",
     "text": [
      "10\n",
      "100\n",
      "200\n",
      "300\n"
     ]
    }
   ],
   "source": [
    "a = 0b1010  # Binary\n",
    "print(a)\n",
    "\n",
    "b = 100 # decimal \n",
    "print(b)\n",
    "\n",
    "c = 0o310 #octal\n",
    "print(c)\n",
    "\n",
    "d = 0x12c #hexadecimal\n",
    "print(d)"
   ]
  },
  {
   "cell_type": "code",
   "execution_count": 5,
   "metadata": {},
   "outputs": [
    {
     "name": "stdout",
     "output_type": "stream",
     "text": [
      "10.5\n",
      "150.0\n",
      "0.0015\n"
     ]
    }
   ],
   "source": [
    "# float Number\n",
    "\n",
    "float_1 = 10.5\n",
    "float_2 = 1.5e2 # 10^2 --> 1500.0\n",
    "float_3 = 1.5e-3 #0.0015\n",
    "\n",
    "print(float_1 , float_2 , float_3 , sep='\\n')"
   ]
  },
  {
   "cell_type": "code",
   "execution_count": 7,
   "metadata": {},
   "outputs": [
    {
     "name": "stdout",
     "output_type": "stream",
     "text": [
      "3.14j\n",
      "0.0 3.14\n"
     ]
    }
   ],
   "source": [
    "# Complex Number\n",
    "\n",
    "x = 3.14j\n",
    "print(x)\n",
    "\n",
    "print(x.real , x.imag)"
   ]
  },
  {
   "cell_type": "code",
   "execution_count": 10,
   "metadata": {},
   "outputs": [
    {
     "name": "stdout",
     "output_type": "stream",
     "text": [
      " This is also Allow by python\n",
      "        ....\n",
      "😀😆🤣\n",
      "raw \\n String\n"
     ]
    }
   ],
   "source": [
    "# Strings \n",
    "\n",
    "string = \"This is string\"\n",
    "char = 'this is also allow'\n",
    "\n",
    "#this is multiline str\n",
    "c = ''' This is also Allow by python\n",
    "        ....'''\n",
    "print(c)\n",
    "\n",
    "# unicode is use to print the emojis\n",
    "unicode = u\"\\U0001F600\\U0001F606\\U0001F923\"\n",
    "print(unicode)\n",
    "\n",
    "\n",
    "raw_str = r\"raw \\n String\"\n",
    "print(raw_str)"
   ]
  },
  {
   "cell_type": "code",
   "execution_count": 12,
   "metadata": {},
   "outputs": [
    {
     "name": "stdout",
     "output_type": "stream",
     "text": [
      "a :  5\n",
      "b :  10\n"
     ]
    }
   ],
   "source": [
    "# bool \n",
    "\n",
    "a = True + 4 \n",
    "b = False + 10\n",
    "\n",
    "print(\"a : \" , a)\n",
    "print(\"b : \" , b)"
   ]
  },
  {
   "cell_type": "code",
   "execution_count": 13,
   "metadata": {},
   "outputs": [
    {
     "name": "stdout",
     "output_type": "stream",
     "text": [
      "None\n"
     ]
    }
   ],
   "source": [
    "# none \n",
    "## none is used for declaring a variable \n",
    "### for future use.\n",
    "\n",
    "a = None\n",
    "print(a)"
   ]
  }
 ],
 "metadata": {
  "kernelspec": {
   "display_name": "Python 3",
   "language": "python",
   "name": "python3"
  },
  "language_info": {
   "codemirror_mode": {
    "name": "ipython",
    "version": 3
   },
   "file_extension": ".py",
   "mimetype": "text/x-python",
   "name": "python",
   "nbconvert_exporter": "python",
   "pygments_lexer": "ipython3",
   "version": "3.10.7"
  },
  "orig_nbformat": 4,
  "vscode": {
   "interpreter": {
    "hash": "26de051ba29f2982a8de78e945f0abaf191376122a1563185a90213a26c5da77"
   }
  }
 },
 "nbformat": 4,
 "nbformat_minor": 2
}
