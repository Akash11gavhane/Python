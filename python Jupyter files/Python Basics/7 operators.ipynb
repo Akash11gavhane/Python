{
 "cells": [
  {
   "attachments": {},
   "cell_type": "markdown",
   "metadata": {},
   "source": [
    "Operators : \n",
    "\n",
    "    operators are used to perform operations on variables and values"
   ]
  },
  {
   "attachments": {},
   "cell_type": "markdown",
   "metadata": {},
   "source": [
    "1. Arithmatic Operators :\n",
    "\n",
    "    Arithmatic operators are used with numeric values to perform common mathematical operation."
   ]
  },
  {
   "cell_type": "code",
   "execution_count": 3,
   "metadata": {},
   "outputs": [
    {
     "name": "stdout",
     "output_type": "stream",
     "text": [
      "11\n",
      "8\n",
      "4\n",
      "2.0\n",
      "0\n",
      "25\n",
      "3\n"
     ]
    }
   ],
   "source": [
    "# Arithmatic operators : \n",
    "\n",
    "# Addition (+)\n",
    "\n",
    "print(5 + 6 )\n",
    "\n",
    "# Substraction (-) \n",
    "\n",
    "print(10 - 2)\n",
    "\n",
    "# Multiplication (*)\n",
    "\n",
    "print( 2 * 2 )\n",
    "\n",
    "# Division (/)\n",
    "\n",
    "print(6/3)\n",
    "\n",
    "# Modulas (%) --> it gives remainder \n",
    " \n",
    "print(4%2)\n",
    "\n",
    "#Exponential (**)  || power of operator\n",
    "\n",
    "print(5 ** 2)  # basically it gives the square , cube \n",
    "\n",
    "# floor division (//) --> it convert the float output into int \n",
    "\n",
    "print(7 // 2 )"
   ]
  },
  {
   "attachments": {},
   "cell_type": "markdown",
   "metadata": {},
   "source": [
    "\n",
    "\n",
    "\n",
    "2. Relational Operator || comparison operator : \n",
    "\n",
    "    Relational Operator is used to compare 2 values.\n",
    "     "
   ]
  },
  {
   "cell_type": "code",
   "execution_count": 11,
   "metadata": {},
   "outputs": [
    {
     "name": "stdout",
     "output_type": "stream",
     "text": [
      "True\n",
      "False\n",
      "False\n",
      "True\n",
      "True\n",
      "False\n",
      "True\n",
      "False\n",
      "True\n",
      "True\n",
      "False\n",
      "True\n",
      "True\n",
      "False\n"
     ]
    }
   ],
   "source": [
    "# equal to (==)\n",
    "\n",
    "print( 5 == 5)\n",
    "print(10 == 15)\n",
    "\n",
    "# not equal to (!=) \n",
    "\n",
    "print(5 != 5)\n",
    "print(10 != 15) \n",
    "\n",
    "# Greater than ( > )\n",
    "\n",
    "print(5 > 2)\n",
    "print(7 > 10)\n",
    "\n",
    "# less than ( < )\n",
    "\n",
    "print( 5 < 10)\n",
    "print(20 < 15)\n",
    "\n",
    "# less than or equal to (<=)\n",
    "\n",
    "print( 5 <= 5)\n",
    "print( 10 <= 15)\n",
    "print( 50 <= 30)\n",
    "\n",
    "# Greater than or equal to ( >= )\n",
    "\n",
    "print( 5 >= 5)\n",
    "print(10 >= 5)\n",
    "print( 5 >= 20)"
   ]
  },
  {
   "attachments": {},
   "cell_type": "markdown",
   "metadata": {},
   "source": [
    "Logical Operator : \n",
    "\n",
    "    there are 3 logical operators \n",
    "\n",
    "    1. and : \n",
    "            Returns TRUE of both the statements are true if \n",
    "            one of the statement is false then it returns \n",
    "            FALSE\n",
    "            \n",
    "    2. or : \n",
    "\n",
    "            Returns true if one of the statement is TRUE\n",
    "\n",
    "\n",
    "    3. not : \n",
    "            reverse the result , returns TRUE if statement is \n",
    "            FALSE"
   ]
  },
  {
   "cell_type": "code",
   "execution_count": 21,
   "metadata": {},
   "outputs": [
    {
     "name": "stdout",
     "output_type": "stream",
     "text": [
      "True\n",
      "False\n",
      "True\n",
      "True\n",
      "False\n"
     ]
    },
    {
     "data": {
      "text/plain": [
       "True"
      ]
     },
     "execution_count": 21,
     "metadata": {},
     "output_type": "execute_result"
    }
   ],
   "source": [
    "# and\n",
    "print(True and True)\n",
    "print(True and False)\n",
    "\n",
    "# or \n",
    "\n",
    "print(True or True)\n",
    "print(True or False)\n",
    "print(False or False)\n",
    "\n",
    "# not\n",
    "\n",
    "not(5 < 0)"
   ]
  },
  {
   "attachments": {},
   "cell_type": "markdown",
   "metadata": {},
   "source": [
    "3. Bitwise Operators : \n",
    "\n",
    "            Bitwise Operators are the special  operators which perform on binary values.\n",
    "             "
   ]
  },
  {
   "cell_type": "code",
   "execution_count": 28,
   "metadata": {},
   "outputs": [
    {
     "name": "stdout",
     "output_type": "stream",
     "text": [
      "2\n",
      "3\n",
      "1\n",
      "-3\n",
      "1\n",
      "16\n"
     ]
    }
   ],
   "source": [
    "# 1. Bitwise and operator :\n",
    "## It perform and operation on 2 and 3 and it gives the\n",
    "### output in numerical value.\n",
    "\n",
    "print(2 & 3)\n",
    "\n",
    "# 2 . Bitwise or operator : \n",
    "## it perform or operation on the given input and perform or\n",
    "### operation on the binary values of the given input and \n",
    "#### gives the output in numerical value. but the orginal \n",
    "##### result is the binary value of the given output.\n",
    "\n",
    "print( 2 | 3)\n",
    "\n",
    "\n",
    "# 3 . bitwise xor operator : \n",
    "## if bits are diffrent then only the result is one otherwise\n",
    "### the result is 0\n",
    "\n",
    "print(2 ^ 3)\n",
    "\n",
    "\n",
    "# 4. bitwise not operator\n",
    "## it inverts all the bits.\n",
    "### eg : 1 is conveted in 0 and 0 is converted into 1\n",
    "\n",
    "print(~2)\n",
    "\n",
    "\n",
    "# 5 . bitwise left shift operator >>\n",
    "## it shifts the bits towards left by pushing zeros in from \n",
    "### the right and let the leftmost bits fall of\n",
    "\n",
    "print( 4 >> 2)\n",
    "\n",
    "\n",
    "# 6 . bitwise right shift operator << \n",
    "## shift right by pushing copies of the leftmost bit in from the\n",
    "### left and let the rightmost bits fall off\n",
    "\n",
    "print( 4 << 2)"
   ]
  },
  {
   "attachments": {},
   "cell_type": "markdown",
   "metadata": {},
   "source": [
    "4. Assignment Operator : \n",
    "\n",
    "            assignment operators are used to assign values in the variable.\n"
   ]
  },
  {
   "cell_type": "code",
   "execution_count": 29,
   "metadata": {},
   "outputs": [],
   "source": [
    "# 1. equal to (=)\n",
    "\n",
    "a = 2 \n",
    "c = \"Akash\"\n",
    "\n",
    "# 2. += , -= , *= , /=\n",
    "\n",
    "a += 2  #---> a = a + 2 \n",
    "a -= 2  #---> a = a - 2\n",
    "a *= 2  #---> a = a * 2\n",
    "a /= 2  #---> a = a / 2\n",
    " "
   ]
  },
  {
   "attachments": {},
   "cell_type": "markdown",
   "metadata": {},
   "source": [
    "5 . Membership Operator : \n",
    "\n",
    "        membership operator are used to check or test if a sequance is present in an object.\n",
    "\n",
    "        1. in : \n",
    "                returns true if a sequance is present in the \n",
    "                given object\n",
    "                e.g\n",
    "                print('D' in 'Delhi')\n",
    "        \n",
    "        2. not in : \n",
    "                returns true if a sequance is not present in \n",
    "                the given object.\n",
    "                e.g\n",
    "                print('D' not in 'Delhi')\n",
    "                print( 1 in [2,3,4,5,6])\n"
   ]
  },
  {
   "cell_type": "code",
   "execution_count": 36,
   "metadata": {},
   "outputs": [
    {
     "name": "stdout",
     "output_type": "stream",
     "text": [
      "True\n",
      "True\n",
      "False\n",
      "True\n",
      "True\n"
     ]
    }
   ],
   "source": [
    "# in\n",
    "\n",
    "print('D' in 'Delhi')\n",
    "print('A' in 'Akash')\n",
    "\n",
    "# not in\n",
    "\n",
    "print('A' not in 'Akash')\n",
    "print('G' not in 'Delhi')\n",
    "print(1 not in [2,3,4,5,6])"
   ]
  },
  {
   "cell_type": "code",
   "execution_count": 39,
   "metadata": {},
   "outputs": [
    {
     "name": "stdout",
     "output_type": "stream",
     "text": [
      "5\n",
      "34\n"
     ]
    }
   ],
   "source": [
    "num = 345 \n",
    "\n",
    "a = num % 10\n",
    "\n",
    "print(a)\n",
    "\n",
    "num = num // 10\n",
    "print(num)"
   ]
  }
 ],
 "metadata": {
  "kernelspec": {
   "display_name": "Python 3",
   "language": "python",
   "name": "python3"
  },
  "language_info": {
   "codemirror_mode": {
    "name": "ipython",
    "version": 3
   },
   "file_extension": ".py",
   "mimetype": "text/x-python",
   "name": "python",
   "nbconvert_exporter": "python",
   "pygments_lexer": "ipython3",
   "version": "3.10.7 (tags/v3.10.7:6cc6b13, Sep  5 2022, 14:08:36) [MSC v.1933 64 bit (AMD64)]"
  },
  "orig_nbformat": 4,
  "vscode": {
   "interpreter": {
    "hash": "26de051ba29f2982a8de78e945f0abaf191376122a1563185a90213a26c5da77"
   }
  }
 },
 "nbformat": 4,
 "nbformat_minor": 2
}
