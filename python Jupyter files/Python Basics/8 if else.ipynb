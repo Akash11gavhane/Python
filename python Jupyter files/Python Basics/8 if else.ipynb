{
 "cells": [
  {
   "attachments": {},
   "cell_type": "markdown",
   "metadata": {},
   "source": [
    "if else :"
   ]
  },
  {
   "cell_type": "code",
   "execution_count": 5,
   "metadata": {},
   "outputs": [
    {
     "name": "stdout",
     "output_type": "stream",
     "text": [
      "login Successful\n"
     ]
    }
   ],
   "source": [
    "# login program and identation\n",
    "# email -> abc@gmail.com\n",
    "# password -> 12345\n",
    "\n",
    "email = 'abc@gmail.com'\n",
    "password = '12345'\n",
    "\n",
    "mail = input(\"Enter your email id\")\n",
    "\n",
    "password1 = input(\"Enter your password\")\n",
    "\n",
    "if mail == email and password == password1 :\n",
    "    print(\"login Successful\")\n",
    "else : \n",
    "    print(\"please check your login details\")\n",
    "\n",
    "\n",
    "\n"
   ]
  },
  {
   "attachments": {},
   "cell_type": "markdown",
   "metadata": {},
   "source": [
    "Elif : "
   ]
  },
  {
   "cell_type": "code",
   "execution_count": 6,
   "metadata": {},
   "outputs": [
    {
     "name": "stdout",
     "output_type": "stream",
     "text": [
      "incorrect password\n",
      "Bro try tomarrow\n"
     ]
    }
   ],
   "source": [
    "# login program and identation\n",
    "# email -> abc@gmail.com\n",
    "# password -> 12345\n",
    "\n",
    "email = 'abc@gmail.com'\n",
    "password = '12345'\n",
    "\n",
    "mail = input(\"Enter your email id\")\n",
    "\n",
    "password1 = input(\"Enter your password\")\n",
    "\n",
    "if mail == email and password == password1 :\n",
    "    print(\"login Successful\")\n",
    "elif mail == email and password != password1 :\n",
    "    print(\"incorrect password\")\n",
    "    password1 = input(\"enter your password again\")\n",
    "    if password1 == password :\n",
    "        print(\"Welcome\")\n",
    "    else :\n",
    "        print(\"Bro try tomarrow\")\n",
    "else : \n",
    "    print(\"please check your login details\")\n",
    "\n",
    "\n",
    "\n"
   ]
  }
 ],
 "metadata": {
  "kernelspec": {
   "display_name": "Python 3",
   "language": "python",
   "name": "python3"
  },
  "language_info": {
   "codemirror_mode": {
    "name": "ipython",
    "version": 3
   },
   "file_extension": ".py",
   "mimetype": "text/x-python",
   "name": "python",
   "nbconvert_exporter": "python",
   "pygments_lexer": "ipython3",
   "version": "3.10.7"
  },
  "orig_nbformat": 4,
  "vscode": {
   "interpreter": {
    "hash": "26de051ba29f2982a8de78e945f0abaf191376122a1563185a90213a26c5da77"
   }
  }
 },
 "nbformat": 4,
 "nbformat_minor": 2
}
