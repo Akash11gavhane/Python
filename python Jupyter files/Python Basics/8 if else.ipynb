{
 "cells": [
  {
   "attachments": {},
   "cell_type": "markdown",
   "metadata": {},
   "source": [
    "### **if** : \n",
    "\n",
    "        The if statement is the most simple decision-making statement. It is used to decide whether a certain statement or block of statements will be executed or not.\n",
    "\n",
    "        Syntax : \n",
    "\n",
    "            if condition:\n",
    "            Statements to execute if\n",
    "                condition is true\n",
    "\n",
    "\n",
    "### **if - else**  : \n",
    "\n",
    "\n",
    "        In conditional if Statement the additional block of code is merged as else statement which is performed when if condition is false. \n",
    "\n",
    "        syntax : \n",
    "\n",
    "            if (condition):\n",
    "                Executes this block if\n",
    "                condition is true\n",
    "            else:\n",
    "                Executes this block if\n",
    "                condition is false"
   ]
  },
  {
   "cell_type": "code",
   "execution_count": 5,
   "metadata": {},
   "outputs": [
    {
     "name": "stdout",
     "output_type": "stream",
     "text": [
      "login Successful\n"
     ]
    }
   ],
   "source": [
    "# login program and identation\n",
    "# email -> abc@gmail.com\n",
    "# password -> 12345\n",
    "\n",
    "email = 'abc@gmail.com'\n",
    "password = '12345'\n",
    "\n",
    "mail = input(\"Enter your email id\")\n",
    "\n",
    "password1 = input(\"Enter your password\")\n",
    "\n",
    "if mail == email and password == password1 :\n",
    "    print(\"login Successful\")\n",
    "else : \n",
    "    print(\"please check your login details\")\n",
    "\n",
    "\n",
    "\n"
   ]
  },
  {
   "attachments": {},
   "cell_type": "markdown",
   "metadata": {},
   "source": [
    "**if-elif Statement** : \n",
    "        \n",
    "        The if-elif statement is shortcut of if..else chain. While using if-elif statement at the end else block is added which is performed if none of the above if-elif statement is true. \n",
    "\n",
    "        Syntax:-  \n",
    "\n",
    "                if (condition):\n",
    "                        statement\n",
    "                elif (condition):\n",
    "                        statement\n",
    "                .\n",
    "                .\n",
    "                else:\n",
    "                        statement"
   ]
  },
  {
   "cell_type": "code",
   "execution_count": 6,
   "metadata": {},
   "outputs": [
    {
     "name": "stdout",
     "output_type": "stream",
     "text": [
      "incorrect password\n",
      "Bro try tomarrow\n"
     ]
    }
   ],
   "source": [
    "# login program and identation\n",
    "# email -> abc@gmail.com\n",
    "# password -> 12345\n",
    "\n",
    "email = 'abc@gmail.com'\n",
    "password = '12345'\n",
    "\n",
    "mail = input(\"Enter your email id\")\n",
    "\n",
    "password1 = input(\"Enter your password\")\n",
    "\n",
    "if mail == email and password == password1 :\n",
    "    print(\"login Successful\")\n",
    "elif mail == email and password != password1 :\n",
    "    print(\"incorrect password\")\n",
    "    password1 = input(\"enter your password again\")\n",
    "    if password1 == password :\n",
    "        print(\"Welcome\")\n",
    "    else :\n",
    "        print(\"Bro try tomarrow\")\n",
    "else : \n",
    "    print(\"please check your login details\")\n",
    "\n",
    "\n",
    "\n"
   ]
  },
  {
   "cell_type": "code",
   "execution_count": 7,
   "metadata": {},
   "outputs": [
    {
     "name": "stdout",
     "output_type": "stream",
     "text": [
      " a : 15 \n",
      " b : 78 \n",
      " c : 42\n",
      "min num is a :  15\n"
     ]
    }
   ],
   "source": [
    "# find min number from the given number\n",
    "\n",
    "a = int(input(\"Enter the num1\"))\n",
    "b = int(input(\"enter the num2\"))\n",
    "c = int(input(\"enter the num 3\"))\n",
    "\n",
    "print(\" a : {} \\n b : {} \\n c : {}\".format(a , b , c))\n",
    "\n",
    "if a < b and a < c: \n",
    "    print(\"min num is a : \" , a)   \n",
    "elif b<c :\n",
    "    print(\"min num is b \" , b)\n",
    "else:\n",
    "    print(\"min num is c : \" , c)\n",
    "    "
   ]
  },
  {
   "cell_type": "code",
   "execution_count": 10,
   "metadata": {},
   "outputs": [
    {
     "name": "stdout",
     "output_type": "stream",
     "text": [
      " a : 54 \n",
      " b : 24 \n",
      " c : 87\n",
      "the max number is c  87\n"
     ]
    }
   ],
   "source": [
    "# find max number from the given number\n",
    "\n",
    "a = int(input(\"Enter the num1\"))\n",
    "b = int(input(\"enter the num2\"))\n",
    "c = int(input(\"enter the num 3\"))\n",
    "\n",
    "print(\" a : {} \\n b : {} \\n c : {}\".format(a , b , c))\n",
    "\n",
    "if a == b == c :\n",
    "    print(\"the given all numbers are equal\")\n",
    "if a > b and a > c :\n",
    "    print(\"The max number is a \" , a)\n",
    "elif b > c :\n",
    "    print(\"the max number is \" ,  b)\n",
    "else:\n",
    "    print(\"the max number is c \" , c)\n",
    "\n",
    "\n",
    "\n"
   ]
  },
  {
   "cell_type": "code",
   "execution_count": 9,
   "metadata": {},
   "outputs": [
    {
     "name": "stdout",
     "output_type": "stream",
     "text": [
      "False\n"
     ]
    }
   ],
   "source": [
    "a , b , c = 15 , 15 , 15\n",
    "\n",
    "print(a == b == c)\n",
    "\n"
   ]
  },
  {
   "cell_type": "code",
   "execution_count": 12,
   "metadata": {},
   "outputs": [
    {
     "name": "stdout",
     "output_type": "stream",
     "text": [
      "18.0\n"
     ]
    }
   ],
   "source": [
    "# menu driven calculator \n",
    "\n",
    "num1 = float(input(\"Enter the first number : \"))\n",
    "num2 = float(input(\"enter the second number : \"))\n",
    "\n",
    "op = input(\"Enter the operation\")\n",
    "\n",
    "if op == \"+\":\n",
    "    print(num1 + num2)\n",
    "elif op == \"-\":\n",
    "    print(num1 - num2)\n",
    "elif op == \"*\":\n",
    "    print(num1 * num2)\n",
    "elif op == \"/\":\n",
    "    print(num1 / num2)\n",
    "elif op == None :\n",
    "    print(\"enter something in operation\")"
   ]
  },
  {
   "cell_type": "code",
   "execution_count": 17,
   "metadata": {},
   "outputs": [
    {
     "name": "stdout",
     "output_type": "stream",
     "text": [
      "withdrawal\n"
     ]
    }
   ],
   "source": [
    "# menu Driven Atm Code \n",
    "\n",
    "menu = input(\"\"\"\n",
    "Hii! How can i help you ? \n",
    "\n",
    "1. Enter 1 for pin change\n",
    "2. Enter 2 for balance check\n",
    "3. Enter 3 for Withdrawal\n",
    "4. Enter 4 for Exit\"\"\")\n",
    "\n",
    "\n",
    "pin = '1234'\n",
    "password = '1106'\n",
    "balance = 10000\n",
    "\n",
    "if menu == '1':\n",
    "\n",
    "    print(\"pin change\")\n",
    "    pass1 = input(\"Enter password to change the pin\")\n",
    "\n",
    "    if pass1 == password :\n",
    "        password = input(\"Enter a new password\")\n",
    "        print(\"------------------------------------\")\n",
    "        print(\"PassWord change Successfully\")\n",
    "        print(\"------------------------------------\")\n",
    "        print(\"The new password is : \" , password)\n",
    "\n",
    "\n",
    "elif menu == '2':\n",
    "\n",
    "    print(\"balance check\")\n",
    "    checkPass = input(\"Enter a password : \")\n",
    "    if checkPass == password : \n",
    "        print(\"Your account Balance is : \" , balance)\n",
    "    else:\n",
    "        print(\"incorrect password\")\n",
    "\n",
    "elif menu == '3':\n",
    "\n",
    "    print(\"withdrawal\")\n",
    "    checkPass = input(\"Enter a password : \")\n",
    "    if checkPass == password : \n",
    "        withdrawAmount = input(\"Enter the amount to withdraw\")\n",
    "        if int(withdrawAmount) < balance :\n",
    "            balance = balance - int(withdrawAmount)\n",
    "            print(\"------------------------------------\")\n",
    "            print(\"the remaining balance is : \" , balance)\n",
    "        else:\n",
    "            print(\"The Balance is not suffiecient.\")\n",
    "\n",
    "elif menu == '4':\n",
    "\n",
    "    print(\"Exit\")\n",
    "\n",
    "\n"
   ]
  }
 ],
 "metadata": {
  "kernelspec": {
   "display_name": "Python 3",
   "language": "python",
   "name": "python3"
  },
  "language_info": {
   "codemirror_mode": {
    "name": "ipython",
    "version": 3
   },
   "file_extension": ".py",
   "mimetype": "text/x-python",
   "name": "python",
   "nbconvert_exporter": "python",
   "pygments_lexer": "ipython3",
   "version": "3.10.7"
  },
  "orig_nbformat": 4,
  "vscode": {
   "interpreter": {
    "hash": "26de051ba29f2982a8de78e945f0abaf191376122a1563185a90213a26c5da77"
   }
  }
 },
 "nbformat": 4,
 "nbformat_minor": 2
}
