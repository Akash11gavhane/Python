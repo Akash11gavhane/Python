{
 "cells": [
  {
   "attachments": {},
   "cell_type": "markdown",
   "metadata": {},
   "source": [
    "Modules In Python :\n",
    "\n",
    "        consider a module as same as a code library.\n",
    "        A file containing a set of functions you want to \n",
    "        include in your application.\n",
    "\n",
    "    1. math\n",
    "    2. keywords\n",
    "    3. constant\n",
    "    4. random\n",
    "\n",
    "\n",
    "    in modules we can use someones prebuilt code for our use"
   ]
  },
  {
   "attachments": {},
   "cell_type": "markdown",
   "metadata": {},
   "source": [
    "1. math : \n",
    "\n",
    "        in math module there are multiple math function you \n",
    "        can use them\n",
    "    e.g:\n",
    "\n",
    "        math.sqrt(196)\n",
    "\n",
    "        here math is modulename\n",
    "        and sqrt is the function name which is function for \n",
    "        finding square root.\n",
    "        "
   ]
  },
  {
   "cell_type": "code",
   "execution_count": 1,
   "metadata": {},
   "outputs": [
    {
     "name": "stdout",
     "output_type": "stream",
     "text": [
      "13.0\n",
      "120\n",
      "6\n"
     ]
    }
   ],
   "source": [
    "import math\n",
    "\n",
    "print(math.sqrt(169))\n",
    "\n",
    "print(math.factorial(5))\n",
    "\n",
    "print(math.floor(6.9))\n"
   ]
  },
  {
   "attachments": {},
   "cell_type": "markdown",
   "metadata": {},
   "source": [
    "2. Keyword : "
   ]
  },
  {
   "cell_type": "code",
   "execution_count": 3,
   "metadata": {},
   "outputs": [
    {
     "name": "stdout",
     "output_type": "stream",
     "text": [
      "['False', 'None', 'True', 'and', 'as', 'assert', 'async', 'await', 'break', 'class', 'continue', 'def', 'del', 'elif', 'else', 'except', 'finally', 'for', 'from', 'global', 'if', 'import', 'in', 'is', 'lambda', 'nonlocal', 'not', 'or', 'pass', 'raise', 'return', 'try', 'while', 'with', 'yield']\n"
     ]
    }
   ],
   "source": [
    "import keyword\n",
    "print(keyword.kwlist)"
   ]
  },
  {
   "attachments": {},
   "cell_type": "markdown",
   "metadata": {},
   "source": [
    "3.Random\n",
    "\n",
    "\n",
    "        random module is used to generate the random number."
   ]
  },
  {
   "cell_type": "code",
   "execution_count": 87,
   "metadata": {},
   "outputs": [
    {
     "name": "stdout",
     "output_type": "stream",
     "text": [
      "55\n",
      "8\n",
      "4\n",
      "0.3137541340247514\n",
      "1.7906996684247893\n"
     ]
    }
   ],
   "source": [
    "import random\n",
    "\n",
    "print(random.randint(1 , 100))\n",
    "\n",
    "print(random.randint(1 , 10))\n",
    "\n",
    "print(random.randrange(1 , 5))\n",
    "\n",
    "print(random.gauss(1 , 2))\n",
    "\n",
    "print(random.triangular(3))"
   ]
  },
  {
   "attachments": {},
   "cell_type": "markdown",
   "metadata": {},
   "source": [
    "4 . DateTime\n",
    "\n",
    "\n",
    "        date time module is used to perform operation on date time"
   ]
  },
  {
   "cell_type": "code",
   "execution_count": 209,
   "metadata": {},
   "outputs": [
    {
     "name": "stdout",
     "output_type": "stream",
     "text": [
      "2023-05-08 00:30:56.451072\n",
      "2023-05-08\n",
      "(9999, 1)\n"
     ]
    }
   ],
   "source": [
    "import datetime\n",
    "\n",
    "print(datetime.datetime.now())\n",
    "\n",
    "print(datetime.date.today())\n",
    "\n"
   ]
  },
  {
   "cell_type": "code",
   "execution_count": 31,
   "metadata": {},
   "outputs": [
    {
     "name": "stdout",
     "output_type": "stream",
     "text": [
      "\n",
      "Please wait a moment while I gather a list of all available modules...\n",
      "\n"
     ]
    },
    {
     "name": "stderr",
     "output_type": "stream",
     "text": [
      "c:\\Program Files\\Python310\\lib\\pkgutil.py:107: VisibleDeprecationWarning: zmq.eventloop.minitornado is deprecated in pyzmq 14.0 and will be removed.\n",
      "    Install tornado itself to use zmq with the tornado IOLoop.\n",
      "    \n",
      "  yield from walk_packages(path, info.name+'.', onerror)\n",
      "c:\\Program Files\\Python310\\lib\\site-packages\\_distutils_hack\\__init__.py:33: UserWarning: Setuptools is replacing distutils.\n",
      "  warnings.warn(\"Setuptools is replacing distutils.\")\n"
     ]
    },
    {
     "name": "stdout",
     "output_type": "stream",
     "text": [
      "IPython             _winxptheme         jupyter_core        string\n",
      "__future__          _xxsubinterpreters  keyword             stringprep\n",
      "_abc                _zoneinfo           lib2to3             struct\n",
      "_aix_support        _zoneinfo_d         linecache           subprocess\n",
      "_ast                abc                 locale              sunau\n",
      "_asyncio            adodbapi            logging             symtable\n",
      "_asyncio_d          afxres              lzma                sys\n",
      "_bisect             aifc                mailbox             sysconfig\n",
      "_blake2             antigravity         mailcap             tabnanny\n",
      "_bootsubprocess     argparse            marshal             tarfile\n",
      "_bz2                array               math                telnetlib\n",
      "_bz2_d              ast                 matplotlib_inline   tempfile\n",
      "_codecs             asttokens           mimetypes           test\n",
      "_codecs_cn          asynchat            mmap                textwrap\n",
      "_codecs_hk          asyncio             mmapfile            this\n",
      "_codecs_iso2022     asyncore            mmsystem            threading\n",
      "_codecs_jp          atexit              modulefinder        time\n",
      "_codecs_kr          audioop             msilib              timeit\n",
      "_codecs_tw          backcall            msvcrt              timer\n",
      "_collections        base64              multiprocessing     tkinter\n",
      "_collections_abc    bdb                 nest_asyncio        token\n",
      "_compat_pickle      binascii            netbios             tokenize\n",
      "_compression        binhex              netrc               tornado\n",
      "_contextvars        bisect              nntplib             trace\n",
      "_csv                builtins            nt                  traceback\n",
      "_ctypes             bz2                 ntpath              tracemalloc\n",
      "_ctypes_d           cProfile            ntsecuritycon       traitlets\n",
      "_ctypes_test        calendar            nturl2path          tty\n",
      "_ctypes_test_d      cgi                 numbers             turtle\n",
      "_datetime           cgitb               odbc                turtledemo\n",
      "_decimal            chunk               opcode              types\n",
      "_decimal_d          cmath               operator            typing\n",
      "_distutils_hack     cmd                 optparse            unicodedata\n",
      "_elementtree        code                os                  unicodedata_d\n",
      "_elementtree_d      codecs              packaging           unittest\n",
      "_functools          codeop              parso               urllib\n",
      "_hashlib            collections         pathlib             uu\n",
      "_hashlib_d          colorama            pdb                 uuid\n",
      "_heapq              colorsys            perfmon             venv\n",
      "_imp                comm                pickle              warnings\n",
      "_io                 commctrl            pickleshare         wave\n",
      "_json               compileall          pickletools         wcwidth\n",
      "_locale             concurrent          pip                 weakref\n",
      "_lsprof             configparser        pipes               webbrowser\n",
      "_lzma               contextlib          pkg_resources       win2kras\n",
      "_lzma_d             contextvars         pkgutil             win32api\n",
      "_markupbase         copy                platform            win32clipboard\n",
      "_md5                copyreg             platformdirs        win32com\n",
      "_msi                crypt               plistlib            win32con\n",
      "_msi_d              csv                 poplib              win32console\n",
      "_multibytecodec     ctypes              posixpath           win32cred\n",
      "_multiprocessing    curses              pprint              win32crypt\n",
      "_multiprocessing_d  dataclasses         profile             win32cryptcon\n",
      "_opcode             datetime            prompt_toolkit      win32event\n",
      "_operator           dateutil            pstats              win32evtlog\n",
      "_osx_support        dbi                 psutil              win32evtlogutil\n",
      "_overlapped         dbm                 pty                 win32file\n",
      "_overlapped_d       dde                 pure_eval           win32gui\n",
      "_pickle             debugpy             py_compile          win32gui_struct\n",
      "_py_abc             decimal             pyclbr              win32help\n",
      "_pydecimal          decorator           pydoc               win32inet\n",
      "_pyio               difflib             pydoc_data          win32inetcon\n",
      "_queue              dis                 pyexpat             win32job\n",
      "_queue_d            distutils           pyexpat_d           win32lz\n",
      "_random             doctest             pygments            win32net\n",
      "_sha1               email               pythoncom           win32netcon\n",
      "_sha256             encodings           pywin               win32pdh\n",
      "_sha3               ensurepip           pywin32_bootstrap   win32pdhquery\n",
      "_sha512             entrypoints         pywin32_testutil    win32pdhutil\n",
      "_signal             enum                pywintypes          win32pipe\n",
      "_sitebuiltins       errno               queue               win32print\n",
      "_socket             executing           quopri              win32process\n",
      "_socket_d           faulthandler        random              win32profile\n",
      "_sqlite3            filecmp             rasutil             win32ras\n",
      "_sqlite3_d          fileinput           re                  win32rcparser\n",
      "_sre                fnmatch             regcheck            win32security\n",
      "_ssl                fractions           regutil             win32service\n",
      "_ssl_d              ftplib              reprlib             win32serviceutil\n",
      "_stat               functools           rlcompleter         win32timezone\n",
      "_statistics         gc                  runpy               win32trace\n",
      "_string             genericpath         sched               win32traceutil\n",
      "_strptime           getopt              secrets             win32transaction\n",
      "_struct             getpass             select              win32ts\n",
      "_symtable           gettext             select_d            win32ui\n",
      "_testbuffer         glob                selectors           win32uiole\n",
      "_testbuffer_d       graphlib            servicemanager      win32verstamp\n",
      "_testcapi           gzip                setuptools          win32wnet\n",
      "_testcapi_d         hashlib             shelve              winerror\n",
      "_testconsole        heapq               shlex               winioctlcon\n",
      "_testconsole_d      hmac                shutil              winnt\n",
      "_testimportmultiple html                signal              winperf\n",
      "_testimportmultiple_d http                site                winreg\n",
      "_testinternalcapi   idlelib             six                 winsound\n",
      "_testinternalcapi_d imaplib             smtpd               winsound_d\n",
      "_testmultiphase     imghdr              smtplib             winxpgui\n",
      "_testmultiphase_d   imp                 sndhdr              winxptheme\n",
      "_thread             importlib           socket              wsgiref\n",
      "_threading_local    inspect             socketserver        xdrlib\n",
      "_tkinter            io                  sqlite3             xml\n",
      "_tkinter_d          ipaddress           sre_compile         xmlrpc\n",
      "_tracemalloc        ipykernel           sre_constants       xxsubtype\n",
      "_uuid               ipykernel_launcher  sre_parse           zipapp\n",
      "_uuid_d             isapi               ssl                 zipfile\n",
      "_warnings           itertools           sspi                zipimport\n",
      "_weakref            jedi                sspicon             zlib\n",
      "_weakrefset         json                stack_data          zmq\n",
      "_win32sysloader     jupyter             stat                zoneinfo\n",
      "_winapi             jupyter_client      statistics          \n",
      "\n",
      "Enter any module name to get more help.  Or, type \"modules spam\" to search\n",
      "for modules whose name or summary contain the string \"spam\".\n",
      "\n"
     ]
    }
   ],
   "source": [
    "# it shows all the present modules\n",
    "\n",
    "help('modules')"
   ]
  }
 ],
 "metadata": {
  "kernelspec": {
   "display_name": "Python 3",
   "language": "python",
   "name": "python3"
  },
  "language_info": {
   "codemirror_mode": {
    "name": "ipython",
    "version": 3
   },
   "file_extension": ".py",
   "mimetype": "text/x-python",
   "name": "python",
   "nbconvert_exporter": "python",
   "pygments_lexer": "ipython3",
   "version": "3.10.7"
  },
  "orig_nbformat": 4,
  "vscode": {
   "interpreter": {
    "hash": "26de051ba29f2982a8de78e945f0abaf191376122a1563185a90213a26c5da77"
   }
  }
 },
 "nbformat": 4,
 "nbformat_minor": 2
}
