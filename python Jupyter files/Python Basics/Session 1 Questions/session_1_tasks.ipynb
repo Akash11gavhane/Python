{
  "nbformat": 4,
  "nbformat_minor": 0,
  "metadata": {
    "colab": {
      "provenance": []
    },
    "kernelspec": {
      "name": "python3",
      "display_name": "Python 3"
    },
    "language_info": {
      "name": "python"
    }
  },
  "cells": [
    {
      "cell_type": "markdown",
      "source": [
        "# Task : Session 1\n",
        "Solve these questions own your own and try to test yourself what you have learned in the session.\n",
        "\n",
        "Happy Learning!"
      ],
      "metadata": {
        "id": "A05OG15VqOPF"
      }
    },
    {
      "cell_type": "markdown",
      "source": [
        "### Q1 :- Print the given strings as per stated format.\n",
        "\n",
        "**Given strings**: \n",
        "```\n",
        "\"Data\" \"Science\" \"Mentorship\" \"Program\" \n",
        "\"By\" \"CampusX\"\n",
        "```\n",
        "**Output**: \n",
        "``` \n",
        "Data-Science-Mentorship-Program-started-By-CampusX\n",
        "```\n",
        "\n",
        "Concept- [Seperator and End]"
      ],
      "metadata": {
        "id": "2doIXf8bqe9_"
      }
    },
    {
      "cell_type": "code",
      "source": [
        "print(\"Data\" , \"Science\" ,  \"Mentorship\" ,  \"Program\" ,  \n",
        "\"By\" , \"CampusX\" , sep = \"-\")"
      ],
      "metadata": {
        "id": "-em6d3KErDtp",
        "outputId": "529f8a08-fe1b-43c6-a513-0b9007e02e26",
        "colab": {
          "base_uri": "https://localhost:8080/"
        }
      },
      "execution_count": 5,
      "outputs": [
        {
          "output_type": "stream",
          "name": "stdout",
          "text": [
            "Data-Science-Mentorship-Program-By-CampusX\n"
          ]
        }
      ]
    },
    {
      "cell_type": "markdown",
      "source": [
        "### Q2:- Write a program that will convert celsius value to fahrenheit."
      ],
      "metadata": {
        "id": "1KUpN7ZTrC3_"
      }
    },
    {
      "cell_type": "code",
      "source": [
        "celcius = int(input(\"give the temprature\"))\n",
        "\n",
        "fahreinheit = (celcius *  1.8 ) + 32\n",
        "\n",
        "print(fahreinheit)"
      ],
      "metadata": {
        "id": "yxKYhYQiqWfj",
        "outputId": "0f68448a-a021-4762-f606-f8f819c1be20",
        "colab": {
          "base_uri": "https://localhost:8080/"
        }
      },
      "execution_count": 8,
      "outputs": [
        {
          "output_type": "stream",
          "name": "stdout",
          "text": [
            "give the temprature21\n",
            "69.80000000000001\n"
          ]
        }
      ]
    },
    {
      "cell_type": "markdown",
      "source": [
        "### Q3:- Take 2 numbers as input from the user.Write a program to swap the numbers without using any special python syntax."
      ],
      "metadata": {
        "id": "RLrOBBJurLB2"
      }
    },
    {
      "cell_type": "code",
      "source": [
        "# Write your code here\n",
        "\n",
        "a = int(input(\"write 1st number\"))\n",
        "\n",
        "b = int(input(\"write 2nd number\"))\n",
        "\n",
        "c = None ; \n",
        "\n",
        "c = a \n",
        "a = b \n",
        "b = c \n",
        "\n",
        "print(a)\n",
        "print(b)"
      ],
      "metadata": {
        "id": "yPn7if0TrJ4F",
        "outputId": "8a9ce573-5d5b-4134-ec07-58b0d436ec72",
        "colab": {
          "base_uri": "https://localhost:8080/"
        }
      },
      "execution_count": 9,
      "outputs": [
        {
          "output_type": "stream",
          "name": "stdout",
          "text": [
            "write 1st number15\n",
            "write 2nd number65\n",
            "65\n",
            "15\n"
          ]
        }
      ]
    },
    {
      "cell_type": "markdown",
      "source": [
        "\n",
        "\n",
        "\n",
        "### Q4:- Write a program to find the euclidean distance between two coordinates.Take both the coordinates from the user as input."
      ],
      "metadata": {
        "id": "waLCP1bjr7ML"
      }
    },
    {
      "cell_type": "code",
      "source": [
        "# Write your code here\n",
        "\n",
        "import math\n",
        "\n",
        "print(\"enter the value of x1 and x2 for A\")\n",
        "\n",
        "x1 , x2 = map(int , input().split())\n",
        "\n",
        "print(\"enter the value of y1 and y2 for B\")\n",
        "\n",
        "y1 , y2 = map(int , input().split())\n",
        "\n",
        "dist = ((x2 - x1 ) ** 2 + (y2 - y1) ** 2)\n",
        "\n",
        "print(dist)\n",
        "\n"
      ],
      "metadata": {
        "id": "Pl1Sv-xnrxnH",
        "outputId": "a188eea2-6c03-4eea-db2e-aeda6ce905d1",
        "colab": {
          "base_uri": "https://localhost:8080/"
        }
      },
      "execution_count": 10,
      "outputs": [
        {
          "output_type": "stream",
          "name": "stdout",
          "text": [
            "enter the value of x1 and x2 for A\n",
            "4 6\n",
            "enter the value of y1 and y2 for B\n",
            "33 9\n",
            "580\n"
          ]
        }
      ]
    },
    {
      "cell_type": "markdown",
      "source": [
        "### Q5:- Write a program to find the simple interest when the value of principle,rate of interest and time period is provided by the user.\n"
      ],
      "metadata": {
        "id": "VLrhg-FRsHjR"
      }
    },
    {
      "cell_type": "code",
      "source": [
        "# Write your code here\n",
        "\n",
        "rate_int = int(input(\"Enter the rate of intrest\"))\n",
        "\n",
        "time_period = int(input(\"Enter the time period\"))\n",
        "\n",
        "principle_amount = int(input(\"enter the principle amount\"))\n",
        "\n",
        "simple_Intrest = principle_amount * time_period * rate_int\n",
        "\n",
        "print(simple_Intrest)\n"
      ],
      "metadata": {
        "id": "s40DlReZsTmY",
        "outputId": "b8e5a75f-db51-4e90-c93e-13d47f2d2689",
        "colab": {
          "base_uri": "https://localhost:8080/"
        }
      },
      "execution_count": 11,
      "outputs": [
        {
          "output_type": "stream",
          "name": "stdout",
          "text": [
            "Enter the rate of intrest14\n",
            "Enter the time period2\n",
            "enter the principle amount22000\n",
            "616000\n"
          ]
        }
      ]
    },
    {
      "cell_type": "markdown",
      "source": [
        "### Q6:- Write a program that will tell the number of dogs and chicken are there when the user will provide the value of total heads and legs.\n",
        "\n",
        "For example:\n",
        "Input:\n",
        "heads -> 4\n",
        "legs -> 12\n",
        "<br>\n",
        "Output:\n",
        "dogs -> 2\n",
        "chicken -> 2\n",
        "\n",
        "\n",
        "\n"
      ],
      "metadata": {
        "id": "LMy0BTUktYKa"
      }
    },
    {
      "cell_type": "code",
      "source": [
        "# Write your code here\n",
        "\n",
        "heads = int(input(\"Enter the Number of heads\"))\n",
        "\n",
        "legs = int(input(\"enter the number of legs\"))\n",
        "\n",
        "count = None ; \n",
        "\n",
        "count = (legs) - 2 * heads  \n",
        "\n",
        "count =  count / 2\n",
        "\n",
        "dogs = count \n",
        "\n",
        "print(\"Dogs : \" , dogs)\n",
        "\n",
        "print(\"chicken : \" , heads - dogs)"
      ],
      "metadata": {
        "id": "XSBvJoA4tXaG",
        "outputId": "dede2e89-d148-4a69-9581-98ec26f4a7ac",
        "colab": {
          "base_uri": "https://localhost:8080/"
        }
      },
      "execution_count": 14,
      "outputs": [
        {
          "output_type": "stream",
          "name": "stdout",
          "text": [
            "Enter the Number of heads4\n",
            "enter the number of legs12\n",
            "Dogs :  2.0\n",
            "chicken :  2.0\n"
          ]
        }
      ]
    },
    {
      "cell_type": "markdown",
      "source": [
        "### Q7:- Write a program to find the sum of squares of first n natural numbers where n will be provided by the user."
      ],
      "metadata": {
        "id": "gJ7C5kZYt4BP"
      }
    },
    {
      "cell_type": "code",
      "source": [
        "# Write your code here\n",
        "\n",
        "n = int(input(\"Enter the N\"))\n",
        "\n",
        "add = 0\n",
        "sum = 0\n",
        "for i in range(1 , n+1) : \n",
        "  \n",
        "  sum = sum + (i ** 2) \n",
        "\n",
        "  add = add + i \n",
        "  \n",
        "print(sum)\n",
        "print(add)\n"
      ],
      "metadata": {
        "id": "_tHsmEHzt2nX",
        "outputId": "93e3901e-9a76-4525-c3a9-572fbbfa0064",
        "colab": {
          "base_uri": "https://localhost:8080/"
        }
      },
      "execution_count": 24,
      "outputs": [
        {
          "output_type": "stream",
          "name": "stdout",
          "text": [
            "Enter the N2\n",
            "5\n",
            "3\n"
          ]
        }
      ]
    },
    {
      "cell_type": "markdown",
      "source": [
        "### Q8:- Given the first 2 terms of an Arithmetic Series.Find the Nth term of the series. Assume all inputs are provided by the user."
      ],
      "metadata": {
        "id": "FHrMM7g-yG1h"
      }
    },
    {
      "cell_type": "code",
      "source": [
        "# Write your code here\n",
        "\n",
        "\n",
        "a = int(input(\"Enter the initial term\"))\n",
        "d = int(input(\"enter the diffrence\"))\n",
        "n = int(input(\"Enter the n th term\"))\n",
        "\n",
        "final_term = a + (n-1) * d\n",
        "\n",
        "print(final_term)"
      ],
      "metadata": {
        "id": "go4_kmZmyVSx",
        "outputId": "1f6e7183-f0ed-447e-de95-d81cb8568508",
        "colab": {
          "base_uri": "https://localhost:8080/"
        }
      },
      "execution_count": 25,
      "outputs": [
        {
          "output_type": "stream",
          "name": "stdout",
          "text": [
            "Enter the initial term2\n",
            "enter the diffrence1\n",
            "Enter the n th term5\n",
            "6\n"
          ]
        }
      ]
    },
    {
      "cell_type": "markdown",
      "source": [
        "### Q9:- Given 2 fractions, find the sum of those 2 fractions.Take the numerator and denominator values of the fractions from the user."
      ],
      "metadata": {
        "id": "QgyRX_es1oum"
      }
    },
    {
      "cell_type": "code",
      "source": [
        "# Write your code here\n",
        "\n",
        "print(\"enter the value of x1 and x2 for A\")\n",
        "\n",
        "x1 , x2 = map(int , input().split())\n",
        "\n",
        "print(\"enter the value of y1 and y2 for B\")\n",
        "\n",
        "y1 , y2 = map(int , input().split())\n",
        "\n",
        "\n",
        "numerator = (x1 * y2) + (y1 * x2)\n",
        "\n",
        "denominator = x2 * y2 \n",
        "\n",
        "print(numerator , \" / \" , denominator)"
      ],
      "metadata": {
        "id": "X05xqFS1yW16",
        "outputId": "e6376717-832a-4006-cb00-67f2a6cfd5ef",
        "colab": {
          "base_uri": "https://localhost:8080/"
        }
      },
      "execution_count": 27,
      "outputs": [
        {
          "output_type": "stream",
          "name": "stdout",
          "text": [
            "enter the value of x1 and x2 for A\n",
            "14 10\n",
            "enter the value of y1 and y2 for B\n",
            "24 3\n",
            "282  /  30\n"
          ]
        }
      ]
    },
    {
      "cell_type": "markdown",
      "source": [
        "### Q10:- Given the height, width and breadth of a milk tank, you have to find out how many glasses of milk can be obtained? Assume all the inputs are provided by the user.\n",
        "\n",
        "\n",
        "\n",
        "Input:<br>\n",
        "Dimensions of the milk tank<br>\n",
        "H = 20cm, L = 20cm, B = 20cm\n",
        "<br><br>\n",
        "Dimensions of the glass<br>\n",
        "h = 3cm, r = 1cm"
      ],
      "metadata": {
        "id": "eaql38ln13u7"
      }
    },
    {
      "cell_type": "code",
      "source": [
        "# Write your code here"
      ],
      "metadata": {
        "id": "FePZqno74eWv"
      },
      "execution_count": null,
      "outputs": []
    }
  ]
}