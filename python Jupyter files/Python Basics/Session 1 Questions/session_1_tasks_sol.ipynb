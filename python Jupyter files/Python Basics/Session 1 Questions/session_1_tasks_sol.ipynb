{
  "nbformat": 4,
  "nbformat_minor": 0,
  "metadata": {
    "colab": {
      "provenance": []
    },
    "kernelspec": {
      "name": "python3",
      "display_name": "Python 3"
    },
    "language_info": {
      "name": "python"
    }
  },
  "cells": [
    {
      "cell_type": "markdown",
      "source": [
        "# Task : Session 1\n",
        "Solve these questions own your own and try to test yourself what you have learned in the session.\n",
        "\n",
        "Happy Learning!"
      ],
      "metadata": {
        "id": "A05OG15VqOPF"
      }
    },
    {
      "cell_type": "markdown",
      "source": [
        "### Q1 :- Print the given strings as per stated format.\n",
        "\n",
        "**Given strings**: \n",
        "```\n",
        "\"Data\" \"Science\" \"Mentorship\" \"Program\" \n",
        "\"By\" \"CampusX\"\n",
        "```\n",
        "**Output**: \n",
        "``` \n",
        "Data-Science-Mentorship-Program-started-By-CampusX\n",
        "```\n",
        "\n",
        "Concept- [Seperator and End]"
      ],
      "metadata": {
        "id": "2doIXf8bqe9_"
      }
    },
    {
      "cell_type": "code",
      "source": [
        "# Write your code here\n",
        "print(\"Data\" , \"Science\" , \"Mentorship\" , \"Program\" , \"By\" , \"CampusX\" , sep = '-')"
      ],
      "metadata": {
        "id": "-em6d3KErDtp",
        "outputId": "525f6e7a-1afb-4bd7-e121-6aa63e521986",
        "colab": {
          "base_uri": "https://localhost:8080/"
        }
      },
      "execution_count": 1,
      "outputs": [
        {
          "output_type": "stream",
          "name": "stdout",
          "text": [
            "Data-Science-Mentorship-Program-By-CampusX\n"
          ]
        }
      ]
    },
    {
      "cell_type": "markdown",
      "source": [
        "### Q2:- Write a program that will convert celsius value to fahrenheit."
      ],
      "metadata": {
        "id": "1KUpN7ZTrC3_"
      }
    },
    {
      "cell_type": "code",
      "source": [
        "# Write your code here\n",
        "\n",
        "celcius = float(input('Enter temprature in celcius '))\n",
        "\n",
        "fahrenheit = ( celcius * 9/5 ) + 32 \n",
        "\n",
        "print(\"the temprature in fahrenheit is \" , fahrenheit , sep = '--> ')"
      ],
      "metadata": {
        "id": "yxKYhYQiqWfj",
        "outputId": "9d15c54c-c18b-47ef-9bb6-549323534da8",
        "colab": {
          "base_uri": "https://localhost:8080/"
        }
      },
      "execution_count": 3,
      "outputs": [
        {
          "output_type": "stream",
          "name": "stdout",
          "text": [
            "Enter temprature in celcius24.3\n",
            "the temprature in fahrenheit is --> 75.74000000000001\n"
          ]
        }
      ]
    },
    {
      "cell_type": "markdown",
      "source": [
        "### Q3:- Take 2 numbers as input from the user.Write a program to swap the numbers without using any special python syntax."
      ],
      "metadata": {
        "id": "RLrOBBJurLB2"
      }
    },
    {
      "cell_type": "code",
      "source": [
        "# Write your code here\n",
        "\n",
        "num1 = int(input(\"Enter first number\"))\n",
        "num2 = int(input(\"Enter second number\"))\n",
        "\n",
        "print(\"Value of num1 and num2 are : \" , num1 , \"''\" , num2)\n",
        "\n",
        "num3 = num1\n",
        "num1 = num2\n",
        "num2 = num3\n",
        "\n",
        "print(\"-----------------------------------------------------\")\n",
        "\n",
        "print(\"after swapping values of num 1 : \" , num1 , \" num2 : \" , num2) "
      ],
      "metadata": {
        "id": "yPn7if0TrJ4F",
        "outputId": "3cc4d32e-96cc-497e-bfe1-5dbd21106eff",
        "colab": {
          "base_uri": "https://localhost:8080/"
        }
      },
      "execution_count": 2,
      "outputs": [
        {
          "output_type": "stream",
          "name": "stdout",
          "text": [
            "Enter first number15\n",
            "Enter second number25\n",
            "Value of num1 and num2 are :  15 '' 25\n",
            "-----------------------------------------------------\n",
            "after swapping values of num 1 :  25  num2 :  15\n"
          ]
        }
      ]
    },
    {
      "cell_type": "markdown",
      "source": [
        "### Q4:- Write a program to find the euclidean distance between two coordinates.Take both the coordinates from the user as input."
      ],
      "metadata": {
        "id": "waLCP1bjr7ML"
      }
    },
    {
      "cell_type": "code",
      "source": [
        "# Write your code here\n",
        "\n",
        "# take the input from user for every co ordinate\n",
        "\n",
        "import math\n",
        "\n",
        "\n",
        "x1 = float(input(\"enter the co-ordinate for x1\"))\n",
        "x2 = float(input(\"enter the co-ordinate for x2\"))\n",
        "y1 = float(input(\"enter the co-ordinate for y1\"))\n",
        "y2 = float(input(\"enter the co-ordinate for y2\"))\n",
        "\n",
        "print(\"-----------------------------------------------\")\n",
        "\n",
        "print(\"the values of x1 : {} , x2 : {} , y1 : {} , y2 : {} \".format(x1 , x2 , y1 , y2))\n",
        "\n",
        "print(\"------------------------------------------------\")\n",
        "\n",
        "distance = math.sqrt((x2 - x1) ** 2 + (y2 - y1) ** 2)\n",
        "\n",
        "print(\"the euclidean distance is {}\".format(distance))\n",
        "\n",
        "\n",
        "print(\"------------------------------------------------\")\n"
      ],
      "metadata": {
        "id": "Pl1Sv-xnrxnH",
        "outputId": "3347b35e-8774-4063-c552-3aa8130b029e",
        "colab": {
          "base_uri": "https://localhost:8080/"
        }
      },
      "execution_count": 10,
      "outputs": [
        {
          "output_type": "stream",
          "name": "stdout",
          "text": [
            "enter the co-ordinate for x12\n",
            "enter the co-ordinate for x28\n",
            "enter the co-ordinate for y14\n",
            "enter the co-ordinate for y22\n",
            "-----------------------------------------------\n",
            "the values of x1 : 2.0 , x2 : 8.0 , y1 : 4.0 , y2 : 2.0 \n",
            "------------------------------------------------\n",
            "the euclidean distance is 6.324555320336759\n",
            "------------------------------------------------\n",
            "20.0\n"
          ]
        }
      ]
    },
    {
      "cell_type": "markdown",
      "source": [
        "\n",
        "### Q5:- Write a program to find the simple interest when the value of principle,rate of interest and time period is provided by the user.\n"
      ],
      "metadata": {
        "id": "VLrhg-FRsHjR"
      }
    },
    {
      "cell_type": "code",
      "source": [
        "# Write your code here\n",
        "\n",
        "#find simple intrest\n",
        "\n",
        "# take principle amount , rate of intrest and period time  from user\n",
        "\n",
        "principle = float(input(\"enter the principle amount\"))\n",
        "\n",
        "intrest = float(input(\"enter the rate of intrest\"))\n",
        "\n",
        "time = float(input(\"enter the time period of loan\"))\n",
        "\n",
        "# now find the simple intrest\n",
        "\n",
        "simple_intrest = (principle * intrest * time) / 100\n",
        "\n",
        "print(\"------------------------------------------\")\n",
        "print()\n",
        "print(\"the simple intrest is \" , simple_intrest)\n",
        "\n"
      ],
      "metadata": {
        "id": "s40DlReZsTmY",
        "outputId": "51d7a2cd-7a94-463e-b51b-beca847d46bc",
        "colab": {
          "base_uri": "https://localhost:8080/"
        }
      },
      "execution_count": 12,
      "outputs": [
        {
          "output_type": "stream",
          "name": "stdout",
          "text": [
            "enter the principle amount150000\n",
            "enter the rate of intrest10.10\n",
            "enter the time period of loan3\n",
            "------------------------------------------\n",
            "\n",
            "the simple intrest is  45450.0\n"
          ]
        }
      ]
    },
    {
      "cell_type": "markdown",
      "source": [
        "### Q6:- Write a program that will tell the number of dogs and chicken are there when the user will provide the value of total heads and legs.\n",
        "\n",
        "For example:\n",
        "Input:\n",
        "heads -> 4\n",
        "legs -> 12\n",
        "<br>\n",
        "Output:\n",
        "dogs -> 2\n",
        "chicken -> 2\n",
        "\n",
        "\n",
        "\n"
      ],
      "metadata": {
        "id": "LMy0BTUktYKa"
      }
    },
    {
      "cell_type": "code",
      "source": [
        "# Write your code here\n",
        "\n",
        "#take input from user\n",
        "\n",
        "heads = int(input(\"enter the total number of heads\"))\n",
        "legs = int(input(\"enter the total number of legs\"))\n",
        "\n",
        "# calculate the chicken and dogs\n",
        "\n",
        "chicken = (4 * heads - legs) / 2 \n",
        "dogs = heads - chicken\n",
        "\n",
        "print()\n",
        "print(\"--------------------------------------\")\n",
        "print()\n",
        "print(\"the number of chicken are {} and number of dogs are {} \".format(chicken , dogs))\n",
        "\n"
      ],
      "metadata": {
        "id": "XSBvJoA4tXaG",
        "outputId": "646cdb5d-af5e-44db-b294-3f0394eb318d",
        "colab": {
          "base_uri": "https://localhost:8080/"
        }
      },
      "execution_count": 17,
      "outputs": [
        {
          "output_type": "stream",
          "name": "stdout",
          "text": [
            "enter the total number of heads4\n",
            "enter the total number of legs12\n",
            "\n",
            "--------------------------------------\n",
            "\n",
            "the number of chicken are 2.0 and number of dogs are 2.0 \n"
          ]
        }
      ]
    },
    {
      "cell_type": "markdown",
      "source": [
        "### Q7:- Write a program to find the sum of squares of first n natural numbers where n will be provided by the user."
      ],
      "metadata": {
        "id": "gJ7C5kZYt4BP"
      }
    },
    {
      "cell_type": "code",
      "source": [
        "# Write your code here\n",
        "\n",
        "num = int(input(\"enter the n\"))\n",
        "\n",
        "sum = 0 \n",
        "i = 1\n",
        "for i in range(num):\n",
        "\n",
        "  sum = sum + i ** 2 \n",
        "\n",
        "\n",
        "print(\"the sum of first {} natural number is {} \".format(num , sum))"
      ],
      "metadata": {
        "id": "_tHsmEHzt2nX",
        "outputId": "1bc85f54-f111-4c47-cf13-fbe9a48720b3",
        "colab": {
          "base_uri": "https://localhost:8080/"
        }
      },
      "execution_count": 19,
      "outputs": [
        {
          "output_type": "stream",
          "name": "stdout",
          "text": [
            "enter the n4\n",
            "the sum of first 4 natural number is 14 \n"
          ]
        }
      ]
    },
    {
      "cell_type": "markdown",
      "source": [
        "### Q8:- Given the first 2 terms of an Arithmetic Series.Find the Nth term of the series. Assume all inputs are provided by the user."
      ],
      "metadata": {
        "id": "FHrMM7g-yG1h"
      }
    },
    {
      "cell_type": "code",
      "source": [
        "# Write your code here\n",
        "\n",
        "a = int(input(\"enter the first number of series : \"))\n",
        "b = int(input(\"enter the second number of series : \"))\n",
        "n = int(input(\"enter the nth term which you want to find : \"))\n",
        "\n",
        "# calculate the comman diffrence\n",
        "\n",
        "d = b - a \n",
        "\n",
        "# now find the n th term \n",
        "\n",
        "n_term = a + (n - 1)*d\n",
        "\n",
        "print(\"the nth term is : \" , n_term)"
      ],
      "metadata": {
        "id": "go4_kmZmyVSx",
        "outputId": "c288cd86-dbe7-43be-8fa1-2d8d9f682baa",
        "colab": {
          "base_uri": "https://localhost:8080/"
        }
      },
      "execution_count": 21,
      "outputs": [
        {
          "output_type": "stream",
          "name": "stdout",
          "text": [
            "enter the first number of series : 1\n",
            "enter the second number of series : 5\n",
            "enter the nth term which you want to find : 15\n",
            "the nth term is :  57\n"
          ]
        }
      ]
    },
    {
      "cell_type": "markdown",
      "source": [
        "### Q9:- Given 2 fractions, find the sum of those 2 fractions.Take the numerator and denominator values of the fractions from the user."
      ],
      "metadata": {
        "id": "QgyRX_es1oum"
      }
    },
    {
      "cell_type": "code",
      "source": [
        "# Write your code here\n",
        "\n",
        "num1 = int(input(\"enter the value for numerator 1 \"))\n",
        "den1 = int(input(\"enter the value for denominator 1\"))\n",
        "num2 = int(input(\"enter the value for numerator 2 \"))\n",
        "den2 = int(input(\"enter the value for denominator 2\"))\n",
        "\n",
        "sum_numerator = (num1 * den2) + (den1 * num2)\n",
        "sum_denominator = den1 * den2 \n",
        "\n",
        "print(\"---------------------------------------------------\")\n",
        "print(\"the addition of 2 fractions is : {} / {}\".format(sum_numerator , sum_denominator))"
      ],
      "metadata": {
        "id": "X05xqFS1yW16",
        "outputId": "71756b8c-be06-4456-f700-7d4418bd7f5c",
        "colab": {
          "base_uri": "https://localhost:8080/"
        }
      },
      "execution_count": 23,
      "outputs": [
        {
          "output_type": "stream",
          "name": "stdout",
          "text": [
            "enter the value for numerator 1 15\n",
            "enter the value for denominator 125\n",
            "enter the value for numerator 2 14\n",
            "enter the value for denominator 245\n",
            "---------------------------------------------------\n",
            "the addition of 2 fractions is : 1025 / 1125\n"
          ]
        }
      ]
    },
    {
      "cell_type": "markdown",
      "source": [
        "### Q10:- Given the height, width and breadth of a milk tank, you have to find out how many glasses of milk can be obtained? Assume all the inputs are provided by the user.\n",
        "\n",
        "\n",
        "\n",
        "Input:<br>\n",
        "Dimensions of the milk tank<br>\n",
        "H = 20cm, L = 20cm, B = 20cm\n",
        "<br><br>\n",
        "Dimensions of the glass<br>\n",
        "h = 3cm, r = 1cm"
      ],
      "metadata": {
        "id": "eaql38ln13u7"
      }
    },
    {
      "cell_type": "code",
      "source": [
        "# Write your code here"
      ],
      "metadata": {
        "id": "FePZqno74eWv"
      },
      "execution_count": null,
      "outputs": []
    }
  ]
}