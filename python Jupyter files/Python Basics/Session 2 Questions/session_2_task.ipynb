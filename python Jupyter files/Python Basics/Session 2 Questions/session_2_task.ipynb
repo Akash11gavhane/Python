{
  "cells": [
    {
      "attachments": {},
      "cell_type": "markdown",
      "metadata": {
        "id": "w6RlOAXV2PWh"
      },
      "source": [
        "\n",
        "### `Problem 1`: Write a program that will give you in hand monthly salary after deduction on CTC - HRA(10%), DA(5%), PF(3%) and taxes deduction as below:\n",
        "\n",
        "> Salary(Lakhs) : Tax(%)\n",
        "\n",
        "*   Below 5 : 0%\n",
        "*   5-10 : 10%\n",
        "*   10-20 : 20%\n",
        "*   aboove 20 : 30%"
      ]
    },
    {
      "cell_type": "code",
      "execution_count": null,
      "metadata": {
        "id": "1EONzsJbQQ2s"
      },
      "outputs": [],
      "source": []
    },
    {
      "cell_type": "code",
      "execution_count": 19,
      "metadata": {
        "colab": {
          "base_uri": "https://localhost:8080/"
        },
        "id": "X8tmC1mKUCvG",
        "outputId": "e0aef5a1-bcab-421f-bdd1-9f119961807e"
      },
      "outputs": [
        {
          "name": "stdout",
          "output_type": "stream",
          "text": [
            "Enter Your CTC600000\n",
            "---------------------------------\n",
            "your Salary is 600000\n",
            "----------------------------------\n",
            "Your total Basic Tax is :  108000.0\n",
            "-----------------------------------\n",
            "your Salary After Basic tax :  492000.0\n",
            "-----------------------------------\n",
            "after Applying all the taxes your final Tax is :   ''  49200.0  '' \n",
            "------------------------------------\n",
            "Final In hand Salary per year is :  442800.0\n",
            "-------------------------------------\n",
            "your in hand Salary per month is :  36900.0\n"
          ]
        }
      ],
      "source": [
        "HRA_PERCENTAGE = 0.1;\n",
        "DA_PERCENTAGE = 0.05;\n",
        "PF_PERCENTAGE = 0.03;\n",
        "\n",
        "ctcSalary = int(input(\"Enter Your CTC\"))\n",
        "print(\"---------------------------------\")\n",
        "print(f\"your Salary is {ctcSalary}\")\n",
        "\n",
        "print(\"----------------------------------\")\n",
        "\n",
        "hraDeduction = ctcSalary * HRA_PERCENTAGE;\n",
        "daDeduction = ctcSalary * DA_PERCENTAGE;\n",
        "pfDeduction = ctcSalary * PF_PERCENTAGE;\n",
        "totalDeduction = hraDeduction + daDeduction + pfDeduction;\n",
        "\n",
        "print(\"Your total Basic Tax is : \" , totalDeduction)\n",
        "\n",
        "print(\"-----------------------------------\")\n",
        "\n",
        "taxableIncome = ctcSalary - totalDeduction;\n",
        "\n",
        "print(\"your Salary After Basic tax : \" , taxableIncome)\n",
        "\n",
        "print(\"-----------------------------------\")\n",
        "\n",
        "taxRate = 0 \n",
        "\n",
        "if ctcSalary <= 500000 :\n",
        "   taxRate = 0\n",
        "elif ctcSalary >= 500000 and ctcSalary <= 1000000 : \n",
        "  taxRate = 0.1\n",
        "elif ctcSalary >= 1000000 and ctcSalary <= 2000000 :\n",
        "  taxRate = 0.2\n",
        "elif ctcSalary > 2000000 :\n",
        "  taxRate = 0.3\n",
        "\n",
        "\n",
        "taxAmount = taxableIncome * taxRate;\n",
        "\n",
        "print(\"after Applying all the taxes your final Tax is : \" , \" '' \" , taxAmount , \" '' \")\n",
        "\n",
        "netSalary = ctcSalary - totalDeduction - taxAmount;\n",
        "\n",
        "print(\"------------------------------------\")\n",
        "\n",
        "print(\"Final In hand Salary per year is : \" ,  netSalary)\n",
        "\n",
        "print(\"-------------------------------------\")\n",
        "\n",
        "print(\"your in hand Salary per month is : \" , netSalary / 12)\n",
        "\n"
      ]
    },
    {
      "attachments": {},
      "cell_type": "markdown",
      "metadata": {
        "id": "tYzCGqwl2hfN"
      },
      "source": [
        "### `Problem 2`: Write a program that take a user input of three angles and will find out whether it can form a triangle or not."
      ]
    },
    {
      "cell_type": "code",
      "execution_count": 20,
      "metadata": {
        "colab": {
          "base_uri": "https://localhost:8080/"
        },
        "id": "FYEqln-I2kxV",
        "outputId": "0ab6b911-028a-49e6-c4d2-00c40a46458a"
      },
      "outputs": [
        {
          "name": "stdout",
          "output_type": "stream",
          "text": [
            "Enter the first angle in degrees: 65\n",
            "Enter the second angle in degrees: 45\n",
            "Enter the third angle in degrees: 23\n",
            "These angles cannot form a triangle.\n"
          ]
        }
      ],
      "source": [
        "# Write code here\n",
        "# Input three angles from the user\n",
        "angle1 = float(input(\"Enter the first angle in degrees: \"))\n",
        "angle2 = float(input(\"Enter the second angle in degrees: \"))\n",
        "angle3 = float(input(\"Enter the third angle in degrees: \"))\n",
        "\n",
        "# Check if the angles can form a triangle\n",
        "if angle1 + angle2 + angle3 == 180:\n",
        "    print(\"These angles can form a triangle.\")\n",
        "else:\n",
        "    print(\"These angles cannot form a triangle.\")\n"
      ]
    },
    {
      "attachments": {},
      "cell_type": "markdown",
      "metadata": {
        "id": "5vEpPh8C2pE4"
      },
      "source": [
        "### `Problem 3`: Write a program that will take user input of cost price and selling price and determines whether its a loss or a profit."
      ]
    },
    {
      "cell_type": "code",
      "execution_count": 22,
      "metadata": {
        "colab": {
          "base_uri": "https://localhost:8080/"
        },
        "id": "jDwBXlkO2sfl",
        "outputId": "3cfdd8c4-971c-4f0e-c5d0-f0fd9a5a7f89"
      },
      "outputs": [
        {
          "name": "stdout",
          "output_type": "stream",
          "text": [
            "enter cost price : 1500\n",
            "enter selling price : 1450\n",
            "You loss -50.0 inr in that deal\n"
          ]
        }
      ],
      "source": [
        "# Write code here\n",
        "\n",
        "cost_price = float(input(\"enter cost price : \"))\n",
        "selling_price = float(input(\"enter selling price : \n",
        "\"))\n",
        "\n",
        "Profit_Loss = selling_price - cost_price\n",
        "\n",
        "if Profit_Loss > 0 :\n",
        "  print(f\"You earn {Profit_Loss} inr in that deal\")\n",
        "elif Profit_Loss < 0 :\n",
        "  print(f\"You loss {Profit_Loss} inr in that deal\")\n",
        "else:\n",
        "  print(\"there is no Profit and Loss in that Deal\")"
      ]
    },
    {
      "attachments": {},
      "cell_type": "markdown",
      "metadata": {
        "id": "J_FG_cJW2ugT"
      },
      "source": [
        "### `Problem 4`: Write a menu-driven program - \n",
        "1. cm to ft \n",
        "2. km to miles \n",
        "3. USD to INR \n",
        "4. exit"
      ]
    },
    {
      "cell_type": "code",
      "execution_count": 41,
      "metadata": {
        "colab": {
          "base_uri": "https://localhost:8080/"
        },
        "id": "yBHhaCGQ2zpD",
        "outputId": "53cc831c-26a9-4165-9b8b-b325ce1ddc64"
      },
      "outputs": [
        {
          "name": "stdout",
          "output_type": "stream",
          "text": [
            "\n",
            "\n",
            "Select Your Choice...!\n",
            "1. cm to ft\n",
            "2. km to miles\n",
            "3. USD to INR\n",
            "4. exit\n",
            "\n",
            "3\n",
            "--------------------------------------------------------------\n",
            "you choose : 3 . USD to INR\n",
            "--------------------------------------------------------------\n",
            "Enter How Many USD you want to Convert160\n",
            "--------------------------------------------------------------\n",
            "160.0 usd's in INR are 13088.00 rs.\n",
            "--------------------------------------------------------------\n",
            "Welcome Visit Again...!\n"
          ]
        }
      ],
      "source": [
        "# Write code here\n",
        "\n",
        "menu = int(input(\"\"\"\n",
        "\n",
        "Select Your Choice...!\n",
        "1. cm to ft\n",
        "2. km to miles\n",
        "3. USD to INR\n",
        "4. exit\n",
        "\n",
        "\"\"\"))\n",
        "\n",
        "print(\"--------------------------------------------------------------\")\n",
        "\n",
        "if menu == 1 :\n",
        "  print(\"You choose : 1 . cm to ft\")\n",
        "  print(\"--------------------------------------------------------------\")\n",
        "  cm = float(input(\"Enter height in cm : \"))\n",
        "  print(\"--------------------------------------------------------------\")\n",
        "  ft = cm * 0.0328\n",
        "  print(f\"{cm}  cm is {ft:.2f} ft\")\n",
        "\n",
        "elif menu == 2 :\n",
        "  print(\"you choose : 2 . km to miles\")\n",
        "  print(\"--------------------------------------------------------------\")\n",
        "  km = float(input(\"enter k that you want in miles\"))\n",
        "  print(\"--------------------------------------------------------------\")\n",
        "  miles = km * 0.621371\n",
        "  print(f\"{km} km  in miles are {miles}\")\n",
        "\n",
        "elif menu == 3 :\n",
        "  print(\"you choose : 3 . USD to INR\")\n",
        "  print(\"--------------------------------------------------------------\")\n",
        "  USD = float(input(\"Enter How Many USD you want to Convert\"))\n",
        "  print(\"--------------------------------------------------------------\")\n",
        "  INR = USD * 81.80\n",
        "  print(f\"{USD} usd's in INR are {INR:.2f} rs.\")\n",
        "\n",
        "elif menu == 4 :\n",
        "  print(\"You Choose : 4 . Exit\")\n",
        "\n",
        "\n",
        "print(\"--------------------------------------------------------------\")\n",
        "\n",
        "print(\"Welcome Visit Again...!\")"
      ]
    },
    {
      "attachments": {},
      "cell_type": "markdown",
      "metadata": {
        "id": "LJJ30_Yw27ZU"
      },
      "source": [
        "### `Problem 5` - Exercise 12: Display Fibonacci series up to 10 terms.\n",
        "\n",
        "*Note: The Fibonacci Sequence is a series of numbers. The next number is found by adding up the two numbers before it. The first two numbers are 0 and 1. For example, 0, 1, 1, 2, 3, 5, 8, 13, 21. The next number in this series above is 13+21 = 34*"
      ]
    },
    {
      "cell_type": "code",
      "execution_count": 45,
      "metadata": {
        "colab": {
          "base_uri": "https://localhost:8080/"
        },
        "id": "ae_1rpe52-5R",
        "outputId": "e33c7806-88d8-414f-b87f-2061ceef76f7"
      },
      "outputs": [
        {
          "name": "stdout",
          "output_type": "stream",
          "text": [
            "Enter the how long fibonacci series you want : 10\n",
            "Enter the 1st term : 5\n",
            "Enter the 2nd term : 25\n",
            "----------------------------------------\n",
            "term 1 :  5\n",
            "term 2 :  25\n",
            "term 3 :  30\n",
            "term 4 :  55\n",
            "term 5 :  85\n",
            "term 6 :  140\n",
            "term 7 :  225\n",
            "term 8 :  365\n",
            "term 9 :  590\n",
            "term 10 :  955\n",
            "term 11 :  1545\n",
            "term 12 :  2500\n"
          ]
        }
      ],
      "source": [
        "# Write code here\n",
        "\n",
        "# take input from user how many terms he wants to print\n",
        "\n",
        "nTerms = int(input(\"Enter the how long fibonacci series you want : \"))\n",
        "\n",
        "# take firstTerm and secondTerm\n",
        "\n",
        "term1 = int(input(\"Enter the 1st term : \"))\n",
        "term2 = int(input(\"Enter the 2nd term : \"))\n",
        "\n",
        "print(\"----------------------------------------\")\n",
        "\n",
        "print(\"term 1 : \" , term1)\n",
        "print(\"term 2 : \" , term2)\n",
        "j = 3\n",
        "for i in range(nTerms):\n",
        "  \n",
        "  \n",
        "  next_term = term1 + term2\n",
        "  print(f\"term {j} : \",next_term)\n",
        "  term1 = term2\n",
        "  term2 = next_term\n",
        "  j = j + 1 \n"
      ]
    },
    {
      "attachments": {},
      "cell_type": "markdown",
      "metadata": {
        "id": "pk_I_S4m3PT5"
      },
      "source": [
        "### `Problem 6` - Find the factorial of a given number.\n",
        "\n",
        "Write a program to use the loop to find the factorial of a given number.\n",
        "\n",
        "The factorial (symbol: `!`) means to multiply all whole numbers from the chosen number down to 1.\n",
        "\n",
        "For example: calculate the factorial of 5\n",
        "\n",
        "```bash\n",
        "5! = 5 × 4 × 3 × 2 × 1 = 120\n",
        "```\n",
        "\n",
        "Output: \n",
        "\n",
        "```bash\n",
        "120\n",
        "```"
      ]
    },
    {
      "cell_type": "code",
      "execution_count": 47,
      "metadata": {
        "colab": {
          "base_uri": "https://localhost:8080/"
        },
        "id": "lzXxHegx3Rkc",
        "outputId": "d96385b9-5736-4fd4-d006-0d89ac1baeaa"
      },
      "outputs": [
        {
          "name": "stdout",
          "output_type": "stream",
          "text": [
            "Enter a number to check factorial of that number5\n",
            "120\n"
          ]
        }
      ],
      "source": [
        "# Write code here\n",
        "\n",
        "num = int(input(\"Enter a number to check factorial of that number\"))\n",
        "\n",
        "factorial = 1 \n",
        "\n",
        "for i in range( 1 , num+1):\n",
        "  factorial = factorial * i \n",
        "\n",
        "print(factorial)"
      ]
    },
    {
      "attachments": {},
      "cell_type": "markdown",
      "metadata": {
        "id": "-17IOi-g3UpU"
      },
      "source": [
        "### `Problem 7` - Reverse a given integer number.\n",
        "\n",
        "Example:\n",
        "\n",
        "`Input:`\n",
        "\n",
        "```bash\n",
        "76542\n",
        "```\n",
        "\n",
        "`Output:`\n",
        "\n",
        "```bash\n",
        "24567\n",
        "```"
      ]
    },
    {
      "cell_type": "code",
      "execution_count": 53,
      "metadata": {
        "colab": {
          "base_uri": "https://localhost:8080/"
        },
        "id": "wJwLpKCr3aVA",
        "outputId": "d5fac39a-b9e4-4d6b-fb33-fb2dcad1eeca"
      },
      "outputs": [
        {
          "name": "stdout",
          "output_type": "stream",
          "text": [
            "Enter a number: 123\n",
            "The reversed number is 321\n"
          ]
        }
      ],
      "source": [
        "# Input the number to reverse\n",
        "num = int(input(\"Enter a number: \"))\n",
        "\n",
        "# Initialize the reversed number to 0\n",
        "reversed_num = 0\n",
        "\n",
        "# Reverse the number\n",
        "while num > 0:\n",
        "    digit = num % 10\n",
        "    reversed_num = reversed_num * 10 + digit\n",
        "    num //= 10\n",
        "\n",
        "# Output the result\n",
        "print(f\"The reversed number is {reversed_num}\")\n"
      ]
    },
    {
      "attachments": {},
      "cell_type": "markdown",
      "metadata": {
        "id": "-t8PJQaY3sHf"
      },
      "source": [
        "### `Problem 8`: Take a user input as integer N. Find out the sum from 1 to N. If any number if divisible by 5, then skip that number. And if the sum is greater than 300, don't need to calculate the sum further more. Print the final result. And don't use for loop to solve this problem.\n",
        "\n",
        "**Example 1:**\n",
        "\n",
        "`Input:`\n",
        "\n",
        "```bash\n",
        "30\n",
        "```\n",
        "\n",
        "`Output:`\n",
        "\n",
        "```bash\n",
        "276\n",
        "```"
      ]
    },
    {
      "cell_type": "code",
      "execution_count": 89,
      "metadata": {
        "colab": {
          "base_uri": "https://localhost:8080/"
        },
        "id": "O7IRKgpHxuo-",
        "outputId": "b6206cce-0376-4e2b-cf0a-3ba1c28bcc3c"
      },
      "outputs": [
        {
          "name": "stdout",
          "output_type": "stream",
          "text": [
            "Enter a number: 26\n",
            "The final sum is 276\n"
          ]
        }
      ],
      "source": [
        "# Take input from user\n",
        "N = int(input(\"Enter a number: \"))\n",
        "\n",
        "# Initialize variables\n",
        "sum = 0\n",
        "i = 1\n",
        "\n",
        "# Loop until sum is greater than 300 or i is greater than N\n",
        "while sum < 300 and26 i <= N:\n",
        "    # Check if i is divisible by 5\n",
        "    if i % 5 == 0:\n",
        "        i += 1\n",
        "        continue\n",
        "\n",
        "    # Add i to the sum and increment i\n",
        "    sum += i\n",
        "    i += 1\n",
        "\n",
        "# Output the result\n",
        "print(f\"The final sum is {sum}\")\n"
      ]
    },
    {
      "cell_type": "code",
      "execution_count": 90,
      "metadata": {
        "colab": {
          "base_uri": "https://localhost:8080/"
        },
        "id": "g8bXHxqAzCfM",
        "outputId": "aad09739-0bef-47f0-c4dc-0395e9e78649"
      },
      "outputs": [
        {
          "name": "stdout",
          "output_type": "stream",
          "text": [
            "Enter a number: 30\n",
            "The final sum is 303\n"
          ]
        }
      ],
      "source": [
        "# Take input from user\n",
        "N = int(input(\"Enter a number: \"))\n",
        "\n",
        "# Initialize variables\n",
        "sum = 0\n",
        "\n",
        "# Loop from 1 to N\n",
        "for i in range(1, N+1):\n",
        "    # Check if i is divisible by 5\n",
        "    if i % 5 == 0:\n",
        "        continue\n",
        "\n",
        "    # Add i to the sum\n",
        "    sum = sum + i\n",
        "\n",
        "    # Check if the sum is greater than 300\n",
        "    if sum > 300:\n",
        "        break\n",
        "\n",
        "# Output the result\n",
        "print(f\"The final sum is {sum}\")\n"
      ]
    },
    {
      "attachments": {},
      "cell_type": "markdown",
      "metadata": {
        "id": "Q7ggImeA3xm4"
      },
      "source": [
        "### `Problem 9`: Write a program that keeps on accepting a number from the user until the user enters Zero. Display the sum and average of all the numbers."
      ]
    },
    {
      "cell_type": "code",
      "execution_count": null,
      "metadata": {
        "id": "t_YDSZDe4Kdo"
      },
      "outputs": [],
      "source": [
        "# Write code here\n",
        "\n"
      ]
    },
    {
      "attachments": {},
      "cell_type": "markdown",
      "metadata": {
        "id": "6EhvEMvm4R7s"
      },
      "source": [
        "###`Problem 9`: Write a program which will find all such numbers which are divisible by 7 but are not a multiple of 5, between 2000 and 3200 (both included). The numbers obtained should be printed in a comma-separated sequence on a single line."
      ]
    },
    {
      "cell_type": "code",
      "execution_count": null,
      "metadata": {
        "id": "d6RgP1B34T6c"
      },
      "outputs": [],
      "source": [
        "# Write code here"
      ]
    },
    {
      "attachments": {},
      "cell_type": "markdown",
      "metadata": {
        "id": "tYvmRR-G4Vp4"
      },
      "source": [
        "###`Problem 10`: Write a program, which will find all such numbers between 1000 and 3000 (both included) such that each digit of the number is an even number. The numbers obtained should be printed in a space-separated sequence on a single line.\n",
        "\n"
      ]
    },
    {
      "cell_type": "code",
      "execution_count": null,
      "metadata": {
        "id": "k6Gs1kIf4k19"
      },
      "outputs": [],
      "source": [
        "# Write code here"
      ]
    },
    {
      "attachments": {},
      "cell_type": "markdown",
      "metadata": {
        "id": "GV18IINT4mf5"
      },
      "source": [
        "###`Problem 11`: A robot moves in a plane starting from the original point (0,0). The robot can move toward UP, DOWN, LEFT and RIGHT with a given steps. \n",
        "The trace of robot movement is shown as the following:\n",
        "```\n",
        "UP 5\n",
        "DOWN 3\n",
        "LEFT 3\n",
        "RIGHT 2\n",
        "!\n",
        "```\n",
        "> The numbers after the direction are steps. \n",
        "\n",
        "> `!` means robot stop there.\n",
        "\n",
        "**Please write a program to compute the distance from current position after a sequence of movement and original point.** \n",
        "\n",
        "*If the distance is a float, then just print the nearest integer.*\n",
        "\n",
        "Example:\n",
        "\n",
        "`Input`:\n",
        "```\n",
        "UP 5\n",
        "DOWN 3\n",
        "LEFT 3\n",
        "RIGHT 2\n",
        "!\n",
        "```\n",
        "`Output`:\n",
        "```\n",
        "2\n",
        "```"
      ]
    },
    {
      "cell_type": "code",
      "execution_count": null,
      "metadata": {
        "id": "6UNMC2aR4w5x"
      },
      "outputs": [],
      "source": [
        "# Write code here"
      ]
    },
    {
      "attachments": {},
      "cell_type": "markdown",
      "metadata": {
        "id": "3fsAIAhK5GYY"
      },
      "source": [
        "###`Problem 12`:Write a program to print whether a given number is a prime number or not"
      ]
    },
    {
      "cell_type": "code",
      "execution_count": null,
      "metadata": {
        "id": "j6y91lxy5LZs"
      },
      "outputs": [],
      "source": [
        "# Write code here"
      ]
    },
    {
      "attachments": {},
      "cell_type": "markdown",
      "metadata": {
        "id": "asAbmbK-5NHv"
      },
      "source": [
        "###`Problem 13`:Print all the Armstrong numbers in a given range.\n",
        "Range will be provided by the user<br>\n",
        "Armstrong number is a number that is equal to the sum of cubes of its digits. For example 0, 1, 153, 370, 371 and 407 are the Armstrong numbers."
      ]
    },
    {
      "cell_type": "code",
      "execution_count": null,
      "metadata": {
        "id": "PZuI67pm5jCT"
      },
      "outputs": [],
      "source": [
        "# Write code here"
      ]
    },
    {
      "attachments": {},
      "cell_type": "markdown",
      "metadata": {
        "id": "ClCQZMqT7gK0"
      },
      "source": [
        "###`Problem 14`:Calculate the angle between the hour hand and minute hand.\n",
        "\n",
        "Note: There can be two angles between hands; we need to print a minimum of two. Also, we need to print the floor of the final result angle. For example, if the final angle is 10.61, we need to print 10.\n",
        "\n",
        "Input:<br>\n",
        "H = 9 , M = 0<br>\n",
        "Output:<br>\n",
        "90<br>\n",
        "Explanation:<br>\n",
        "The minimum angle between hour and minute\n",
        "hand when the time is 9 is 90 degress."
      ]
    },
    {
      "cell_type": "code",
      "execution_count": null,
      "metadata": {
        "id": "tNBTCZML7jy_"
      },
      "outputs": [],
      "source": [
        "# Write code here"
      ]
    },
    {
      "attachments": {},
      "cell_type": "markdown",
      "metadata": {
        "id": "GwacF9Co72Qc"
      },
      "source": [
        "###`Problem 15`:Given two rectangles, find if the given two rectangles overlap or not. A rectangle is denoted by providing the x and y coordinates of two points: the left top corner and the right bottom corner of the rectangle. Two rectangles sharing a side are considered overlapping. (L1 and R1 are the extreme points of the first rectangle and L2 and R2 are the extreme points of the second rectangle).\n",
        "\n",
        "Note: It may be assumed that the rectangles are parallel to the coordinate axis.\n",
        "\n",
        "<img src='https://www.geeksforgeeks.org/wp-content/uploads/rectanglesOverlap.png' width='300' height='200'>"
      ]
    },
    {
      "cell_type": "code",
      "execution_count": null,
      "metadata": {
        "id": "6rrw_lpH78Rs"
      },
      "outputs": [],
      "source": [
        "# Write code here"
      ]
    }
  ],
  "metadata": {
    "colab": {
      "provenance": []
    },
    "kernelspec": {
      "display_name": "Python 3",
      "name": "python3"
    },
    "language_info": {
      "name": "python"
    }
  },
  "nbformat": 4,
  "nbformat_minor": 0
}
