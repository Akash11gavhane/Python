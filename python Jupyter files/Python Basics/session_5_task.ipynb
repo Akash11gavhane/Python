{
  "nbformat": 4,
  "nbformat_minor": 0,
  "metadata": {
    "colab": {
      "provenance": []
    },
    "kernelspec": {
      "name": "python3",
      "display_name": "Python 3"
    },
    "language_info": {
      "name": "python"
    }
  },
  "cells": [
    {
      "cell_type": "markdown",
      "source": [
        "# Tuple\n"
      ],
      "metadata": {
        "id": "limD5IAfl-tz"
      }
    },
    {
      "cell_type": "markdown",
      "source": [
        "###`Q1:` Join Tuples if similar initial element\n",
        "While working with Python tuples, we can have a problem in which we need to perform concatenation of records from the similarity of initial element. This problem can have applications in data domains such as Data Science.\n",
        "\n",
        "For eg.\n",
        "```\n",
        "Input  : test_list = [(5, 6), (5, 7), (5, 8), (6, 10), (7, 13)] \n",
        "Output : [(5, 6, 7, 8), (6, 10), (7, 13)] \n",
        "```"
      ],
      "metadata": {
        "id": "nSTn3CjbmB7q"
      }
    },
    {
      "cell_type": "code",
      "source": [
        "# write your code here\n",
        "test_list = [(5, 6), (5, 7), (5, 8), (6, 10), (7, 13)]\n",
        "result = {}\n",
        "for tuple in test_list:\n",
        "    key = tuple[0]\n",
        "    if key in result:\n",
        "        result[key] += tuple[1:]\n",
        "    else:\n",
        "        result[key] = tuple\n",
        "\n",
        "output = list(result.values())\n",
        "print(output)\n"
      ],
      "metadata": {
        "id": "hwVeEvH9rJzU"
      },
      "execution_count": null,
      "outputs": []
    },
    {
      "cell_type": "markdown",
      "source": [
        "###`Q2:` Multiply Adjacent elements (both side) and take sum of right and lest side multiplication result. \n",
        "\n",
        "\n",
        "For eg.\n",
        "```\n",
        "The original tuple : (1, 5, 7, 8, 10)\n",
        "Resultant tuple after multiplication : \n",
        "\n",
        "(1*5, 1*5+5*7, 7*5 + 7*8, 8*7 + 8*10, 10*8) -> (5, 40, 91, 136, 80)\n",
        "\n",
        "output-(5, 40, 91, 136, 80)\n",
        "```"
      ],
      "metadata": {
        "id": "ujQpZOFFmeha"
      }
    },
    {
      "cell_type": "code",
      "source": [
        "# write your code here\n",
        "original_tuple = (1, 5, 7, 8, 10)\n",
        "resultant_tuple = [0] * len(original_tuple)\n",
        "\n",
        "for i in range(len(original_tuple)):\n",
        "    if i > 0:\n",
        "        resultant_tuple[i] += original_tuple[i] * original_tuple[i-1]\n",
        "    if i < len(original_tuple) - 1:\n",
        "        resultant_tuple[i] += original_tuple[i] * original_tuple[i+1]\n",
        "\n",
        "resultant_tuple = tuple(resultant_tuple)\n",
        "print(resultant_tuple)\n"
      ],
      "metadata": {
        "id": "N9lveEsArNVc"
      },
      "execution_count": null,
      "outputs": []
    },
    {
      "cell_type": "markdown",
      "source": [
        "###`Q3`: Check is tuples are same or not?\n",
        "Two tuples would be same if both tuples have same element at same index\n",
        "```\n",
        "t1 = (1,2,3,0)\n",
        "t2 = (0,1,2,3)\n",
        "\n",
        "t1 and t2 are not same\n",
        "```"
      ],
      "metadata": {
        "id": "x0psnUiu2ZVp"
      }
    },
    {
      "cell_type": "code",
      "source": [
        "# write your code here\n",
        "\n",
        "t1 = (1, 2, 3, 0)\n",
        "t2 = (0, 1, 2, 3)\n",
        "\n",
        "are_same = True\n",
        "for i in range(len(t1)):\n",
        "    if t1[i] != t2[i]:\n",
        "        are_same = False\n",
        "        break\n",
        "\n",
        "if are_same:\n",
        "    print(\"t1 and t2 are the same\")\n",
        "else:\n",
        "    print(\"t1 and t2 are not the same\")\n"
      ],
      "metadata": {
        "id": "JMVw9EhSrPEc"
      },
      "execution_count": null,
      "outputs": []
    },
    {
      "cell_type": "code",
      "source": [
        "t1 = (1, 2, 3, 0)\n",
        "t2 = (0, 1, 2, 3)\n",
        "\n",
        "are_same = all(t1[i] == t2[i] for i in range(len(t1)))\n",
        "\n",
        "if are_same:\n",
        "    print(\"t1 and t2 are the same\")\n",
        "else:\n",
        "    print(\"t1 and t2 are not the same\")\n"
      ],
      "metadata": {
        "id": "-cKMy9LmhPzX"
      },
      "execution_count": null,
      "outputs": []
    },
    {
      "cell_type": "code",
      "source": [
        "t1 = (1, 2, 3, 0)\n",
        "t2 = (0, 1, 2, 3)\n",
        "\n",
        "are_same = t1 == t2\n",
        "\n",
        "if are_same:\n",
        "    print(\"t1 and t2 are the same\")\n",
        "else:\n",
        "    print(\"t1 and t2 are not the same\")\n"
      ],
      "metadata": {
        "id": "tXSHgFR5hSmn"
      },
      "execution_count": null,
      "outputs": []
    },
    {
      "cell_type": "markdown",
      "source": [
        "###`Q4`: Count no of tuples, list and set from a list\n",
        "```\n",
        "list1 = [{'hi', 'bye'},{'Geeks', 'forGeeks'},('a', 'b'),['hi', 'bye'],['a', 'b']]\n",
        "\n",
        "```\n",
        "`Output:`\n",
        "\n",
        "```\n",
        "List-2\n",
        "Set-2\n",
        "Tuples-1\n",
        "```"
      ],
      "metadata": {
        "id": "aZ4rObHK4fCN"
      }
    },
    {
      "cell_type": "code",
      "source": [
        "# write your code here\n",
        "list1 = [{'hi', 'bye'}, {'Geeks', 'forGeeks'}, ('a', 'b'), ['hi', 'bye'], ['a', 'b']]\n",
        "\n",
        "tuple_count = 0\n",
        "list_count = 0\n",
        "set_count = 0\n",
        "\n",
        "for element in list1:\n",
        "    if isinstance(element, tuple):\n",
        "        tuple_count += 1\n",
        "    elif isinstance(element, list):\n",
        "        list_count += 1\n",
        "    elif isinstance(element, set):\n",
        "        set_count += 1\n",
        "\n",
        "print(\"List -\", list_count)\n",
        "print(\"Set -\", set_count)\n",
        "print(\"Tuples -\", tuple_count)\n"
      ],
      "metadata": {
        "id": "g_Bnuczk69tG"
      },
      "execution_count": null,
      "outputs": []
    },
    {
      "cell_type": "code",
      "source": [
        "list1 = [{'hi', 'bye'}, {'Geeks', 'forGeeks'}, ('a', 'b'), ['hi', 'bye'], ['a', 'b']]\n",
        "\n",
        "tuple_count = sum(isinstance(element, tuple) for element in list1)\n",
        "list_count = sum(isinstance(element, list) for element in list1)\n",
        "set_count = sum(isinstance(element, set) for element in list1)\n",
        "\n",
        "print(\"List -\", list_count)\n",
        "print(\"Set -\", set_count)\n",
        "print(\"Tuples -\", tuple_count)\n"
      ],
      "metadata": {
        "id": "NucMsmHwhYdu"
      },
      "execution_count": null,
      "outputs": []
    },
    {
      "cell_type": "code",
      "source": [
        "list1 = [{'hi', 'bye'}, {'Geeks', 'forGeeks'}, ('a', 'b'), ['hi', 'bye'], ['a', 'b']]\n",
        "\n",
        "tuple_count = 0\n",
        "list_count = 0\n",
        "set_count = 0\n",
        "\n",
        "for element in list1:\n",
        "    if type(element) is tuple:\n",
        "        tuple_count += 1\n",
        "    elif type(element) is list:\n",
        "        list_count += 1\n",
        "    elif type(element) is set:\n",
        "        set_count += 1\n",
        "\n",
        "print(\"List -\", list_count)\n",
        "print(\"Set -\", set_count)\n",
        "print(\"Tuples -\", tuple_count)\n"
      ],
      "metadata": {
        "id": "rgY9ysR4hamm"
      },
      "execution_count": null,
      "outputs": []
    },
    {
      "cell_type": "markdown",
      "source": [
        "###`Q5`: Shortlist Students for a Job role\n",
        "Ask user to input students record and store in tuples for each record. Then Ask user to input three things he wants in the candidate- Primary Skill, Higher Education, Year of Graduation.\n",
        "\n",
        "Show every students record in form of tuples if matches all required criteria.\n",
        "\n",
        "It is assumed that there will be only one primry skill.\n",
        "\n",
        "If no such candidate found, print `No such candidate`\n",
        "\n",
        "`Input:`\n",
        "```\n",
        "Enter No of records- 2\n",
        "Enter Details of student-1\n",
        "Enter Student name- Manohar\n",
        "Enter Higher Education- B.Tech\n",
        "Enter Primary Skill- Python\n",
        "Enter Year of Graduation- 2022\n",
        "Enter Details of student-2\n",
        "Enter Student name- Ponian\n",
        "Enter Higher Education- B.Sc.\n",
        "Enter Primary Skill- C++\n",
        "Enter Year of Graduation- 2020\n",
        "\n",
        "Enter Job Role Requirement\n",
        "Enter Skill- Python\n",
        "Enter Higher Education- B.Tech\n",
        "Enter Year of Graduation- 2022\n",
        "```\n",
        "\n",
        "`Output`\n",
        "```\n",
        "('Manohar', 'B.tech', 'Python', '2022')\n",
        "```\n"
      ],
      "metadata": {
        "id": "jInFNuit8hf1"
      }
    },
    {
      "cell_type": "code",
      "source": [
        "# write your code here\n",
        "\n",
        "num_records = int(input(\"Enter No of records: \"))\n",
        "\n",
        "students = []\n",
        "for i in range(1, num_records + 1):\n",
        "    print(\"Enter Details of student-\", i)\n",
        "    name = input(\"Enter Student name: \")\n",
        "    education = input(\"Enter Higher Education: \")\n",
        "    skill = input(\"Enter Primary Skill: \")\n",
        "    graduation_year = input(\"Enter Year of Graduation: \")\n",
        "    student_record = (name, education, skill, graduation_year)\n",
        "    students.append(student_record)\n",
        "\n",
        "print(\"\\nEnter Job Role Requirement\")\n",
        "required_skill = input(\"Enter Skill: \")\n",
        "required_education = input(\"Enter Higher Education: \")\n",
        "required_graduation_year = input(\"Enter Year of Graduation: \")\n",
        "\n",
        "shortlisted_students = []\n",
        "for student in students:\n",
        "    if (\n",
        "        student[2] == required_skill\n",
        "        and student[1] == required_education\n",
        "        and student[3] == required_graduation_year\n",
        "    ):\n",
        "        shortlisted_students.append(student)\n",
        "\n",
        "if len(shortlisted_students) == 0:\n",
        "    print(\"\\nNo such candidate\")\n",
        "else:\n",
        "    for student in shortlisted_students:\n",
        "        print(student)\n"
      ],
      "metadata": {
        "id": "erh9QZaerSHk"
      },
      "execution_count": null,
      "outputs": []
    },
    {
      "cell_type": "markdown",
      "source": [
        "# Set"
      ],
      "metadata": {
        "id": "l4hLvwD2BeIN"
      }
    },
    {
      "cell_type": "markdown",
      "source": [
        "###`Q1:` Write a program to find set of common elements in three lists using sets.\n",
        "```\n",
        "Input : ar1 = [1, 5, 10, 20, 40, 80]\n",
        "        ar2 = [6, 7, 20, 80, 100]\n",
        "        ar3 = [3, 4, 15, 20, 30, 70, 80, 120]\n",
        "\n",
        "Output : [80, 20]\n",
        "```"
      ],
      "metadata": {
        "id": "zCX0Sk2IBfu8"
      }
    },
    {
      "cell_type": "code",
      "source": [
        "# write your code here\n",
        "\n",
        "ar1 = [1, 5, 10, 20, 40, 80]\n",
        "ar2 = [6, 7, 20, 80, 100]\n",
        "ar3 = [3, 4, 15, 20, 30, 70, 80, 120]\n",
        "\n",
        "set1 = set(ar1)\n",
        "set2 = set(ar2)\n",
        "set3 = set(ar3)\n",
        "\n",
        "common_elements = set1.intersection(set2, set3)\n",
        "\n",
        "print(list(common_elements))\n"
      ],
      "metadata": {
        "id": "rqATYpBUrUQU"
      },
      "execution_count": null,
      "outputs": []
    },
    {
      "cell_type": "markdown",
      "source": [
        "###`Q2:` Write a program to count unique number of vowels using sets in a given string. Lowercase and upercase vowels will be taken as different.\n",
        "\n",
        "`Input:`\n",
        "```\n",
        "Str1 = \"hands-on data science mentorship progrAm with live classes at affordable fee only on CampusX\"\n",
        "```\n",
        "`Output:`\n",
        "```\n",
        "No of unique vowels-6\n",
        "```"
      ],
      "metadata": {
        "id": "0gOVS-0yCYrK"
      }
    },
    {
      "cell_type": "code",
      "source": [
        "# write your code here\n",
        "\n",
        "input_string = input(\"Enter a string: \")\n",
        "\n",
        "vowels = {'a', 'e', 'i', 'o', 'u', 'A', 'E', 'I', 'O', 'U'}\n",
        "unique_vowels = set()\n",
        "\n",
        "for char in input_string:\n",
        "    if char in vowels:\n",
        "        unique_vowels.add(char)\n",
        "\n",
        "count = len(unique_vowels)\n",
        "\n",
        "print(\"Number of unique vowels:\", count)\n"
      ],
      "metadata": {
        "id": "0vAlEAOzDihm"
      },
      "execution_count": null,
      "outputs": []
    },
    {
      "cell_type": "markdown",
      "source": [
        "### `Q3:` Write a program to Check if a given string is binary string of or not. \n",
        "\n",
        "A string is said to be binary if it's consists of only two unique characters.\n",
        "\n",
        "Take string input from user. \n",
        "\n",
        "```\n",
        "Input: str = \"01010101010\"\n",
        "Output: Yes\n",
        "\n",
        "Input: str = \"1222211\"\n",
        "Output: Yes\n",
        "\n",
        "Input: str = \"Campusx\"\n",
        "Output: No\n",
        "```"
      ],
      "metadata": {
        "id": "fqLZxiarEne5"
      }
    },
    {
      "cell_type": "code",
      "source": [
        "input_string = input(\"Enter a string: \")\n",
        "\n",
        "is_binary = True\n",
        "for char in input_string:\n",
        "    if char != '0' and char != '1':\n",
        "        is_binary = False\n",
        "        break\n",
        "\n",
        "if is_binary:\n",
        "    print(\"The given string is a binary string.\")\n",
        "else:\n",
        "    print(\"The given string is not a binary string.\")\n"
      ],
      "metadata": {
        "id": "2wxW_R9ThspO"
      },
      "execution_count": null,
      "outputs": []
    },
    {
      "cell_type": "code",
      "source": [
        "input_string = input(\"Enter a string: \")\n",
        "\n",
        "unique_characters = set(input_string)\n",
        "\n",
        "if len(unique_characters) == 2:\n",
        "    print(\"Yes\")\n",
        "else:\n",
        "    print(\"No\")\n"
      ],
      "metadata": {
        "id": "Hn3R6sXRh0EF"
      },
      "execution_count": null,
      "outputs": []
    },
    {
      "cell_type": "code",
      "source": [
        "input_string = input(\"Enter a string: \")\n",
        "\n",
        "is_binary = True\n",
        "unique_characters = set(input_string)\n",
        "\n",
        "if len(unique_characters) != 2:\n",
        "    is_binary = False\n",
        "\n",
        "for char in unique_characters:\n",
        "    if char != '0' and char != '1':\n",
        "        is_binary = False\n",
        "        break\n",
        "\n",
        "if is_binary:\n",
        "    print(\"The given string is a binary string.\")\n",
        "else:\n",
        "    print(\"The given string is not a binary string.\")\n"
      ],
      "metadata": {
        "id": "ne5i3e6Lh3Um"
      },
      "execution_count": null,
      "outputs": []
    },
    {
      "cell_type": "markdown",
      "source": [
        "### `Q4`: find union of n arrays.\n",
        "\n",
        "**Example 1:**\n",
        "\n",
        "Input:\n",
        "```bash\n",
        "[[1, 2, 2, 4, 3, 6],\n",
        " [5, 1, 3, 4],\n",
        " [9, 5, 7, 1],\n",
        " [2, 4, 1, 3]]\n",
        "```\n",
        "\n",
        "Output:\n",
        "\n",
        "```bash\n",
        "[1, 2, 3, 4, 5, 6, 7, 9]\n",
        "```"
      ],
      "metadata": {
        "id": "xXS8wYH1mDqx"
      }
    },
    {
      "cell_type": "code",
      "source": [
        "# write your code here\n",
        "\n",
        "arrays = [[1, 2, 2, 4, 3, 6],\n",
        "          [5, 1, 3, 4],\n",
        "          [9, 5, 7, 1],\n",
        "          [2, 4, 1, 3]]\n",
        "\n",
        "union_set = set()\n",
        "\n",
        "for array in arrays:\n",
        "    union_set.update(array)\n",
        "\n",
        "union = list(union_set)\n",
        "union.sort()\n",
        "\n",
        "print(union)\n"
      ],
      "metadata": {
        "id": "FVNyK6MbncU8"
      },
      "execution_count": null,
      "outputs": []
    },
    {
      "cell_type": "markdown",
      "source": [
        "### `Q5`: Intersection of two lists. Intersection of two list means we need to take all those elements which are common to both of the initial lists and store them into another list. Only use using **list-comprehension**.\n",
        "\n",
        "**Example 1:**\n",
        "\n",
        "Input:\n",
        "```bash\n",
        "lst1 = {15, 9, 10, 56, 23, 78, 5, 4, 9}\n",
        "lst2 = {9, 4, 5, 36, 47, 26, 10, 45, 87}\n",
        "```\n",
        "\n",
        "Output:\n",
        "```bash\n",
        "[9, 10, 4, 5]\n",
        "```\n",
        "\n",
        "**Example 2:**\n",
        "\n",
        "Input:\n",
        "```bash\n",
        "lst1 = {4, 9, 1, 17, 11, 26, 28, 54, 69}\n",
        "lst2 = {9, 9, 74, 21, 45, 11, 63, 28, 26}\n",
        "```\n",
        "\n",
        "Output:\n",
        "```bash\n",
        "[9, 11, 26, 28]\n",
        "```"
      ],
      "metadata": {
        "id": "T_Re21BdndOz"
      }
    },
    {
      "cell_type": "code",
      "source": [
        "# write your code here\n",
        "\n",
        "lst1 = [15, 9, 10, 56, 23, 78, 5, 4, 9]\n",
        "lst2 = [9, 4, 5, 36, 47, 26, 10, 45, 87]\n",
        "\n",
        "intersection = [x for x in lst1 if x in lst2]\n",
        "\n",
        "print(intersection)\n"
      ],
      "metadata": {
        "id": "nWnL25ftoLVT"
      },
      "execution_count": null,
      "outputs": []
    },
    {
      "cell_type": "markdown",
      "source": [
        "# Dictionary"
      ],
      "metadata": {
        "id": "tD2RSYn1a8oA"
      }
    },
    {
      "cell_type": "markdown",
      "source": [
        "### `Q1`: Key with maximum unique values\n",
        "\n",
        "Given a dictionary with values list, extract key whose value has most unique values.\n",
        "\n",
        "**Example 1:**\n",
        "\n",
        "Input:\n",
        "\n",
        "```bash\n",
        "test_dict = {\"CampusX\" : [5, 7, 9, 4, 0], \"is\" : [6, 7, 4, 3, 3], \"Best\" : [9, 9, 6, 5, 5]}\n",
        "```\n",
        "\n",
        "Output:\n",
        "```bash\n",
        "CampusX\n",
        "```\n",
        "\n",
        "**Example 2:**\n",
        "\n",
        "Input:\n",
        "```bash\n",
        "test_dict = {\"CampusX\" : [5, 7, 7, 7, 7], \"is\" : [6, 7, 7, 7], \"Best\" : [9, 9, 6, 5, 5]}\n",
        "```\n",
        "\n",
        "Output:\n",
        "```bash\n",
        "Best\n",
        "```"
      ],
      "metadata": {
        "id": "7tUjHhcPbQzQ"
      }
    },
    {
      "cell_type": "code",
      "source": [
        "# write your code here\n",
        "\n",
        "test_dict = {\"CampusX\": [5, 7, 9, 4, 0], \"is\": [6, 7, 4, 3, 3], \"Best\": [9, 9, 6, 5, 5]}\n",
        "\n",
        "max_unique_key = max(test_dict, key=lambda k: len(set(test_dict[k])))\n",
        "\n",
        "print(max_unique_key)\n"
      ],
      "metadata": {
        "id": "N8KHX863lNxL"
      },
      "execution_count": null,
      "outputs": []
    },
    {
      "cell_type": "markdown",
      "source": [
        "### `Q2`: Replace words from Dictionary. Given String, replace it’s words from lookup dictionary.\n",
        "\n",
        "**Example 1:**\n",
        "\n",
        "Input:\n",
        "\n",
        "```bash\n",
        "test_str = 'CampusX best for DS students.'\n",
        "repl_dict = {\"best\" : \"is the best channel\", \"DS\" : \"Data-Science\"}\n",
        "```\n",
        "\n",
        "Output:\n",
        "\n",
        "```bash\n",
        "CampusX is the best channel for Data-Science students.\n",
        "```\n",
        "\n",
        "**Example 2:**\n",
        "\n",
        "Input:\n",
        "```bash\n",
        "test_str = 'CampusX best for DS students.'\n",
        "repl_dict = {\"good\" : \"is the best channel\", \"ds\" : \"Data-Science\"}\n",
        "```\n",
        "\n",
        "Output:\n",
        "```bash\n",
        "CampusX best for DS students.\n",
        "```"
      ],
      "metadata": {
        "id": "_S5X6C84dWdJ"
      }
    },
    {
      "cell_type": "code",
      "source": [
        "# write your code here\n",
        "\n",
        "test_str = 'CampusX best for DS students.'\n",
        "repl_dict = {\"best\": \"is the best channel\", \"DS\": \"Data-Science\"}\n",
        "\n",
        "replaced_str = \" \".join([repl_dict.get(word, word) for word in test_str.split()])\n",
        "\n",
        "print(replaced_str)\n"
      ],
      "metadata": {
        "id": "BTAQ8qnrlOxr"
      },
      "execution_count": null,
      "outputs": []
    },
    {
      "cell_type": "markdown",
      "source": [
        "### `Q3`: Convert List to List of dictionaries. Given list values and keys list, convert these values to key value pairs in form of list of dictionaries.\n",
        "\n",
        "**Example 1:**\n",
        "\n",
        "Input:\n",
        "```bash\n",
        "test_list = [\"DataScience\", 3, \"is\", 8]\n",
        "key_list = [\"name\", \"id\"]\n",
        "```\n",
        "\n",
        "Output:\n",
        "\n",
        "```bash\n",
        "[{'name': 'DataScience', 'id': 3}, {'name': 'is', 'id': 8}]\n",
        "```\n",
        "\n",
        "**Example 2:**\n",
        "\n",
        "Input:\n",
        "```bash\n",
        "test_list = [\"CampusX\", 10]\n",
        "key_list = [\"name\", \"id\"]\n",
        "```\n",
        "\n",
        "Output:\n",
        "\n",
        "```bash\n",
        "[{'name': 'CampusX', 'id': 10}]\n",
        "```"
      ],
      "metadata": {
        "id": "55xgap3zfbcR"
      }
    },
    {
      "cell_type": "code",
      "source": [
        "# write your code here\n",
        "\n",
        "test_list = [\"DataScience\", 3, \"is\", 8]\n",
        "key_list = [\"name\", \"id\"]\n",
        "\n",
        "result = []\n",
        "for i in range(min(len(test_list), len(key_list))):\n",
        "    temp_dict = {}\n",
        "    temp_dict[key_list[i]] = test_list[i]\n",
        "    result.append(temp_dict)\n",
        "\n",
        "print(result)\n",
        "\n",
        "\n"
      ],
      "metadata": {
        "id": "jbCajI87lQFr"
      },
      "execution_count": null,
      "outputs": []
    },
    {
      "cell_type": "code",
      "source": [
        "test_list = [\"DataScience\", 3, \"is\", 8]\n",
        "key_list = [\"name\", \"id\"]\n",
        "\n",
        "result = [{key_list[i]: test_list[i]} for i in range(min(len(test_list), len(key_list)))]\n",
        "\n",
        "print(result)\n"
      ],
      "metadata": {
        "id": "bjzhp1foi_U_"
      },
      "execution_count": null,
      "outputs": []
    },
    {
      "cell_type": "markdown",
      "source": [
        "### `Q4`: Convert a list of Tuples into Dictionary.\n",
        "\n",
        "**Example 1:**\n",
        "\n",
        "Input:\n",
        "```bash\n",
        "[(\"akash\", 10), (\"gaurav\", 12), (\"anand\", 14), (\"suraj\", 20), (\"akhil\", 25), (\"ashish\", 30)]\n",
        "```\n",
        "\n",
        "Output:\n",
        "```bash\n",
        "{'akash': [10], 'gaurav': [12], 'anand': [14], 'suraj': [20], 'akhil': [25], 'ashish': [30]}\n",
        "```\n",
        "\n",
        "**Example 2:**\n",
        "\n",
        "Input:\n",
        "```bash\n",
        "[('A', 1), ('B', 2), ('C', 3)]\n",
        "```\n",
        "\n",
        "Output:\n",
        "```bash\n",
        "{'A': [1], 'B': [2], 'C': [3]}\n",
        "```"
      ],
      "metadata": {
        "id": "5RxBlLQahLkB"
      }
    },
    {
      "cell_type": "code",
      "source": [
        "# write your code here\n",
        "\n",
        "input_list = [(\"akash\", 10), (\"gaurav\", 12), (\"anand\", 14), (\"suraj\", 20), (\"akhil\", 25), (\"ashish\", 30)]\n",
        "\n",
        "output_dict = {}\n",
        "for key, value in input_list:\n",
        "    if key in output_dict:\n",
        "        output_dict[key].append(value)\n",
        "    else:\n",
        "        output_dict[key] = [value]\n",
        "\n",
        "print(output_dict)\n"
      ],
      "metadata": {
        "id": "f1yz7inMlQ5N"
      },
      "execution_count": null,
      "outputs": []
    },
    {
      "cell_type": "markdown",
      "source": [
        "### `Q5`: Sort Dictionary key and values List.\n",
        "\n",
        "**Example 1:**\n",
        "\n",
        "Input:\n",
        "\n",
        "```bash\n",
        "{'c': [3], 'b': [12, 10], 'a': [19, 4]}\n",
        "```\n",
        "\n",
        "Output:\n",
        "\n",
        "```bash\n",
        "{'a': [4, 19], 'b': [10, 12], 'c': [3]}\n",
        "```\n",
        "\n",
        "**Example 2:**\n",
        "\n",
        "Input:\n",
        "\n",
        "```bash\n",
        "{'c': [10, 34, 3]}\n",
        "```\n",
        "\n",
        "Output:\n",
        "\n",
        "```bash\n",
        "{'c': [3, 10, 34]}\n",
        "```"
      ],
      "metadata": {
        "id": "Fz8EzJD-kBkS"
      }
    },
    {
      "cell_type": "code",
      "source": [
        "# write your code here\n",
        "\n",
        "input_dict = {'c': [3], 'b': [12, 10], 'a': [19, 4]}\n",
        "\n",
        "output_dict = {}\n",
        "for key in sorted(input_dict.keys()):\n",
        "    output_dict[key] = sorted(input_dict[key])\n",
        "\n",
        "print(output_dict)\n"
      ],
      "metadata": {
        "id": "x9UmJ4EQk7Pp"
      },
      "execution_count": null,
      "outputs": []
    }
  ]
}