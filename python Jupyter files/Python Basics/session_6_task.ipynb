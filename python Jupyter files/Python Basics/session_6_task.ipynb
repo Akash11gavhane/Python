{
  "nbformat": 4,
  "nbformat_minor": 0,
  "metadata": {
    "colab": {
      "provenance": []
    },
    "kernelspec": {
      "name": "python3",
      "display_name": "Python 3"
    },
    "language_info": {
      "name": "python"
    }
  },
  "cells": [
    {
      "cell_type": "markdown",
      "source": [
        "### **`Problem-1:`** Write a Python function that takes a list and returns a new list with unique elements of the first list.\n",
        "\n",
        "**Exercise 1:**\n",
        "\n",
        "Input:\n",
        "\n",
        "```bash\n",
        "[1,2,3,3,3,3,4,5]\n",
        "```\n",
        "\n",
        "Output:\n",
        "\n",
        "```bash\n",
        "[1, 2, 3, 4, 5]\n",
        "```"
      ],
      "metadata": {
        "id": "h6dDSW5XGZFi"
      }
    },
    {
      "cell_type": "code",
      "source": [
        "\n",
        "def uniqueElements(item_list):\n",
        "  unique_list = []\n",
        "  for i in item_list:\n",
        "    if i not in unique_list:\n",
        "      unique_list.append(i)\n",
        "  \n",
        "  return unique_list\n",
        "\n",
        "\n",
        "l1 = [1,2,3,3,3,3,4,5]\n",
        "\n",
        "unique_List = uniqueElements(l1)\n",
        "\n",
        "print(unique_List)"
      ],
      "metadata": {
        "id": "R5pq1C9LGe1y",
        "outputId": "56de0264-4b0b-49ba-cdd9-6a3684dda1ea",
        "colab": {
          "base_uri": "https://localhost:8080/"
        }
      },
      "execution_count": null,
      "outputs": [
        {
          "output_type": "stream",
          "name": "stdout",
          "text": [
            "[1, 2, 3, 4, 5]\n"
          ]
        }
      ]
    },
    {
      "cell_type": "code",
      "source": [
        "def get_unique_elements(input_list):\n",
        "    return list(set(input_list))\n",
        "\n",
        "# Example usage\n",
        "input_list = [1, 2, 3, 3, 3, 3, 4, 5]\n",
        "unique_list = get_unique_elements(input_list)\n",
        "print(unique_list)\n"
      ],
      "metadata": {
        "id": "LOsTyKnnrNeW"
      },
      "execution_count": null,
      "outputs": []
    },
    {
      "cell_type": "markdown",
      "source": [
        "### **`Problem-2:`** Write a Python function that accepts a hyphen-separated sequence of words as parameter and returns the words in a hyphen-separated sequence after sorting them alphabetically.\n",
        "\n",
        "**Example 1:**\n",
        "\n",
        "Input:\n",
        "```bash\n",
        "green-red-yellow-black-white\n",
        "```\n",
        "\n",
        "Output:\n",
        "```bash\n",
        "black-green-red-white-yellow\n",
        "```"
      ],
      "metadata": {
        "id": "UxQ_VoyJGwHj"
      }
    },
    {
      "cell_type": "code",
      "source": [
        "# Write code here\n",
        "\n",
        "sequance = \"green-red-yellow-black-white\"\n",
        "\n",
        "s1 = sequance.split(\"-\")\n",
        "s2 = sorted(s1)\n",
        "print(s2)\n",
        "print(\"-\".join(s2))"
      ],
      "metadata": {
        "id": "AAts2m5zGwiQ",
        "outputId": "596a2dfa-b2e4-4eb9-cbc8-441f5edcce94",
        "colab": {
          "base_uri": "https://localhost:8080/"
        }
      },
      "execution_count": null,
      "outputs": [
        {
          "output_type": "stream",
          "name": "stdout",
          "text": [
            "['black', 'green', 'red', 'white', 'yellow']\n",
            "black-green-red-white-yellow\n"
          ]
        }
      ]
    },
    {
      "cell_type": "code",
      "source": [
        "def sortWords(sequance):\n",
        "\n",
        "  s1 = sequance.split(\"-\")\n",
        "  s2 = sorted(s1)\n",
        "  sorted_string = \"-\".join(s2)\n",
        "  return sorted_string\n",
        "\n",
        "unsorted_string = \"green-red-yellow-black-white\"\n",
        "\n",
        "sortWords(unsorted_string)\n"
      ],
      "metadata": {
        "id": "Qr8cagx_sVrO",
        "outputId": "b618a5dd-472a-4e04-f8f5-64aa5b2401db",
        "colab": {
          "base_uri": "https://localhost:8080/",
          "height": 36
        }
      },
      "execution_count": null,
      "outputs": [
        {
          "output_type": "execute_result",
          "data": {
            "text/plain": [
              "'black-green-red-white-yellow'"
            ],
            "application/vnd.google.colaboratory.intrinsic+json": {
              "type": "string"
            }
          },
          "metadata": {},
          "execution_count": 9
        }
      ]
    },
    {
      "cell_type": "markdown",
      "source": [
        "### **`Problem 3:`** Write a Python function that accepts a string and calculate the number of upper case letters and lower case letters.\n",
        "\n",
        "```\n",
        "Sample String : 'CampusX is an Online Mentorship Program fOr EnginEering studentS.'\n",
        "Expected Output :\n",
        "No. of Upper case characters :  9\n",
        "No. of Lower case Characters :  47\n",
        "```"
      ],
      "metadata": {
        "id": "IRGH62S7Gx_n"
      }
    },
    {
      "cell_type": "code",
      "source": [
        "s1 = \"CampusX is an Online Mentorship Program fOr EnginEering studentS\"\n",
        "\n",
        "upCount = 0\n",
        "lowCount = 0\n",
        "spaceCount = 0\n",
        "for i in s1:\n",
        "\n",
        "  if i.isupper():\n",
        "    upCount += 1\n",
        "  elif i.islower():\n",
        "    lowCount += 1\n",
        "  elif i == \" \":\n",
        "    spaceCount += 1\n",
        "\n",
        "print(upCount)\n",
        "print(lowCount)\n",
        "print(spaceCount)\n"
      ],
      "metadata": {
        "id": "woIBMSmAtcCP",
        "outputId": "bcbf9be0-0da5-4156-a18e-06d754ff6609",
        "colab": {
          "base_uri": "https://localhost:8080/"
        }
      },
      "execution_count": null,
      "outputs": [
        {
          "output_type": "stream",
          "name": "stdout",
          "text": [
            "9\n",
            "47\n",
            "8\n"
          ]
        }
      ]
    },
    {
      "cell_type": "code",
      "source": [
        "# write that above code using function\n",
        "\n",
        "def countString(s1):\n",
        "\n",
        "  upCount = 0\n",
        "  lowCount = 0\n",
        "  spacecount = 0\n",
        "\n",
        "  for i in s1:\n",
        "    if i.isupper():\n",
        "      upCount += 1\n",
        "    elif i.islower():\n",
        "      lowCount += 1\n",
        "    elif i == \" \":\n",
        "      spacecount += 1\n",
        "  \n",
        "  return upCount , lowCount , spacecount\n",
        "\n",
        "\n",
        "s1 = \"CampusX is an Online Mentorship Program fOr EnginEering studentS\"\n",
        "\n",
        "upCount , lowCount , spacecount = countString(s1)\n",
        "\n",
        "print(\"No. of Upper case characters : \" , upCount)\n",
        "print(\"No. of Lower case characters : \" , lowCount)\n",
        "print(\"No. of spaces in String are :  \" , spaceCount)"
      ],
      "metadata": {
        "id": "6Pz27DWhupO_",
        "outputId": "d8434696-4600-4b04-b1f5-d796c93b0b89",
        "colab": {
          "base_uri": "https://localhost:8080/"
        }
      },
      "execution_count": null,
      "outputs": [
        {
          "output_type": "stream",
          "name": "stdout",
          "text": [
            "No. of Upper case characters :  9\n",
            "No. of Lower case characters :  47\n",
            "No. of spaces in String are :   8\n"
          ]
        }
      ]
    },
    {
      "cell_type": "markdown",
      "source": [
        "### **`Problem 4:`** Write a Python program to print the even numbers from a given list.\n",
        "```\n",
        "Sample List : [1, 2, 3, 4, 5, 6, 7, 8, 9]\n",
        "Expected Result : [2, 4, 6, 8]\n",
        "```"
      ],
      "metadata": {
        "id": "V1BFFdYQG7Sn"
      }
    },
    {
      "cell_type": "code",
      "source": [
        "# Write code here\n",
        "\n",
        "def evenList(itemList):\n",
        "  even_List = []\n",
        "  for i in itemList:\n",
        "    if i % 2 == 0:\n",
        "      even_List.append(i)\n",
        "    \n",
        "  return even_List\n",
        "\n",
        "\n",
        "l1 = [1, 2, 3, 4, 5, 6, 7, 8, 9]\n",
        "\n",
        "evenList(l1)\n",
        "\n"
      ],
      "metadata": {
        "id": "VvAReLoDG_Z3",
        "outputId": "4a6ac3bf-fd77-4db9-acc1-0a5f1f4d26aa",
        "colab": {
          "base_uri": "https://localhost:8080/"
        }
      },
      "execution_count": null,
      "outputs": [
        {
          "output_type": "execute_result",
          "data": {
            "text/plain": [
              "[2, 4, 6, 8]"
            ]
          },
          "metadata": {},
          "execution_count": 21
        }
      ]
    },
    {
      "cell_type": "markdown",
      "source": [
        "### **`Problem 5:`** Write a Python function to check whether a number is perfect or not.\n",
        "\n",
        "A Perfect number is a number that is half the sum of all of its positive divisors (including itself).\n",
        "\n",
        "Example : \n",
        "\n",
        "```\n",
        "The first perfect number is 6, because 1, 2, and 3 are its proper positive divisors, and 1 + 2 + 3 = 6. \n",
        "Equivalently, the number 6 is equal to half the sum of all its positive divisors: ( 1 + 2 + 3 + 6 ) / 2 = 6. \n",
        "\n",
        "The next perfect number is 28 = 1 + 2 + 4 + 7 + 14. This is followed by the perfect numbers 496 and 8128.\n",
        "```\n"
      ],
      "metadata": {
        "id": "qrK39Gn-HHb4"
      }
    },
    {
      "cell_type": "code",
      "source": [
        "# Write code here\n",
        "\n",
        "def isPerfectNumber(num):\n",
        "\n",
        "  numList = []\n",
        "  for i in range(1 , num):\n",
        "\n",
        "    if num % i == 0:\n",
        "      numList.append(i)\n",
        "  \n",
        "  if sum(numList) == num:\n",
        "    return True\n",
        "  else : \n",
        "    return False\n",
        "\n",
        "num = int(input(\"Enter a Number : \"))\n",
        "\n",
        "ans = isPerfectNumber(num)\n",
        "\n",
        "if ans:\n",
        "  print(f\"the number {num} is perfect.\")\n",
        "else :\n",
        "  print(f\"the number {num} is not perfect number\")\n"
      ],
      "metadata": {
        "id": "P-OI7H78HICs",
        "colab": {
          "base_uri": "https://localhost:8080/"
        },
        "outputId": "85e0efed-3bbe-4e8f-fd93-1c397a2a39e1"
      },
      "execution_count": 6,
      "outputs": [
        {
          "output_type": "stream",
          "name": "stdout",
          "text": [
            "Enter a Number : 6\n",
            "the number 6 is perfect.\n"
          ]
        }
      ]
    },
    {
      "cell_type": "markdown",
      "source": [
        "### **`Problem-6:`** Write a Python function to concatenate any no of dictionaries to create a new one.\n",
        "\n",
        "```\n",
        "Sample Dictionary :\n",
        "dic1={1:10, 2:20}\n",
        "dic2={3:30, 4:40}\n",
        "dic3={5:50,6:60}\n",
        "Expected Result : {1: 10, 2: 20, 3: 30, 4: 40, 5: 50, 6: 60}\n",
        "```"
      ],
      "metadata": {
        "id": "oZdpcG77HO-6"
      }
    },
    {
      "cell_type": "code",
      "source": [
        "# Write code here\n",
        "\n",
        "def concatDictionary(*dict):\n",
        "\n",
        "  result_dict = {}\n",
        "\n",
        "  for i in dict:\n",
        "    result_dict.update(i)\n",
        "\n",
        "  return result_dict\n",
        "\n",
        "dic1={1:10, 2:20}\n",
        "dic2={3:30, 4:40}\n",
        "dic3={5:50,6:60}\n",
        "\n",
        "finalDict =  concatDictionary(dic1 , dic2 , dic3)\n",
        "finalDict"
      ],
      "metadata": {
        "id": "LQgfAY4ZHPhj",
        "colab": {
          "base_uri": "https://localhost:8080/"
        },
        "outputId": "0a384c03-6929-42f6-e9b3-986fa8cf4b5f"
      },
      "execution_count": 8,
      "outputs": [
        {
          "output_type": "execute_result",
          "data": {
            "text/plain": [
              "{1: 10, 2: 20, 3: 30, 4: 40, 5: 50, 6: 60}"
            ]
          },
          "metadata": {},
          "execution_count": 8
        }
      ]
    },
    {
      "cell_type": "markdown",
      "source": [
        "`Problem-7` Write a python function that accepts a string as input and returns the word with most occurence.\n",
        "\n",
        "```\n",
        "Input:\n",
        "hello how are you i am fine thank you\n",
        "```\n",
        "\n",
        "```\n",
        "Output\n",
        "you -> 2\n",
        "```"
      ],
      "metadata": {
        "id": "jQ6SzbCkHRd0"
      }
    },
    {
      "cell_type": "code",
      "source": [
        "def most_frequent_word(sentence):\n",
        "    # Split the sentence into words\n",
        "    words = sentence.split()\n",
        "\n",
        "    # Create a dictionary to store word counts\n",
        "    word_counts = {}\n",
        "\n",
        "    # Count the occurrences of each word\n",
        "    for word in words:\n",
        "        if word in word_counts:\n",
        "            word_counts[word] += 1\n",
        "        else:\n",
        "            word_counts[word] = 1\n",
        "\n",
        "    # Find the word with the highest occurrence\n",
        "    most_frequent = max(word_counts, key=word_counts.get)\n",
        "\n",
        "    # Return the most frequent word and its count\n",
        "    return most_frequent, word_counts[most_frequent]\n",
        "\n",
        "# Example usage\n",
        "sentence = \"hello how are you i am fine thank you\"\n",
        "most_frequent, count = most_frequent_word(sentence)\n",
        "print(\"Most frequent word:\", most_frequent)\n",
        "print(\"Count:\", count)\n"
      ],
      "metadata": {
        "id": "Lh04JHLzIW7Z",
        "colab": {
          "base_uri": "https://localhost:8080/"
        },
        "outputId": "757cc7de-8e11-49d5-e7bf-0277ec0f5ccf"
      },
      "execution_count": 12,
      "outputs": [
        {
          "output_type": "stream",
          "name": "stdout",
          "text": [
            "Most frequent word: you\n",
            "Count: 2\n"
          ]
        }
      ]
    },
    {
      "cell_type": "markdown",
      "source": [
        "`Problem-8` Write a python function that receives a list of integers and prints out a histogram of bin size 10\n",
        "\n",
        "```\n",
        "Input:\n",
        "[13,42,15,37,22,39,41,50]\n",
        "```\n",
        "\n",
        "```\n",
        "Output:\n",
        "{11-20:2,21-30:1,31-40:2,41-50:3}\n",
        "```"
      ],
      "metadata": {
        "id": "1r8SpVntI-IW"
      }
    },
    {
      "cell_type": "code",
      "source": [
        "# Write code here\n",
        "\n",
        "\n",
        "def histogram(numbers):\n",
        "    # Create an empty dictionary to store bin counts\n",
        "    bins = {}\n",
        "\n",
        "    # Iterate over each number in the list\n",
        "    for number in numbers:\n",
        "        # Determine the bin range for the number\n",
        "        bin_start = (number // 10) * 10\n",
        "        bin_end = bin_start + 10\n",
        "\n",
        "        # Update the count for the bin in the dictionary\n",
        "        bin_range = f\"{bin_start + 1}-{bin_end}\"\n",
        "        if bin_range in bins:\n",
        "            bins[bin_range] += 1\n",
        "        else:\n",
        "            bins[bin_range] = 1\n",
        "\n",
        "    # Print the histogram\n",
        "    for bin_range, count in sorted(bins.items()):\n",
        "        print(f\"{bin_range}: {count}\")\n",
        "\n",
        "# Example usage\n",
        "numbers = [13, 42, 15, 37, 22, 39, 41, 50]\n",
        "histogram(numbers)\n",
        "\n",
        "\n",
        "\n",
        "\n"
      ],
      "metadata": {
        "id": "7W0J8rUjJovg",
        "colab": {
          "base_uri": "https://localhost:8080/"
        },
        "outputId": "23badab9-cebb-4c7a-ce21-9a39014527fe"
      },
      "execution_count": 13,
      "outputs": [
        {
          "output_type": "stream",
          "name": "stdout",
          "text": [
            "11-20: 2\n",
            "21-30: 1\n",
            "31-40: 2\n",
            "41-50: 2\n",
            "51-60: 1\n"
          ]
        }
      ]
    },
    {
      "cell_type": "markdown",
      "source": [
        "`Problem-9` Write a python function that accepts a list of 2D co-ordinates and a query point, and then finds the the co-ordinate which is closest in terms of distance from the query point.\n",
        "\n",
        "```\n",
        "List of Coordinates\n",
        "[(1,1),(2,2),(3,3),(4,4)]\n",
        "Query Point\n",
        "(0,0)\n",
        "```\n",
        "\n",
        "```\n",
        "Output\n",
        "Nearest to (0,0) is (1,1)\n",
        "```"
      ],
      "metadata": {
        "id": "1P2-rbgXKE53"
      }
    },
    {
      "cell_type": "code",
      "source": [
        "# Write code here"
      ],
      "metadata": {
        "id": "zjn7vSTIJ81G"
      },
      "execution_count": null,
      "outputs": []
    },
    {
      "cell_type": "markdown",
      "source": [
        "`Problem-10`:Write a python program that receives a list of strings and performs bag of word operation on those strings\n",
        "\n",
        "https://en.wikipedia.org/wiki/Bag-of-words_model"
      ],
      "metadata": {
        "id": "i-B6igmyK9hB"
      }
    },
    {
      "cell_type": "code",
      "source": [
        "# Write code here\n"
      ],
      "metadata": {
        "id": "N2l1_AWULT-z"
      },
      "execution_count": null,
      "outputs": []
    },
    {
      "cell_type": "markdown",
      "source": [
        "###`Problem 11:` Write a Python program to add three given lists using Python map and lambda."
      ],
      "metadata": {
        "id": "dHTRKb-DqMLw"
      }
    },
    {
      "cell_type": "code",
      "source": [
        "# Write code here"
      ],
      "metadata": {
        "id": "NfJdzyNZqNW-"
      },
      "execution_count": null,
      "outputs": []
    },
    {
      "cell_type": "markdown",
      "source": [
        "###`Problem-12:`Write a Python program to create a list containing the power of said number in bases raised to the corresponding number in the index using Python map.\n",
        "`Input:`\n",
        "```\n",
        "list1 = [1,2,3,4,5,6]\n",
        "```\n",
        "`Output:`\n",
        "```\n",
        "[1,2,9,64,625,-]\n",
        "```\n"
      ],
      "metadata": {
        "id": "MgHP7mbUqO8l"
      }
    },
    {
      "cell_type": "code",
      "source": [
        "# Write code here"
      ],
      "metadata": {
        "id": "gG3Dc6N3qbvN"
      },
      "execution_count": null,
      "outputs": []
    },
    {
      "cell_type": "markdown",
      "source": [
        "###`Problem-13` Using filter() and list() functions and .lower() method filter all the vowels in a given string.\n",
        "\n"
      ],
      "metadata": {
        "id": "G26SYq6vqdLN"
      }
    },
    {
      "cell_type": "code",
      "source": [
        "# Write code here"
      ],
      "metadata": {
        "id": "zurga3DIqmEx"
      },
      "execution_count": null,
      "outputs": []
    },
    {
      "cell_type": "markdown",
      "source": [
        "`Problem-14`: Use reduce to convert a 2D list to 1D"
      ],
      "metadata": {
        "id": "uQrsunZSqoYu"
      }
    },
    {
      "cell_type": "code",
      "source": [
        "# Write code here"
      ],
      "metadata": {
        "id": "E1YUwnfgqnka"
      },
      "execution_count": null,
      "outputs": []
    },
    {
      "cell_type": "markdown",
      "source": [
        "`Problem 15`- A dictionary contains following information about 5 employees:\n",
        "- First name\n",
        "- Last name\n",
        "- Age\n",
        "- Grade(Skilled,Semi-skilled,Highly skilled)<br>\n",
        "Write a program using map/filter/reduce to a list of employees(first name + last name) who are highly skilled"
      ],
      "metadata": {
        "id": "8-DLQEawt-_t"
      }
    },
    {
      "cell_type": "code",
      "source": [
        "# Write code here\n",
        "employees = [\n",
        "    {\n",
        "        'fname':'Nitish',\n",
        "        'lname':'Singh',\n",
        "        'age' : 33,\n",
        "        'grade':'skilled'\n",
        "    },\n",
        "    {\n",
        "        'fname':'Ankit',\n",
        "        'lname':'Verma',\n",
        "        'age' : 34,\n",
        "        'grade':'semi-skilled'\n",
        "    },\n",
        "    {\n",
        "        'fname':'Neha',\n",
        "        'lname':'Singh',\n",
        "        'age' : 35,\n",
        "        'grade':'highly-skilled'\n",
        "    },\n",
        "    {\n",
        "        'fname':'Anurag',\n",
        "        'lname':'Kumar',\n",
        "        'age' : 30,\n",
        "        'grade':'skilled'\n",
        "    },\n",
        "    {\n",
        "        'fname':'Abhinav',\n",
        "        'lname':'Sharma',\n",
        "        'age' : 37,\n",
        "        'grade':'highly-skilled'\n",
        "    }\n",
        "    \n",
        "]"
      ],
      "metadata": {
        "id": "OLvptttLs6OU"
      },
      "execution_count": null,
      "outputs": []
    },
    {
      "cell_type": "code",
      "source": [
        "list(map(lambda x:x['fname'] + ' ' + x['lname'],list(filter(lambda x:True if x['grade'] == 'highly-skilled' else False,employees))))"
      ],
      "metadata": {
        "id": "vLX0FAQkui3y",
        "colab": {
          "base_uri": "https://localhost:8080/"
        },
        "outputId": "e7d50543-c30e-4a20-c793-756f5a435df7"
      },
      "execution_count": null,
      "outputs": [
        {
          "output_type": "execute_result",
          "data": {
            "text/plain": [
              "['Neha Singh', 'Abhinav Sharma']"
            ]
          },
          "metadata": {},
          "execution_count": 17
        }
      ]
    },
    {
      "cell_type": "code",
      "source": [],
      "metadata": {
        "id": "ldMjGfkgAMr9"
      },
      "execution_count": null,
      "outputs": []
    }
  ]
}