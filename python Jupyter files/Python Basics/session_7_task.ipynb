{
  "nbformat": 4,
  "nbformat_minor": 0,
  "metadata": {
    "colab": {
      "provenance": []
    },
    "kernelspec": {
      "name": "python3",
      "display_name": "Python 3"
    },
    "language_info": {
      "name": "python"
    }
  },
  "cells": [
    {
      "cell_type": "markdown",
      "source": [
        "##`Q-1:` Rectangle Class\n",
        "1. Write a Rectangle class in Python language, allowing you to build a rectangle with length and width attributes.\n",
        "\n",
        "2. Create a Perimeter() method to calculate the perimeter of the rectangle and a Area() method to calculate the area of ​​the rectangle.\n",
        "\n",
        "3. Create a method display() that display the length, width, perimeter and area of an object created using an instantiation on rectangle class."
      ],
      "metadata": {
        "id": "FyUJ3PRAsPr4"
      }
    },
    {
      "cell_type": "markdown",
      "source": [
        "Eg.\n",
        "After making above classes and methods, on executing below code:-\n",
        "```\n",
        "my_rectangle = Rectangle(3 , 4)\n",
        "my_rectangle.display()\n",
        "```\n",
        "\n",
        "`Output:`\n",
        "```\n",
        "The length of rectangle is:  3\n",
        "The width of rectangle is:  4\n",
        "The perimeter of rectangle is:  14\n",
        "The area of rectangle is:  12\n",
        "```\n"
      ],
      "metadata": {
        "id": "GxUtOqJfssFK"
      }
    },
    {
      "cell_type": "code",
      "source": [
        "# write your code here\n",
        "\n",
        "class Rectangle : \n",
        "\n",
        "  def __init__(self , l , w):\n",
        "\n",
        "    self.length = l\n",
        "    self.width = w\n",
        "\n",
        "  def perimeter(self):\n",
        "\n",
        "    return 2 * (self.length + self.width)\n",
        "\n",
        "  def Area(self):\n",
        "    return self.length * self.width\n",
        "\n",
        "  \n",
        "  def display(self):\n",
        "\n",
        "    print(f\"the length of the rectangle is {self.length}\")\n",
        "    print(f\"the width of the rectangle is {self.width}\")\n",
        "    print(f\"The perimeter of the rectangle is {self.perimeter()}\")\n",
        "    print(f\"the area of the rectangle is {self.Area()}\")\n",
        "\n",
        "    \n",
        "    \n",
        "\n",
        "\n"
      ],
      "metadata": {
        "id": "92_QT-Uj6NBg"
      },
      "execution_count": null,
      "outputs": []
    },
    {
      "cell_type": "code",
      "source": [
        "my_rectangle = Rectangle(3 , 4)\n",
        "\n",
        "my_rectangle.display()"
      ],
      "metadata": {
        "id": "ukLX2S5l_SpH",
        "colab": {
          "base_uri": "https://localhost:8080/"
        },
        "outputId": "44c816d7-89f3-4e87-fb5c-95c385bca9d9"
      },
      "execution_count": null,
      "outputs": [
        {
          "output_type": "stream",
          "name": "stdout",
          "text": [
            "the length of the rectangle is 3\n",
            "the width of the rectangle is 4\n",
            "The perimeter of the rectangle is 14\n",
            "the area of the rectangle is 12\n"
          ]
        }
      ]
    },
    {
      "cell_type": "markdown",
      "source": [
        "##`Q-2: Bank Class`\n",
        "\n",
        "1. Create a Python class called `BankAccount` which represents a bank account, having as attributes: `accountNumber` (numeric type), `name` (name of the account owner as string type), `balance`.\n",
        "2. Create a constructor with parameters: `accountNumber, name, balance`.\n",
        "3. Create a `Deposit()` method which manages the deposit actions.\n",
        "4. Create a `Withdrawal()` method  which manages withdrawals actions.\n",
        "5. Create an `bankFees()` method to apply the bank fees with a percentage of 5% of the balance account.\n",
        "6. Create a `display()` method to display account details.\n",
        "Give the complete code for the  BankAccount class."
      ],
      "metadata": {
        "id": "r_GxrS0Vrdom"
      }
    },
    {
      "cell_type": "markdown",
      "source": [
        "Eg.\n",
        "After making above classes and methods, on executing below code:-\n",
        "```\n",
        "newAccount = BankAccount(2178514584, \"Mandy\" , 2800)\n",
        "\n",
        "newAccount.Withdrawal(700)\n",
        "\n",
        "newAccount.Deposit(1000)\n",
        "\n",
        "newAccount.display()\n",
        "```\n",
        "\n",
        "`Output:`\n",
        "```\n",
        "Account Number :  2178514584\n",
        "Account Name :  Mandy\n",
        "Account Balance :  3100 ₹\n",
        "```"
      ],
      "metadata": {
        "id": "qvVkOUJgvTV_"
      }
    },
    {
      "cell_type": "code",
      "source": [
        "class BankAccount:\n",
        "\n",
        "    def __init__(self, account_number, name, balance):\n",
        "        self.account_number = account_number\n",
        "        self.name = name\n",
        "        self.balance = balance\n",
        "\n",
        "    def deposit(self, amount):\n",
        "        self.balance += amount\n",
        "\n",
        "    def withdrawal(self, amount):\n",
        "        if amount > self.balance:\n",
        "            print(\"Insufficient balance!\")\n",
        "        else:\n",
        "            self.balance -= amount\n",
        "\n",
        "    def bank_fees(self):\n",
        "        self.balance -= self.balance * 0.05\n",
        "\n",
        "    def display(self):\n",
        "        print(\"Account Number:\", self.account_number)\n",
        "        print(\"Account Name:\", self.name)\n",
        "        print(\"Account Balance:\", self.balance)"
      ],
      "metadata": {
        "id": "htBjYs4lDnMI"
      },
      "execution_count": null,
      "outputs": []
    },
    {
      "cell_type": "code",
      "source": [
        "new_account = BankAccount(2178514584, \"Mandy\", 2800)\n",
        "\n",
        "new_account.withdrawal(700)\n",
        "\n",
        "new_account.deposit(1000)\n",
        "\n",
        "new_account.display()"
      ],
      "metadata": {
        "colab": {
          "base_uri": "https://localhost:8080/"
        },
        "id": "lxt56bnLDoQx",
        "outputId": "4696573e-e43b-42a7-85f6-4afc1d85e5f4"
      },
      "execution_count": null,
      "outputs": [
        {
          "output_type": "stream",
          "name": "stdout",
          "text": [
            "Account Number: 2178514584\n",
            "Account Name: Mandy\n",
            "Account Balance: 3100\n"
          ]
        }
      ]
    },
    {
      "cell_type": "markdown",
      "source": [
        "##`Q-3:Computation class`\n",
        "\n",
        "1. Create a `Computation` class with a default constructor (without parameters) allowing to perform various calculations on integers numbers.\n",
        "2. Create a method called `Factorial()` which allows to calculate the factorial of an integer n. Integer n as parameter for this method\n",
        "\n",
        "3. Create a method called `naturalSum()` allowing to calculate the sum of the first n integers 1 + 2 + 3 + .. + n. Integer n as parameter for this method.\n",
        "\n",
        "4. Create a method called `testPrime()` in  the Calculation class to test the primality of a given integer n, n is Prime or Not? Integer n as parameter for this method.\n",
        "\n",
        "5. Create  a method called `testPrims()` allowing to test if two numbers are prime between them. Two integers are prime to one another if they have only `1` as their common divisor. Eg. 4 and 9 are prime to each other.\n",
        "\n",
        "5. Create a `tableMult()` method which creates and displays the multiplication table of a given integer. Then create an `allTablesMult()` method to display all the integer multiplication tables 1, 2, 3, ..., 9.\n",
        "\n",
        "6. Create a static `listDiv()` method that gets all the divisors of a given integer on new list called  Ldiv. Create another `listDivPrim()` method that gets all the prime divisors of a given integer."
      ],
      "metadata": {
        "id": "QovcQAZTrgGU"
      }
    },
    {
      "cell_type": "code",
      "source": [
        "# write your code here\n",
        "import math\n",
        "class Computation : \n",
        "\n",
        "  def __init__(self):\n",
        "    pass\n",
        "\n",
        "  \n",
        "  def Factorial(self , n):\n",
        "\n",
        "    fact = 1\n",
        "\n",
        "    for i in range(1 , n + 1):\n",
        "\n",
        "      fact *= i\n",
        "\n",
        "    return fact\n",
        "\n",
        "  def naturalSum(self , n):\n",
        "\n",
        "    sum = 0\n",
        "\n",
        "    for i in range(1 , n + 1):\n",
        "\n",
        "      sum += i\n",
        "    return sum\n",
        "\n",
        "\n",
        "  def testPrime(self , n ):\n",
        "\n",
        "    if n <= 1 : \n",
        "      return \"the Number {} is not a prime number\".format(n)\n",
        "    elif n > 1:\n",
        "\n",
        "      for i in range(2, n):\n",
        "        if n % i == 0:\n",
        "          return \"the Number {} is not a prime number\".format(n)\n",
        "        else :\n",
        "          return \"the Number {} is a prime number\".format(n)\n",
        "\n",
        " \n",
        "  def testPrims(self , a , b):\n",
        "\n",
        "    smaller = min(a, b)\n",
        "\n",
        "    for i in range(2 , int(math.sqrt(smaller)) + 1):\n",
        "\n",
        "      if a % i == 0 and b % i == 0:\n",
        "        return \"the Number {} and number {} are not a co-prime number\".format(a , b)\n",
        "      else :\n",
        "        return \"the Number {}  and number {} are co-prime prime number\".format(a , b)\n",
        "\n",
        "\n",
        "  def multTable(self , n):\n",
        "\n",
        "    print(\"Multiplication table of\", n)\n",
        "    for i in range(1, 11):\n",
        "      print(n, \"*\", i, \"=\", n * i)\n",
        "\n",
        "\n",
        "  def AllTablesMult(self , n):\n",
        "\n",
        "    for i in range(1 , 11):\n",
        "      print(\"Table of : \" , i)\n",
        "\n",
        "      for j in range(1 , 11):\n",
        "\n",
        "        print(i, \"*\", j, \"=\", i * j)\n",
        "      \n",
        "      print()\n",
        "\n",
        "\n",
        "  def list_div(self, n):\n",
        "    div = []\n",
        "    for i in range(1, int(n ** 0.5) + 1):\n",
        "      if n % i == 0:\n",
        "        div.append(i)\n",
        "        if n / i != i:\n",
        "          div.append(n // i)\n",
        "    return div\n",
        "\n",
        "  def list_div_prim(self, n):\n",
        "    div_prim = []\n",
        "    for i in range(2, int(n ** 0.5) + 1):\n",
        "      if self.testPrime(i) and n % i == 0:\n",
        "        div_prim.append(i)\n",
        "        if n / i != i:\n",
        "          div_prim.append(n // i)\n",
        "    return div_prim\n"
      ],
      "metadata": {
        "id": "YEkPH70l6Z-o"
      },
      "execution_count": 55,
      "outputs": []
    },
    {
      "cell_type": "code",
      "source": [
        "obj = Computation()\n",
        "\n",
        "#obj.Factorial(5)\n",
        "\n",
        "#obj.naturalSum(3)\n",
        "\n",
        "#obj.testPrime(5)\n",
        "\n",
        "#obj.testPrims(4 , 9)\n",
        "\n",
        "#obj.multTable(5)\n",
        "\n",
        "#obj.AllTablesMult(10)\n",
        "\n",
        "obj.list_div(15)\n",
        "\n",
        "obj.list_div_prim(50)"
      ],
      "metadata": {
        "colab": {
          "base_uri": "https://localhost:8080/"
        },
        "id": "iCsfxNW4Ry3h",
        "outputId": "d5763368-e2f7-487e-858b-ce6d1e35b05a"
      },
      "execution_count": 56,
      "outputs": [
        {
          "output_type": "execute_result",
          "data": {
            "text/plain": [
              "[5, 10]"
            ]
          },
          "metadata": {},
          "execution_count": 56
        }
      ]
    },
    {
      "cell_type": "markdown",
      "source": [
        "##`Q-4`: Build flashcard using class in Python.\n",
        "\n",
        "Build a flashcard using class in python. A flashcard is a card having information on both sides, which can be used as an aid in memoization. Flashcards usually have a question on one side and an answer on the other.\n",
        "\n",
        "**Example 1:**\n",
        "\n",
        "Approach:\n",
        "\n",
        "- Create a class named FlashCard.\n",
        "- Initialize dictionary fruits using __init__() method. Here you have to define fruit name as key and it's color as value. E.g., {\"Banana\": \"yellow\", \"Strawberries\": \"pink\"}\n",
        "- Now randomly choose a pair from fruits by using _random_ module and store the key in variable _fruit_ and _value_ in variable color.\n",
        "- Now prompt the user to answer the color of the randomly chosen fruit.\n",
        "- If correct print correct else print wrong.\n",
        "\n",
        "Output:\n",
        "```bash\n",
        "welcome to fruit quiz\n",
        "What is the color of Strawberries\n",
        "pink\n",
        "Correct answer\n",
        "Enter 0, if you want to play again: 0\n",
        "What is the color of watermelon\n",
        "green\n",
        "Correct answer\n",
        "Enter 0, if you want to play again: 1\n",
        "```"
      ],
      "metadata": {
        "id": "0yn23_oEriXa"
      }
    },
    {
      "cell_type": "code",
      "source": [
        "# write your code here\n",
        "\n",
        "import random\n",
        "\n",
        "class FlashCard:\n",
        "  def __init__(self):\n",
        "    self.fruits = {\"Banana\": \"yellow\", \"Strawberries\": \"pink\", \"Watermelon\": \"green\", \"Apple\": \"red\"}\n",
        "\n",
        "  def play(self):\n",
        "    print(\"Welcome to the fruit quiz!\")\n",
        "    play_again = True\n",
        "\n",
        "    while play_again:\n",
        "      fruit, color = random.choice(list(self.fruits.items()))\n",
        "      print(f\"What is the color of {fruit}?\")\n",
        "      user_answer = input().lower()\n",
        "\n",
        "      if user_answer == color.lower():\n",
        "        print(\"Correct answer!\")\n",
        "      else:\n",
        "        print(\"Wrong answer!\")\n",
        "\n",
        "    play_again = int(input(\"Enter 0 if you want to play again: \")) == 0\n",
        "\n",
        "flashcard = FlashCard()\n",
        "flashcard.play()\n"
      ],
      "metadata": {
        "id": "vCrUF6VU6l6w",
        "colab": {
          "base_uri": "https://localhost:8080/",
          "height": 623
        },
        "outputId": "fac0e03e-c66e-4e80-bc94-d2769a64cbcd"
      },
      "execution_count": 57,
      "outputs": [
        {
          "metadata": {
            "tags": null
          },
          "name": "stdout",
          "output_type": "stream",
          "text": [
            "Welcome to the fruit quiz!\n",
            "What is the color of Banana?\n",
            "Wrong answer!\n",
            "What is the color of Strawberries?\n",
            "Correct answer!\n",
            "What is the color of Strawberries?\n",
            "Correct answer!\n",
            "What is the color of Strawberries?\n",
            "Correct answer!\n",
            "What is the color of Watermelon?\n",
            "Wrong answer!\n",
            "What is the color of Strawberries?\n",
            "Correct answer!\n",
            "What is the color of Strawberries?\n",
            "Correct answer!\n",
            "What is the color of Apple?\n"
          ]
        },
        {
          "output_type": "error",
          "ename": "KeyboardInterrupt",
          "evalue": "ignored",
          "traceback": [
            "\u001b[0;31m---------------------------------------------------------------------------\u001b[0m",
            "\u001b[0;31mKeyboardInterrupt\u001b[0m                         Traceback (most recent call last)",
            "\u001b[0;32m<ipython-input-57-ff87836beafc>\u001b[0m in \u001b[0;36m<cell line: 26>\u001b[0;34m()\u001b[0m\n\u001b[1;32m     24\u001b[0m \u001b[0;34m\u001b[0m\u001b[0m\n\u001b[1;32m     25\u001b[0m \u001b[0mflashcard\u001b[0m \u001b[0;34m=\u001b[0m \u001b[0mFlashCard\u001b[0m\u001b[0;34m(\u001b[0m\u001b[0;34m)\u001b[0m\u001b[0;34m\u001b[0m\u001b[0;34m\u001b[0m\u001b[0m\n\u001b[0;32m---> 26\u001b[0;31m \u001b[0mflashcard\u001b[0m\u001b[0;34m.\u001b[0m\u001b[0mplay\u001b[0m\u001b[0;34m(\u001b[0m\u001b[0;34m)\u001b[0m\u001b[0;34m\u001b[0m\u001b[0;34m\u001b[0m\u001b[0m\n\u001b[0m",
            "\u001b[0;32m<ipython-input-57-ff87836beafc>\u001b[0m in \u001b[0;36mplay\u001b[0;34m(self)\u001b[0m\n\u001b[1;32m     14\u001b[0m       \u001b[0mfruit\u001b[0m\u001b[0;34m,\u001b[0m \u001b[0mcolor\u001b[0m \u001b[0;34m=\u001b[0m \u001b[0mrandom\u001b[0m\u001b[0;34m.\u001b[0m\u001b[0mchoice\u001b[0m\u001b[0;34m(\u001b[0m\u001b[0mlist\u001b[0m\u001b[0;34m(\u001b[0m\u001b[0mself\u001b[0m\u001b[0;34m.\u001b[0m\u001b[0mfruits\u001b[0m\u001b[0;34m.\u001b[0m\u001b[0mitems\u001b[0m\u001b[0;34m(\u001b[0m\u001b[0;34m)\u001b[0m\u001b[0;34m)\u001b[0m\u001b[0;34m)\u001b[0m\u001b[0;34m\u001b[0m\u001b[0;34m\u001b[0m\u001b[0m\n\u001b[1;32m     15\u001b[0m       \u001b[0mprint\u001b[0m\u001b[0;34m(\u001b[0m\u001b[0;34mf\"What is the color of {fruit}?\"\u001b[0m\u001b[0;34m)\u001b[0m\u001b[0;34m\u001b[0m\u001b[0;34m\u001b[0m\u001b[0m\n\u001b[0;32m---> 16\u001b[0;31m       \u001b[0muser_answer\u001b[0m \u001b[0;34m=\u001b[0m \u001b[0minput\u001b[0m\u001b[0;34m(\u001b[0m\u001b[0;34m)\u001b[0m\u001b[0;34m.\u001b[0m\u001b[0mlower\u001b[0m\u001b[0;34m(\u001b[0m\u001b[0;34m)\u001b[0m\u001b[0;34m\u001b[0m\u001b[0;34m\u001b[0m\u001b[0m\n\u001b[0m\u001b[1;32m     17\u001b[0m \u001b[0;34m\u001b[0m\u001b[0m\n\u001b[1;32m     18\u001b[0m       \u001b[0;32mif\u001b[0m \u001b[0muser_answer\u001b[0m \u001b[0;34m==\u001b[0m \u001b[0mcolor\u001b[0m\u001b[0;34m.\u001b[0m\u001b[0mlower\u001b[0m\u001b[0;34m(\u001b[0m\u001b[0;34m)\u001b[0m\u001b[0;34m:\u001b[0m\u001b[0;34m\u001b[0m\u001b[0;34m\u001b[0m\u001b[0m\n",
            "\u001b[0;32m/usr/local/lib/python3.10/dist-packages/ipykernel/kernelbase.py\u001b[0m in \u001b[0;36mraw_input\u001b[0;34m(self, prompt)\u001b[0m\n\u001b[1;32m    849\u001b[0m                 \u001b[0;34m\"raw_input was called, but this frontend does not support input requests.\"\u001b[0m\u001b[0;34m\u001b[0m\u001b[0;34m\u001b[0m\u001b[0m\n\u001b[1;32m    850\u001b[0m             )\n\u001b[0;32m--> 851\u001b[0;31m         return self._input_request(str(prompt),\n\u001b[0m\u001b[1;32m    852\u001b[0m             \u001b[0mself\u001b[0m\u001b[0;34m.\u001b[0m\u001b[0m_parent_ident\u001b[0m\u001b[0;34m,\u001b[0m\u001b[0;34m\u001b[0m\u001b[0;34m\u001b[0m\u001b[0m\n\u001b[1;32m    853\u001b[0m             \u001b[0mself\u001b[0m\u001b[0;34m.\u001b[0m\u001b[0m_parent_header\u001b[0m\u001b[0;34m,\u001b[0m\u001b[0;34m\u001b[0m\u001b[0;34m\u001b[0m\u001b[0m\n",
            "\u001b[0;32m/usr/local/lib/python3.10/dist-packages/ipykernel/kernelbase.py\u001b[0m in \u001b[0;36m_input_request\u001b[0;34m(self, prompt, ident, parent, password)\u001b[0m\n\u001b[1;32m    893\u001b[0m             \u001b[0;32mexcept\u001b[0m \u001b[0mKeyboardInterrupt\u001b[0m\u001b[0;34m:\u001b[0m\u001b[0;34m\u001b[0m\u001b[0;34m\u001b[0m\u001b[0m\n\u001b[1;32m    894\u001b[0m                 \u001b[0;31m# re-raise KeyboardInterrupt, to truncate traceback\u001b[0m\u001b[0;34m\u001b[0m\u001b[0;34m\u001b[0m\u001b[0m\n\u001b[0;32m--> 895\u001b[0;31m                 \u001b[0;32mraise\u001b[0m \u001b[0mKeyboardInterrupt\u001b[0m\u001b[0;34m(\u001b[0m\u001b[0;34m\"Interrupted by user\"\u001b[0m\u001b[0;34m)\u001b[0m \u001b[0;32mfrom\u001b[0m \u001b[0;32mNone\u001b[0m\u001b[0;34m\u001b[0m\u001b[0;34m\u001b[0m\u001b[0m\n\u001b[0m\u001b[1;32m    896\u001b[0m             \u001b[0;32mexcept\u001b[0m \u001b[0mException\u001b[0m \u001b[0;32mas\u001b[0m \u001b[0me\u001b[0m\u001b[0;34m:\u001b[0m\u001b[0;34m\u001b[0m\u001b[0;34m\u001b[0m\u001b[0m\n\u001b[1;32m    897\u001b[0m                 \u001b[0mself\u001b[0m\u001b[0;34m.\u001b[0m\u001b[0mlog\u001b[0m\u001b[0;34m.\u001b[0m\u001b[0mwarning\u001b[0m\u001b[0;34m(\u001b[0m\u001b[0;34m\"Invalid Message:\"\u001b[0m\u001b[0;34m,\u001b[0m \u001b[0mexc_info\u001b[0m\u001b[0;34m=\u001b[0m\u001b[0;32mTrue\u001b[0m\u001b[0;34m)\u001b[0m\u001b[0;34m\u001b[0m\u001b[0;34m\u001b[0m\u001b[0m\n",
            "\u001b[0;31mKeyboardInterrupt\u001b[0m: Interrupted by user"
          ]
        }
      ]
    },
    {
      "cell_type": "markdown",
      "source": [
        "## `Q-5:` Problem 5 based on OOP Python.\n",
        "\n",
        "TechWorld, a technology training center, wants to allocate courses for instructors. An instructor is identified by name, technology skills, experience and average feedback. An instructor is allocated a course, if he/she satisfies the below two conditions:\n",
        "- eligibility criteria:\n",
        "    - if experience is more than 3 years, average feedback should be 4.5 or more\n",
        "    - if experience is 3 years or less, average feedback should be 4 or more\n",
        "- he/she should posses the technology skill for the course\n",
        "\n",
        "Identify the class name and attributes to represent instructors. Write a Python program to implement the class chosen with its attributes and methods.\n",
        "\n",
        "**Note:**\n",
        "- Consider all instance variables to be private and methods to be public.\n",
        "- An instructor may have multiple technology skills, so consider instance variable, technology_skill to be a list.\n",
        "- *check_eligibility()*: Return true if eligibility criteria is satisfied by the instructor. Else, return false\n",
        "- *allocate_course(technology)*: Return true if the course which requires the given technology can be allocated to the instructor. Else, return false.\n",
        "\n",
        "Represent a few objects of the class, initialize instance variables using setter methods, invoke\n",
        "appropriate methods and test your program."
      ],
      "metadata": {
        "id": "GN2r0jbRewYr"
      }
    },
    {
      "cell_type": "code",
      "source": [
        "# write your code here\n",
        "\n",
        "class Instructor:\n",
        "    def __init__(self, name, experience, average_feedback, technology_skills):\n",
        "        self.__name = name\n",
        "        self.__experience = experience\n",
        "        self.__average_feedback = average_feedback\n",
        "        self.__technology_skills = technology_skills\n",
        "\n",
        "    def check_eligibility(self):\n",
        "        if self.__experience > 3:\n",
        "            return self.__average_feedback >= 4.5\n",
        "        else:\n",
        "            return self.__average_feedback >= 4\n",
        "\n",
        "    def allocate_course(self, technology):\n",
        "        return technology in self.__technology_skills\n",
        "\n",
        "    def get_name(self):\n",
        "        return self.__name\n",
        "\n",
        "    def get_experience(self):\n",
        "        return self.__experience\n",
        "\n",
        "    def get_average_feedback(self):\n",
        "        return self.__average_feedback\n",
        "\n",
        "    def get_technology_skills(self):\n",
        "        return self.__technology_skills\n",
        "\n",
        "    def set_name(self, name):\n",
        "        self.__name = name\n",
        "\n",
        "    def set_experience(self, experience):\n",
        "        self.__experience = experience\n",
        "\n",
        "    def set_average_feedback(self, average_feedback):\n",
        "        self.__average_feedback = average_feedback\n",
        "\n",
        "    def set_technology_skills(self, technology_skills):\n",
        "        self.__technology_skills = technology_skills\n"
      ],
      "metadata": {
        "id": "pdMFuVFnlvKL"
      },
      "execution_count": 58,
      "outputs": []
    },
    {
      "cell_type": "code",
      "source": [
        "# Create an instructor object\n",
        "instructor1 = Instructor(\"John Doe\", 5, 4.7, [\"Python\", \"Java\", \"C++\"])\n",
        "\n",
        "# Check eligibility\n",
        "print(instructor1.check_eligibility())  # True\n",
        "\n",
        "# Allocate a course\n",
        "print(instructor1.allocate_course(\"Python\"))  # True\n",
        "print(instructor1.allocate_course(\"JavaScript\"))  # False\n",
        "\n",
        "# Update instructor's experience\n",
        "instructor1.set_experience(2)\n",
        "\n",
        "# Check eligibility again\n",
        "print(instructor1.check_eligibility())  # False\n",
        "\n",
        "# Update instructor's average feedback\n",
        "instructor1.set_average_feedback(4.2)\n",
        "\n",
        "# Check eligibility again\n",
        "print(instructor1.check_eligibility())  # True\n"
      ],
      "metadata": {
        "colab": {
          "base_uri": "https://localhost:8080/"
        },
        "id": "A6Y3HgIIfZIO",
        "outputId": "f03232ef-1445-4ed3-8026-becf03504d9f"
      },
      "execution_count": 59,
      "outputs": [
        {
          "output_type": "stream",
          "name": "stdout",
          "text": [
            "True\n",
            "True\n",
            "False\n",
            "True\n",
            "True\n"
          ]
        }
      ]
    },
    {
      "cell_type": "code",
      "source": [
        "class Instructor:\n",
        "\n",
        "    def __init__(self, name, technology_skills, experience, average_feedback):\n",
        "        self.name = name\n",
        "        self.technology_skills = technology_skills\n",
        "        self.experience = experience\n",
        "        self.average_feedback = average_feedback\n",
        "\n",
        "    def check_eligibility(self):\n",
        "        if self.experience > 3:\n",
        "            return self.average_feedback >= 4.5\n",
        "        else:\n",
        "            return self.average_feedback >= 4\n",
        "\n",
        "    def allocate_course(self, technology):\n",
        "        if technology in self.technology_skills:\n",
        "            return True\n",
        "        else:\n",
        "            return False\n",
        "\n",
        "def main():\n",
        "    # Create a few instructor objects\n",
        "    instructor1 = Instructor(\"John Doe\", [\"Python\", \"Java\"], 5, 4.7)\n",
        "    instructor2 = Instructor(\"Jane Doe\", [\"C++\", \"JavaScript\"], 2, 4.2)\n",
        "\n",
        "    # Check if the instructors are eligible for courses\n",
        "    print(\"Is instructor1 eligible for courses?\", instructor1.check_eligibility())\n",
        "    print(\"Is instructor2 eligible for courses?\", instructor2.check_eligibility())\n",
        "\n",
        "    # Allocate courses to the instructors\n",
        "    course1 = \"Python Programming\"\n",
        "    course2 = \"JavaScript Programming\"\n",
        "\n",
        "    print(\"Can instructor1 be allocated to course1?\", instructor1.allocate_course(course1))\n",
        "    print(\"Can instructor2 be allocated to course2?\", instructor2.allocate_course(course2))\n",
        "\n",
        "if __name__ == \"__main__\":\n",
        "    main()\n"
      ],
      "metadata": {
        "colab": {
          "base_uri": "https://localhost:8080/"
        },
        "id": "wrHHBDCJfsHd",
        "outputId": "90199926-16d3-445b-e868-3ac5e846b0f1"
      },
      "execution_count": 60,
      "outputs": [
        {
          "output_type": "stream",
          "name": "stdout",
          "text": [
            "Is instructor1 eligible for courses? True\n",
            "Is instructor2 eligible for courses? True\n",
            "Can instructor1 be allocated to course1? False\n",
            "Can instructor2 be allocated to course2? False\n"
          ]
        }
      ]
    },
    {
      "cell_type": "code",
      "source": [],
      "metadata": {
        "id": "atqSyK7DftlV"
      },
      "execution_count": null,
      "outputs": []
    }
  ]
}