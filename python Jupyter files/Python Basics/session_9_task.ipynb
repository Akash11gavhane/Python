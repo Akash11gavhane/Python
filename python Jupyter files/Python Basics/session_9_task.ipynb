{
  "nbformat": 4,
  "nbformat_minor": 0,
  "metadata": {
    "colab": {
      "provenance": [],
      "collapsed_sections": [
        "BCleRtX43caS",
        "KBbGNTtQ47mJ",
        "ExIxsv4y-oEd",
        "OcQhJvXVALgp",
        "sEsGEqOHCSWG",
        "v1M5Yh9ZZO0z"
      ]
    },
    "kernelspec": {
      "name": "python3",
      "display_name": "Python 3"
    },
    "language_info": {
      "name": "python"
    }
  },
  "cells": [
    {
      "cell_type": "markdown",
      "source": [
        "### `Problem-1:` Class inheritence\n",
        "\n",
        "Create a **Bus** child class that inherits from the Vehicle class. The default fare charge of any vehicle is seating capacity * 100. If Vehicle is Bus instance, we need to add an extra 10% on full fare as a maintenance charge. So total fare for bus instance will become the final amount = total fare + 10% of the total fare.\n",
        "\n",
        "Note: The bus seating capacity is 50. so the final fare amount should be 5500. You need to override the fare() method of a Vehicle class in Bus class."
      ],
      "metadata": {
        "id": "BCleRtX43caS"
      }
    },
    {
      "cell_type": "code",
      "execution_count": null,
      "metadata": {
        "colab": {
          "base_uri": "https://localhost:8080/"
        },
        "id": "6jVFCXKz3YZI",
        "outputId": "a8649209-08e2-4f60-a914-74a914dd697e"
      },
      "outputs": [
        {
          "output_type": "stream",
          "name": "stdout",
          "text": [
            "Total Bus fare is: 5500.0\n"
          ]
        }
      ],
      "source": [
        "# Write code here"
      ]
    },
    {
      "cell_type": "code",
      "source": [
        "class vehicle  :\n",
        "\n",
        "  def __init__(self , seating_capacity):\n",
        "    \n",
        "    self.seating_capacity = seating_capacity\n",
        "\n",
        "\n",
        "  def fare(self):\n",
        "\n",
        "    return self.seating_capacity * 100\n",
        "\n",
        "\n",
        "\n",
        "class Bus(vehicle):\n",
        "\n",
        "  def fare(self):\n",
        "\n",
        "    total_fare = super().fare()\n",
        "    maintainance_charge = total_fare * 0.1\n",
        "\n",
        "    final_fare = total_fare + maintainance_charge\n",
        "\n",
        "    return final_fare\n",
        "\n",
        "\n",
        "\n"
      ],
      "metadata": {
        "id": "qa1ouR0GjNOE"
      },
      "execution_count": 1,
      "outputs": []
    },
    {
      "cell_type": "code",
      "source": [
        "bus = Bus(50)\n",
        "\n",
        "print(\"total bus fare is : \" , bus.fare())"
      ],
      "metadata": {
        "id": "lWJJa4cKmNlu",
        "outputId": "ba4b5c54-8081-49e3-87eb-815f30232c51",
        "colab": {
          "base_uri": "https://localhost:8080/"
        }
      },
      "execution_count": 4,
      "outputs": [
        {
          "output_type": "stream",
          "name": "stdout",
          "text": [
            "total bus fare is :  5500.0\n"
          ]
        }
      ]
    },
    {
      "cell_type": "markdown",
      "source": [
        "### `Problem-2:` Class Inheritence\n",
        "\n",
        "Create a Bus class that inherits from the Vehicle class. Give the capacity argument of *Bus.seating_capacity()* a default value of 50.\n",
        "\n",
        "Use the following code for your parent Vehicle class."
      ],
      "metadata": {
        "id": "KBbGNTtQ47mJ"
      }
    },
    {
      "cell_type": "code",
      "source": [
        "class vehicle  :\n",
        "\n",
        "  def __init__(self , seating_capacity):\n",
        "    \n",
        "    self.seating_capacity = seating_capacity\n",
        "\n",
        "\n",
        "  def fare(self):\n",
        "\n",
        "    return self.seating_capacity * 100\n",
        "\n",
        "\n",
        "\n",
        "class Bus(vehicle):\n",
        "\n",
        "  def __init__(self , seating_capacity = 50):\n",
        "\n",
        "    super().__init__(seating_capacity)\n",
        "\n",
        "  def fare(self):\n",
        "\n",
        "    total_fare = super().fare()\n",
        "    maintainance_charge = total_fare * 0.1\n",
        "\n",
        "    final_fare = total_fare + maintainance_charge\n",
        "\n",
        "    return final_fare"
      ],
      "metadata": {
        "id": "MwOnYE_14M-r"
      },
      "execution_count": 5,
      "outputs": []
    },
    {
      "cell_type": "code",
      "source": [
        "bus = Bus()\n",
        "\n",
        "print(\"total bus fare is : \" , bus.fare())"
      ],
      "metadata": {
        "id": "Py5Gr0ip5OBB",
        "outputId": "bed4ccf4-ff4c-4a34-d834-53ad3e34968b",
        "colab": {
          "base_uri": "https://localhost:8080/"
        }
      },
      "execution_count": 7,
      "outputs": [
        {
          "output_type": "stream",
          "name": "stdout",
          "text": [
            "total bus fare is :  5500.0\n"
          ]
        }
      ]
    },
    {
      "cell_type": "markdown",
      "source": [
        "### `Problem-3:` Write a program that has a class Point. Define another class Location which has two objects (Location & Destination) of class Point. Also define a function in Location that prints the reflection of Destination on the x axis."
      ],
      "metadata": {
        "id": "ExIxsv4y-oEd"
      }
    },
    {
      "cell_type": "code",
      "source": [
        "class Point:\n",
        "    def __init__(self, x, y):\n",
        "        self.x = x\n",
        "        self.y = y\n",
        "\n",
        "\n",
        "class Location:\n",
        "    def __init__(self, location, destination):\n",
        "        self.location = location\n",
        "        self.destination = destination\n",
        "\n",
        "    def reflect_on_x_axis(self):\n",
        "        reflected_y = -self.destination.y\n",
        "        reflected_destination = Point(self.destination.x, reflected_y)\n",
        "        print(f\"Reflected destination: ({reflected_destination.x}, {reflected_destination.y})\")\n",
        "\n",
        "\n",
        "\n",
        "location_point = Point(3, 4)\n",
        "destination_point = Point(5, 6)\n",
        "\n",
        "\n",
        "location = Location(location_point, destination_point)\n",
        "\n",
        "\n",
        "location.reflect_on_x_axis()\n"
      ],
      "metadata": {
        "id": "b8FHhcv-paZM",
        "outputId": "7488ae45-f009-451a-c311-05924ec09275",
        "colab": {
          "base_uri": "https://localhost:8080/"
        }
      },
      "execution_count": 15,
      "outputs": [
        {
          "output_type": "stream",
          "name": "stdout",
          "text": [
            "Reflected destination: (5, -6)\n"
          ]
        }
      ]
    },
    {
      "cell_type": "markdown",
      "source": [
        "### `Problem-4:` Write a program that has an abstract class Polygon. Derive two classes Rectangle and Triamgle from Polygon and write methods to get the details of their dimensions and hence calculate the area."
      ],
      "metadata": {
        "id": "OcQhJvXVALgp"
      }
    },
    {
      "cell_type": "code",
      "source": [
        "from abc import ABC , abstractmethod\n",
        "\n",
        "class polygon(ABC):\n",
        "\n",
        "  def __init__(self , *dimensions):\n",
        "\n",
        "    self.dimensions = dimensions\n",
        "\n",
        "  @abstractmethod\n",
        "  def get_details(self):\n",
        "    pass\n",
        "\n",
        "  \n",
        "  @abstractmethod\n",
        "  def calculate_area(self):\n",
        "    pass\n",
        "\n",
        "\n",
        "class Rectangle(polygon):\n",
        "\n",
        "  def __init__(self , length , width):\n",
        "\n",
        "    super().__init__(length , width)\n",
        "    self.length = length\n",
        "    self.width = width\n",
        "\n",
        "  def get_details(self):\n",
        "\n",
        "    return f\"the length of rectangle is {self.length} , and the width is {self.width}\"\n",
        "\n",
        "  def calculate_area(self):\n",
        "    return self.length * self.width\n",
        "\n",
        "class Triangle(polygon):\n",
        "\n",
        "  def __init__(self , base , height):\n",
        "\n",
        "    super().__init__(base , height)\n",
        "    self.base = base\n",
        "    self.height = height\n",
        "\n",
        "  def get_details(self):\n",
        "\n",
        "     return f\"the base of traingle is {self.base} , and the height is {self.height}\"\n",
        "\n",
        "  def calculate_area(self):\n",
        "      \n",
        "    return \"the area is \" , 0.5 * self.base * self.height\n",
        "\n",
        "\n"
      ],
      "metadata": {
        "id": "9IMrtdUH__eA"
      },
      "execution_count": 22,
      "outputs": []
    },
    {
      "cell_type": "code",
      "source": [
        "rectangle = Rectangle( 5 , 3 )\n",
        "\n",
        "rectangle.calculate_area()\n",
        "rectangle.get_details()\n",
        "rectangle.dimensions\n",
        "rectangle.length"
      ],
      "metadata": {
        "id": "9yuY2bRntt-U",
        "outputId": "3c91503d-79b3-4dde-cb77-2369f5a18614",
        "colab": {
          "base_uri": "https://localhost:8080/"
        }
      },
      "execution_count": 21,
      "outputs": [
        {
          "output_type": "execute_result",
          "data": {
            "text/plain": [
              "5"
            ]
          },
          "metadata": {},
          "execution_count": 21
        }
      ]
    },
    {
      "cell_type": "code",
      "source": [
        "triangle = Triangle(14 , 23)\n",
        "\n",
        "triangle.calculate_area()\n",
        "triangle.get_details()"
      ],
      "metadata": {
        "id": "uD8CMx6YuOX_",
        "outputId": "cba24d86-7a73-4905-be9f-dee645df2d3f",
        "colab": {
          "base_uri": "https://localhost:8080/",
          "height": 36
        }
      },
      "execution_count": 27,
      "outputs": [
        {
          "output_type": "execute_result",
          "data": {
            "text/plain": [
              "'the base of traingle is 14 , and the height is 23'"
            ],
            "application/vnd.google.colaboratory.intrinsic+json": {
              "type": "string"
            }
          },
          "metadata": {},
          "execution_count": 27
        }
      ]
    },
    {
      "cell_type": "code",
      "source": [],
      "metadata": {
        "id": "HtjNTFOMuE9n"
      },
      "execution_count": null,
      "outputs": []
    },
    {
      "cell_type": "markdown",
      "source": [
        "### `Problem-5:` Write a program with class Bill. The users have the option to pay the bill either by cheque or by cash. Use the inheritance to model this situation."
      ],
      "metadata": {
        "id": "sEsGEqOHCSWG"
      }
    },
    {
      "cell_type": "code",
      "source": [
        "class Bill:\n",
        "    def __init__(self, amount):\n",
        "        self.amount = amount\n",
        "\n",
        "    def calculate_total(self):\n",
        "        return self.amount\n",
        "\n",
        "    def display_bill_details(self):\n",
        "        pass\n",
        "\n",
        "\n",
        "class ChequeBill(Bill):\n",
        "    def __init__(self, amount, cheque_number):\n",
        "        super().__init__(amount)\n",
        "        self.cheque_number = cheque_number\n",
        "\n",
        "    def display_bill_details(self):\n",
        "        print(\"Cheque Bill Details:\")\n",
        "        print(f\"Amount: {self.amount}\")\n",
        "        print(f\"Cheque Number: {self.cheque_number}\")\n",
        "\n",
        "\n",
        "class CashBill(Bill):\n",
        "    def display_bill_details(self):\n",
        "        print(\"Cash Bill Details:\")\n",
        "        print(f\"Amount: {self.amount}\")\n",
        "\n",
        "\n",
        "\n",
        "\n"
      ],
      "metadata": {
        "id": "l0WFyP2PB3nf"
      },
      "execution_count": 28,
      "outputs": []
    },
    {
      "cell_type": "code",
      "source": [
        "# Create instances of ChequeBill and CashBill\n",
        "cheque_bill = ChequeBill(1000, \"12345\")\n",
        "cash_bill = CashBill(2000)\n",
        "\n",
        "# Display bill details\n",
        "cheque_bill.display_bill_details()\n",
        "cash_bill.display_bill_details()"
      ],
      "metadata": {
        "id": "a9sdh9-KwEID",
        "outputId": "46c4f914-e069-483f-c1d2-f0202a3cc8f8",
        "colab": {
          "base_uri": "https://localhost:8080/"
        }
      },
      "execution_count": 29,
      "outputs": [
        {
          "output_type": "stream",
          "name": "stdout",
          "text": [
            "Cheque Bill Details:\n",
            "Amount: 1000\n",
            "Cheque Number: 12345\n",
            "Cash Bill Details:\n",
            "Amount: 2000\n"
          ]
        }
      ]
    },
    {
      "cell_type": "markdown",
      "source": [
        "###`Q-6:` FlexibleDict\n",
        "As of now we are accessing values from dictionary with exact keys. Now we want to amend accessing values functionality. if a dict have key `1` (int) the even if we try to access values by giving `'1'` (1 as str) as key, we should get the same result and vice versa.\n",
        "\n",
        "Write a class `FlexibleDict` upon builtin `dict` class with above required functionality.\n",
        "\n",
        "Hint- `dict[key] => dict.__getitem__(key)` "
      ],
      "metadata": {
        "id": "v1M5Yh9ZZO0z"
      }
    },
    {
      "cell_type": "markdown",
      "source": [
        "Ex.\n",
        "```\n",
        "fd = FlexibleDict()\n",
        "fd['a'] = 100\n",
        "print(fd['a']) # Like regular dict\n",
        "\n",
        "fd[5] = 500\n",
        "print(fd[5]) # Like regular dict\n",
        "\n",
        "fd[1] = 100\n",
        "print(fd['1']) # actual Key is int but still trying to access through str key.\n",
        "fd['1'] = 100\n",
        "print(fd[1])\n",
        "\n",
        "```\n",
        "`Output:`\n",
        "```\n",
        "100\n",
        "500\n",
        "100\n",
        "100\n",
        "\n",
        "```"
      ],
      "metadata": {
        "id": "uajGeWegbfda"
      }
    },
    {
      "cell_type": "code",
      "source": [
        "class FlexibleDict(dict):\n",
        "    def __getitem__(self, key):\n",
        "        if isinstance(key, str):\n",
        "            for k in self.keys():\n",
        "                if str(k) == key:\n",
        "                    return super().__getitem__(k)\n",
        "        elif isinstance(key, int):\n",
        "            for k in self.keys():\n",
        "                if int(k) == key:\n",
        "                    return super().__getitem__(k)\n",
        "        return super().__getitem__(key)\n",
        "\n",
        "\n",
        "\n"
      ],
      "metadata": {
        "id": "OHLbOtCxZ2nw"
      },
      "execution_count": 33,
      "outputs": []
    },
    {
      "cell_type": "code",
      "source": [
        "# Example usage\n",
        "fd = FlexibleDict()\n",
        "fd['a'] = 100\n",
        "print(fd['a'])\n",
        "\n",
        "fd[5] = 500\n",
        "print(fd['5'])\n",
        "\n",
        "fd[1] = 100\n",
        "print(fd['1'])\n",
        "\n",
        "fd['1'] = 100\n",
        "print(fd['1'])"
      ],
      "metadata": {
        "id": "7NM8r__dmeMf",
        "outputId": "b4837ae6-82c1-493c-d758-59586f168faa",
        "colab": {
          "base_uri": "https://localhost:8080/"
        }
      },
      "execution_count": 35,
      "outputs": [
        {
          "output_type": "stream",
          "name": "stdout",
          "text": [
            "100\n",
            "500\n",
            "100\n",
            "100\n"
          ]
        }
      ]
    },
    {
      "cell_type": "code",
      "source": [],
      "metadata": {
        "id": "waHSud8Ymkz-"
      },
      "execution_count": null,
      "outputs": []
    }
  ]
}