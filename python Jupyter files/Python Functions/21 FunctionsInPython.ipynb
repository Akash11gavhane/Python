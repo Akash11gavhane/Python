{
 "cells": [
  {
   "attachments": {},
   "cell_type": "markdown",
   "metadata": {},
   "source": [
    "# What Are Function?\n",
    "\n",
    "        A function is a block of code which only runs when it is called.\n",
    "\n",
    "        You can pass data, known as parameters, into a function.\n",
    "\n",
    "        A function can return data as a result.\n",
    "\n",
    "         "
   ]
  },
  {
   "attachments": {},
   "cell_type": "markdown",
   "metadata": {},
   "source": [
    "Abstraction : \n",
    "\n",
    "        Abstraction means the thing is there but we cant see it \n",
    "        example is we can see only the print() function we cant see the program inside  the function\n",
    "\n",
    "\n",
    "decompostion : \n",
    "\n",
    "        Decomposition means using multiple small functions we can make the software or website."
   ]
  },
  {
   "attachments": {},
   "cell_type": "markdown",
   "metadata": {},
   "source": [
    "### Component of Function : \n",
    "\n",
    "        1. def : \n",
    "                if we see def anywhere means it is the function\n",
    "\n",
    "                it is used to intialised the function.\n",
    "\n",
    "            \n",
    "            function name example : def is_even()\n",
    "\n",
    "        2. is_even() : \n",
    "\n",
    "                is_even() is the name of function\n",
    "\n",
    "        3. def is_even(i):\n",
    "\n",
    "                so () is space where function receives a input from user \n",
    "\n",
    "                so here we call parameter or argument to the i\n",
    "\n",
    "                here \"i\" is the input for our function and we have to find that \"i\" is even or not.\n",
    "\n",
    "        4. def is_even(i):\n",
    "\n",
    "                \"\"\"\n",
    "                so here is the multiline string which is called as doc String basically it is reading manual for our function\n",
    "                \"\"\"\n",
    "\n",
    "                x = i % 2 == 0   --> this is the body of function where we write the code of our function\n",
    "\n",
    "                return x    --> return is used to give the output the from where the function is called\n",
    "\n",
    "\n",
    "        5. is_even(7) --> calling a function"
   ]
  },
  {
   "attachments": {},
   "cell_type": "markdown",
   "metadata": {},
   "source": [
    "## Creating a Function"
   ]
  },
  {
   "cell_type": "code",
   "execution_count": 13,
   "metadata": {},
   "outputs": [],
   "source": [
    "def is_Even(i):  # declaring a function\n",
    "    \"\"\" in this function we find the given number is \n",
    "    even or odd\n",
    "    or \n",
    "    this function returns if a given number is odd or even\n",
    "    \n",
    "    input -> any valid integer\n",
    "    output - odd / even \n",
    "    \n",
    "    created on : 19th january 2023 \"\"\"\n",
    "\n",
    "    \n",
    "\n",
    "    if i % 2 == 0 :\n",
    "        return 'even'\n",
    "    else :\n",
    "        return 'odd'\n"
   ]
  },
  {
   "cell_type": "code",
   "execution_count": 16,
   "metadata": {},
   "outputs": [
    {
     "name": "stdout",
     "output_type": "stream",
     "text": [
      " in this function we find the given number is \n",
      "    even or odd\n",
      "    or \n",
      "    this function returns if a given number is odd or even\n",
      "    \n",
      "    input -> any valid integer\n",
      "    output - odd / even \n",
      "    \n",
      "    created on : 19th january 2023 \n",
      "print(value, ..., sep=' ', end='\\n', file=sys.stdout, flush=False)\n",
      "\n",
      "Prints the values to a stream, or to sys.stdout by default.\n",
      "Optional keyword arguments:\n",
      "file:  a file-like object (stream); defaults to the current sys.stdout.\n",
      "sep:   string inserted between values, default a space.\n",
      "end:   string appended after the last value, default a newline.\n",
      "flush: whether to forcibly flush the stream.\n"
     ]
    }
   ],
   "source": [
    "print(is_Even.__doc__)\n",
    "# this string is used to print the document string of any function\n",
    "\n",
    "#example \n",
    "\n",
    "print(print.__doc__)"
   ]
  },
  {
   "cell_type": "code",
   "execution_count": 2,
   "metadata": {},
   "outputs": [
    {
     "data": {
      "text/plain": [
       "'odd'"
      ]
     },
     "execution_count": 2,
     "metadata": {},
     "output_type": "execute_result"
    }
   ],
   "source": [
    "is_Even(5)"
   ]
  },
  {
   "cell_type": "code",
   "execution_count": 4,
   "metadata": {},
   "outputs": [
    {
     "name": "stdout",
     "output_type": "stream",
     "text": [
      "1  is  odd\n",
      "2  is  even\n",
      "3  is  odd\n",
      "4  is  even\n",
      "5  is  odd\n",
      "6  is  even\n",
      "7  is  odd\n",
      "8  is  even\n",
      "9  is  odd\n",
      "10  is  even\n"
     ]
    }
   ],
   "source": [
    "for i in range(1 , 11):\n",
    "    x = is_Even(i)\n",
    "    print(i , \" is \" , x)"
   ]
  },
  {
   "cell_type": "code",
   "execution_count": 4,
   "metadata": {},
   "outputs": [],
   "source": [
    "def is_even(num): \n",
    "\n",
    "    if type(num) == int :\n",
    "        if num % 2 == 0 :\n",
    "            return 'even'\n",
    "        else:\n",
    "            return 'odd'\n",
    "    else : \n",
    "        return 'your input is not an integer please enter an integer value'"
   ]
  },
  {
   "cell_type": "code",
   "execution_count": 5,
   "metadata": {},
   "outputs": [
    {
     "data": {
      "text/plain": [
       "'your input is not an integer please enter an integer value'"
      ]
     },
     "execution_count": 5,
     "metadata": {},
     "output_type": "execute_result"
    }
   ],
   "source": [
    "is_even(65)\n",
    "\n",
    "is_even(\"Hii\")"
   ]
  },
  {
   "attachments": {},
   "cell_type": "markdown",
   "metadata": {},
   "source": [
    "def is_even(num):  \n",
    "\n",
    "    --> here the num in the bracket is called asparameter\n",
    "\n",
    "    if type(num) == int :\n",
    "        if num % 2 == 0 :\n",
    "            return 'even'\n",
    "        else:\n",
    "            return 'odd'\n",
    "    else : \n",
    "        return 'your input is not an integer please enter an integer value'\n",
    "\n",
    "is_even(6) --> here the 6 is called as argument\n",
    "\n",
    "\n",
    "- while creating function we called it as parameter\n",
    "\n",
    "and \n",
    "\n",
    "- while using the function we can called it as argument\n",
    "\n"
   ]
  },
  {
   "attachments": {},
   "cell_type": "markdown",
   "metadata": {},
   "source": [
    "## Types of Arguments\n",
    "\n",
    "        1 . Default Argument\n",
    "        2 . Postional Argument\n",
    "        3 . Keyword Argument\n",
    "        "
   ]
  },
  {
   "attachments": {},
   "cell_type": "markdown",
   "metadata": {},
   "source": [
    "## Default Argument \n",
    "\n",
    "        default argument means we can provide some default values to function to avoid error \n",
    "        "
   ]
  },
  {
   "cell_type": "code",
   "execution_count": 8,
   "metadata": {},
   "outputs": [],
   "source": [
    "# without default argument\n",
    "\n",
    "def power(a , b):\n",
    "    return a**b"
   ]
  },
  {
   "cell_type": "code",
   "execution_count": 10,
   "metadata": {},
   "outputs": [
    {
     "data": {
      "text/plain": [
       "4"
      ]
     },
     "execution_count": 10,
     "metadata": {},
     "output_type": "execute_result"
    }
   ],
   "source": [
    "power(2, 2)\n",
    "\n",
    "# but if user pass only one value then function gives us error to avoid these error we use default argument\n",
    "\n"
   ]
  },
  {
   "cell_type": "code",
   "execution_count": 11,
   "metadata": {},
   "outputs": [],
   "source": [
    "# using Default Argument\n",
    "\n",
    "def Power(a = 1 , b = 1):\n",
    "    return a**b"
   ]
  },
  {
   "cell_type": "code",
   "execution_count": 15,
   "metadata": {},
   "outputs": [
    {
     "name": "stdout",
     "output_type": "stream",
     "text": [
      "729\n",
      "1\n"
     ]
    }
   ],
   "source": [
    "Power(2)\n",
    "print(power(3 ,6))\n",
    "\n",
    "# by using default argument we avoid the error\n",
    "\n",
    "print(Power())  # we dont pass any value however we dont get any error because we set defualt values to the parameters"
   ]
  },
  {
   "attachments": {},
   "cell_type": "markdown",
   "metadata": {},
   "source": [
    "## 2. positional Argument\n",
    "\n",
    "         in which order you send the arguments to the parameter , parameter also receives arguments in the same order."
   ]
  },
  {
   "cell_type": "code",
   "execution_count": 16,
   "metadata": {},
   "outputs": [
    {
     "data": {
      "text/plain": [
       "8"
      ]
     },
     "execution_count": 16,
     "metadata": {},
     "output_type": "execute_result"
    }
   ],
   "source": [
    "# eg.\n",
    "\n",
    "def power(a , b):\n",
    "    return a**b\n",
    "\n",
    "\n",
    "power(2, 3)\n",
    "\n",
    "# in which order  we send the value 2 and 3 in that same order a and b receives the value "
   ]
  },
  {
   "attachments": {},
   "cell_type": "markdown",
   "metadata": {},
   "source": [
    "## 3 . Keyword Argument\n",
    "\n",
    "        using keyword argument we can send the value with the parameter name"
   ]
  },
  {
   "cell_type": "code",
   "execution_count": 17,
   "metadata": {},
   "outputs": [
    {
     "data": {
      "text/plain": [
       "8"
      ]
     },
     "execution_count": 17,
     "metadata": {},
     "output_type": "execute_result"
    }
   ],
   "source": [
    "#eg \n",
    "\n",
    "power(b = 3 , a = 2)\n",
    "\n",
    "# here we by default send the values with variables means we don't know the order of the parameters but we can send a = 2 , b = 2 means we want a get 2 and b get 3 \n",
    "\n"
   ]
  },
  {
   "attachments": {},
   "cell_type": "markdown",
   "metadata": {},
   "source": [
    "## *args and **KWargs\n",
    "\n",
    "       *args and *KWargs are special python keywords that are used to pass the varible lenght of arguments to a function"
   ]
  },
  {
   "attachments": {},
   "cell_type": "markdown",
   "metadata": {},
   "source": [
    "### *args \n",
    "\n",
    "        allows us to pass a variable number of non-keyword arguments to a function.\n",
    "\n",
    "        we use *args when we dont know how many arguments are user is going to pass\n",
    "\n",
    "        when we use *  then python consider that n number of variables are going to come\n",
    "        and then the python stores it into the tuple"
   ]
  },
  {
   "cell_type": "code",
   "execution_count": 21,
   "metadata": {},
   "outputs": [],
   "source": [
    "# *args\n",
    "\n",
    "def mult(a , b , c):\n",
    "    return a*b*c"
   ]
  },
  {
   "cell_type": "code",
   "execution_count": 22,
   "metadata": {},
   "outputs": [
    {
     "data": {
      "text/plain": [
       "36"
      ]
     },
     "execution_count": 22,
     "metadata": {},
     "output_type": "execute_result"
    }
   ],
   "source": [
    "mult(2,3,6)"
   ]
  },
  {
   "cell_type": "code",
   "execution_count": 8,
   "metadata": {},
   "outputs": [],
   "source": [
    "# function to give n number of multiplication.\n",
    "\n",
    "def multiply(*args):\n",
    "    product = 1\n",
    "    for i in args:\n",
    "        product = product * i \n",
    "    \n",
    "    #print(args)\n",
    "    return product"
   ]
  },
  {
   "cell_type": "code",
   "execution_count": 7,
   "metadata": {},
   "outputs": [
    {
     "name": "stdout",
     "output_type": "stream",
     "text": [
      "(4, 6, 8, 2, 8, 6, 4, 3, 3)\n"
     ]
    },
    {
     "data": {
      "text/plain": [
       "663552"
      ]
     },
     "execution_count": 7,
     "metadata": {},
     "output_type": "execute_result"
    }
   ],
   "source": [
    "multiply(4,6,8,2,8,6,4,3,3)"
   ]
  },
  {
   "attachments": {},
   "cell_type": "markdown",
   "metadata": {},
   "source": [
    "        *args is useful for n number of inputs we dont need to write at the time creating of function that there are that much of inputs.\n",
    "\n",
    "        it can handle n number of inputs.\n",
    "\n",
    "        in the backside *args function creates a tuple and in that tuple it stores all the values.\n",
    "\n",
    "        we dont need to write * args we can use any of the name but * is mandotory\n",
    "\n",
    "        *Akash is also allowed"
   ]
  },
  {
   "cell_type": "code",
   "execution_count": 11,
   "metadata": {},
   "outputs": [],
   "source": [
    "# example wihtout args name\n",
    "def multiply(*akash):\n",
    "    product = 1\n",
    "    for i in akash:\n",
    "        product = product * i \n",
    "    \n",
    "    print(akash)\n",
    "    return product"
   ]
  },
  {
   "cell_type": "code",
   "execution_count": 12,
   "metadata": {},
   "outputs": [
    {
     "name": "stdout",
     "output_type": "stream",
     "text": [
      "(1, 2, 3, 4, 5)\n"
     ]
    },
    {
     "data": {
      "text/plain": [
       "120"
      ]
     },
     "execution_count": 12,
     "metadata": {},
     "output_type": "execute_result"
    }
   ],
   "source": [
    "multiply(1 , 2 , 3 , 4 , 5 )"
   ]
  },
  {
   "attachments": {},
   "cell_type": "markdown",
   "metadata": {},
   "source": [
    "## **KWargs\n",
    "\n",
    "        here KW means key words\n",
    "        **kwargs allows us to pass any number of keyword arguments.\n",
    "\n",
    "        Keyword arguments mean thet they contsin a key-value pair , like a python dictionary.\n",
    "\n",
    "        when we use ** double asteric at that time python gets that the user send n number arguments in the form of  key value pair and store it in to a dictionary means **kwargs becomes a dictionary\n",
    "\n",
    "        \n",
    "\n"
   ]
  },
  {
   "cell_type": "code",
   "execution_count": null,
   "metadata": {},
   "outputs": [],
   "source": [
    "# we use **kwargs when we are passing arguments in the form of Key value pair"
   ]
  },
  {
   "cell_type": "code",
   "execution_count": 25,
   "metadata": {},
   "outputs": [],
   "source": [
    "def display(**kwargs):\n",
    "    \n",
    "    for (key,value) in kwargs.items():\n",
    "        print(key , ' -> ' , value)\n",
    "        "
   ]
  },
  {
   "cell_type": "code",
   "execution_count": 27,
   "metadata": {},
   "outputs": [
    {
     "name": "stdout",
     "output_type": "stream",
     "text": [
      "india  ->  delhi\n",
      "nepal  ->  kathmandu\n",
      "china  ->  beijing\n",
      "shrilanka  ->  colombo\n"
     ]
    }
   ],
   "source": [
    "display(india = 'delhi' , nepal = 'kathmandu' , china = 'beijing' , shrilanka = 'colombo')"
   ]
  },
  {
   "attachments": {},
   "cell_type": "markdown",
   "metadata": {},
   "source": [
    "### points to remember while using *args and **kwargs\n",
    "\n",
    "        1. Order of the arguments matter(normal -> *args -> **kwargs)\n",
    "        2. The words \"args\" and \"kwargs\" are only naming conventions , you can use any name of your choice"
   ]
  },
  {
   "attachments": {},
   "cell_type": "markdown",
   "metadata": {},
   "source": [
    "# How Functions are executed in memory?  \n",
    "\n",
    "        the lifespan of function  is from calling the function and till the exectuion of that function.\n",
    "\n",
    "        the function space , memory used by the function , and the variable are totally distroyed when the execution of function is finished\n"
   ]
  },
  {
   "attachments": {},
   "cell_type": "markdown",
   "metadata": {},
   "source": [
    "# Without Return Statement :\n",
    "\n",
    "\n",
    "        if we didnt use a return in function , there is bydefault return is there and the value of that return is none so the value will be print as none"
   ]
  },
  {
   "cell_type": "code",
   "execution_count": 28,
   "metadata": {},
   "outputs": [],
   "source": [
    "def isEven(num):\n",
    "    if num % 2 == 0 :\n",
    "        print('even')\n",
    "    else:\n",
    "        print('odd')"
   ]
  },
  {
   "cell_type": "code",
   "execution_count": 30,
   "metadata": {},
   "outputs": [
    {
     "name": "stdout",
     "output_type": "stream",
     "text": [
      "even\n",
      "None\n"
     ]
    }
   ],
   "source": [
    "print(isEven(6))\n"
   ]
  },
  {
   "cell_type": "code",
   "execution_count": 17,
   "metadata": {},
   "outputs": [
    {
     "name": "stdout",
     "output_type": "stream",
     "text": [
      "None\n",
      "[1, 2, 3, 4]\n"
     ]
    }
   ],
   "source": [
    "l = [1,2,3]\n",
    "print(l.append(4))\n",
    "print(l)"
   ]
  },
  {
   "attachments": {},
   "cell_type": "markdown",
   "metadata": {},
   "source": [
    "## Variable Scope\n",
    "\n",
    "    1. global variable\n",
    "    2. local Variable\n",
    "    "
   ]
  },
  {
   "cell_type": "code",
   "execution_count": 1,
   "metadata": {},
   "outputs": [
    {
     "name": "stdout",
     "output_type": "stream",
     "text": [
      "5\n",
      "6\n",
      "5\n"
     ]
    }
   ],
   "source": [
    "def g(y):\n",
    "    print(x)\n",
    "    print(x+1)\n",
    "\n",
    "x = 5\n",
    "g(x)\n",
    "print(x)"
   ]
  },
  {
   "cell_type": "code",
   "execution_count": 18,
   "metadata": {},
   "outputs": [
    {
     "ename": "UnboundLocalError",
     "evalue": "local variable 'x' referenced before assignment",
     "output_type": "error",
     "traceback": [
      "\u001b[1;31m---------------------------------------------------------------------------\u001b[0m",
      "\u001b[1;31mUnboundLocalError\u001b[0m                         Traceback (most recent call last)",
      "Cell \u001b[1;32mIn[18], line 7\u001b[0m\n\u001b[0;32m      4\u001b[0m     x \u001b[39m=\u001b[39m x \u001b[39m+\u001b[39m\u001b[39m1\u001b[39m \n\u001b[0;32m      6\u001b[0m x \u001b[39m=\u001b[39m \u001b[39m5\u001b[39m \n\u001b[1;32m----> 7\u001b[0m h(x)\n\u001b[0;32m      8\u001b[0m \u001b[39mprint\u001b[39m(x)\n",
      "Cell \u001b[1;32mIn[18], line 4\u001b[0m, in \u001b[0;36mh\u001b[1;34m(y)\u001b[0m\n\u001b[0;32m      1\u001b[0m \u001b[39mdef\u001b[39;00m \u001b[39mh\u001b[39m(y):\n\u001b[0;32m      2\u001b[0m     \u001b[39m# using that global function we can change the global variables from the local scope\u001b[39;00m\n\u001b[1;32m----> 4\u001b[0m     x \u001b[39m=\u001b[39m x \u001b[39m+\u001b[39m\u001b[39m1\u001b[39m\n",
      "\u001b[1;31mUnboundLocalError\u001b[0m: local variable 'x' referenced before assignment"
     ]
    }
   ],
   "source": [
    "def h(y):\n",
    "    \n",
    "    x = x +1 \n",
    "\n",
    "x = 5 \n",
    "h(x)\n",
    "print(x)"
   ]
  },
  {
   "cell_type": "code",
   "execution_count": 19,
   "metadata": {},
   "outputs": [
    {
     "name": "stdout",
     "output_type": "stream",
     "text": [
      "6\n"
     ]
    }
   ],
   "source": [
    "def h(y):\n",
    "    global x # using that global function we can change the global variables from the local scope\n",
    "    x = x +1 \n",
    "\n",
    "x = 5 \n",
    "h(x)\n",
    "print(x)"
   ]
  },
  {
   "cell_type": "code",
   "execution_count": 2,
   "metadata": {},
   "outputs": [
    {
     "name": "stdout",
     "output_type": "stream",
     "text": [
      "in f(x) : x =  4\n",
      " in main program scope : z =  4\n",
      " in main program scope : x =  3\n"
     ]
    }
   ],
   "source": [
    "def f(x):\n",
    "    x = x + 1\n",
    "    print('in f(x) : x = ' , x)\n",
    "    return x \n",
    "\n",
    "x = 3\n",
    "z = f(x)\n",
    "print(' in main program scope : z = ' , z)\n",
    "print(' in main program scope : x = ' , x) "
   ]
  },
  {
   "attachments": {},
   "cell_type": "markdown",
   "metadata": {},
   "source": [
    "## Nested Functions "
   ]
  },
  {
   "attachments": {},
   "cell_type": "markdown",
   "metadata": {},
   "source": [
    "    python allow for nested functions.\n",
    "\n",
    "    in nested function we can access only main function we cannot access the nested function.\n",
    "    because it is hidden"
   ]
  },
  {
   "cell_type": "code",
   "execution_count": 9,
   "metadata": {},
   "outputs": [],
   "source": [
    "def f():\n",
    "    def g():\n",
    "        print('inside function g')\n",
    "    g() # calling function\n",
    "    print(\"inside function f\")\n",
    "    \n",
    "\n"
   ]
  },
  {
   "cell_type": "code",
   "execution_count": 12,
   "metadata": {},
   "outputs": [
    {
     "name": "stdout",
     "output_type": "stream",
     "text": [
      "inside function g\n",
      "inside function f\n"
     ]
    }
   ],
   "source": [
    "f()"
   ]
  },
  {
   "cell_type": "code",
   "execution_count": 21,
   "metadata": {},
   "outputs": [
    {
     "name": "stdout",
     "output_type": "stream",
     "text": [
      "in g(x) : x =  4\n"
     ]
    }
   ],
   "source": [
    "def g(x):\n",
    "    def h():\n",
    "        x = 'abc'\n",
    "    x = x + 1\n",
    "    print(\"in g(x) : x = \" , x)\n",
    "    h()\n",
    "    return x\n",
    "\n",
    "x = 3 \n",
    "z = g(x)"
   ]
  },
  {
   "cell_type": "code",
   "execution_count": 18,
   "metadata": {},
   "outputs": [
    {
     "name": "stdout",
     "output_type": "stream",
     "text": [
      "in g(x) : x =  4\n",
      "in h(x) : x =  5\n",
      "in main program scope : x =  3\n",
      "in main program scope : z =  4\n"
     ]
    }
   ],
   "source": [
    "def g(x) : \n",
    "    def h(x):\n",
    "        x = x + 1\n",
    "        print(\"in h(x) : x = \" , x)\n",
    "    x = x + 1\n",
    "    print(\"in g(x) : x = \" , x)\n",
    "    h(x)\n",
    "    return x \n",
    "\n",
    "x = 3\n",
    "z = g(x)\n",
    "print(\"in main program scope : x = \" , x)\n",
    "print(\"in main program scope : z = \" , z)"
   ]
  },
  {
   "attachments": {},
   "cell_type": "markdown",
   "metadata": {},
   "source": [
    "## Functions are 1st class citizens"
   ]
  },
  {
   "attachments": {},
   "cell_type": "markdown",
   "metadata": {},
   "source": [
    "        Function in python is datatype.\n",
    "        Function can do all the things that are done by datatype , list , tuple , variables"
   ]
  },
  {
   "cell_type": "code",
   "execution_count": 29,
   "metadata": {},
   "outputs": [
    {
     "name": "stdout",
     "output_type": "stream",
     "text": [
      "36\n",
      "<class 'function'>\n",
      "2850831474912\n"
     ]
    }
   ],
   "source": [
    "# type and id of function\n",
    "\n",
    "def square(num) : \n",
    "    return num ** 2\n",
    "\n",
    "print(square(6))\n",
    "print(type(square))\n",
    "print(id(square))  # id gives the address where the a is stored in memory"
   ]
  },
  {
   "cell_type": "code",
   "execution_count": 26,
   "metadata": {},
   "outputs": [
    {
     "name": "stdout",
     "output_type": "stream",
     "text": [
      "9\n"
     ]
    },
    {
     "data": {
      "text/plain": [
       "2850810272288"
      ]
     },
     "execution_count": 26,
     "metadata": {},
     "output_type": "execute_result"
    }
   ],
   "source": [
    "# re-assign :  or renaming the function \n",
    "x = square\n",
    "print(x(3))\n",
    "id(x)\n",
    "\n",
    "\n",
    "# we can rename the function and use it \n",
    "# we can assign a new name or variable to the function"
   ]
  },
  {
   "cell_type": "code",
   "execution_count": 27,
   "metadata": {},
   "outputs": [],
   "source": [
    "# deleting a function\n",
    "\n",
    "del square\n",
    "\n",
    "# we can delete the function using del keyword"
   ]
  },
  {
   "cell_type": "code",
   "execution_count": 28,
   "metadata": {},
   "outputs": [
    {
     "ename": "NameError",
     "evalue": "name 'square' is not defined",
     "output_type": "error",
     "traceback": [
      "\u001b[1;31m---------------------------------------------------------------------------\u001b[0m",
      "\u001b[1;31mNameError\u001b[0m                                 Traceback (most recent call last)",
      "Cell \u001b[1;32mIn[28], line 1\u001b[0m\n\u001b[1;32m----> 1\u001b[0m square(\u001b[39m3\u001b[39m)\n",
      "\u001b[1;31mNameError\u001b[0m: name 'square' is not defined"
     ]
    }
   ],
   "source": [
    "square(3)"
   ]
  },
  {
   "cell_type": "code",
   "execution_count": 32,
   "metadata": {},
   "outputs": [
    {
     "data": {
      "text/plain": [
       "9"
      ]
     },
     "execution_count": 32,
     "metadata": {},
     "output_type": "execute_result"
    }
   ],
   "source": [
    "# storing\n",
    "# we can store the functions anywhere in variable , in list , tuple or also in set and dictionary\n",
    " \n",
    "L = [1,2,3,4,square]\n",
    "L\n",
    "\n",
    "L[-1](3)  # we can also call the function in the list like that"
   ]
  },
  {
   "cell_type": "code",
   "execution_count": 33,
   "metadata": {},
   "outputs": [
    {
     "data": {
      "text/plain": [
       "{<function __main__.square(num)>}"
      ]
     },
     "execution_count": 33,
     "metadata": {},
     "output_type": "execute_result"
    }
   ],
   "source": [
    "s = {square}\n",
    "s\n",
    "\n",
    "# set not allows the mutable datatypes\n",
    "\n",
    "# function is immutable\n",
    "\n"
   ]
  },
  {
   "cell_type": "code",
   "execution_count": 34,
   "metadata": {},
   "outputs": [
    {
     "name": "stdout",
     "output_type": "stream",
     "text": [
      "7\n"
     ]
    }
   ],
   "source": [
    "# returning a function \n",
    "\n",
    "\n",
    "def f():\n",
    "    def x(a , b):\n",
    "        return a+b\n",
    "    return x \n",
    "\n",
    "\n",
    "val = f()(3,4)\n",
    "print(val)\n",
    "\n",
    "\n",
    "# here function f returns function x  "
   ]
  },
  {
   "cell_type": "code",
   "execution_count": 35,
   "metadata": {},
   "outputs": [
    {
     "name": "stdout",
     "output_type": "stream",
     "text": [
      "inside func_b\n",
      "inside func_a\n",
      "None\n"
     ]
    }
   ],
   "source": [
    "def func_a():\n",
    "    print('inside func_a')\n",
    "def func_b(z):\n",
    "    print(\"inside func_b\")\n",
    "    return z()\n",
    "\n",
    "print(func_b(func_a))"
   ]
  },
  {
   "attachments": {},
   "cell_type": "markdown",
   "metadata": {},
   "source": [
    "Benefits of Using a Function\n",
    "\n",
    "    1. Code Modularity\n",
    "    2. Code Readibility\n",
    "    3. Code Reusability"
   ]
  },
  {
   "attachments": {},
   "cell_type": "markdown",
   "metadata": {},
   "source": [
    "### Lambda Function :\n",
    "\n",
    "    A lambda function is a small anonymous function.\n",
    "\n",
    "    lambda functions do  not have name\n",
    "\n",
    "    A lambda function can take any muber of arguments, but can only have one expression."
   ]
  },
  {
   "attachments": {},
   "cell_type": "markdown",
   "metadata": {},
   "source": [
    "Example :"
   ]
  },
  {
   "cell_type": "code",
   "execution_count": 22,
   "metadata": {},
   "outputs": [
    {
     "data": {
      "text/plain": [
       "4"
      ]
     },
     "execution_count": 22,
     "metadata": {},
     "output_type": "execute_result"
    }
   ],
   "source": [
    "# creating a lambda function for printing the sqyuare of input\n",
    "\n",
    "a = lambda x : x ** 2\n",
    "\n",
    "# here lambda is a keyword to create a lambda function\n",
    "# x is parameter \n",
    "# : (colon) after that the function expression is there or function body is there\n",
    "# (after : ) x ** 2 ---> is the expression or function body or operation that we performed on the arguments\n",
    "\n",
    "a(2)\n",
    "\n",
    "# here we store the lambda function in variable a\n",
    "#and (2)   ---> here 2 is the argument that we are going to pass to the function"
   ]
  },
  {
   "cell_type": "code",
   "execution_count": 37,
   "metadata": {},
   "outputs": [
    {
     "data": {
      "text/plain": [
       "8"
      ]
     },
     "execution_count": 37,
     "metadata": {},
     "output_type": "execute_result"
    }
   ],
   "source": [
    "# creating a function that gives the sum of two numbers\n",
    "\n",
    "sum = lambda a , b : a + b\n",
    "\n",
    "sum(5 , 3)"
   ]
  },
  {
   "attachments": {},
   "cell_type": "markdown",
   "metadata": {},
   "source": [
    "## Diffrence between lambda vs Normal Function\n",
    "\n",
    "        1 . lambda function dont have names whereas the normal functions have names\n",
    "\n",
    "        2. lambda has no return value vs normal function returns the value\n",
    "\n",
    "        3. lambda functions are not reusable vs normal functions are reusable\n",
    "\n",
    "### then why use lambda function?\n",
    "\n",
    "    they are used with Higher Order Function(HOF)"
   ]
  },
  {
   "cell_type": "code",
   "execution_count": 38,
   "metadata": {},
   "outputs": [
    {
     "data": {
      "text/plain": [
       "False"
      ]
     },
     "execution_count": 38,
     "metadata": {},
     "output_type": "execute_result"
    }
   ],
   "source": [
    "# check if a string has 'a'\n",
    "\n",
    "a = lambda s : 'a' in s\n",
    "\n",
    "a(\"Hello\")"
   ]
  },
  {
   "cell_type": "code",
   "execution_count": 40,
   "metadata": {},
   "outputs": [
    {
     "data": {
      "text/plain": [
       "'odd'"
      ]
     },
     "execution_count": 40,
     "metadata": {},
     "output_type": "execute_result"
    }
   ],
   "source": [
    "# number is even or odd \n",
    "\n",
    "evenorodd = lambda x : 'even' if x % 2 == 0 else 'odd'\n",
    "\n",
    "evenorodd(7)"
   ]
  },
  {
   "cell_type": "code",
   "execution_count": 41,
   "metadata": {},
   "outputs": [
    {
     "data": {
      "text/plain": [
       "'odd'"
      ]
     },
     "execution_count": 41,
     "metadata": {},
     "output_type": "execute_result"
    }
   ],
   "source": [
    "evenorodd(5)"
   ]
  },
  {
   "attachments": {},
   "cell_type": "markdown",
   "metadata": {},
   "source": [
    "Where lambda functions are used ? \n",
    "\n",
    "       "
   ]
  },
  {
   "attachments": {},
   "cell_type": "markdown",
   "metadata": {},
   "source": [
    "What are higher order function?        \n",
    "\n",
    "                higher order function is function which returns function in output\n",
    "                or\n",
    "                a function which receives another function in input that function is also higher order function\n",
    "        "
   ]
  },
  {
   "cell_type": "code",
   "execution_count": 23,
   "metadata": {},
   "outputs": [
    {
     "name": "stdout",
     "output_type": "stream",
     "text": [
      "[1, 4, 9, 16, 25, 36]\n",
      "[1, 4, 9, 16, 25, 36]\n",
      "[1, 8, 27, 64, 125, 216]\n"
     ]
    }
   ],
   "source": [
    "# example of HOF\n",
    "\n",
    "def square(x):\n",
    "    return x ** 2\n",
    "#transform function is HOF because it get another function in input\n",
    "def transform(f,L):\n",
    "    output = []\n",
    "    for i in L:\n",
    "        output.append(f(i))\n",
    "    \n",
    "    print(output)\n",
    "\n",
    "\n",
    "L = [1,2,3,4,5,6]\n",
    "\n",
    "transform(square , L)\n",
    "\n",
    "# using lambda function\n",
    "transform(lambda x : x ** 2 , L)\n",
    "\n",
    "# for cube\n",
    "\n",
    "transform(lambda x : x ** 3 , L)"
   ]
  },
  {
   "attachments": {},
   "cell_type": "markdown",
   "metadata": {},
   "source": [
    "Map Function\n",
    "\n",
    "    map function applies the logic on every item of list\n",
    "\n",
    "    map always wants a lambda function and iterable means List"
   ]
  },
  {
   "cell_type": "code",
   "execution_count": 24,
   "metadata": {},
   "outputs": [
    {
     "data": {
      "text/plain": [
       "[1, 4, 9, 16, 25]"
      ]
     },
     "execution_count": 24,
     "metadata": {},
     "output_type": "execute_result"
    }
   ],
   "source": [
    "# square the items of a list \n",
    "\n",
    "map(lambda x : x ** 2 , [1,2,3,4,5])\n",
    "# map function is invisible so because of that we need to convert it into the list\n",
    "# we type convert the map function into list\n",
    "list(map(lambda x : x ** 2 , [1,2,3,4,5]))\n"
   ]
  },
  {
   "cell_type": "code",
   "execution_count": 47,
   "metadata": {},
   "outputs": [
    {
     "data": {
      "text/plain": [
       "['odd', 'even', 'odd', 'even', 'odd']"
      ]
     },
     "execution_count": 47,
     "metadata": {},
     "output_type": "execute_result"
    }
   ],
   "source": [
    "# odd / even labeling of list items\n",
    "\n",
    "L = [1,2,3,4,5]\n",
    "\n",
    "list(map(lambda x : 'even' if x % 2 == 0 else 'odd' , L))"
   ]
  },
  {
   "cell_type": "code",
   "execution_count": 51,
   "metadata": {},
   "outputs": [
    {
     "data": {
      "text/plain": [
       "['male', 'male', 'Female']"
      ]
     },
     "execution_count": 51,
     "metadata": {},
     "output_type": "execute_result"
    }
   ],
   "source": [
    "users = [\n",
    "    {\n",
    "        'name' : 'Akash',\n",
    "        'Age' : 21,\n",
    "        'Gender' : 'male'\n",
    "    },\n",
    "    {\n",
    "        'name' : 'Balaji',\n",
    "        'Age' : 16,\n",
    "        'Gender' : 'male'\n",
    "    },\n",
    "    {\n",
    "        'name' : 'Siddhika',\n",
    "        'Age' : 21,\n",
    "        'Gender' : 'Female'\n",
    "    }\n",
    "]\n",
    "\n",
    "list(map(lambda users : users['Gender'],users))"
   ]
  },
  {
   "attachments": {},
   "cell_type": "markdown",
   "metadata": {},
   "source": [
    "Filter Function\n",
    "\n",
    " filter function filter the List and which items condition is true"
   ]
  },
  {
   "cell_type": "code",
   "execution_count": 53,
   "metadata": {},
   "outputs": [
    {
     "data": {
      "text/plain": [
       "[6, 7, 8]"
      ]
     },
     "execution_count": 53,
     "metadata": {},
     "output_type": "execute_result"
    }
   ],
   "source": [
    "# number greater than 5 \n",
    "\n",
    "L = [3,4,5,6,7,8]\n",
    "\n",
    "list(filter(lambda x : x > 5 , L))"
   ]
  },
  {
   "cell_type": "code",
   "execution_count": 55,
   "metadata": {},
   "outputs": [
    {
     "data": {
      "text/plain": [
       "['apple']"
      ]
     },
     "execution_count": 55,
     "metadata": {},
     "output_type": "execute_result"
    }
   ],
   "source": [
    "# fetch fruits starting with 'a' \n",
    "\n",
    "fruits = ['apple' , 'cherry' , 'banana' , 'watermelon' , 'mango']\n",
    "\n",
    "list(filter(lambda x : x.startswith('a'),fruits))"
   ]
  },
  {
   "attachments": {},
   "cell_type": "markdown",
   "metadata": {},
   "source": [
    "Reduce\n",
    "\n",
    "    it reduce"
   ]
  },
  {
   "cell_type": "code",
   "execution_count": 56,
   "metadata": {},
   "outputs": [
    {
     "data": {
      "text/plain": [
       "21"
      ]
     },
     "execution_count": 56,
     "metadata": {},
     "output_type": "execute_result"
    }
   ],
   "source": [
    "# sum of all item\n",
    "\n",
    "import functools\n",
    "\n",
    "functools.reduce(lambda x , y : x + y , [1,2,3,4,5,6])"
   ]
  },
  {
   "cell_type": "code",
   "execution_count": 58,
   "metadata": {},
   "outputs": [
    {
     "data": {
      "text/plain": [
       "54"
      ]
     },
     "execution_count": 58,
     "metadata": {},
     "output_type": "execute_result"
    }
   ],
   "source": [
    "# find min\n",
    "\n",
    "functools.reduce(lambda x , y : x if x < y else y , [6,32,45,1,2,54,3,6,7])"
   ]
  },
  {
   "cell_type": "code",
   "execution_count": 59,
   "metadata": {},
   "outputs": [
    {
     "data": {
      "text/plain": [
       "54"
      ]
     },
     "execution_count": 59,
     "metadata": {},
     "output_type": "execute_result"
    }
   ],
   "source": [
    "# for max\n",
    "\n",
    "functools.reduce(lambda x , y : x if x > y else y , [6,32,45,1,2,54,3,6,7])"
   ]
  },
  {
   "attachments": {},
   "cell_type": "markdown",
   "metadata": {},
   "source": []
  }
 ],
 "metadata": {
  "kernelspec": {
   "display_name": "Python 3",
   "language": "python",
   "name": "python3"
  },
  "language_info": {
   "codemirror_mode": {
    "name": "ipython",
    "version": 3
   },
   "file_extension": ".py",
   "mimetype": "text/x-python",
   "name": "python",
   "nbconvert_exporter": "python",
   "pygments_lexer": "ipython3",
   "version": "3.10.7"
  },
  "orig_nbformat": 4,
  "vscode": {
   "interpreter": {
    "hash": "26de051ba29f2982a8de78e945f0abaf191376122a1563185a90213a26c5da77"
   }
  }
 },
 "nbformat": 4,
 "nbformat_minor": 2
}
