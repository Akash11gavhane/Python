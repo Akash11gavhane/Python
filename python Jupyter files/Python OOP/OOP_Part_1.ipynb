{
 "cells": [
  {
   "attachments": {},
   "cell_type": "markdown",
   "metadata": {},
   "source": [
    "# Classes And Objects"
   ]
  },
  {
   "attachments": {},
   "cell_type": "markdown",
   "metadata": {},
   "source": [
    "### Object Oriented Programming"
   ]
  },
  {
   "attachments": {},
   "cell_type": "markdown",
   "metadata": {},
   "source": []
  },
  {
   "cell_type": "code",
   "execution_count": 1,
   "metadata": {},
   "outputs": [
    {
     "ename": "AttributeError",
     "evalue": "'list' object has no attribute 'upper'",
     "output_type": "error",
     "traceback": [
      "\u001b[1;31m---------------------------------------------------------------------------\u001b[0m",
      "\u001b[1;31mAttributeError\u001b[0m                            Traceback (most recent call last)",
      "Cell \u001b[1;32mIn[1], line 3\u001b[0m\n\u001b[0;32m      1\u001b[0m l \u001b[39m=\u001b[39m [\u001b[39m1\u001b[39m , \u001b[39m2\u001b[39m , \u001b[39m3\u001b[39m]\n\u001b[1;32m----> 3\u001b[0m l\u001b[39m.\u001b[39;49mupper()\n",
      "\u001b[1;31mAttributeError\u001b[0m: 'list' object has no attribute 'upper'"
     ]
    }
   ],
   "source": [
    "l = [1 , 2 , 3]\n",
    "\n",
    "l.upper()"
   ]
  },
  {
   "cell_type": "code",
   "execution_count": 1,
   "metadata": {},
   "outputs": [
    {
     "ename": "AttributeError",
     "evalue": "'str' object has no attribute 'append'",
     "output_type": "error",
     "traceback": [
      "\u001b[1;31m---------------------------------------------------------------------------\u001b[0m",
      "\u001b[1;31mAttributeError\u001b[0m                            Traceback (most recent call last)",
      "Cell \u001b[1;32mIn[1], line 3\u001b[0m\n\u001b[0;32m      1\u001b[0m s \u001b[39m=\u001b[39m \u001b[39m'\u001b[39m\u001b[39mHello\u001b[39m\u001b[39m'\u001b[39m\n\u001b[1;32m----> 3\u001b[0m s\u001b[39m.\u001b[39;49mappend(\u001b[39m\"\u001b[39m\u001b[39mx\u001b[39m\u001b[39m\"\u001b[39m)\n",
      "\u001b[1;31mAttributeError\u001b[0m: 'str' object has no attribute 'append'"
     ]
    }
   ],
   "source": [
    "s = 'Hello'\n",
    "\n",
    "s.append(\"x\")"
   ]
  },
  {
   "attachments": {},
   "cell_type": "markdown",
   "metadata": {},
   "source": [
    "#### Everything In python is Object"
   ]
  },
  {
   "cell_type": "code",
   "execution_count": null,
   "metadata": {},
   "outputs": [],
   "source": [
    "# Generality and specificity \n",
    "\n",
    "# we write procedural approach to solve the code \n",
    "\n",
    "# we use python datatypes\n",
    "\n",
    "# rather than use this approach \n",
    "\n",
    "# we use specificity means \n",
    "\n",
    "# according to our requirement we make our own datatypes or objects\n"
   ]
  },
  {
   "cell_type": "code",
   "execution_count": null,
   "metadata": {},
   "outputs": [],
   "source": []
  },
  {
   "attachments": {},
   "cell_type": "markdown",
   "metadata": {},
   "source": [
    "The main power of OOP is that OOP gives a programmer a power to create its own datatypes. "
   ]
  },
  {
   "attachments": {},
   "cell_type": "markdown",
   "metadata": {},
   "source": [
    "using oop developer can easily make its own data types \n"
   ]
  },
  {
   "attachments": {},
   "cell_type": "markdown",
   "metadata": {},
   "source": [
    "OOP consist of several Principles : \n",
    "\n",
    "        1. Object\n",
    "        2. Class\n",
    "        3. Polymorphism\n",
    "        4. Encapsulation\n",
    "        5. Inheritance\n",
    "        6. Abstraction\n",
    "        "
   ]
  },
  {
   "attachments": {},
   "cell_type": "markdown",
   "metadata": {},
   "source": [
    "## Classes and objet"
   ]
  },
  {
   "attachments": {},
   "cell_type": "markdown",
   "metadata": {},
   "source": [
    "l = [1,2,3]\n",
    "\n",
    "typeof(l) -> list\n",
    "here \n",
    "\n",
    "the type of that l is the class means \n",
    "\n",
    "list is class\n",
    "\n",
    "\n",
    "and l is object"
   ]
  },
  {
   "attachments": {},
   "cell_type": "markdown",
   "metadata": {},
   "source": [
    "#### Class : \n",
    "\n",
    "        1.Class Is blueprint\n",
    "\n",
    "        2. every datatype in python are classes or prebuilt clasees\n",
    "\n",
    "        3. when we assign a variable to datatype at or assign a datatype to the variable that variable is object. and the datatype is the class\n",
    "\n",
    "        E.g.\n",
    "\n",
    "        a     =      []\n",
    "        |             | \n",
    "        variable   dataType \"list\"\n",
    "        |               |\n",
    "        Object          Class     \n",
    "\n",
    "        4. class is set of rules which is followed by object.\n",
    "\n",
    "        5. Class is blueprint that defines how there objects behave.\n",
    "\n",
    "        6. objects follows the rules of class\n",
    "\n",
    "\n",
    "          \n",
    "\n"
   ]
  },
  {
   "attachments": {},
   "cell_type": "markdown",
   "metadata": {},
   "source": [
    "there are two types of classes in python :  \n",
    "\n",
    "    1. Built in\n",
    "    2. User Defined"
   ]
  },
  {
   "attachments": {},
   "cell_type": "markdown",
   "metadata": {},
   "source": [
    "we can only use data and function inside the class\n",
    "\n",
    "                    class\n",
    "                      |\n",
    "        ------------------------------\n",
    "        |                            |\n",
    "      Data                      Functions \n",
    "       or                           or\n",
    "      Property                  Behavior\n",
    "\n",
    "\n",
    "\n"
   ]
  },
  {
   "cell_type": "code",
   "execution_count": null,
   "metadata": {},
   "outputs": [],
   "source": [
    "# Class Basic Structure\n",
    "\n",
    "class car:\n",
    "    color = \"blue\" #data\n",
    "    model = \"sports\" # data\n",
    "\n",
    "    def calculate_avg_spedd(km  ,time):\n",
    "        # some code\n",
    "\n",
    "\n",
    "# this is the basic strucure of a class"
   ]
  },
  {
   "attachments": {},
   "cell_type": "markdown",
   "metadata": {},
   "source": [
    "Object is an instance of an class"
   ]
  },
  {
   "cell_type": "code",
   "execution_count": null,
   "metadata": {},
   "outputs": [],
   "source": [
    "# syntax to create an object\n",
    "\n",
    "objectName = classname()\n",
    "\n"
   ]
  },
  {
   "cell_type": "code",
   "execution_count": 4,
   "metadata": {},
   "outputs": [],
   "source": [
    "class Atm :\n",
    "\n",
    "    # Constructor \n",
    "    # constructor is a function inside the class\n",
    "    # if we want to create any variable inside the class then we create it inside the constructor.\n",
    "    # constructor is special function.\n",
    "    # we dont need to call the constructor function it executes automatically explicitely\n",
    "\n",
    "\n",
    "    \n",
    "\n",
    "    def __init__(self) :\n",
    "\n",
    "        self.pin = '' \n",
    "        self.balance = 0 \n",
    "        self.menu()\n",
    "        \n",
    "    def menu(self):\n",
    "        user_input =   input(\"\"\"Hi \n",
    "        How can i Help you ? \n",
    "        1. Press 1 to create Pin \n",
    "        2. press 2 to change pin\n",
    "        3. press 3 to check balance\n",
    "        4. press 4 to withdraw\n",
    "        5. Anything else to exit\n",
    "        \"\"\")\n",
    "        \n",
    "        if user_input == '1':\n",
    "            #crete pin\n",
    "            self.create_pin()\n",
    "        elif user_input == '2':\n",
    "            # change pin \n",
    "            self.change_pin()\n",
    "        elif user_input == '3':\n",
    "            # check balance\n",
    "            self.check_balance()\n",
    "        elif user_input == '4':\n",
    "            #withdraw\n",
    "            self.withdraw()\n",
    "        else :\n",
    "            exit()\n",
    "\n",
    "    def create_pin(self):\n",
    "        user_pin = input(\"Enter Your Pin\")\n",
    "        self.pin = user_pin\n",
    "\n",
    "        user_balance =  int(input(\"enter balance\"))\n",
    "        self.balance = user_balance\n",
    "\n",
    "        print(\"Pin Creted Successfully..!!\")\n",
    "\n",
    "        self.menu()\n",
    "\n",
    "    def change_pin(self):\n",
    "\n",
    "        old_pin = input(\"Enter Your Old pin\")\n",
    "\n",
    "        if old_pin == self.pin :\n",
    "            # let him change the pin\n",
    "            new_pin = input(\"enter new Pin\")\n",
    "            print(\"Pin change Successfully\")\n",
    "\n",
    "            self.menu()\n",
    "\n",
    "            self.pin = new_pin\n",
    "        else : \n",
    "            print(\"We cant change the pin rightnow sorry\")\n",
    "            self.menu()\n",
    "\n",
    "    def check_balance(self):\n",
    "        user_pin = input(\"Enter Your Pin\")\n",
    "\n",
    "        if user_pin == self.pin :\n",
    "            print(\"Your balance is \" , self.balance)\n",
    "        else : \n",
    "            print(\"chal nikal yaha se\")\n",
    "\n",
    "    def withdraw(self) : \n",
    "        user_pin = input(\"Enter Your Pin\")\n",
    "\n",
    "        if user_pin == self.pin :\n",
    "\n",
    "            amount = int(input(\"How Much Money you want to withdraw ? \"))\n",
    "\n",
    "            #if self.balance  withdraw_money: \n",
    "\n",
    "            if amount <= self.balance :\n",
    "                self.balance = self.balance - amount\n",
    "                print(\"Withdrawl successful\")\n",
    "                print(\"Your Remaining balance is \" , self.balance)\n",
    "            else : \n",
    "                print(\"sir your password is incorrect try Again\")\n",
    "                self.withdraw()\n",
    "\n",
    "        else : \n",
    "            print(\"your password is incorrect\")\n",
    "        \n",
    "        self.menu()\n",
    "\n",
    "\n"
   ]
  },
  {
   "cell_type": "code",
   "execution_count": 3,
   "metadata": {},
   "outputs": [
    {
     "name": "stdout",
     "output_type": "stream",
     "text": [
      "Pin Creted Successfully..!!\n",
      "Withdrawl successful\n",
      "Your Remaining balance is  500\n"
     ]
    }
   ],
   "source": [
    "obj = Atm()"
   ]
  },
  {
   "cell_type": "code",
   "execution_count": 4,
   "metadata": {},
   "outputs": [
    {
     "name": "stdout",
     "output_type": "stream",
     "text": [
      "<class '__main__.Atm'>\n"
     ]
    }
   ],
   "source": [
    "print(type(obj))"
   ]
  },
  {
   "attachments": {},
   "cell_type": "markdown",
   "metadata": {},
   "source": [
    "## Methods vs Functions\n",
    "\n",
    "\n",
    "        function inside the class is called as method\n",
    "\n",
    "        function which is located at outside of class is function"
   ]
  },
  {
   "attachments": {},
   "cell_type": "markdown",
   "metadata": {},
   "source": [
    "# Class Diagram : \n",
    "\n",
    "            notes in notebook"
   ]
  },
  {
   "attachments": {},
   "cell_type": "markdown",
   "metadata": {},
   "source": [
    "## Magic Method  \n",
    "\n",
    "        A.K.A Dunder Method \n",
    "\n",
    "        Magic methods are special methods\n",
    "        Every magic method has its own super power\n",
    "\n",
    "        __nameOfMethod__ \n",
    "\n",
    "        Constructor is a magic method \n",
    "            the power is we dont need to call it again and again\n",
    "\n",
    "        Using these magic method we can create our own datatypes.\n",
    "\n",
    "        \n",
    "\n"
   ]
  },
  {
   "attachments": {},
   "cell_type": "markdown",
   "metadata": {},
   "source": [
    "What is constructor ? \n",
    "\n",
    "    consructor is a method because its a function inside a class because its method \n",
    "    constructor is super method with a superpower \n",
    "    the super power is we dont need to call it it automatically trigger when the object is created.\n",
    "\n",
    "    Benefits of using Constructor ? \n",
    "\n",
    "          constructor is used to write configuration related code \n",
    "\n",
    "          backend and database related code comes in the constructor section\n",
    "\n",
    "            E.g \n",
    "            1. We dont rely on user to press the Button\n",
    "\n",
    "            2. if god is programmer earth is the class then whats inside the constructor code assuming we humnas are the objects.\n",
    "\n",
    "                The thing comes inside the constructor that are god dont want to give in humans hand.\n",
    "\n",
    "                Eg : Birth and Death.\n",
    "\n",
    "      we cant change the name of the constructor in python\n",
    "\n",
    "      there is only one constructor in code.\n",
    "\n",
    "  \n"
   ]
  },
  {
   "attachments": {},
   "cell_type": "markdown",
   "metadata": {},
   "source": [
    "#### Self : \n",
    "\n",
    "                self is object and used to make contact between two functions or methods.\n",
    "\n",
    "                we cannot call one function from inside the second function then using self function that is possible.\n",
    "\n",
    "                self is nothing but object.\n",
    "\n",
    "                self is just convention we can add our name also and anything other \n",
    "\n",
    "                Why we self or why self is there ? \n",
    "\n",
    "                1.we know that the self is nothing but the object.\n",
    "                2.and only our object can access the methods of our class.\n",
    "                3.even the method inside the class cannot call the other method inside the class \n",
    "                4.to solve that problem we use self \n",
    "                5.self is object but just with the diffrent name.\n",
    "                        \n",
    "\n",
    "                \n",
    "\n",
    "\n",
    "#### Golden Rule of Object Oriented \n",
    "\n",
    "\n",
    "        class and object \n",
    "\n",
    "        in class we make rules and follow by the object.\n",
    "\n",
    "        your class members and data is accessed by only by the class's object."
   ]
  },
  {
   "cell_type": "code",
   "execution_count": 22,
   "metadata": {},
   "outputs": [],
   "source": [
    "class Fraction:\n",
    "\n",
    "    # Parameterized constructor : Parameterized constructor means it needs input at the time of creation\n",
    "    def __init__(self , x , y): \n",
    "        self.num = x\n",
    "        self.den = y\n",
    "    \n",
    "    # 2nd magic method\n",
    "    def __str__(self):\n",
    "\n",
    "        # super power - whenever we insert object into print function to print \n",
    "        # python automatically decide how to print the object and by default it goes inside the __str__\n",
    "\n",
    "        # print ke andar koi bhi code dalte hain to woh by default __str__ ko execute karta hain\n",
    "        return \"{} / {} \".format(self.num , self.den)\n",
    "\n",
    "    # 3rd magic method \n",
    "    def __add__(self , other):\n",
    "        new_num = self.num * other.den + other.num*self.den\n",
    "\n",
    "        new_den = self.den * other.den\n",
    "\n",
    "        return \"{} / {}\".format(new_num , new_den)\n",
    "\n",
    "    # 4th magic method \n",
    "    def __sub__(self , other):\n",
    "        new_num = self.num * other.den - other.num*self.den\n",
    "\n",
    "        new_den = self.den * other.den\n",
    "\n",
    "        return \"{} / {}\".format(new_num , new_den)\n",
    "\n",
    "    # 5th magic method\n",
    "    def __mul__(self , other):\n",
    "        new_num = self.num * other.num\n",
    "\n",
    "        new_den = self.den * other.den\n",
    "\n",
    "        return \"{} / {}\".format(new_num , new_den)\n",
    "\n",
    "    # 6th magic method\n",
    "\n",
    "    def __truediv__(self , other):\n",
    "        new_num = self.num * other.den\n",
    "\n",
    "        new_den = self.den * other.num\n",
    "\n",
    "        return \"{} / {}\".format(new_num , new_den)"
   ]
  },
  {
   "cell_type": "code",
   "execution_count": 23,
   "metadata": {},
   "outputs": [],
   "source": [
    "Fr1 = Fraction(3 , 4)\n",
    "Fr2 = Fraction(1 , 4)"
   ]
  },
  {
   "cell_type": "code",
   "execution_count": 16,
   "metadata": {},
   "outputs": [
    {
     "name": "stdout",
     "output_type": "stream",
     "text": [
      "3 / 4 \n"
     ]
    }
   ],
   "source": [
    "print(Fr1)"
   ]
  },
  {
   "cell_type": "code",
   "execution_count": 18,
   "metadata": {},
   "outputs": [
    {
     "name": "stdout",
     "output_type": "stream",
     "text": [
      "1 / 4 \n"
     ]
    }
   ],
   "source": [
    "print(Fr2)"
   ]
  },
  {
   "cell_type": "code",
   "execution_count": 24,
   "metadata": {},
   "outputs": [
    {
     "name": "stdout",
     "output_type": "stream",
     "text": [
      "16 / 16\n",
      "8 / 16\n",
      "3 / 16\n",
      "12 / 4\n"
     ]
    }
   ],
   "source": [
    "print(Fr1 + Fr2)\n",
    "print(Fr1 - Fr2)\n",
    "print(Fr1 * Fr2)\n",
    "print(Fr1 / Fr2)"
   ]
  }
 ],
 "metadata": {
  "kernelspec": {
   "display_name": "Python 3",
   "language": "python",
   "name": "python3"
  },
  "language_info": {
   "codemirror_mode": {
    "name": "ipython",
    "version": 3
   },
   "file_extension": ".py",
   "mimetype": "text/x-python",
   "name": "python",
   "nbconvert_exporter": "python",
   "pygments_lexer": "ipython3",
   "version": "3.10.7"
  },
  "orig_nbformat": 4,
  "vscode": {
   "interpreter": {
    "hash": "26de051ba29f2982a8de78e945f0abaf191376122a1563185a90213a26c5da77"
   }
  }
 },
 "nbformat": 4,
 "nbformat_minor": 2
}
