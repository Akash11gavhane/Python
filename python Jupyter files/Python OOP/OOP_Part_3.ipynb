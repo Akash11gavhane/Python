{
 "cells": [
  {
   "attachments": {},
   "cell_type": "markdown",
   "metadata": {},
   "source": [
    "# Class RelationShips\n",
    "\n",
    "- Aggregation\n",
    "- Inheritance"
   ]
  },
  {
   "attachments": {},
   "cell_type": "markdown",
   "metadata": {},
   "source": [
    "today we will learn about how the multiple classes of programe communicate with each other.\n",
    "\n",
    "    There are two types of relationships\n",
    "     \n",
    "        1. Aggregation\n",
    "        2. Inheritance\n",
    "\n",
    "    "
   ]
  },
  {
   "attachments": {},
   "cell_type": "markdown",
   "metadata": {},
   "source": [
    "inheritance is more popular than aggregation\n",
    "\n",
    "\n",
    "### Agregation\n",
    "\n",
    "    aggregation means has a relation\n",
    "\n",
    "    one class owns the other class\n",
    "\n",
    "    we make two classes \n",
    "\n",
    "    customer and address\n",
    "\n",
    "    customer has a address\n",
    "    \n",
    "\n",
    "    so the customer class has the owner of the second class means the address class\n",
    "\n",
    "    "
   ]
  },
  {
   "cell_type": "code",
   "execution_count": 12,
   "metadata": {},
   "outputs": [],
   "source": [
    "# example\n",
    "\n",
    "class Customer : \n",
    "\n",
    "    def __init__(self , name , gender , address):\n",
    "\n",
    "        self.name = name\n",
    "        self.gender = gender\n",
    "        self.address = address\n",
    "\n",
    "    def print_address(self):\n",
    "        print(self.address.get_city() , self.address.pin , self.address.state)\n",
    "\n",
    "    def edit_profile(self , new_name , new_city , new_pin , new_state):\n",
    "\n",
    "        self.name = new_name\n",
    "        self.address.edit_address(new_city , new_pin , new_state)\n",
    "        \n",
    "\n",
    "\n",
    "        \n",
    "\n",
    "\n",
    "class Address:\n",
    "\n",
    "    def __init__(self , city , pin , state):\n",
    "\n",
    "        self.__city = city\n",
    "        self.pin = pin\n",
    "        self.state = state\n",
    "\n",
    "    # gettor method\n",
    "\n",
    "    def get_city(self):\n",
    "        return self.__city\n",
    "    \n",
    "\n",
    "    def edit_address(self , new_city , new_pin , new_state):\n",
    "\n",
    "        self.__city = new_city\n",
    "        self.pin = new_pin\n",
    "        self.state = new_state\n",
    "\n",
    "\n",
    "\n",
    "\n",
    "add1 = Address(\"Pune\" , 411030 , \"Maharashtra\")\n",
    "\n",
    "cust = Customer(\"Akash\" , \"Male\" , add1)"
   ]
  },
  {
   "cell_type": "code",
   "execution_count": 14,
   "metadata": {},
   "outputs": [
    {
     "name": "stdout",
     "output_type": "stream",
     "text": [
      "mumbai 412206 maharashtra\n",
      "mumbai 412206 maharashtra\n"
     ]
    }
   ],
   "source": [
    "cust.print_address()\n",
    "\n",
    "cust.edit_profile(\"Balaji\" , \"mumbai\" , 412206 , \"maharashtra\")\n",
    "\n",
    "cust.print_address()"
   ]
  },
  {
   "attachments": {},
   "cell_type": "markdown",
   "metadata": {},
   "source": [
    "-       While performing aggregation we cannot access the private element of the other class.\n",
    "\n",
    "-       for printing or accessing that we need to use gettor and settor method.\n",
    "\n",
    "-       while agrregation then we dont have guarantee that we can access our own class\n",
    "\n"
   ]
  },
  {
   "attachments": {},
   "cell_type": "markdown",
   "metadata": {},
   "source": [
    "### Aggregation class diagram : "
   ]
  },
  {
   "attachments": {},
   "cell_type": "markdown",
   "metadata": {},
   "source": [
    "## Inheritance : \n",
    "\n",
    "- What is inheritance ? \n",
    "\n",
    "        inheritance means we use or access the other or our parent class properties and methods\n",
    "\n",
    "        1. Inheritance allows us to define a class that inherits all the methods and properties from another class.\n",
    "\n",
    "        2. Parent class is the class being inherited from, also called base class.\n",
    "\n",
    "        3. Child class is the class that inherits from another class, also called derived class.\n",
    "- Example \n",
    "- What gets inherited ? "
   ]
  },
  {
   "attachments": {},
   "cell_type": "markdown",
   "metadata": {},
   "source": [
    "- inheritance allows us to create a new class from an existing class.\n",
    "\n",
    "- The new class that is created is known as subclass (child or derived class) and the existing class from which the child class is derived is known as superclass (parent or base class).\n",
    "\n"
   ]
  },
  {
   "cell_type": "code",
   "execution_count": 24,
   "metadata": {},
   "outputs": [],
   "source": [
    "class User : \n",
    "\n",
    "    def __init__(self):\n",
    "\n",
    "        self.name = \"Akash\"\n",
    "\n",
    "    def login(self):\n",
    "\n",
    "        return \"login\"\n",
    "\n",
    "\n",
    "\n",
    "class Student(User):\n",
    "\n",
    "    def __init__(self):\n",
    "        self.rollNo = 100\n",
    "\n",
    "    def enroll(self):\n",
    "\n",
    "        print(\"Enrol into the course\")"
   ]
  },
  {
   "cell_type": "code",
   "execution_count": 25,
   "metadata": {},
   "outputs": [
    {
     "name": "stdout",
     "output_type": "stream",
     "text": [
      "login\n",
      "100\n"
     ]
    }
   ],
   "source": [
    "u = User()\n",
    "s = Student()\n",
    "\n",
    "print(s.login())\n",
    "print(s.rollNo)\n"
   ]
  },
  {
   "attachments": {},
   "cell_type": "markdown",
   "metadata": {},
   "source": [
    "        here we use \n",
    "\n",
    "        class Student(User): \n",
    "\n",
    "        after the name of the class we use (User) thats how we declare the student class is inherit the properties of the User class\n",
    "\n",
    "        and Student class is the child class of the User class\n",
    "\n"
   ]
  },
  {
   "attachments": {},
   "cell_type": "markdown",
   "metadata": {},
   "source": [
    "##### What gets inherited from parent class?\n",
    "\n",
    "- Constructor\n",
    "- Non Private Attributes\n",
    "- Non Private Methods"
   ]
  },
  {
   "cell_type": "code",
   "execution_count": null,
   "metadata": {},
   "outputs": [],
   "source": []
  }
 ],
 "metadata": {
  "kernelspec": {
   "display_name": "Python 3",
   "language": "python",
   "name": "python3"
  },
  "language_info": {
   "codemirror_mode": {
    "name": "ipython",
    "version": 3
   },
   "file_extension": ".py",
   "mimetype": "text/x-python",
   "name": "python",
   "nbconvert_exporter": "python",
   "pygments_lexer": "ipython3",
   "version": "3.10.7"
  },
  "orig_nbformat": 4
 },
 "nbformat": 4,
 "nbformat_minor": 2
}
