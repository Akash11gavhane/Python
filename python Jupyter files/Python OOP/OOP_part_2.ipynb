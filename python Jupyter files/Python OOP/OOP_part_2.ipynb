{
 "cells": [
  {
   "attachments": {},
   "cell_type": "markdown",
   "metadata": {},
   "source": [
    "#### Write OOP classes to handle the following scenarios\n",
    "\n",
    "\n",
    "        1.  A user can create and view @D coordinates\n",
    "        2.  A user can find out the distance between 2 coordinates\n",
    "\n",
    "        3. A user can find the distance between 2 coordinate from origin\n",
    "        4. A user can check if a point lies on a given line\n",
    "        5. A user can find the distance between a given 2d point and a given line"
   ]
  },
  {
   "cell_type": "code",
   "execution_count": 37,
   "metadata": {},
   "outputs": [],
   "source": [
    "# 1.  A user can create and view @D coordinates\n",
    "\n",
    "\n",
    "class Point : \n",
    "\n",
    "    # 1.  A user can create and view @D coordinates\n",
    "\n",
    "    def __init__(self , x , y) :\n",
    "\n",
    "        self.x_cod = x \n",
    "        self.y_cod = y\n",
    "\n",
    "    def __str__(self) : \n",
    "        return ' <{} , {}>'.format(self.x_cod , self.y_cod)\n",
    "\n",
    "#  2.  A user can find out the distance between 2 coordinates\n",
    "\n",
    "\n",
    "    def euclidean_distance(self , other):\n",
    "        # here self is x1 and y1 \n",
    "        # and other is for x2 and y2\n",
    "\n",
    "        return ((self.x_cod - other.x_cod)**2 + (self.y_cod - other.y_cod)**2 )**0.5\n",
    "\n",
    "\n",
    "# 3. A user can find the distance between 2 coordinate from origin\n",
    "\n",
    "    def distance_from_origin(self) : \n",
    "\n",
    "        # return self.euclidean_distance(Point(0 , 0))\n",
    "\n",
    "        return (self.x_cod ** 2 + self.y_cod ** 2) ** 0.5\n",
    "\n",
    "# 4. A user can check if a point lies on a given line\n",
    "\n",
    "class Line : \n",
    "\n",
    "    def __init__(self , A , B , C) :\n",
    "\n",
    "        self.A = A\n",
    "        self.B = B\n",
    "        self.C = C\n",
    "\n",
    "    def __str__(self) :\n",
    "\n",
    "        return \"{}x + {}y + {} = 0\".format(self.A , self.B , self.C)\n",
    "\n",
    "    def point_on_line(line , point):\n",
    "\n",
    "        if line.A*point.x_cod + line.B*point.y_cod + line.C == 0 : \n",
    "            \n",
    "            return \"Lies On the Line\"\n",
    "        else : \n",
    "            return \"Does Not Lies on the Line\"\n",
    "\n",
    "#  5. A user can find the distance between a given 2d point and a given line\n",
    "\n",
    "        \n",
    "        "
   ]
  },
  {
   "cell_type": "code",
   "execution_count": 43,
   "metadata": {},
   "outputs": [
    {
     "name": "stdout",
     "output_type": "stream",
     "text": [
      " <2 , 6>\n",
      "1x + 6y + 5 = 0\n",
      " <1 , 6>\n"
     ]
    },
    {
     "data": {
      "text/plain": [
       "'Does Not Lies on the Line'"
      ]
     },
     "execution_count": 43,
     "metadata": {},
     "output_type": "execute_result"
    }
   ],
   "source": [
    "p1 = Point(2 , 6)\n",
    "p2 = Point(2 , 1)\n",
    "# < x , y >\n",
    "print(p1)\n",
    "\n",
    "#p1.euclidean_distance(p2)\n",
    "\n",
    "p1.distance_from_origin()\n",
    "\n",
    "l1 = Line(1 , 6 , 5)\n",
    "p3 = Point(1 , 6)\n",
    "print(l1)\n",
    "print(p3)\n",
    "\n",
    "l1.point_on_line(p1)"
   ]
  },
  {
   "cell_type": "code",
   "execution_count": null,
   "metadata": {},
   "outputs": [],
   "source": []
  }
 ],
 "metadata": {
  "kernelspec": {
   "display_name": "Python 3",
   "language": "python",
   "name": "python3"
  },
  "language_info": {
   "codemirror_mode": {
    "name": "ipython",
    "version": 3
   },
   "file_extension": ".py",
   "mimetype": "text/x-python",
   "name": "python",
   "nbconvert_exporter": "python",
   "pygments_lexer": "ipython3",
   "version": "3.10.7 (tags/v3.10.7:6cc6b13, Sep  5 2022, 14:08:36) [MSC v.1933 64 bit (AMD64)]"
  },
  "orig_nbformat": 4,
  "vscode": {
   "interpreter": {
    "hash": "26de051ba29f2982a8de78e945f0abaf191376122a1563185a90213a26c5da77"
   }
  }
 },
 "nbformat": 4,
 "nbformat_minor": 2
}
