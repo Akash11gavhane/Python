{
 "cells": [
  {
   "attachments": {},
   "cell_type": "markdown",
   "metadata": {},
   "source": [
    "#### Write OOP classes to handle the following scenarios\n",
    "\n",
    "\n",
    "        1.  A user can create and view 2D coordinates\n",
    "        2.  A user can find out the distance between 2 coordinates\n",
    "\n",
    "        3. A user can find the distance between 2 coordinate from origin\n",
    "        4. A user can check if a point lies on a given line\n",
    "        5. A user can find the distance between a given 2d point and a given line"
   ]
  },
  {
   "cell_type": "code",
   "execution_count": 1,
   "metadata": {},
   "outputs": [],
   "source": [
    "# 1.  A user can create and view 2D coordinates\n",
    "\n",
    "\n",
    "class Point : \n",
    "\n",
    "    # 1.  A user can create and view 2D coordinates\n",
    "\n",
    "    def __init__(self , x , y) :\n",
    "\n",
    "        self.x_cod = x \n",
    "        self.y_cod = y\n",
    "\n",
    "    def __str__(self) : \n",
    "        return ' <{} , {}>'.format(self.x_cod , self.y_cod)\n",
    "\n",
    "#  2.  A user can find out the distance between 2 coordinates\n",
    "\n",
    "\n",
    "    def euclidean_distance(self , other):\n",
    "        # here self is x1 and y1 \n",
    "        # and other is for x2 and y2\n",
    "\n",
    "        return ((self.x_cod - other.x_cod)**2 + (self.y_cod - other.y_cod)**2 )**0.5\n",
    "\n",
    "\n",
    "# 3. A user can find the distance between 2 coordinate from origin\n",
    "\n",
    "    def distance_from_origin(self) : \n",
    "\n",
    "        # return self.euclidean_distance(Point(0 , 0))\n",
    "\n",
    "        return (self.x_cod ** 2 + self.y_cod ** 2) ** 0.5\n",
    "\n",
    "# 4. A user can check if a point lies on a given line\n",
    "\n",
    "class Line : \n",
    "\n",
    "    def __init__(self , A , B , C) :\n",
    "\n",
    "        self.A = A\n",
    "        self.B = B\n",
    "        self.C = C\n",
    "\n",
    "    def __str__(self) :\n",
    "\n",
    "        return \"{}x + {}y + {} = 0\".format(self.A , self.B , self.C)\n",
    "\n",
    "    def point_on_line(line , point):\n",
    "\n",
    "        if line.A*point.x_cod + line.B*point.y_cod + line.C == 0 : \n",
    "            \n",
    "            return \"Lies On the Line\"\n",
    "        else : \n",
    "            return \"Does Not Lies on the Line\"\n",
    "\n",
    "#  5. A user can find the distance between a given 2d point and a given line\n",
    "\n",
    "        \n",
    "        "
   ]
  },
  {
   "cell_type": "code",
   "execution_count": 18,
   "metadata": {},
   "outputs": [],
   "source": [
    "# 1.  A user can create and view @D coordinates\n",
    "\n",
    "class Point : \n",
    "\n",
    "    # 1.  A user can create and view 2D coordinates\n",
    "    def __init__(self , x , y) :\n",
    "\n",
    "        self.x_cod = x\n",
    "        self.y_cod = y \n",
    "\n",
    "    def __str__(self) :\n",
    "        return '<{} , {}>'.format(self.x_cod , self.y_cod)\n",
    "\n",
    "    #  2.  A user can find out the distance between 2 coordinates\n",
    "\n",
    "    def euclidean_distance(self , other):\n",
    "\n",
    "        # here we call self (x1 , y1) and other for (x2 , y2)\n",
    "\n",
    "        return ((self.x_cod - other.x_cod) ** 2 + (self.y_cod - other.y_cod) ** 2 ) ** 0.5\n",
    "\n",
    "    # 3. A user can find the distance between 2 coordinate from origin\n",
    "\n",
    "    def distance_from_origin(self) :\n",
    "\n",
    "        return (self.x_cod**2 + self.y_cod**2)**0.5\n",
    "        # return self.euclidean_distance(Point(0,0))\n",
    "\n",
    "# 4. A user can check if a point lies on a given line\n",
    "\n",
    "class Line : \n",
    "\n",
    "    def __init__(self , A , B , C) :\n",
    "\n",
    "        self.A = A\n",
    "        self.B = B\n",
    "        self.C = C\n",
    "\n",
    "    def __str__(self) :\n",
    "\n",
    "        return \"{}x + {}y + {} = 0\".format(self.A , self.B , self.C)\n",
    "\n",
    "    def point_on_line(line , point):\n",
    "\n",
    "        if line.A*point.x_cod + line.B*point.y_cod + line.C == 0 : \n",
    "            \n",
    "            return \"Lies On the Line\"\n",
    "        else : \n",
    "            return \"Does Not Lies on the Line\"\n",
    "    "
   ]
  },
  {
   "cell_type": "code",
   "execution_count": 17,
   "metadata": {},
   "outputs": [
    {
     "name": "stdout",
     "output_type": "stream",
     "text": [
      "<0 , 0>\n",
      "<-2 , -1>\n",
      "2.23606797749979\n",
      "0.0\n"
     ]
    }
   ],
   "source": [
    "p1 = Point(0 , 0)\n",
    "p2 = Point(-2 , -1)\n",
    "\n",
    "print(p1)\n",
    "print(p2)\n",
    "\n",
    "print(p1.euclidean_distance(p2))\n",
    "# here we send p1 as self object and p2 for other object in the euclidean distance function\n",
    "\n",
    "\n",
    "print(p1.distance_from_origin())"
   ]
  },
  {
   "cell_type": "code",
   "execution_count": 21,
   "metadata": {},
   "outputs": [
    {
     "name": "stdout",
     "output_type": "stream",
     "text": [
      "3x + 4y + 5 = 0\n"
     ]
    }
   ],
   "source": [
    "l1 = Line(3 , 4 , 5)\n",
    "print(l1)"
   ]
  },
  {
   "cell_type": "code",
   "execution_count": 43,
   "metadata": {},
   "outputs": [
    {
     "name": "stdout",
     "output_type": "stream",
     "text": [
      " <2 , 6>\n",
      "1x + 6y + 5 = 0\n",
      " <1 , 6>\n"
     ]
    },
    {
     "data": {
      "text/plain": [
       "'Does Not Lies on the Line'"
      ]
     },
     "execution_count": 43,
     "metadata": {},
     "output_type": "execute_result"
    }
   ],
   "source": [
    "p1 = Point(2 , 6)\n",
    "p2 = Point(2 , 1)\n",
    "# < x , y >\n",
    "print(p1)\n",
    "\n",
    "#p1.euclidean_distance(p2)\n",
    "\n",
    "p1.distance_from_origin()\n",
    "\n",
    "l1 = Line(1 , 6 , 5)\n",
    "p3 = Point(1 , 6)\n",
    "print(l1)\n",
    "print(p3)\n",
    "\n",
    "l1.point_on_line(p1)"
   ]
  },
  {
   "cell_type": "code",
   "execution_count": null,
   "metadata": {},
   "outputs": [],
   "source": []
  },
  {
   "attachments": {},
   "cell_type": "markdown",
   "metadata": {},
   "source": [
    "### How Objects access attributes"
   ]
  },
  {
   "cell_type": "code",
   "execution_count": 4,
   "metadata": {},
   "outputs": [],
   "source": [
    "class Person:\n",
    "\n",
    "  def __init__(self,name_input,country_input):\n",
    "    self.name = name_input\n",
    "    self.country = country_input\n",
    "\n",
    "  def greet(self):\n",
    "    if self.country == 'india':\n",
    "      print('Namaste',self.name)\n",
    "    else:\n",
    "      print('Hello',self.name)"
   ]
  },
  {
   "cell_type": "code",
   "execution_count": 3,
   "metadata": {},
   "outputs": [],
   "source": [
    "# how to access attributes\n",
    "\n",
    "p = Person(\"Akash\" , \"india\")"
   ]
  },
  {
   "cell_type": "code",
   "execution_count": 5,
   "metadata": {},
   "outputs": [
    {
     "data": {
      "text/plain": [
       "'india'"
      ]
     },
     "execution_count": 5,
     "metadata": {},
     "output_type": "execute_result"
    }
   ],
   "source": [
    "p.country # we can access any attribute of the class using objects we can access variables also using object"
   ]
  },
  {
   "cell_type": "code",
   "execution_count": 6,
   "metadata": {},
   "outputs": [
    {
     "data": {
      "text/plain": [
       "'Akash'"
      ]
     },
     "execution_count": 6,
     "metadata": {},
     "output_type": "execute_result"
    }
   ],
   "source": [
    "p.name # here also access attribute"
   ]
  },
  {
   "cell_type": "code",
   "execution_count": 7,
   "metadata": {},
   "outputs": [
    {
     "name": "stdout",
     "output_type": "stream",
     "text": [
      "Namaste Akash\n"
     ]
    }
   ],
   "source": [
    "p.greet() # here we access the method"
   ]
  },
  {
   "cell_type": "code",
   "execution_count": 9,
   "metadata": {},
   "outputs": [
    {
     "ename": "AttributeError",
     "evalue": "'Person' object has no attribute 'gender'",
     "output_type": "error",
     "traceback": [
      "\u001b[1;31m---------------------------------------------------------------------------\u001b[0m",
      "\u001b[1;31mAttributeError\u001b[0m                            Traceback (most recent call last)",
      "Cell \u001b[1;32mIn[9], line 2\u001b[0m\n\u001b[0;32m      1\u001b[0m \u001b[39m# what if i try to access non - existent attributes\u001b[39;00m\n\u001b[1;32m----> 2\u001b[0m p\u001b[39m.\u001b[39;49mgender \u001b[39m# it shows error\u001b[39;00m\n\u001b[0;32m      4\u001b[0m \u001b[39m# 'Person' object has no attribute 'gender'\u001b[39;00m\n",
      "\u001b[1;31mAttributeError\u001b[0m: 'Person' object has no attribute 'gender'"
     ]
    }
   ],
   "source": [
    "# what if i try to access non - existent attributes\n",
    "p.gender # it shows error\n",
    "\n",
    "# 'Person' object has no attribute 'gender'"
   ]
  },
  {
   "cell_type": "code",
   "execution_count": 10,
   "metadata": {},
   "outputs": [],
   "source": [
    "p.gender = 'male'\n",
    "\n",
    "# here there is no error we create a new attribute in the class from the outside of the class using the object"
   ]
  },
  {
   "cell_type": "code",
   "execution_count": 11,
   "metadata": {},
   "outputs": [
    {
     "data": {
      "text/plain": [
       "'male'"
      ]
     },
     "execution_count": 11,
     "metadata": {},
     "output_type": "execute_result"
    }
   ],
   "source": [
    "p.gender \n",
    "# now here is no any error because we make the attribute gender\n",
    "# using object we can make attributes "
   ]
  },
  {
   "attachments": {},
   "cell_type": "markdown",
   "metadata": {},
   "source": [
    "### Reference Variables\n",
    "\n",
    "- Reference variables hold the objects\n",
    "- We can create objects without reference variable as well\n",
    "- An object can have multiple reference variables\n",
    "- Assigning a new reference variable to an existing object does not create a new object"
   ]
  },
  {
   "cell_type": "code",
   "execution_count": 13,
   "metadata": {},
   "outputs": [],
   "source": [
    "# object without a reference\n",
    "class Person:\n",
    "\n",
    "  def __init__(self):\n",
    "    self.name = 'nitish'\n",
    "    self.gender = 'male'\n",
    "\n",
    "p = Person() # here p is just a variable which can store the adress of the Person() object\n",
    "# when we call only \n",
    "# Person() the object is created and only the address in the memory of that object is stored in the variable p \n",
    "# so here p is the refrence variable \n",
    "\n",
    "\n",
    "q = p\n",
    "\n",
    "# here q is also refrence variable \n",
    "\n",
    "# refrence variable means =  diffrent variable containing same memory address "
   ]
  },
  {
   "cell_type": "code",
   "execution_count": 14,
   "metadata": {},
   "outputs": [
    {
     "name": "stdout",
     "output_type": "stream",
     "text": [
      "nitish\n",
      "nitish\n",
      "ankit\n",
      "ankit\n"
     ]
    }
   ],
   "source": [
    "print(p.name)\n",
    "print(q.name)\n",
    "q.name = 'ankit'\n",
    "print(q.name)\n",
    "print(p.name)\n",
    "\n",
    "# we change in the class using q \n",
    "# after that p is called because of that the output is ankit this time\n",
    "\n",
    "# if we can change in the attribute using a refrence variable that will reflect on the whole class and all on the other refrence variable"
   ]
  },
  {
   "attachments": {},
   "cell_type": "markdown",
   "metadata": {},
   "source": [
    "### Pass By Refrence"
   ]
  },
  {
   "cell_type": "code",
   "execution_count": 19,
   "metadata": {},
   "outputs": [
    {
     "name": "stdout",
     "output_type": "stream",
     "text": [
      "Hi my name is Akash and I am a male\n",
      "ankit\n",
      "male\n",
      "Akash\n",
      "male\n"
     ]
    }
   ],
   "source": [
    "class Person:\n",
    "\n",
    "  def __init__(self,name,gender): # inside the class -->  method\n",
    "    self.name = name\n",
    "    self.gender = gender\n",
    "\n",
    "# outside the class -> function\n",
    "def greet(person):\n",
    "  print('Hi my name is',person.name,'and I am a',person.gender) #we can access the attributes of class because we pass the object as a input to the function \n",
    "  p1 = Person('ankit','male') # here we call a class or make a class object inside the function \n",
    "  return p1\n",
    "\n",
    "\n",
    "p = Person(\"Akash\" , \"male\")\n",
    "x = greet(p) # here we pass the object of the class to the function\n",
    "\n",
    "print(x.name)\n",
    "print(x.gender)\n",
    "\n",
    "# here x gets the value that are pass to the class from inside the function\n",
    "\n",
    "# what if ?\n",
    "\n",
    "print(p.name)\n",
    "print(p.gender)"
   ]
  },
  {
   "cell_type": "code",
   "execution_count": 20,
   "metadata": {},
   "outputs": [
    {
     "name": "stdout",
     "output_type": "stream",
     "text": [
      "2778366238224\n",
      "2778366238224\n",
      "ankit\n",
      "ankit\n"
     ]
    }
   ],
   "source": [
    "class Person:\n",
    "\n",
    "  def __init__(self,name,gender):\n",
    "    self.name = name\n",
    "    self.gender = gender\n",
    "\n",
    "# outside the class -> function\n",
    "def greet(person):\n",
    "  print(id(person))\n",
    "  person.name = 'ankit'\n",
    "  print(person.name)\n",
    "\n",
    "p = Person('nitish','male')\n",
    "print(id(p))\n",
    "greet(p)\n",
    "print(p.name)\n",
    "\n",
    "\n",
    "# id inside the function and is outisde the function is same\n",
    "# technically we dont send the object we send the address or refrence of the object"
   ]
  },
  {
   "attachments": {},
   "cell_type": "markdown",
   "metadata": {},
   "source": [
    "### Mutabality of Object"
   ]
  },
  {
   "cell_type": "code",
   "execution_count": 21,
   "metadata": {},
   "outputs": [
    {
     "name": "stdout",
     "output_type": "stream",
     "text": [
      "2778346418384\n",
      "2778346418384\n"
     ]
    }
   ],
   "source": [
    "class Person:\n",
    "\n",
    "  def __init__(self,name,gender):\n",
    "    self.name = name\n",
    "    self.gender = gender\n",
    "\n",
    "# outside the class -> function\n",
    "def greet(person):\n",
    "  person.name = 'ankit'\n",
    "  return person\n",
    "\n",
    "p = Person('nitish','male')\n",
    "print(id(p))\n",
    "p1 = greet(p)\n",
    "print(id(p1))\n",
    "\n",
    "\n",
    "# here the address is same\n",
    "# but it not going to same for all condition means it totally depends on the object \n",
    "# that the object is mutable of immutable \n",
    "# if object is mutable then the address is same \n",
    "# and when the object is immutable then the address is diffrent\n",
    "\n",
    "\n",
    "# by default the all the object are mutable in python."
   ]
  },
  {
   "attachments": {},
   "cell_type": "markdown",
   "metadata": {},
   "source": [
    "## Encapsulation \n",
    "\n",
    "                one data attribute and with its two methods gettor and settor\n",
    "\n",
    "                we make our all attributes private\n",
    "\n",
    "                and using gettor and settor we make our attribute available outside of the class\n",
    "\n",
    "\n",
    "- why we use Encapsulation ?\n",
    "\n",
    "\n",
    "\n",
    "- why we need encapsulation ? in code .\n",
    "- why the real use of encapsulation?\n",
    "\n",
    "- what is instance variable ? \n",
    "\n",
    "        instance variable is a special variable which have same value depending on the object.\n",
    "        for every object the value of instance variable is diffrent.\n",
    "\n",
    "\n",
    "\n"
   ]
  },
  {
   "attachments": {},
   "cell_type": "markdown",
   "metadata": {},
   "source": [
    "private variable : \n",
    "\n",
    "\n",
    "                private variables means we make the variables private means outside the class or function no one can see them.\n",
    "\n",
    "                how we make variable private ? \n",
    "\n",
    "                a = \"Akash\"  --> normal variable\n",
    "                __a = \"Akash\" --> private variable\n",
    "\n",
    "                use __ before your variable name to make the variable private \n",
    "\n",
    "                not only the variable can be private the but also the functions or methods also be private.\n",
    "\n",
    "\n",
    "                in memory when we make a variable private it stores like :\n",
    "                \n",
    "                __balance\n",
    "                    |\n",
    "                    |\n",
    "                -Atm__balance   -- >(_className__VariableName)\n",
    "                    |\n",
    "                thats how our variable name is stored in the memory.\n",
    "                it completely a new variable.\n",
    "\n",
    "                if anyone can change the __balance then it not affect on the our private variable.\n",
    "                it makes the new variable called __balance in the class.\n",
    "\n",
    "                Always use our variables private inside the class\n",
    "\n",
    "\n",
    "\n",
    "public variable : \n"
   ]
  },
  {
   "attachments": {},
   "cell_type": "markdown",
   "metadata": {},
   "source": [
    "Getter and setter method : \n",
    "\n",
    "    Gettor method is used to show our class or functions private element to the outside\n",
    "\n",
    "    settor method is used to edit our private variables from the outside"
   ]
  },
  {
   "cell_type": "code",
   "execution_count": 23,
   "metadata": {},
   "outputs": [
    {
     "name": "stdout",
     "output_type": "stream",
     "text": [
      "nitish male\n",
      "ankit male\n",
      "ankita female\n"
     ]
    }
   ],
   "source": [
    "# list of objects\n",
    "class Person:\n",
    "\n",
    "  def __init__(self,name,gender):\n",
    "    self.name = name\n",
    "    self.gender = gender\n",
    "\n",
    "p1 = Person('nitish','male')\n",
    "p2 = Person('ankit','male')\n",
    "p3 = Person('ankita','female')\n",
    "\n",
    "L = [p1,p2,p3]\n",
    "\n",
    "for i in L:\n",
    "  print(i.name,i.gender)"
   ]
  },
  {
   "cell_type": "code",
   "execution_count": 22,
   "metadata": {},
   "outputs": [
    {
     "name": "stdout",
     "output_type": "stream",
     "text": [
      "male\n",
      "male\n",
      "female\n"
     ]
    }
   ],
   "source": [
    "# dict of objects\n",
    "class Person:\n",
    "\n",
    "  def __init__(self,name,gender):\n",
    "    self.name = name\n",
    "    self.gender = gender\n",
    "\n",
    "p1 = Person('nitish','male')\n",
    "p2 = Person('ankit','male')\n",
    "p3 = Person('ankita','female')\n",
    "\n",
    "d = {'p1':p1,'p2':p2,'p3':p3}\n",
    "\n",
    "for i in d:\n",
    "  print(d[i].gender)"
   ]
  },
  {
   "attachments": {},
   "cell_type": "markdown",
   "metadata": {},
   "source": [
    "## Static Variables(vs instance variable) : "
   ]
  },
  {
   "attachments": {},
   "cell_type": "markdown",
   "metadata": {},
   "source": [
    "##### Points to remember about static\n",
    "\n",
    "- Static attributes are created at class level.\n",
    "- Static attributes are accessed using ClassName.\n",
    "- Static attributes are object independent. We can access them without creating instance (object) of the class in which they are defined.\n",
    "- The value stored in static attribute is shared between all instances(objects) of the class in which the static attribute is defined."
   ]
  },
  {
   "cell_type": "code",
   "execution_count": 24,
   "metadata": {},
   "outputs": [],
   "source": [
    "class Atm:\n",
    "\n",
    "  __counter = 1\n",
    "\n",
    "  # constructor(special function)->superpower -> \n",
    "  def __init__(self):\n",
    "    print(id(self))\n",
    "    self.pin = ''\n",
    "    self.__balance = 0\n",
    "    self.cid = Atm.__counter\n",
    "    Atm.__counter = Atm.__counter + 1\n",
    "    #self.menu()\n",
    "\n",
    "  # utility functions\n",
    "  @staticmethod\n",
    "  def get_counter():\n",
    "    return Atm.__counter\n",
    "\n",
    "\n",
    "  def get_balance(self):\n",
    "    return self.__balance\n",
    "\n",
    "  def set_balance(self,new_value):\n",
    "    if type(new_value) == int:\n",
    "      self.__balance = new_value\n",
    "    else:\n",
    "      print('beta bahot maarenge')\n",
    "\n",
    "  def __menu(self):\n",
    "    user_input = input(\"\"\"\n",
    "    Hi how can I help you?\n",
    "    1. Press 1 to create pin\n",
    "    2. Press 2 to change pin\n",
    "    3. Press 3 to check balance\n",
    "    4. Press 4 to withdraw\n",
    "    5. Anything else to exit\n",
    "    \"\"\")\n",
    "\n",
    "    if user_input == '1':\n",
    "      self.create_pin()\n",
    "    elif user_input == '2':\n",
    "      self.change_pin()\n",
    "    elif user_input == '3':\n",
    "      self.check_balance()\n",
    "    elif user_input == '4':\n",
    "      self.withdraw()\n",
    "    else:\n",
    "      exit()\n",
    "\n",
    "  def create_pin(self):\n",
    "    user_pin = input('enter your pin')\n",
    "    self.pin = user_pin\n",
    "\n",
    "    user_balance = int(input('enter balance'))\n",
    "    self.__balance = user_balance\n",
    "\n",
    "    print('pin created successfully')\n",
    "\n",
    "  def change_pin(self):\n",
    "    old_pin = input('enter old pin')\n",
    "\n",
    "    if old_pin == self.pin:\n",
    "      # let him change the pin\n",
    "      new_pin = input('enter new pin')\n",
    "      self.pin = new_pin\n",
    "      print('pin change successful')\n",
    "    else:\n",
    "      print('nai karne de sakta re baba')\n",
    "\n",
    "  def check_balance(self):\n",
    "    user_pin = input('enter your pin')\n",
    "    if user_pin == self.pin:\n",
    "      print('your balance is ',self.__balance)\n",
    "    else:\n",
    "      print('chal nikal yahan se')\n",
    "\n",
    "  def withdraw(self):\n",
    "    user_pin = input('enter the pin')\n",
    "    if user_pin == self.pin:\n",
    "      # allow to withdraw\n",
    "      amount = int(input('enter the amount'))\n",
    "      if amount <= self.__balance:\n",
    "        self.__balance = self.__balance - amount\n",
    "        print('withdrawl successful.balance is',self.__balance)\n",
    "      else:\n",
    "        print('abe garib')\n",
    "    else:\n",
    "      print('sale chor')"
   ]
  },
  {
   "cell_type": "code",
   "execution_count": 25,
   "metadata": {},
   "outputs": [
    {
     "name": "stdout",
     "output_type": "stream",
     "text": [
      "Simba drinks water from the well in the circus\n",
      "Water source of lions: well in the circus\n"
     ]
    }
   ],
   "source": [
    "class Lion:\n",
    "  __water_source=\"well in the circus\"\n",
    "\n",
    "  def __init__(self,name, gender):\n",
    "      self.__name=name\n",
    "      self.__gender=gender\n",
    "\n",
    "  def drinks_water(self):\n",
    "      print(self.__name,\n",
    "      \"drinks water from the\",Lion.__water_source)\n",
    "\n",
    "  @staticmethod\n",
    "  def get_water_source():\n",
    "      return Lion.__water_source\n",
    "\n",
    "simba=Lion(\"Simba\",\"Male\")\n",
    "simba.drinks_water()\n",
    "print( \"Water source of lions:\",Lion.get_water_source())"
   ]
  }
 ],
 "metadata": {
  "kernelspec": {
   "display_name": "Python 3",
   "language": "python",
   "name": "python3"
  },
  "language_info": {
   "codemirror_mode": {
    "name": "ipython",
    "version": 3
   },
   "file_extension": ".py",
   "mimetype": "text/x-python",
   "name": "python",
   "nbconvert_exporter": "python",
   "pygments_lexer": "ipython3",
   "version": "3.10.7"
  },
  "orig_nbformat": 4,
  "vscode": {
   "interpreter": {
    "hash": "26de051ba29f2982a8de78e945f0abaf191376122a1563185a90213a26c5da77"
   }
  }
 },
 "nbformat": 4,
 "nbformat_minor": 2
}
