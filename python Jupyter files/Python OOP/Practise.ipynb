{
 "cells": [
  {
   "cell_type": "code",
   "execution_count": 1,
   "metadata": {},
   "outputs": [],
   "source": [
    "class Atm :\n",
    "\n",
    "  # constructor\n",
    "\n",
    "  def __init__(self):\n",
    "\n",
    "    self.pin = \"\"\n",
    "    self.balance = 0\n",
    "    self.menu()\n",
    "\n",
    "\n",
    "  def menu(self):\n",
    "\n",
    "    user_input = input(\"\"\"\n",
    "    Hi , how can i help you ?\n",
    "    1. Press 1 to create pin\n",
    "    2. Press 2 to change pin\n",
    "    3. Press 3 to check balance\n",
    "    4. Press 4 to withdraw\n",
    "    5. Anything else to EXIT\n",
    "    \"\"\")\n",
    "\n",
    "    if user_input == \"1\" :\n",
    "      self.create_pin()\n",
    "      \n",
    "    elif user_input == \"2\" :\n",
    "      #change pin\n",
    "      pass\n",
    "    elif user_input == \"3\" :\n",
    "      #check balance\n",
    "      pass\n",
    "    elif user_input ==\"4\" :\n",
    "      #withdraw\n",
    "      pass\n",
    "    else:\n",
    "      #exit\n",
    "      pass\n",
    "\n",
    "  def create_pin(self):\n",
    "\n",
    "    user_pin = input(\"Enter your Pin\")\n",
    "    self.pin = user_pin\n",
    "\n",
    "    user_balance = int(input(\"Enter Your Balance\"))\n",
    "\n",
    "    self.balance = user_balance\n",
    "\n",
    "    print(\"Pin Created Successfully.....!!!\")\n",
    "\n"
   ]
  }
 ],
 "metadata": {
  "kernelspec": {
   "display_name": "Python 3",
   "language": "python",
   "name": "python3"
  },
  "language_info": {
   "codemirror_mode": {
    "name": "ipython",
    "version": 3
   },
   "file_extension": ".py",
   "mimetype": "text/x-python",
   "name": "python",
   "nbconvert_exporter": "python",
   "pygments_lexer": "ipython3",
   "version": "3.10.7"
  },
  "orig_nbformat": 4
 },
 "nbformat": 4,
 "nbformat_minor": 2
}
